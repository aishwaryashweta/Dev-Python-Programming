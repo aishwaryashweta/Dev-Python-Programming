{
 "cells": [
  {
   "cell_type": "code",
   "execution_count": 0,
   "metadata": {
    "colab": {},
    "colab_type": "code",
    "id": "GqE7OMY-Ba_c"
   },
   "outputs": [],
   "source": [
    "import numpy as np\n",
    "import cv2\n",
    "import matplotlib.pyplot as plt"
   ]
  },
  {
   "cell_type": "markdown",
   "metadata": {
    "colab_type": "text",
    "id": "A9yZ_uL79OAl"
   },
   "source": [
    "## RGB or BGR?\n",
    "\n",
    "There is a difference in pixel ordering in OpenCV and Matplotlib. \n",
    "\n",
    "OpenCV follows BGR order, while matplotlib likely follows RGB order.\n",
    "\n",
    "Therefore, when we display an image loaded in OpenCV using matplotlib functions, we may want to convert it into RGB mode."
   ]
  },
  {
   "cell_type": "code",
   "execution_count": 0,
   "metadata": {
    "colab": {},
    "colab_type": "code",
    "id": "DT0Dfo7A9YQ3"
   },
   "outputs": [],
   "source": [
    "image = cv2.imread(\"Lena.tiff\")\n",
    "\n",
    "# matplotlib expects in RGB\n",
    "plt.imshow(image)\n",
    "plt.title(\"Original - BGR\")\n",
    "plt.show()\n"
   ]
  },
  {
   "cell_type": "markdown",
   "metadata": {
    "colab_type": "text",
    "id": "dCTaAj6295XE"
   },
   "source": [
    "See how the above image looks like as Matplotlib is expecting the channel orders to be R,G, B.\n",
    "\n",
    "Let's extract the individual reg, green and blue channels from the original image."
   ]
  },
  {
   "cell_type": "code",
   "execution_count": 0,
   "metadata": {
    "colab": {},
    "colab_type": "code",
    "id": "yJyYn6TI9d_n"
   },
   "outputs": [],
   "source": [
    "# Extracting and showing individual channels\n",
    "(B, G, R) = cv2.split(image)"
   ]
  },
  {
   "cell_type": "markdown",
   "metadata": {
    "colab_type": "text",
    "id": "hSo_YBHl-Kb6"
   },
   "source": [
    "Now, convert it into a RGB image and try to plot the RGB image with matplotlib."
   ]
  },
  {
   "cell_type": "code",
   "execution_count": 0,
   "metadata": {
    "colab": {},
    "colab_type": "code",
    "id": "NtJUzwqV9hKV"
   },
   "outputs": [],
   "source": [
    "rgb_img = cv2.merge([R,G,B])"
   ]
  },
  {
   "cell_type": "code",
   "execution_count": 0,
   "metadata": {
    "colab": {},
    "colab_type": "code",
    "id": "yaxMGEDC-R8R"
   },
   "outputs": [],
   "source": [
    "# matplotlib expects in RGB\n",
    "plt.imshow(rgb_img)\n",
    "plt.title(\"Original-RGB\")\n",
    "plt.show()\n"
   ]
  },
  {
   "cell_type": "code",
   "execution_count": 0,
   "metadata": {
    "colab": {},
    "colab_type": "code",
    "id": "WBN2GmbHClha"
   },
   "outputs": [],
   "source": [
    "\n",
    "# Extracting and showing individual channels\n",
    "plt.imshow(R, cmap=\"gray\")\n",
    "plt.title(\"Red-Channel Only\")\n",
    "plt.show()\n",
    "\n",
    "plt.imshow(G, cmap=\"gray\")\n",
    "plt.title(\"Green-Channel Only\")\n",
    "plt.show()\n",
    "\n",
    "plt.imshow(B, cmap=\"gray\")\n",
    "plt.title(\"Blue-Channel Only\")\n",
    "plt.show()\n"
   ]
  }
 ],
 "metadata": {
  "accelerator": "GPU",
  "colab": {
   "collapsed_sections": [],
   "name": "Image_Channels.ipynb",
   "provenance": []
  },
  "kernelspec": {
   "display_name": "Python 3",
   "language": "python",
   "name": "python3"
  },
  "language_info": {
   "codemirror_mode": {
    "name": "ipython",
    "version": 3
   },
   "file_extension": ".py",
   "mimetype": "text/x-python",
   "name": "python",
   "nbconvert_exporter": "python",
   "pygments_lexer": "ipython3",
   "version": "3.7.6"
  }
 },
 "nbformat": 4,
 "nbformat_minor": 1
}
