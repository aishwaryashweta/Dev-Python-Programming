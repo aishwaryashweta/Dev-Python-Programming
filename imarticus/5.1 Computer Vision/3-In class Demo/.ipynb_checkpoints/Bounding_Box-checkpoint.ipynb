{
 "cells": [
  {
   "cell_type": "markdown",
   "metadata": {
    "colab_type": "text",
    "id": "PBmU2DNYy88G"
   },
   "source": [
    "# Drawing Bounding Box "
   ]
  },
  {
   "cell_type": "code",
   "execution_count": 1,
   "metadata": {
    "colab": {},
    "colab_type": "code",
    "id": "rlrk0Xf8p9oB"
   },
   "outputs": [],
   "source": [
    "import cv2\n",
    "import numpy as np\n",
    "import random as rng\n",
    "\n",
    "import matplotlib.pyplot as plt"
   ]
  },
  {
   "cell_type": "code",
   "execution_count": 2,
   "metadata": {
    "colab": {},
    "colab_type": "code",
    "id": "1j25VMLNqA0O"
   },
   "outputs": [],
   "source": [
    "rng.seed(12345)"
   ]
  },
  {
   "cell_type": "markdown",
   "metadata": {
    "colab_type": "text",
    "id": "aB1c_yAgxvrL"
   },
   "source": [
    "### OpenCV Function API\n",
    "\n",
    "**contours, hierarchy = cv.findContours(image, mode, method[, contours[, hierarchy[, offset]]])**\n",
    "\n",
    "Parameters\n",
    "\n",
    "**image**\tSource, an 8-bit single-channel image. Non-zero pixels are treated as 1's. Zero pixels remain 0's, so the image is treated as binary . \n",
    "\n",
    "You can use compare, inRange, threshold , adaptiveThreshold, Canny, and others to create a binary image out of a grayscale or color one. \n",
    "If mode equals to RETR_CCOMP or RETR_FLOODFILL, the input can also be a 32-bit integer image of labels.\n",
    "\n",
    "**mode**\tContour retrieval mode \n",
    "\n",
    "**method** \tContour approximation method,\n",
    "\n",
    "**contours**\tDetected contours. Each contour is stored as a vector of points.\n",
    "\n",
    "**hierarchy**\tOptional output vector , containing information about the image topology. \n",
    "\n",
    "**offset**\tOptional offset by which every contour point is shifted. This is useful if the contours are extracted from the image ROI and then they should be analyzed in the whole image context.\n",
    "\n",
    "\n",
    "\n",
    "**cv.drawContours(image, contours, contourIdx, color[, thickness[, lineType[, hierarchy[, maxLevel[, offset]]]]])**\n",
    "\n",
    "Draws contours outlines or filled contours.\n",
    "\n",
    "The function draws contour outlines in the image if thickness≥0 or fills the area bounded by the contours if thickness<0 ."
   ]
  },
  {
   "cell_type": "markdown",
   "metadata": {
    "colab_type": "text",
    "id": "4WsumFEBzfu6"
   },
   "source": [
    "\n",
    "**retval\t=\tcv.boundingRect(array)**\n",
    "\n",
    "Calculates the up-right bounding rectangle of a point set or non-zero pixels of gray-scale image.\n",
    "\n",
    "The function calculates and returns the minimal up-right bounding rectangle for the specified point set or non-zero pixels of gray-scale image.\n",
    "\n",
    "Parameters\n",
    "**array**\tInput gray-scale image or 2D point set, stored in a vector or matrix.\n",
    "\n",
    "\n",
    "\n",
    "\n",
    "**center, radius\t=\tcv.minEnclosingCircle(points)**\n",
    "\n",
    "Finds a circle of the minimum area enclosing a 2D point set.\n",
    "\n",
    "The function finds the minimal enclosing circle of a 2D point set using an iterative algorithm.\n",
    "\n",
    "Parameters\n",
    "\n",
    "**points**\tInput vector of 2D points, stored in std::vector<> or Mat\n",
    "**center**\tOutput center of the circle.\n",
    "**radius**\tOutput radius of the circle.\n",
    "\n",
    "\n",
    "\n",
    "\n",
    "**img\t=\tcv.rectangle(\timg, pt1, pt2, color[, thickness[, lineType[, shift]]]\t)**\n",
    "\n",
    "The function draws a rectangle outline or a filled rectangle whose two opposite corners are pt1 and pt2.\n",
    "\n",
    "Parameters\n",
    "\n",
    "**img**\tImage.\n",
    "**pt1**\tVertex of the rectangle.\n",
    "**pt2**\tVertex of the rectangle opposite to pt1 .\n",
    "**color**\tRectangle color or brightness (grayscale image).\n",
    "**thickness**\tThickness of lines that make up the rectangle. Negative values, like FILLED, mean that the function has to draw a filled rectangle.\n",
    "**lineType**\tType of the line. See LineTypes\n",
    "**shift**\tNumber of fractional bits in the point coordinates.\n",
    "\n",
    "\n",
    "\n",
    "\n",
    "**img\t=\tcv.circle(\timg, center, radius, color[, thickness[, lineType[, shift]]]\t)**\n",
    "\n",
    "The function draws a simple or filled circle with a given center and radius.\n",
    "\n",
    "Parameters\n",
    "\n",
    "**img**\tImage where the circle is drawn.\n",
    "**center**\tCenter of the circle.\n",
    "**radius**\tRadius of the circle.\n",
    "**color**\tCircle color.\n",
    "**thickness**\tThickness of the circle outline, if positive. Negative values, like FILLED, mean that a filled circle is to be drawn.\n",
    "**lineType**\tType of the circle boundary. See LineTypes\n",
    "**shift**\tNumber of fractional bits in the coordinates of the center and in the radius value."
   ]
  },
  {
   "cell_type": "code",
   "execution_count": 3,
   "metadata": {
    "colab": {
     "base_uri": "https://localhost:8080/",
     "height": 298
    },
    "colab_type": "code",
    "id": "qez4u6NmkSqH",
    "outputId": "e91e7413-a472-44da-ee20-6d1355ac0999"
   },
   "outputs": [
    {
     "data": {
      "text/plain": [
       "Text(0.5, 1.0, 'Original Image')"
      ]
     },
     "execution_count": 3,
     "metadata": {},
     "output_type": "execute_result"
    },
    {
     "data": {
      "image/png": "[encoded data removed]",
      "text/plain": [
       "<Figure size 432x288 with 1 Axes>"
      ]
     },
     "metadata": {
      "needs_background": "light"
     },
     "output_type": "display_data"
    }
   ],
   "source": [
    "# Read an image\n",
    "image = cv2.imread('Bounding.png')\n",
    "\n",
    "#print(image.shape)\n",
    "\n",
    "# Show the image\n",
    "plt.imshow(image)\n",
    "plt.title('Original Image')\n"
   ]
  },
  {
   "cell_type": "code",
   "execution_count": 4,
   "metadata": {
    "colab": {
     "base_uri": "https://localhost:8080/",
     "height": 298
    },
    "colab_type": "code",
    "id": "ppVfg-eFkV_F",
    "outputId": "858e4a31-c2c9-4b29-8769-07281f07ad64"
   },
   "outputs": [
    {
     "data": {
      "text/plain": [
       "Text(0.5, 1.0, 'Gray Image')"
      ]
     },
     "execution_count": 4,
     "metadata": {},
     "output_type": "execute_result"
    },
    {
     "data": {
      "image/png": "[encoded data removed]",
      "text/plain": [
       "<Figure size 432x288 with 1 Axes>"
      ]
     },
     "metadata": {
      "needs_background": "light"
     },
     "output_type": "display_data"
    }
   ],
   "source": [
    "\n",
    "# Create binary image\n",
    "gray = cv2.cvtColor(src = image, code = cv2.COLOR_BGR2GRAY)\n",
    "\n",
    "# Show the gray image\n",
    "plt.imshow(gray, cmap='gray')\n",
    "plt.title('Gray Image')\n"
   ]
  },
  {
   "cell_type": "code",
   "execution_count": 5,
   "metadata": {
    "colab": {},
    "colab_type": "code",
    "id": "Erod9rOUmm1P"
   },
   "outputs": [],
   "source": [
    "blur = cv2.GaussianBlur(src = gray, ksize = (3, 3), sigmaX = 0)\n",
    "\n",
    "low_thresh = 5\n",
    "high_thresh = 255\n",
    "canny = cv2.Canny(blur, low_thresh, high_thresh)\n"
   ]
  },
  {
   "cell_type": "code",
   "execution_count": 6,
   "metadata": {
    "colab": {
     "base_uri": "https://localhost:8080/",
     "height": 286
    },
    "colab_type": "code",
    "id": "2PseYLEps2TD",
    "outputId": "5a675762-b328-47d6-9424-250803504072"
   },
   "outputs": [
    {
     "data": {
      "text/plain": [
       "<matplotlib.image.AxesImage at 0x2e0864309c8>"
      ]
     },
     "execution_count": 6,
     "metadata": {},
     "output_type": "execute_result"
    },
    {
     "data": {
      "image/png": "[encoded data removed]",
      "text/plain": [
       "<Figure size 432x288 with 1 Axes>"
      ]
     },
     "metadata": {
      "needs_background": "light"
     },
     "output_type": "display_data"
    }
   ],
   "source": [
    "plt.imshow(canny, cmap='gray')"
   ]
  },
  {
   "cell_type": "code",
   "execution_count": 9,
   "metadata": {
    "colab": {},
    "colab_type": "code",
    "id": "gPlgkhMGkXrm"
   },
   "outputs": [],
   "source": [
    "# Find contours\n",
    "_, contours, = cv2.findContours(image = canny, mode = cv2.RETR_EXTERNAL, method = cv2.CHAIN_APPROX_SIMPLE)\n",
    "#print(len(contours))"
   ]
  },
  {
   "cell_type": "code",
   "execution_count": 10,
   "metadata": {
    "colab": {},
    "colab_type": "code",
    "id": "SczZxMhkkxZ4"
   },
   "outputs": [],
   "source": [
    "# Create all-black mask image\n",
    "mask = np.zeros(shape = image.shape, dtype = \"uint8\")"
   ]
  },
  {
   "cell_type": "code",
   "execution_count": 11,
   "metadata": {
    "colab": {},
    "colab_type": "code",
    "id": "5w3ArAPNTAO6"
   },
   "outputs": [
    {
     "ename": "error",
     "evalue": "OpenCV(4.5.3) C:\\Users\\runneradmin\\AppData\\Local\\Temp\\pip-req-build-_xlv4eex\\opencv\\modules\\imgproc\\src\\shapedescr.cpp:874: error: (-215:Assertion failed) npoints >= 0 && (depth == CV_32F || depth == CV_32S) in function 'cv::pointSetBoundingRect'\n",
     "output_type": "error",
     "traceback": [
      "\u001b[1;31m---------------------------------------------------------------------------\u001b[0m",
      "\u001b[1;31merror\u001b[0m                                     Traceback (most recent call last)",
      "\u001b[1;32m<ipython-input-11-9f0af486bc11>\u001b[0m in \u001b[0;36m<module>\u001b[1;34m\u001b[0m\n\u001b[0;32m      1\u001b[0m \u001b[1;32mfor\u001b[0m \u001b[0mc\u001b[0m \u001b[1;32min\u001b[0m \u001b[0mcontours\u001b[0m\u001b[1;33m:\u001b[0m\u001b[1;33m\u001b[0m\u001b[1;33m\u001b[0m\u001b[0m\n\u001b[1;32m----> 2\u001b[1;33m     \u001b[1;33m(\u001b[0m\u001b[0mx\u001b[0m\u001b[1;33m,\u001b[0m \u001b[0my\u001b[0m\u001b[1;33m,\u001b[0m \u001b[0mw\u001b[0m\u001b[1;33m,\u001b[0m \u001b[0mh\u001b[0m\u001b[1;33m)\u001b[0m \u001b[1;33m=\u001b[0m \u001b[0mcv2\u001b[0m\u001b[1;33m.\u001b[0m\u001b[0mboundingRect\u001b[0m\u001b[1;33m(\u001b[0m\u001b[0mc\u001b[0m\u001b[1;33m)\u001b[0m\u001b[1;33m\u001b[0m\u001b[1;33m\u001b[0m\u001b[0m\n\u001b[0m\u001b[0;32m      3\u001b[0m     \u001b[0mcv2\u001b[0m\u001b[1;33m.\u001b[0m\u001b[0mrectangle\u001b[0m\u001b[1;33m(\u001b[0m\u001b[0mimg\u001b[0m \u001b[1;33m=\u001b[0m \u001b[0mmask\u001b[0m\u001b[1;33m,\u001b[0m \u001b[0mpt1\u001b[0m \u001b[1;33m=\u001b[0m \u001b[1;33m(\u001b[0m\u001b[0mx\u001b[0m\u001b[1;33m,\u001b[0m \u001b[0my\u001b[0m\u001b[1;33m)\u001b[0m\u001b[1;33m,\u001b[0m \u001b[0mpt2\u001b[0m \u001b[1;33m=\u001b[0m \u001b[1;33m(\u001b[0m\u001b[0mx\u001b[0m \u001b[1;33m+\u001b[0m \u001b[0mw\u001b[0m\u001b[1;33m,\u001b[0m \u001b[0my\u001b[0m \u001b[1;33m+\u001b[0m \u001b[0mh\u001b[0m\u001b[1;33m)\u001b[0m\u001b[1;33m,\u001b[0m \u001b[0mcolor\u001b[0m \u001b[1;33m=\u001b[0m \u001b[1;33m(\u001b[0m\u001b[1;36m255\u001b[0m\u001b[1;33m,\u001b[0m \u001b[1;36m255\u001b[0m\u001b[1;33m,\u001b[0m \u001b[1;36m255\u001b[0m\u001b[1;33m)\u001b[0m\u001b[1;33m,\u001b[0m \u001b[0mthickness\u001b[0m \u001b[1;33m=\u001b[0m \u001b[1;33m-\u001b[0m\u001b[1;36m1\u001b[0m\u001b[1;33m)\u001b[0m\u001b[1;33m\u001b[0m\u001b[1;33m\u001b[0m\u001b[0m\n",
      "\u001b[1;31merror\u001b[0m: OpenCV(4.5.3) C:\\Users\\runneradmin\\AppData\\Local\\Temp\\pip-req-build-_xlv4eex\\opencv\\modules\\imgproc\\src\\shapedescr.cpp:874: error: (-215:Assertion failed) npoints >= 0 && (depth == CV_32F || depth == CV_32S) in function 'cv::pointSetBoundingRect'\n"
     ]
    }
   ],
   "source": [
    "for c in contours:\n",
    "    (x, y, w, h) = cv2.boundingRect(c)\n",
    "    cv2.rectangle(img = mask, pt1 = (x, y), pt2 = (x + w, y + h), color = (255, 255, 255), thickness = -1)"
   ]
  },
  {
   "cell_type": "code",
   "execution_count": 12,
   "metadata": {
    "colab": {
     "base_uri": "https://localhost:8080/",
     "height": 286
    },
    "colab_type": "code",
    "id": "4qPxvXN1rO5f",
    "outputId": "ccf58541-4c3b-4219-f6da-f4907811f0a6"
   },
   "outputs": [
    {
     "data": {
      "text/plain": [
       "<matplotlib.image.AxesImage at 0x2e08652b888>"
      ]
     },
     "execution_count": 12,
     "metadata": {},
     "output_type": "execute_result"
    },
    {
     "data": {
      "image/png": "[encoded data removed]",
      "text/plain": [
       "<Figure size 432x288 with 1 Axes>"
      ]
     },
     "metadata": {
      "needs_background": "light"
     },
     "output_type": "display_data"
    }
   ],
   "source": [
    "plt.imshow(mask)"
   ]
  },
  {
   "cell_type": "code",
   "execution_count": 0,
   "metadata": {
    "colab": {},
    "colab_type": "code",
    "id": "qPpOVZ-IoKPH"
   },
   "outputs": [],
   "source": [
    "# Apply mask to the original image\n",
    "img = cv2.bitwise_and(src1 = image, src2 = mask)"
   ]
  },
  {
   "cell_type": "code",
   "execution_count": 0,
   "metadata": {
    "colab": {
     "base_uri": "https://localhost:8080/",
     "height": 298
    },
    "colab_type": "code",
    "id": "rKquDCm1k1RT",
    "outputId": "18de592e-b6e9-40f5-d0e9-fa2a3093dfc8"
   },
   "outputs": [
    {
     "data": {
      "text/plain": [
       "Text(0.5, 1.0, 'White Filled Bounding Boxes')"
      ]
     },
     "execution_count": 132,
     "metadata": {
      "tags": []
     },
     "output_type": "execute_result"
    },
    {
     "data": {
      "image/png": "[encoded data removed]",
      "text/plain": [
       "<Figure size 432x288 with 1 Axes>"
      ]
     },
     "metadata": {
      "tags": []
     },
     "output_type": "display_data"
    }
   ],
   "source": [
    "plt.imshow(img, cmap='gray')\n",
    "plt.title('White Filled Bounding Boxes')"
   ]
  },
  {
   "cell_type": "code",
   "execution_count": 0,
   "metadata": {
    "colab": {},
    "colab_type": "code",
    "id": "auSE3ABJuSi9"
   },
   "outputs": [],
   "source": [
    "contours_poly = [None]*len(contours)\n",
    "boundRect = [None]*len(contours)\n",
    "centers = [None]*len(contours)\n",
    "radius = [None]*len(contours)\n",
    "\n",
    "for i, c in enumerate(contours):\n",
    "    contours_poly[i] = cv2.approxPolyDP(c, 3, True)\n",
    "    boundRect[i] = cv2.boundingRect(contours_poly[i])\n",
    "    centers[i], radius[i] = cv2.minEnclosingCircle(contours_poly[i])"
   ]
  },
  {
   "cell_type": "code",
   "execution_count": 0,
   "metadata": {
    "colab": {},
    "colab_type": "code",
    "id": "2NNg1izOteGT"
   },
   "outputs": [],
   "source": [
    "# Create all-black mask image\n",
    "mask = np.zeros(shape = image.shape, dtype = \"uint8\")\n",
    "\n",
    "# Draw polygonal contour + bonding rects + circles\n",
    "for i in range(len(contours)):\n",
    "    color = (rng.randint(0,256), rng.randint(0,256), rng.randint(0,256))\n",
    "    cv2.drawContours(mask, contours_poly, i, color)\n",
    "    cv2.rectangle(mask, (int(boundRect[i][0]), int(boundRect[i][1])), \\\n",
    "      (int(boundRect[i][0]+boundRect[i][2]), int(boundRect[i][1]+boundRect[i][3])), color, 2)\n",
    "    cv2.circle(mask, (int(centers[i][0]), int(centers[i][1])), int(radius[i]), color, 2)"
   ]
  },
  {
   "cell_type": "code",
   "execution_count": 0,
   "metadata": {
    "colab": {
     "base_uri": "https://localhost:8080/",
     "height": 298
    },
    "colab_type": "code",
    "id": "iOTxKsyjuyl4",
    "outputId": "edac205c-07f8-48e6-b277-4a78a740943c"
   },
   "outputs": [
    {
     "data": {
      "text/plain": [
       "Text(0.5, 1.0, 'Bounding Boxes')"
      ]
     },
     "execution_count": 140,
     "metadata": {
      "tags": []
     },
     "output_type": "execute_result"
    },
    {
     "data": {
      "image/png": "[encoded data removed]",
      "text/plain": [
       "<Figure size 432x288 with 1 Axes>"
      ]
     },
     "metadata": {
      "tags": []
     },
     "output_type": "display_data"
    }
   ],
   "source": [
    "plt.imshow(mask, cmap='gray')\n",
    "plt.title('Bounding Boxes')"
   ]
  },
  {
   "cell_type": "markdown",
   "metadata": {
    "colab_type": "text",
    "id": "YGioWgK8zDZR"
   },
   "source": [
    "### Display the Bounding Boxes on Top of the Original Image"
   ]
  },
  {
   "cell_type": "code",
   "execution_count": 0,
   "metadata": {
    "colab": {},
    "colab_type": "code",
    "id": "U-HacO3svFyl"
   },
   "outputs": [],
   "source": [
    "# Draw polygonal contour + bonding rects + circles\n",
    "for i in range(len(contours)):\n",
    "    \n",
    "    # Draw the object contour with Red color   \n",
    "    cv2.drawContours(image, contours_poly, i, (255,0,0), 2)\n",
    "    \n",
    "    # Draw the bounding boxes with Green color\n",
    "    cv2.rectangle(image, (int(boundRect[i][0]), int(boundRect[i][1])), \\\n",
    "      (int(boundRect[i][0]+boundRect[i][2]), int(boundRect[i][1]+boundRect[i][3])), (0,255,0), 2) \n",
    "\n",
    "    # Draw the Bounding circles with Blue color\n",
    "    cv2.circle(image, (int(centers[i][0]), int(centers[i][1])), int(radius[i]), (0,0,255), 2)"
   ]
  },
  {
   "cell_type": "code",
   "execution_count": 0,
   "metadata": {
    "colab": {
     "base_uri": "https://localhost:8080/",
     "height": 298
    },
    "colab_type": "code",
    "id": "Voen11wjvUrL",
    "outputId": "592ad27b-646a-4471-945d-79cac9a42f01"
   },
   "outputs": [
    {
     "data": {
      "text/plain": [
       "Text(0.5, 1.0, 'Bounding Boxes and Bounding Circles')"
      ]
     },
     "execution_count": 166,
     "metadata": {
      "tags": []
     },
     "output_type": "execute_result"
    },
    {
     "data": {
      "image/png": "[encoded data removed]",
      "text/plain": [
       "<Figure size 432x288 with 1 Axes>"
      ]
     },
     "metadata": {
      "tags": []
     },
     "output_type": "display_data"
    }
   ],
   "source": [
    "plt.imshow(image)\n",
    "plt.title('Bounding Boxes and Bounding Circles')"
   ]
  }
 ],
 "metadata": {
  "accelerator": "GPU",
  "colab": {
   "collapsed_sections": [],
   "name": "Bounding_Box.ipynb",
   "provenance": [],
   "version": "0.3.2"
  },
  "kernelspec": {
   "display_name": "Python 3",
   "language": "python",
   "name": "python3"
  },
  "language_info": {
   "codemirror_mode": {
    "name": "ipython",
    "version": 3
   },
   "file_extension": ".py",
   "mimetype": "text/x-python",
   "name": "python",
   "nbconvert_exporter": "python",
   "pygments_lexer": "ipython3",
   "version": "3.7.6"
  }
 },
 "nbformat": 4,
 "nbformat_minor": 1
}
