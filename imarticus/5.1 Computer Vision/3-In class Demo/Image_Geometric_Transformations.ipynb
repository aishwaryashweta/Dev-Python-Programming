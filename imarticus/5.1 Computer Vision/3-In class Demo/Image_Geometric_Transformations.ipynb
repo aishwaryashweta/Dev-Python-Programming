{
 "cells": [
  {
   "cell_type": "code",
   "execution_count": 0,
   "metadata": {
    "colab": {},
    "colab_type": "code",
    "id": "OOnXkAtSB8C_"
   },
   "outputs": [],
   "source": [
    "import cv2\n",
    "import numpy as np\n",
    "import matplotlib.pyplot as plt\n"
   ]
  },
  {
   "cell_type": "markdown",
   "metadata": {
    "colab_type": "text",
    "id": "wnFOGSTlE_6C"
   },
   "source": [
    "## Image Translation"
   ]
  },
  {
   "cell_type": "code",
   "execution_count": 0,
   "metadata": {
    "colab": {},
    "colab_type": "code",
    "id": "rae8RcOME9O7"
   },
   "outputs": [],
   "source": [
    "img = cv2.imread('Lena.tiff', 0)\n",
    "plt.imshow(img, cmap='gray')\n",
    "plt.title('Original')\n",
    "plt.show()\n",
    "\n",
    "rows, cols = img.shape\n",
    "\n",
    "M = np.float32([[1, 0, 100],[0, 1, 50]])\n",
    "dst = cv2.warpAffine(img, M, (cols,rows))\n",
    "\n",
    "plt.imshow(dst, cmap='gray')\n",
    "plt.title('Translated')\n",
    "plt.show()"
   ]
  },
  {
   "cell_type": "markdown",
   "metadata": {
    "colab_type": "text",
    "id": "8awP1_3BFCtQ"
   },
   "source": [
    "## Image Scaling"
   ]
  },
  {
   "cell_type": "code",
   "execution_count": 0,
   "metadata": {
    "colab": {},
    "colab_type": "code",
    "id": "PoHc9cD2FEVK"
   },
   "outputs": [],
   "source": [
    "img = cv2.imread('Lena.tiff', 0)\n",
    "\n",
    "row, col = img.shape\n",
    "print('\\n Original Image dimensions : {} x {}'.format(row, col))\n",
    "\n",
    "res = cv2.resize(img, None, fx=2, fy=2, interpolation = cv2.INTER_CUBIC)\n",
    "row, col = res.shape\n",
    "print('\\n Resized Image dimensions : {} x {}'.format(row, col))\n"
   ]
  },
  {
   "cell_type": "code",
   "execution_count": 0,
   "metadata": {
    "colab": {},
    "colab_type": "code",
    "id": "TvbktLLy7JER"
   },
   "outputs": [],
   "source": [
    "img = cv2.imread('Lena.tiff', 0)\n",
    "plt.imshow(img, cmap='gray')\n",
    "plt.title('Original')\n",
    "plt.show() \n",
    "\n",
    "plt.imshow(res, cmap='gray')\n",
    "plt.title('Scaled')\n",
    "plt.show()\n"
   ]
  },
  {
   "cell_type": "code",
   "execution_count": 0,
   "metadata": {
    "colab": {},
    "colab_type": "code",
    "id": "6mNwLXzXFOmf"
   },
   "outputs": [],
   "source": [
    "#OR\n",
    "\n",
    "height, width = img.shape[:2]\n",
    "res = cv2.resize(img,(2*width, 2*height), interpolation = cv2.INTER_CUBIC)\n",
    "plt.imshow(res, cmap='gray')\n",
    "plt.title('Scaled')\n",
    "plt.show()\n"
   ]
  },
  {
   "cell_type": "markdown",
   "metadata": {
    "colab_type": "text",
    "id": "a_wANHVIGKHb"
   },
   "source": [
    "## Rotation"
   ]
  },
  {
   "cell_type": "code",
   "execution_count": 0,
   "metadata": {
    "colab": {},
    "colab_type": "code",
    "id": "u_BeTOHeGLdX"
   },
   "outputs": [],
   "source": [
    "rows,cols = img.shape\n",
    "\n",
    "plt.imshow(img, cmap='gray')\n",
    "plt.title('Original')\n",
    "plt.show()\n",
    "\n",
    "M = cv2.getRotationMatrix2D((cols/2,rows/2),90,1)\n",
    "dst = cv2.warpAffine(img,M,(cols,rows))\n",
    "\n",
    "plt.imshow(dst, cmap='gray')\n",
    "plt.title('Rotated')\n",
    "plt.show()\n"
   ]
  }
 ],
 "metadata": {
  "accelerator": "GPU",
  "colab": {
   "collapsed_sections": [],
   "name": "Image_Geometric_Transformations.ipynb",
   "provenance": [],
   "toc_visible": true
  },
  "kernelspec": {
   "display_name": "Python 3",
   "language": "python",
   "name": "python3"
  },
  "language_info": {
   "codemirror_mode": {
    "name": "ipython",
    "version": 3
   },
   "file_extension": ".py",
   "mimetype": "text/x-python",
   "name": "python",
   "nbconvert_exporter": "python",
   "pygments_lexer": "ipython3",
   "version": "3.7.6"
  }
 },
 "nbformat": 4,
 "nbformat_minor": 1
}
