{
 "cells": [
  {
   "cell_type": "markdown",
   "metadata": {
    "colab_type": "text",
    "id": "SD6WkUccAim1"
   },
   "source": [
    "# Drawing Line, Rectangle and Circle on top of an Image"
   ]
  },
  {
   "cell_type": "code",
   "execution_count": 0,
   "metadata": {
    "colab": {},
    "colab_type": "code",
    "id": "hmLjRuaO5EyE"
   },
   "outputs": [],
   "source": [
    "import cv2\n",
    "import numpy as np\n",
    "import matplotlib.pyplot as plt"
   ]
  },
  {
   "cell_type": "code",
   "execution_count": 0,
   "metadata": {
    "colab": {},
    "colab_type": "code",
    "id": "ylaV8GDU5Kh2"
   },
   "outputs": [],
   "source": [
    "# Create a black image\n",
    "image = np.zeros((512,512,3), np.uint8)\n",
    "plt.imshow(image), plt.title(\"Blank Image\")\n"
   ]
  },
  {
   "cell_type": "markdown",
   "metadata": {
    "colab_type": "text",
    "id": "VCAyo_pRCEwC"
   },
   "source": [
    "### OpenCV Functions"
   ]
  },
  {
   "cell_type": "markdown",
   "metadata": {
    "colab_type": "text",
    "id": "sdau3qh750gE"
   },
   "source": [
    "cv2.line ( image, starting point , end point , color , line thickness, line type)\n",
    "\n",
    "\n",
    "cv2.circle ( image, center, radius, color of border, line thickness / fill type, line type)\n",
    "\n",
    "cv2.ellipse ( image, center, axes lengths, rotation degree of ellipse, starting angle , ending angle, color, line thickness / fill type, line type)\n",
    "\n",
    "cv2.rectangle ( image, upper left corner vertex, lower right corner vertex, line thickness / fill type, line type)\n",
    "\n",
    "cv2.putText ( image, text, starting point of text, font type, font scale, color, linetype )\n",
    "\n",
    "The thickness of the boundary is controlled by the thickness parameter. By default, only an outline of the shape is drawn. To draw a shape that is filled with the specified color, the thickness should be -1.\n",
    "The lineType parameter controls the quality of rendering. When lineType is set to CV_AA, anti-aliased ( smooth ) lines are drawn. Type of line, whether 8-connected, anti-aliased line etc. By default, it is 8-connected. cv2.LINE_AA gives anti-aliased line which looks great for curves.\n"
   ]
  },
  {
   "cell_type": "markdown",
   "metadata": {
    "colab_type": "text",
    "id": "djTeNtep6BdX"
   },
   "source": [
    "## Draw Line"
   ]
  },
  {
   "cell_type": "code",
   "execution_count": 0,
   "metadata": {
    "colab": {},
    "colab_type": "code",
    "id": "3NOdqOF354PS"
   },
   "outputs": [],
   "source": [
    "# Draw a diagonal blue line of thickness of 5 pixels\n",
    "image = np.zeros((512,512,3), np.uint8) # black canvas\n",
    "cv2.line(image, (0,0), (511,511), (255,127,0), 5)\n",
    "plt.imshow(image), plt.title(\"Line\")\n"
   ]
  },
  {
   "cell_type": "code",
   "execution_count": 0,
   "metadata": {
    "colab": {},
    "colab_type": "code",
    "id": "FRB9CWEj_d2Q"
   },
   "outputs": [],
   "source": [
    "image = cv2.imread('Lena.tiff')\n",
    "img = cv2.cvtColor(image, cv2.COLOR_BGR2RGB)\n",
    "img1=img.copy()\n",
    "img2=img.copy()\n",
    "img3=img.copy()\n"
   ]
  },
  {
   "cell_type": "code",
   "execution_count": 0,
   "metadata": {
    "colab": {},
    "colab_type": "code",
    "id": "LyWLm9JE6F-K"
   },
   "outputs": [],
   "source": [
    "\n",
    "# drawing a line\n",
    "cv2.line(img1,    # image\n",
    "         (260, 270),   # starting point\n",
    "         (330, 270),   # end point\n",
    "         (0, 0, 255),  # color\n",
    "         thickness=2,  # thickness\n",
    "         lineType=cv2.LINE_AA  # line type\n",
    "   )\n",
    "plt.imshow(img1), plt.title(\"Lena-Line\")\n",
    "cv2.imwrite(\"Lena-Line.jpg\", img1)"
   ]
  },
  {
   "cell_type": "markdown",
   "metadata": {
    "colab_type": "text",
    "id": "wv_VwJ_n76f0"
   },
   "source": [
    "## Draw Ractangle"
   ]
  },
  {
   "cell_type": "code",
   "execution_count": 0,
   "metadata": {
    "colab": {},
    "colab_type": "code",
    "id": "jJJJTAOv79OH"
   },
   "outputs": [],
   "source": [
    "\n",
    "# Draw a rectangle (thickness is a positive integer)\n",
    "cv2.rectangle(img2,          # source image\n",
    "              (150, 65),          # upper left corner vertex\n",
    "              (410, 370),         # lower right corner vertex\n",
    "              (0, 255, 0),        # color\n",
    "              thickness=2,        # line thickness\n",
    "              lineType=cv2.LINE_8  # line type\n",
    ")\n",
    "\n",
    "plt.imshow(img2), plt.title(\"Lena-Rectangle\")\n",
    "cv2.imwrite(\"Lena-Rect.jpg\", img2)"
   ]
  },
  {
   "cell_type": "markdown",
   "metadata": {
    "colab_type": "text",
    "id": "zaAS6ZsAAUA2"
   },
   "source": [
    "## Draw Circle"
   ]
  },
  {
   "cell_type": "code",
   "execution_count": 0,
   "metadata": {
    "colab": {},
    "colab_type": "code",
    "id": "uKnj9_H6-4nv"
   },
   "outputs": [],
   "source": [
    "cv2.circle(img3,             # source image\n",
    "           (280, 280),       # center\n",
    "           120,              # radius\n",
    "           (0, 255, 0),      # color or border\n",
    "           thickness=2,      # line thickness\n",
    "           lineType=cv2.LINE_AA   # line type\n",
    ")\n",
    "plt.imshow(img3), plt.title(\"Lena-Circle\")\n",
    "cv2.imwrite(\"imageCircle.jpg\", img3)"
   ]
  }
 ],
 "metadata": {
  "accelerator": "GPU",
  "colab": {
   "collapsed_sections": [],
   "name": "Line_Rectangle_Circle.ipynb",
   "provenance": [],
   "toc_visible": true
  },
  "kernelspec": {
   "display_name": "Python 3",
   "language": "python",
   "name": "python3"
  },
  "language_info": {
   "codemirror_mode": {
    "name": "ipython",
    "version": 3
   },
   "file_extension": ".py",
   "mimetype": "text/x-python",
   "name": "python",
   "nbconvert_exporter": "python",
   "pygments_lexer": "ipython3",
   "version": "3.7.6"
  }
 },
 "nbformat": 4,
 "nbformat_minor": 1
}
