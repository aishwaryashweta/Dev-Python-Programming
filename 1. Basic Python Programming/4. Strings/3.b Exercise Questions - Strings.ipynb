{
 "cells": [
  {
   "cell_type": "markdown",
   "metadata": {},
   "source": [
    "\n",
    "# <font color='red'> STRINGS </font> "
   ]
  },
  {
   "cell_type": "markdown",
   "metadata": {},
   "source": [
    "#  <font color='blue'>1. WHAT WENT WRONG? FIX THE ISSUE AND INDICATE WHAT DOES THIS CODE DO?  </font> "
   ]
  },
  {
   "cell_type": "code",
   "execution_count": 1,
   "metadata": {},
   "outputs": [
    {
     "ename": "NameError",
     "evalue": "name 'age' is not defined",
     "output_type": "error",
     "traceback": [
      "\u001b[1;31m---------------------------------------------------------------------------\u001b[0m",
      "\u001b[1;31mNameError\u001b[0m                                 Traceback (most recent call last)",
      "\u001b[1;32m<ipython-input-1-e6214d85f6e4>\u001b[0m in \u001b[0;36m<module>\u001b[1;34m\u001b[0m\n\u001b[0;32m      3\u001b[0m \u001b[0mFull_time_Employee\u001b[0m \u001b[1;33m=\u001b[0m \u001b[1;32mTrue\u001b[0m\u001b[1;33m\u001b[0m\u001b[1;33m\u001b[0m\u001b[0m\n\u001b[0;32m      4\u001b[0m \u001b[1;33m\u001b[0m\u001b[0m\n\u001b[1;32m----> 5\u001b[1;33m \u001b[0mprint\u001b[0m\u001b[1;33m(\u001b[0m\u001b[0mname\u001b[0m\u001b[1;33m,\u001b[0m \u001b[0mage\u001b[0m\u001b[1;33m,\u001b[0m \u001b[0mfull_time_employee\u001b[0m\u001b[1;33m)\u001b[0m\u001b[1;33m\u001b[0m\u001b[1;33m\u001b[0m\u001b[0m\n\u001b[0m",
      "\u001b[1;31mNameError\u001b[0m: name 'age' is not defined"
     ]
    }
   ],
   "source": [
    "name = \"Devdatta\"\n",
    "Age = 26\n",
    "Full_time_Employee = True\n",
    "\n",
    "print(name, age, full_time_employee)\n"
   ]
  },
  {
   "cell_type": "markdown",
   "metadata": {},
   "source": [
    "# <font color='blue'> 2. WHAT WENT WRONG? FIX THE ERROR TO GET x-y </font> "
   ]
  },
  {
   "cell_type": "code",
   "execution_count": 2,
   "metadata": {},
   "outputs": [
    {
     "name": "stdout",
     "output_type": "stream",
     "text": [
      "16\n"
     ]
    }
   ],
   "source": [
    "x = \"20\"\n",
    "\n",
    "y = 4\n",
    "\n",
    "print(int(x) - y)\n"
   ]
  },
  {
   "cell_type": "markdown",
   "metadata": {},
   "source": [
    "# <font color='blue'> 3. WRITE A CODE THAT TAKES AN INPUT FROM A USER, SPLITS IT INTO WORDS AND PRINT THEM ON THE SCREEN </font> "
   ]
  },
  {
   "cell_type": "code",
   "execution_count": 3,
   "metadata": {},
   "outputs": [
    {
     "name": "stdout",
     "output_type": "stream",
     "text": [
      "Enter Anything: hello my name is dev\n"
     ]
    },
    {
     "data": {
      "text/plain": [
       "['hello', 'my', 'name', 'is', 'dev']"
      ]
     },
     "execution_count": 3,
     "metadata": {},
     "output_type": "execute_result"
    }
   ],
   "source": [
    "a = input(\"Enter Anything: \")\n",
    "\n",
    "a.split()"
   ]
  },
  {
   "cell_type": "code",
   "execution_count": null,
   "metadata": {},
   "outputs": [],
   "source": []
  },
  {
   "cell_type": "markdown",
   "metadata": {},
   "source": [
    "# <font color='blue'> 4. WRITE A CODE THAT TAKES AN INPUT FROM A USER, CONVERT IT TO UPPER CASE AND PRINT THEM ON THE SCREEN </font> "
   ]
  },
  {
   "cell_type": "code",
   "execution_count": 4,
   "metadata": {},
   "outputs": [
    {
     "name": "stdout",
     "output_type": "stream",
     "text": [
      "Enter Anything: helo laskdjfl asdflk\n"
     ]
    },
    {
     "data": {
      "text/plain": [
       "'HELO LASKDJFL ASDFLK'"
      ]
     },
     "execution_count": 4,
     "metadata": {},
     "output_type": "execute_result"
    }
   ],
   "source": [
    "a = input(\"Enter Anything: \")\n",
    "\n",
    "a.upper()"
   ]
  },
  {
   "cell_type": "code",
   "execution_count": null,
   "metadata": {},
   "outputs": [],
   "source": []
  },
  {
   "cell_type": "code",
   "execution_count": null,
   "metadata": {},
   "outputs": [],
   "source": []
  },
  {
   "cell_type": "markdown",
   "metadata": {},
   "source": [
    "# <font color='blue'> 5. WRITE A CODE THAT PROMPTS A USER REQUESTING HIS/HER E-MAIL AND THEN EXTRACTS THE USERNAME (NOTE THAT THE EMAIL IS IN FIRSTNAME.LASTNAME@GMAIL.COM </font> "
   ]
  },
  {
   "cell_type": "markdown",
   "metadata": {},
   "source": [
    "# <font color='blue'> 6. EXPAND ON THE PERVIOUS CODE TO PRINT \"HELLO FIRSTNAME LASTNAME\" </font> \n",
    "\n"
   ]
  },
  {
   "cell_type": "code",
   "execution_count": null,
   "metadata": {},
   "outputs": [],
   "source": [
    "# Method 1\n",
    "a = input(\"Enter Email: \")\n",
    "b = a.split(\"@\")[0]\n",
    "c = b.split(\".\")[0]\n",
    "print(\"Hello {}\".format(c))"
   ]
  },
  {
   "cell_type": "code",
   "execution_count": 18,
   "metadata": {},
   "outputs": [
    {
     "name": "stdout",
     "output_type": "stream",
     "text": [
      "Enter Email: dev\n",
      "Hello dev\n"
     ]
    }
   ],
   "source": [
    "# method 2\n",
    "\n",
    "print(\"Hello {}\".format(input(\"Enter Email: \").split(\"@\")[0].split(\".\")[0]))"
   ]
  },
  {
   "cell_type": "markdown",
   "metadata": {},
   "source": [
    "# <font color='blue'> 7. WRITE A CODE THAT REQUESTS THE FIRST, LAST NAME, AND AGE AND PRINTS\n",
    "    - HELLO \"FIRST NAME\" \"LAST NAME\", YOU ARE NOW \"AGE\", FYI: AGE IS JUST A NUMBER, YOU ARE YOUNGER THAN EVER!  </font> \n",
    "\n"
   ]
  },
  {
   "cell_type": "code",
   "execution_count": null,
   "metadata": {},
   "outputs": [],
   "source": [
    "a = input(\"Enter name: \")\n",
    "b = input(\"Enter last name: \")\n",
    "c = input(\"Enter age: \")\n",
    "\n",
    "print(\"HELLO {} {}, YOU ARE NOW {}, FYI: AGE IS JUST A NUMBER, YOU ARE YOUNGER THAN EVER!\".format(a,b,c))"
   ]
  },
  {
   "cell_type": "markdown",
   "metadata": {},
   "source": [
    "# <font color='blue'> # 8. REPEAT THE PREVIOUS EXERCISE BUT PRTNT THE NAME AND AGE IN A NEW LINE. (RESEARCH HOW TO PRINT IN A NEW LINE)\n",
    "- \\n is used for printing statements in a new line\n",
    "- please read: https://docs.python.org/2/tutorial/introduction.html\n"
   ]
  },
  {
   "cell_type": "code",
   "execution_count": null,
   "metadata": {},
   "outputs": [],
   "source": [
    "a = input(\"Enter name: \")\n",
    "b = input(\"Enter last name: \")\n",
    "c = input(\"Enter age: \")\n",
    "\n",
    "print(\"HELLO {} {}, YOU ARE NOW {}, \\n FYI: AGE IS JUST A NUMBER, YOU ARE YOUNGER THAN EVER!\".format(a,b,c))"
   ]
  },
  {
   "cell_type": "code",
   "execution_count": 16,
   "metadata": {},
   "outputs": [
    {
     "name": "stdout",
     "output_type": "stream",
     "text": [
      "Hello dev kasjdflj 34 lkj \n",
      "Hello dev kasjdflj 34 lkj\n"
     ]
    }
   ],
   "source": [
    "a =\"dev\"\n",
    "b = \"34\"\n",
    "c = \"lkj\"\n",
    "print(\"Hello {} kasjdflj {} {} \".format(a,b,c))\n",
    "print(\"Hello\", a ,  \"kasjdflj\",  b, c)"
   ]
  },
  {
   "cell_type": "code",
   "execution_count": null,
   "metadata": {},
   "outputs": [],
   "source": []
  },
  {
   "cell_type": "code",
   "execution_count": null,
   "metadata": {},
   "outputs": [],
   "source": []
  },
  {
   "cell_type": "code",
   "execution_count": null,
   "metadata": {},
   "outputs": [],
   "source": []
  },
  {
   "cell_type": "markdown",
   "metadata": {},
   "source": [
    "# <font color='blue'> # 9. WRITE A CODE THAT TAKES THE USER E-MAIL AND COUNTS THE NUMBER OF USERNAME CHARACTERS\n",
    "    - please research len() that can be used to obtain the number of charachters in a string \n"
   ]
  },
  {
   "cell_type": "code",
   "execution_count": null,
   "metadata": {},
   "outputs": [],
   "source": [
    "a = input(\"Enter Email: \")\n",
    "b = len(a.split(\"@\")[0])\n",
    "b"
   ]
  },
  {
   "cell_type": "markdown",
   "metadata": {},
   "source": [
    "# <font color='blue'> # 10. WRITE A CODE THAT EXTRACTS THE WORD HELLO FROM \"HELLO WORLD\" IN TWO DIFFERENT WAYS\n",
    "    - please research string slicing: https://www.pythonlearn.com/html-008/cfbook007.html\n"
   ]
  },
  {
   "cell_type": "code",
   "execution_count": null,
   "metadata": {},
   "outputs": [],
   "source": [
    "a = \"Hello world\""
   ]
  },
  {
   "cell_type": "code",
   "execution_count": null,
   "metadata": {},
   "outputs": [],
   "source": [
    "a.split()[0]"
   ]
  },
  {
   "cell_type": "code",
   "execution_count": null,
   "metadata": {},
   "outputs": [],
   "source": [
    "a[:5]"
   ]
  },
  {
   "cell_type": "code",
   "execution_count": null,
   "metadata": {},
   "outputs": [],
   "source": []
  }
 ],
 "metadata": {
  "kernelspec": {
   "display_name": "Python 3",
   "language": "python",
   "name": "python3"
  },
  "language_info": {
   "codemirror_mode": {
    "name": "ipython",
    "version": 3
   },
   "file_extension": ".py",
   "mimetype": "text/x-python",
   "name": "python",
   "nbconvert_exporter": "python",
   "pygments_lexer": "ipython3",
   "version": "3.7.6"
  }
 },
 "nbformat": 4,
 "nbformat_minor": 2
}
