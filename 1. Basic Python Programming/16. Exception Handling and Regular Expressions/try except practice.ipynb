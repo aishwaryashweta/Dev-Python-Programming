{
 "cells": [
  {
   "cell_type": "code",
   "execution_count": 2,
   "metadata": {},
   "outputs": [],
   "source": [
    "def add(n,e):\n",
    "    print(n+e)"
   ]
  },
  {
   "cell_type": "code",
   "execution_count": 3,
   "metadata": {},
   "outputs": [
    {
     "name": "stdout",
     "output_type": "stream",
     "text": [
      "30\n"
     ]
    }
   ],
   "source": [
    "add(10,20)"
   ]
  },
  {
   "cell_type": "code",
   "execution_count": 4,
   "metadata": {},
   "outputs": [
    {
     "name": "stdout",
     "output_type": "stream",
     "text": [
      "\n"
     ]
    }
   ],
   "source": [
    "num1 =10\n",
    "num2=input()"
   ]
  },
  {
   "cell_type": "code",
   "execution_count": 5,
   "metadata": {},
   "outputs": [
    {
     "ename": "TypeError",
     "evalue": "unsupported operand type(s) for +: 'int' and 'str'",
     "output_type": "error",
     "traceback": [
      "\u001b[1;31m---------------------------------------------------------------------------\u001b[0m",
      "\u001b[1;31mTypeError\u001b[0m                                 Traceback (most recent call last)",
      "\u001b[1;32m<ipython-input-5-b31a5b843a8c>\u001b[0m in \u001b[0;36m<module>\u001b[1;34m\u001b[0m\n\u001b[1;32m----> 1\u001b[1;33m \u001b[0madd\u001b[0m\u001b[1;33m(\u001b[0m\u001b[0mnum1\u001b[0m\u001b[1;33m,\u001b[0m\u001b[0mnum2\u001b[0m\u001b[1;33m)\u001b[0m\u001b[1;33m\u001b[0m\u001b[1;33m\u001b[0m\u001b[0m\n\u001b[0m",
      "\u001b[1;32m<ipython-input-2-0975fd9c80a0>\u001b[0m in \u001b[0;36madd\u001b[1;34m(n, e)\u001b[0m\n\u001b[0;32m      1\u001b[0m \u001b[1;32mdef\u001b[0m \u001b[0madd\u001b[0m\u001b[1;33m(\u001b[0m\u001b[0mn\u001b[0m\u001b[1;33m,\u001b[0m\u001b[0me\u001b[0m\u001b[1;33m)\u001b[0m\u001b[1;33m:\u001b[0m\u001b[1;33m\u001b[0m\u001b[1;33m\u001b[0m\u001b[0m\n\u001b[1;32m----> 2\u001b[1;33m     \u001b[0mprint\u001b[0m\u001b[1;33m(\u001b[0m\u001b[0mn\u001b[0m\u001b[1;33m+\u001b[0m\u001b[0me\u001b[0m\u001b[1;33m)\u001b[0m\u001b[1;33m\u001b[0m\u001b[1;33m\u001b[0m\u001b[0m\n\u001b[0m",
      "\u001b[1;31mTypeError\u001b[0m: unsupported operand type(s) for +: 'int' and 'str'"
     ]
    }
   ],
   "source": [
    "add(num1,num2)"
   ]
  },
  {
   "cell_type": "code",
   "execution_count": 6,
   "metadata": {},
   "outputs": [
    {
     "name": "stdout",
     "output_type": "stream",
     "text": [
      "7\n"
     ]
    }
   ],
   "source": [
    "num2=int(input())"
   ]
  },
  {
   "cell_type": "code",
   "execution_count": 7,
   "metadata": {},
   "outputs": [
    {
     "name": "stdout",
     "output_type": "stream",
     "text": [
      "17\n",
      "add went well\n"
     ]
    }
   ],
   "source": [
    "try:\n",
    "    add(num1,num2)\n",
    "except:\n",
    "        \n",
    "        print(\"hey it looks like you arent adding correctly! \")\n",
    "else:\n",
    "    print(\"add went well\")\n",
    "    "
   ]
  },
  {
   "cell_type": "code",
   "execution_count": 13,
   "metadata": {},
   "outputs": [
    {
     "name": "stdout",
     "output_type": "stream",
     "text": [
      "hey you have an os Error\n",
      "i always run\n"
     ]
    }
   ],
   "source": [
    "try:\n",
    "    f = open(\"test\",'r')\n",
    "    f.write(\"write a test line\")\n",
    "except SyntaxError:\n",
    "    print(\"hey you have a type error\")\n",
    "except OSError:\n",
    "    print(\"hey you have an os Error\")\n",
    "finally:\n",
    "    print(\"i always run\")"
   ]
  },
  {
   "cell_type": "code",
   "execution_count": 16,
   "metadata": {},
   "outputs": [
    {
     "name": "stdout",
     "output_type": "stream",
     "text": [
      "hey you have an os Error\n",
      "i always run\n"
     ]
    }
   ],
   "source": [
    "try:\n",
    "    f = open(\"test\",'r')\n",
    "    f.write(\"write a test line\")\n",
    "except TypeError:\n",
    "    print(\"hey you have a type error\")\n",
    "except OSError:\n",
    "    print(\"hey you have an os Error\")\n",
    "finally:\n",
    "    print(\"i always run\")"
   ]
  },
  {
   "cell_type": "code",
   "execution_count": 17,
   "metadata": {},
   "outputs": [
    {
     "name": "stdout",
     "output_type": "stream",
     "text": [
      "i always run\n"
     ]
    }
   ],
   "source": [
    "try:\n",
    "    f = open(\"kje\",'w')\n",
    "    f.write(\"jalksjdflasd\")\n",
    "except:\n",
    "    print(\"all other exception\")\n",
    "finally:\n",
    "    print(\"i always run\")"
   ]
  },
  {
   "cell_type": "code",
   "execution_count": 18,
   "metadata": {},
   "outputs": [],
   "source": [
    "def ask_for_int():\n",
    "    try:\n",
    "        result = int(input(\"enter a number\"))\n",
    "    except:\n",
    "        print(\"whooops that is not a number \")\n",
    "    finally:\n",
    "        print(\"End of try/Except/finally\")\n",
    "    "
   ]
  },
  {
   "cell_type": "code",
   "execution_count": 19,
   "metadata": {},
   "outputs": [
    {
     "name": "stdout",
     "output_type": "stream",
     "text": [
      "enter a number3\n",
      "End of try/Except/finally\n"
     ]
    }
   ],
   "source": [
    "ask_for_int()"
   ]
  },
  {
   "cell_type": "code",
   "execution_count": 20,
   "metadata": {},
   "outputs": [
    {
     "name": "stdout",
     "output_type": "stream",
     "text": [
      "enter a numberF\n",
      "whooops that is not a number \n",
      "End of try/Except/finally\n"
     ]
    }
   ],
   "source": [
    "ask_for_int()"
   ]
  },
  {
   "cell_type": "code",
   "execution_count": 22,
   "metadata": {},
   "outputs": [],
   "source": [
    "def ask_for_input():\n",
    "    while True:\n",
    "\n",
    "        try:\n",
    "            result = int(input(\"Please Provide Number: \"))\n",
    "        except:\n",
    "            print(\"whoops that is not a nummber\")\n",
    "            continue\n",
    "        else:\n",
    "            print(\"thank you\")\n",
    "            break\n",
    "        finally:\n",
    "            print(\"End of try/except/finally\")\n",
    "            print(\"i will always run at the end!\")\n",
    "            \n",
    "            \n",
    "ask_for_input()\n",
    "\n"
   ]
  },
  {
   "cell_type": "code",
   "execution_count": 24,
   "metadata": {},
   "outputs": [
    {
     "name": "stdout",
     "output_type": "stream",
     "text": [
      "Please Provide Number: 3d\n",
      "whoops that is not a nummber\n",
      "End of try/except/finally\n",
      "i will always run at the end!\n",
      "Please Provide Number: dd3\n",
      "whoops that is not a nummber\n",
      "End of try/except/finally\n",
      "i will always run at the end!\n",
      "Please Provide Number: dd3\n",
      "whoops that is not a nummber\n",
      "End of try/except/finally\n",
      "i will always run at the end!\n",
      "Please Provide Number: dd\n",
      "whoops that is not a nummber\n",
      "End of try/except/finally\n",
      "i will always run at the end!\n",
      "Please Provide Number: 3\n",
      "thank you\n",
      "End of try/except/finally\n",
      "i will always run at the end!\n"
     ]
    }
   ],
   "source": [
    "ask_for_input()"
   ]
  },
  {
   "cell_type": "code",
   "execution_count": null,
   "metadata": {},
   "outputs": [],
   "source": []
  },
  {
   "cell_type": "code",
   "execution_count": null,
   "metadata": {},
   "outputs": [],
   "source": []
  },
  {
   "cell_type": "code",
   "execution_count": null,
   "metadata": {},
   "outputs": [],
   "source": []
  },
  {
   "cell_type": "code",
   "execution_count": null,
   "metadata": {},
   "outputs": [],
   "source": []
  }
 ],
 "metadata": {
  "kernelspec": {
   "display_name": "Python 3",
   "language": "python",
   "name": "python3"
  },
  "language_info": {
   "codemirror_mode": {
    "name": "ipython",
    "version": 3
   },
   "file_extension": ".py",
   "mimetype": "text/x-python",
   "name": "python",
   "nbconvert_exporter": "python",
   "pygments_lexer": "ipython3",
   "version": "3.7.1"
  }
 },
 "nbformat": 4,
 "nbformat_minor": 2
}
