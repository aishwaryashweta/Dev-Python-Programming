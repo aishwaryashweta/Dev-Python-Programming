{
 "cells": [
  {
   "cell_type": "markdown",
   "metadata": {},
   "source": [
    "# obb in python "
   ]
  },
  {
   "cell_type": "code",
   "execution_count": 1,
   "metadata": {},
   "outputs": [],
   "source": [
    "# if you ever have a class or or functioin that you want to leave empty then use pass \n",
    "\n",
    "class Employee:\n",
    "    pass\n",
    "\n",
    "# class is a blueprint fro creating instances "
   ]
  },
  {
   "cell_type": "code",
   "execution_count": 2,
   "metadata": {},
   "outputs": [],
   "source": [
    "emp_1 = Employee()\n",
    "emp_2 = Employee()\n"
   ]
  },
  {
   "cell_type": "code",
   "execution_count": 3,
   "metadata": {},
   "outputs": [
    {
     "name": "stdout",
     "output_type": "stream",
     "text": [
      "<__main__.Employee object at 0x0000023E16C6A748>\n"
     ]
    }
   ],
   "source": [
    "print(emp_1)"
   ]
  },
  {
   "cell_type": "code",
   "execution_count": 4,
   "metadata": {},
   "outputs": [
    {
     "name": "stdout",
     "output_type": "stream",
     "text": [
      "<__main__.Employee object at 0x0000023E16C6A3C8>\n"
     ]
    }
   ],
   "source": [
    "print(emp_2)"
   ]
  },
  {
   "cell_type": "code",
   "execution_count": 5,
   "metadata": {},
   "outputs": [],
   "source": [
    "# Both have different location in memory\n"
   ]
  },
  {
   "cell_type": "code",
   "execution_count": 6,
   "metadata": {},
   "outputs": [
    {
     "name": "stdout",
     "output_type": "stream",
     "text": [
      "dev@gmail.com\n",
      "test@gmail.com\n"
     ]
    }
   ],
   "source": [
    "emp_1.first = 'dev'\n",
    "emp_1.last = 'supnekar'\n",
    "emp_1.email ='dev@gmail.com'\n",
    "emp_1.pay = 50000\n",
    "\n",
    "emp_2.first = 'user'\n",
    "emp_2.last = 'test'\n",
    "emp_2.email ='test@gmail.com'\n",
    "emp_2.pay = 40000\n",
    "\n",
    "print(emp_1.email)\n",
    "print(emp_2.email)"
   ]
  },
  {
   "cell_type": "code",
   "execution_count": 7,
   "metadata": {},
   "outputs": [],
   "source": [
    " class Employee:\n",
    "        def __init__(self, first, last, pay):\n",
    "            self.first = first\n",
    "            self.last = last\n",
    "            self.pay = pay\n",
    "            self.email = first +'.'+ last + '@gmail.com'"
   ]
  },
  {
   "cell_type": "code",
   "execution_count": 8,
   "metadata": {},
   "outputs": [],
   "source": [
    "emp1 = Employee('Devdatta','supnekar',10000)\n",
    "emp2 = Employee('Test','User',20000)"
   ]
  },
  {
   "cell_type": "code",
   "execution_count": 9,
   "metadata": {},
   "outputs": [
    {
     "name": "stdout",
     "output_type": "stream",
     "text": [
      "Devdatta\n",
      "Test\n"
     ]
    }
   ],
   "source": [
    "print(emp1.first)\n",
    "print(emp2.first)"
   ]
  },
  {
   "cell_type": "code",
   "execution_count": 10,
   "metadata": {},
   "outputs": [
    {
     "name": "stdout",
     "output_type": "stream",
     "text": [
      "Devdatta supnekar\n"
     ]
    }
   ],
   "source": [
    "print('{} {}'.format(emp1.first, emp1.last))"
   ]
  },
  {
   "cell_type": "code",
   "execution_count": 11,
   "metadata": {},
   "outputs": [],
   "source": [
    "# each method within a class automatically takes the instance as the first argument"
   ]
  },
  {
   "cell_type": "code",
   "execution_count": 12,
   "metadata": {},
   "outputs": [],
   "source": [
    " class Employee:\n",
    "        def __init__(self, first, last, pay):\n",
    "            self.first = first\n",
    "            self.last = last\n",
    "            self.pay = pay\n",
    "            self.email = first +'.'+ last + '@gmail.com'\n",
    "            \n",
    "        def fullname(self):\n",
    "            return '{} {}'.format(self.first, self.last)"
   ]
  },
  {
   "cell_type": "code",
   "execution_count": 13,
   "metadata": {},
   "outputs": [],
   "source": [
    "emp1 = Employee('Devdatta','supnekar',10000)\n",
    "emp2 = Employee('Test','User',20000)"
   ]
  },
  {
   "cell_type": "code",
   "execution_count": 14,
   "metadata": {},
   "outputs": [
    {
     "name": "stdout",
     "output_type": "stream",
     "text": [
      "Devdatta supnekar\n"
     ]
    }
   ],
   "source": [
    "print(emp1.fullname())\n",
    "# print(emp1.fullname)"
   ]
  },
  {
   "cell_type": "code",
   "execution_count": 15,
   "metadata": {},
   "outputs": [
    {
     "data": {
      "text/plain": [
       "'Test User'"
      ]
     },
     "execution_count": 15,
     "metadata": {},
     "output_type": "execute_result"
    }
   ],
   "source": [
    "Employee.fullname(emp2)"
   ]
  },
  {
   "cell_type": "markdown",
   "metadata": {},
   "source": [
    "--"
   ]
  },
  {
   "cell_type": "code",
   "execution_count": 1,
   "metadata": {},
   "outputs": [],
   "source": [
    "class students:\n",
    "    \n",
    "    def id_card(self):       # method\n",
    "        print('Name: Dev','Roll No : 15' ,'Age : 24')\n",
    "      \n"
   ]
  },
  {
   "cell_type": "code",
   "execution_count": 2,
   "metadata": {},
   "outputs": [],
   "source": [
    "student_1 = students() # 1st object"
   ]
  },
  {
   "cell_type": "code",
   "execution_count": 3,
   "metadata": {},
   "outputs": [
    {
     "name": "stdout",
     "output_type": "stream",
     "text": [
      "<class '__main__.students'>\n"
     ]
    }
   ],
   "source": [
    "print(type(student_1)) # user define calss"
   ]
  },
  {
   "cell_type": "code",
   "execution_count": 4,
   "metadata": {},
   "outputs": [
    {
     "name": "stdout",
     "output_type": "stream",
     "text": [
      "<class 'str'>\n"
     ]
    }
   ],
   "source": [
    "a = 'xyz'\n",
    "print(type(a)) # str is also a class but its in built "
   ]
  },
  {
   "cell_type": "code",
   "execution_count": 5,
   "metadata": {},
   "outputs": [
    {
     "name": "stdout",
     "output_type": "stream",
     "text": [
      "<class 'int'>\n"
     ]
    }
   ],
   "source": [
    "x = 10 \n",
    "print(type(x)) # int is also the object of int "
   ]
  },
  {
   "cell_type": "markdown",
   "metadata": {},
   "source": [
    "So everything in Python is object some are inbuilt and some are udc"
   ]
  },
  {
   "cell_type": "code",
   "execution_count": 6,
   "metadata": {},
   "outputs": [
    {
     "ename": "NameError",
     "evalue": "name 'id_card' is not defined",
     "output_type": "error",
     "traceback": [
      "\u001b[1;31m---------------------------------------------------------------------------\u001b[0m",
      "\u001b[1;31mNameError\u001b[0m                                 Traceback (most recent call last)",
      "\u001b[1;32m<ipython-input-6-918519341b0f>\u001b[0m in \u001b[0;36m<module>\u001b[1;34m\u001b[0m\n\u001b[0;32m      1\u001b[0m \u001b[1;31m# calling the function\u001b[0m\u001b[1;33m\u001b[0m\u001b[1;33m\u001b[0m\u001b[1;33m\u001b[0m\u001b[0m\n\u001b[0;32m      2\u001b[0m \u001b[1;33m\u001b[0m\u001b[0m\n\u001b[1;32m----> 3\u001b[1;33m \u001b[0mid_card\u001b[0m\u001b[1;33m(\u001b[0m\u001b[1;33m)\u001b[0m\u001b[1;33m\u001b[0m\u001b[1;33m\u001b[0m\u001b[0m\n\u001b[0m",
      "\u001b[1;31mNameError\u001b[0m: name 'id_card' is not defined"
     ]
    }
   ],
   "source": [
    "# calling the function \n",
    "\n",
    "id_card()"
   ]
  },
  {
   "cell_type": "code",
   "execution_count": 7,
   "metadata": {},
   "outputs": [
    {
     "ename": "TypeError",
     "evalue": "id_card() missing 1 required positional argument: 'self'",
     "output_type": "error",
     "traceback": [
      "\u001b[1;31m---------------------------------------------------------------------------\u001b[0m",
      "\u001b[1;31mTypeError\u001b[0m                                 Traceback (most recent call last)",
      "\u001b[1;32m<ipython-input-7-80826879e330>\u001b[0m in \u001b[0;36m<module>\u001b[1;34m\u001b[0m\n\u001b[1;32m----> 1\u001b[1;33m \u001b[0mstudents\u001b[0m\u001b[1;33m.\u001b[0m\u001b[0mid_card\u001b[0m\u001b[1;33m(\u001b[0m\u001b[1;33m)\u001b[0m \u001b[1;31m#mention for which object you are calling that function\u001b[0m\u001b[1;33m\u001b[0m\u001b[1;33m\u001b[0m\u001b[0m\n\u001b[0m",
      "\u001b[1;31mTypeError\u001b[0m: id_card() missing 1 required positional argument: 'self'"
     ]
    }
   ],
   "source": [
    "students.id_card() #mention for which object you are calling that function "
   ]
  },
  {
   "cell_type": "code",
   "execution_count": 8,
   "metadata": {},
   "outputs": [
    {
     "name": "stdout",
     "output_type": "stream",
     "text": [
      "Name: Dev Roll No : 15 Age : 24\n"
     ]
    }
   ],
   "source": [
    "students.id_card(student_1) # self is the object we are passing "
   ]
  },
  {
   "cell_type": "code",
   "execution_count": 9,
   "metadata": {},
   "outputs": [],
   "source": [
    "# create another objects \n",
    "\n",
    "student_2 = students()\n",
    "student_3 = students()\n",
    "student_4 = students()\n",
    "\n",
    "# now we have 4 objects but one class "
   ]
  },
  {
   "cell_type": "code",
   "execution_count": 10,
   "metadata": {},
   "outputs": [
    {
     "name": "stdout",
     "output_type": "stream",
     "text": [
      "Name: Dev Roll No : 15 Age : 24\n",
      "Name: Dev Roll No : 15 Age : 24\n",
      "Name: Dev Roll No : 15 Age : 24\n"
     ]
    }
   ],
   "source": [
    "students.id_card(student_2)\n",
    "students.id_card(student_3)\n",
    "students.id_card(student_4)\n",
    "\n",
    "# we are not changeing the data thats why we get same output"
   ]
  },
  {
   "cell_type": "markdown",
   "metadata": {},
   "source": [
    "# One more way to call functions"
   ]
  },
  {
   "cell_type": "code",
   "execution_count": null,
   "metadata": {},
   "outputs": [],
   "source": []
  },
  {
   "cell_type": "code",
   "execution_count": 11,
   "metadata": {},
   "outputs": [],
   "source": [
    "student_1 = students()\n",
    "student_2 = students()\n",
    "student_3 = students()\n",
    "student_4 = students()"
   ]
  },
  {
   "cell_type": "code",
   "execution_count": 12,
   "metadata": {},
   "outputs": [
    {
     "name": "stdout",
     "output_type": "stream",
     "text": [
      "Name: Dev Roll No : 15 Age : 24\n",
      "Name: Dev Roll No : 15 Age : 24\n",
      "Name: Dev Roll No : 15 Age : 24\n",
      "Name: Dev Roll No : 15 Age : 24\n"
     ]
    }
   ],
   "source": [
    "student_1.id_card()\n",
    "student_2.id_card()\n",
    "student_3.id_card()\n",
    "student_4.id_card()\n",
    "\n",
    "# now here we are using object itself to call the functions"
   ]
  },
  {
   "cell_type": "code",
   "execution_count": 13,
   "metadata": {},
   "outputs": [
    {
     "name": "stdout",
     "output_type": "stream",
     "text": [
      "Name: Dev Roll No : 15 Age : 24\n",
      "Name: Dev Roll No : 15 Age : 24\n"
     ]
    }
   ],
   "source": [
    "# Diff between two methods\n",
    "\n",
    "students.id_card(student_1) # we are passing parameter(student_1) to the function\n",
    "\n",
    "student_1 = students()\n",
    "student_1.id_card() # behind the scene this id_card() will take student_1 as parameter"
   ]
  },
  {
   "cell_type": "markdown",
   "metadata": {},
   "source": [
    "# Initializing the variables"
   ]
  },
  {
   "cell_type": "code",
   "execution_count": 14,
   "metadata": {},
   "outputs": [
    {
     "name": "stdout",
     "output_type": "stream",
     "text": [
      "hello\n",
      "hello\n",
      "Name: Dev Roll No : 15 Age : 24\n",
      "Name: Dev Roll No : 15 Age : 24\n"
     ]
    }
   ],
   "source": [
    "class students:\n",
    "    \n",
    "    def __init__(self):    # special method \n",
    "        print('hello')\n",
    "         \n",
    "    \n",
    "    def id_card(self):\n",
    "        print('Name: Dev','Roll No : 15' ,'Age : 24')\n",
    "        \n",
    "# Creating the object \n",
    "\n",
    "student_1 = students()\n",
    "student_2 = students()\n",
    "\n",
    "# calling the objects \n",
    "\n",
    "student_1.id_card()\n",
    "student_2.id_card()\n",
    "      \n"
   ]
  },
  {
   "cell_type": "code",
   "execution_count": 15,
   "metadata": {},
   "outputs": [
    {
     "name": "stdout",
     "output_type": "stream",
     "text": [
      "Name is  Devdatta Roll No :  55 My age is  :  24\n",
      "Name is  Abhijeet Roll No :  45 My age is  :  21\n"
     ]
    }
   ],
   "source": [
    "class students:\n",
    "    \n",
    "    def __init__(self, Name, Roll_No, Age):\n",
    "        self.Name = Name\n",
    "        self.Roll_No = Roll_No\n",
    "        self.Age = Age\n",
    "        \n",
    "         \n",
    "#     def id_card(self):\n",
    "#         print('Name is ',Name , 'Roll No : ', Roll_No ,'My age is  : ', Age) \n",
    "\n",
    "# Nmae roll no and age is not a local variables, \n",
    "# these belongs to object so use self keyword for calling this variables\n",
    "    \n",
    "    \n",
    "    def id_card(self):\n",
    "        print('Name is ', self.Name , 'Roll No : ', self.Roll_No ,'My age is  : ', self.Age)\n",
    "        \n",
    "# Creating the object \n",
    "\n",
    "student_1 = students(\"Devdatta\",\"55\",24) # student_1 get pass automatically eg. (student_1, \"Devdatta\",\"55\",24)\n",
    "student_2 = students(\"Abhijeet\",\"45\",21)\n",
    "\n",
    "# calling the objects \n",
    "\n",
    "student_1.id_card()\n",
    "student_2.id_card()\n",
    "      \n",
    " "
   ]
  },
  {
   "cell_type": "code",
   "execution_count": 49,
   "metadata": {},
   "outputs": [
    {
     "name": "stdout",
     "output_type": "stream",
     "text": [
      "2465697985200\n",
      "2465697985256\n"
     ]
    }
   ],
   "source": [
    "class computer:\n",
    "    pass\n",
    "\n",
    "# if you ever have a class or or functioin that you want to leave empty then use pass \n",
    "\n",
    "\n",
    "c1=computer() # c1 is referring to the object\n",
    "c2=computer()\n",
    "\n",
    "\n",
    "# Every time you create the object is is allocated to new space\n",
    "\n",
    "print(id(c1))\n",
    "print(id(c2))"
   ]
  },
  {
   "cell_type": "code",
   "execution_count": 19,
   "metadata": {},
   "outputs": [
    {
     "name": "stdout",
     "output_type": "stream",
     "text": [
      "dev\n",
      "dev\n"
     ]
    }
   ],
   "source": [
    "class computer:\n",
    "    \n",
    "    def __init__(self):\n",
    "        self.name = 'dev'\n",
    "        self.age = 28\n",
    "        \n",
    "\n",
    "c1=computer() \n",
    "c2=computer()\n",
    "\n",
    "print(c1.name)\n",
    "print(c2.name) "
   ]
  },
  {
   "cell_type": "markdown",
   "metadata": {},
   "source": [
    "# You can assighn diffrent values to the class `"
   ]
  },
  {
   "cell_type": "code",
   "execution_count": 21,
   "metadata": {},
   "outputs": [
    {
     "name": "stdout",
     "output_type": "stream",
     "text": [
      "rashi\n",
      "dev\n"
     ]
    }
   ],
   "source": [
    "class computer:\n",
    "    \n",
    "    def __init__(self):\n",
    "        self.name = 'dev'\n",
    "        self.age = 24\n",
    "        \n",
    "\n",
    "c1=computer() \n",
    "c2=computer()\n",
    "\n",
    "c1.name = 'rashi'\n",
    "c1.age = 28\n",
    "\n",
    "print(c1.name)\n",
    "print(c2.name)"
   ]
  },
  {
   "cell_type": "markdown",
   "metadata": {},
   "source": [
    "# Types of variables in python \n",
    "\n",
    "> Instance variables \n",
    "\n",
    "> class (static) variables"
   ]
  },
  {
   "cell_type": "code",
   "execution_count": 32,
   "metadata": {},
   "outputs": [
    {
     "name": "stdout",
     "output_type": "stream",
     "text": [
      "BMW 10\n",
      "BMW 10\n"
     ]
    }
   ],
   "source": [
    "class car:\n",
    "    \n",
    "    def __init__(self):\n",
    "        \n",
    "        self.mil = 10        # these two variables are called instance variables\n",
    "        self.com = 'BMW'     # as the object changes these value will aslo change \n",
    "        \n",
    "        \n",
    "        \n",
    "c1 = car()\n",
    "c2 = car()\n",
    "\n",
    "print(c1.com, c1.mil)\n",
    "print(c2.com, c2.mil)\n"
   ]
  },
  {
   "cell_type": "code",
   "execution_count": 31,
   "metadata": {},
   "outputs": [
    {
     "name": "stdout",
     "output_type": "stream",
     "text": [
      "audi 43\n",
      "jaguar 10\n"
     ]
    }
   ],
   "source": [
    "c1.mil = 50\n",
    "c1.mil = 43\n",
    "c1.com ='audi'\n",
    "c2.com = 'jaguar'\n",
    "\n",
    "print(c1.com, c1.mil)\n",
    "print(c2.com, c2.mil)"
   ]
  },
  {
   "cell_type": "code",
   "execution_count": 29,
   "metadata": {},
   "outputs": [
    {
     "name": "stdout",
     "output_type": "stream",
     "text": [
      "BMW 10 4\n",
      "BMW 10 4\n"
     ]
    }
   ],
   "source": [
    "class car:\n",
    "    \n",
    "#     if you define a variables outside \n",
    "#     the init and inside the class \n",
    "#     then it will become a static/class variabel\n",
    "    \n",
    "    wheels = 4\n",
    "    \n",
    "    def __init__(self):\n",
    "        \n",
    "        self.mil = 10        # these two variables are called instance variables\n",
    "        self.com = 'BMW'     # as the object changes these value will aslo change \n",
    "        \n",
    "        \n",
    "        \n",
    "c1 = car()\n",
    "c2 = car()\n",
    "\n",
    "print(c1.com, c1.mil, c1.wheels)     # we can use class name to access the wheels \n",
    "print(c2.com, c2.mil, c2.wheels)     # bcoz it is common to all the objects"
   ]
  },
  {
   "cell_type": "code",
   "execution_count": 30,
   "metadata": {},
   "outputs": [
    {
     "name": "stdout",
     "output_type": "stream",
     "text": [
      "BMW 10 8\n",
      "BMW 10 8\n"
     ]
    }
   ],
   "source": [
    "# it will effect all the objects bcoz its shared between all the objects\n",
    "\n",
    "car.wheels = 8\n",
    "\n",
    "print(c1.com, c1.mil, c1.wheels)\n",
    "print(c2.com, c2.mil, c2.wheels) \n",
    "\n"
   ]
  },
  {
   "cell_type": "markdown",
   "metadata": {},
   "source": [
    "# Types of methods \n",
    "\n",
    "- Instance Methods\n",
    "- Class Methods\n",
    "- Static Methods"
   ]
  },
  {
   "cell_type": "code",
   "execution_count": 35,
   "metadata": {},
   "outputs": [
    {
     "name": "stdout",
     "output_type": "stream",
     "text": [
      "53.0\n",
      "61.0\n"
     ]
    }
   ],
   "source": [
    "# Instance Methods\n",
    "\n",
    "\n",
    "class student:\n",
    "     \n",
    "    school = 'MU'   # static variables \n",
    "    \n",
    "    def __init__(self, m1, m2, m3):\n",
    "        self.m1 = m1\n",
    "        self.m2 = m2\n",
    "        self.m3 = m3\n",
    "        \n",
    "        \n",
    "        \n",
    "    def avg(self):    # instance methods (bcoz we are passing self which belongs to object)\n",
    "        return(self.m1 + self.m2 + self.m3)/3\n",
    "    \n",
    "    \n",
    "    \n",
    "s1 = student(63,43,53)\n",
    "s2 = student(34,56,93)\n",
    "\n",
    "print(s1.avg())\n",
    "print(s2.avg())"
   ]
  },
  {
   "cell_type": "code",
   "execution_count": 7,
   "metadata": {},
   "outputs": [],
   "source": [
    "# Class Methods \n",
    "\n",
    "class student:\n",
    "     \n",
    "    school = 'MU'   # static variables \n",
    "    \n",
    "    def __init__(self, m1, m2, m3):\n",
    "        self.m1 = m1\n",
    "        self.m2 = m2\n",
    "        self.m3 = m3\n",
    "        \n",
    "        \n",
    "    def avg(self):    # instance methods (bcoz we are passing self which belongs to object)\n",
    "        return(self.m1 + self.m2 + self.m3)/3\n",
    "    \n",
    "    \n",
    "    # if you are working with instance then you will use self keyword \n",
    "    # if you are working with class variables then you will use cla keyword\n",
    "    \n",
    "    @classmethod           # class methods (we have to use decoretors, try removing this)\n",
    "    def getSchool(cls):\n",
    "        return cls.school\n"
   ]
  },
  {
   "cell_type": "code",
   "execution_count": 10,
   "metadata": {},
   "outputs": [
    {
     "name": "stdout",
     "output_type": "stream",
     "text": [
      "53.0\n",
      "61.0\n",
      "\n",
      "MU\n",
      "MU\n"
     ]
    }
   ],
   "source": [
    "    \n",
    "s1 = student(63,43,53)\n",
    "s2 = student(34,56,93)\n",
    "\n",
    "print(s1.avg())\n",
    "print(s2.avg())\n",
    "\n",
    "print()\n",
    "\n",
    "print(s1.getSchool())\n",
    "print(student.getSchool())"
   ]
  },
  {
   "cell_type": "markdown",
   "metadata": {},
   "source": [
    "> use static method when we are not concern about instance variables and class variables "
   ]
  },
  {
   "cell_type": "code",
   "execution_count": 11,
   "metadata": {},
   "outputs": [],
   "source": [
    "# Static Methods \n",
    "\n",
    "class student:\n",
    "     \n",
    "    school = 'MU'   # static variables \n",
    "    \n",
    "    def __init__(self, m1, m2, m3):\n",
    "        self.m1 = m1\n",
    "        self.m2 = m2\n",
    "        self.m3 = m3\n",
    "        \n",
    "        \n",
    "    def avg(self):    # instance methods (bcoz we are passing self which belongs to object)\n",
    "        return(self.m1 + self.m2 + self.m3)/3\n",
    "    \n",
    "    \n",
    "    # if you are working with instance then you will use self keyword \n",
    "    # if you are working with class variables then you will use cla keyword\n",
    "    \n",
    "    @classmethod           # class methods (we have to use decoretors, try removing this)\n",
    "    def getSchool(cls):\n",
    "        return cls.school\n",
    "    \n",
    "    \n",
    "    @staticmethod         # Static methods (we have to use decoretors, try removing this)\n",
    "    def info():\n",
    "        print(\"This is student class..in abc module\")\n"
   ]
  },
  {
   "cell_type": "code",
   "execution_count": 12,
   "metadata": {},
   "outputs": [
    {
     "name": "stdout",
     "output_type": "stream",
     "text": [
      "53.0\n",
      "61.0\n",
      "\n",
      "MU\n",
      "MU\n",
      "This is student class..in abc module\n",
      "None\n"
     ]
    }
   ],
   "source": [
    "s1 = student(63,43,53)\n",
    "s2 = student(34,56,93)\n",
    "\n",
    "print(s1.avg())\n",
    "print(s2.avg())\n",
    "\n",
    "print()\n",
    "\n",
    "print(s1.getSchool())\n",
    "print(student.getSchool())\n",
    "print(student.info())"
   ]
  },
  {
   "cell_type": "markdown",
   "metadata": {},
   "source": [
    "# Inner class (class inside the class)\n"
   ]
  },
  {
   "cell_type": "code",
   "execution_count": 42,
   "metadata": {},
   "outputs": [],
   "source": [
    "class student:                           # outer class \n",
    "    \n",
    "    def __init__(self, name, rollno):\n",
    "        self.name = name \n",
    "        self.rollno = rollno\n",
    "        \n",
    "       # you can create the object of inner class inside the outer class or you can create the \n",
    "       # object of inner class outside the outer class provided you use outer class name to call it  \n",
    "        self.lap = self.Laptop()     # creating the object for inner class inside the outer class \n",
    "        \n",
    "    def show(self):\n",
    "        print(self.name, self.rollno)\n",
    "        self.lap.show()\n",
    "        \n",
    "        \n",
    "    class Laptop:                        # inner class \n",
    "        \n",
    "        def __init__(self):\n",
    "            self.brand = 'Lenovo'\n",
    "            self.cpu = 'i7'\n",
    "            self.ram = 8\n",
    "            \n",
    "        def show(self):\n",
    "            print(self.brand, self.cpu, self.ram)\n",
    "        "
   ]
  },
  {
   "cell_type": "code",
   "execution_count": 44,
   "metadata": {},
   "outputs": [
    {
     "name": "stdout",
     "output_type": "stream",
     "text": [
      "Dev 2\n",
      "Lenovo i7 8\n",
      "\n",
      "1874025740496\n",
      "1874025741896\n"
     ]
    }
   ],
   "source": [
    "s1 = student('Dev',2)\n",
    "s2 = student('nikita',3)\n",
    "\n",
    "s1.show()\n",
    "\n",
    "# tow diffrent objects \n",
    "lap1 = s1.lap\n",
    "lap2 = s2.lap\n",
    "\n",
    "print()\n",
    "\n",
    "print(id(lap1))\n",
    "print(id(lap2))\n",
    "\n",
    "# creating the object of inner class outside the outer class \n",
    "# lap1 = studetn.Laptop()  \n"
   ]
  },
  {
   "cell_type": "markdown",
   "metadata": {},
   "source": []
  },
  {
   "cell_type": "code",
   "execution_count": null,
   "metadata": {},
   "outputs": [],
   "source": []
  },
  {
   "cell_type": "markdown",
   "metadata": {},
   "source": [
    "# Inheritance "
   ]
  },
  {
   "cell_type": "markdown",
   "metadata": {},
   "source": [
    "> parent and child relationship \n",
    "\n",
    "- single level inheritance\n",
    "- multi level inheritance \n",
    "- multiple inheritance "
   ]
  },
  {
   "cell_type": "code",
   "execution_count": 13,
   "metadata": {},
   "outputs": [],
   "source": [
    "class A:    \n",
    "    \n",
    "    def feature1(self):\n",
    "        print(\"feature 1 working...\")\n",
    "        \n",
    "    def feature2(self):\n",
    "        print(\"feature 2 working...\")"
   ]
  },
  {
   "cell_type": "code",
   "execution_count": 14,
   "metadata": {},
   "outputs": [
    {
     "name": "stdout",
     "output_type": "stream",
     "text": [
      "feature 1 working...\n",
      "feature 2 working...\n"
     ]
    }
   ],
   "source": [
    "a1 = A()\n",
    "\n",
    "a1.feature1()\n",
    "a1.feature2()"
   ]
  },
  {
   "cell_type": "code",
   "execution_count": 16,
   "metadata": {},
   "outputs": [],
   "source": [
    "class B:            \n",
    "    \n",
    "    def feature3(self):\n",
    "        print(\"feature 3 working...\")\n",
    "        \n",
    "    def feature4(self):\n",
    "        print(\"feature 4 working...\")"
   ]
  },
  {
   "cell_type": "code",
   "execution_count": 18,
   "metadata": {},
   "outputs": [
    {
     "name": "stdout",
     "output_type": "stream",
     "text": [
      "feature 3 working...\n",
      "feature 4 working...\n"
     ]
    }
   ],
   "source": [
    "b1 = B()\n",
    "b1.feature3()\n",
    "b1.feature4()"
   ]
  },
  {
   "cell_type": "code",
   "execution_count": 19,
   "metadata": {},
   "outputs": [],
   "source": [
    "# single level inheritance\n",
    "\n",
    "class A:     # parent class\n",
    "    \n",
    "    def feature1(self):\n",
    "        print(\"feature 1 working...\")\n",
    "        \n",
    "    def feature2(self):\n",
    "        print(\"feature 2 working...\")\n",
    "        \n",
    "class B(A):            # child class\n",
    "    \n",
    "    def feature3(self):\n",
    "        print(\"feature 3 working...\")\n",
    "        \n",
    "    def feature4(self):\n",
    "        print(\"feature 4 working...\")"
   ]
  },
  {
   "cell_type": "code",
   "execution_count": 20,
   "metadata": {},
   "outputs": [],
   "source": [
    "b1 = B()"
   ]
  },
  {
   "cell_type": "code",
   "execution_count": 21,
   "metadata": {},
   "outputs": [
    {
     "name": "stdout",
     "output_type": "stream",
     "text": [
      "feature 1 working...\n",
      "feature 2 working...\n"
     ]
    }
   ],
   "source": [
    "b1.feature1()\n",
    "b1.feature2()"
   ]
  },
  {
   "cell_type": "code",
   "execution_count": 22,
   "metadata": {},
   "outputs": [],
   "source": [
    "# Multi level inheritance\n",
    "\n",
    "class A:     # parent class\n",
    "    \n",
    "    def feature1(self):\n",
    "        print(\"feature 1 working...\")\n",
    "        \n",
    "    def feature2(self):\n",
    "        print(\"feature 2 working...\")\n",
    "        \n",
    "class B(A):            # child class\n",
    "    \n",
    "    def feature3(self):\n",
    "        print(\"feature 3 working...\")\n",
    "        \n",
    "    def feature4(self):\n",
    "        print(\"feature 4 working...\")\n",
    "        \n",
    "class C(B): # grand child \n",
    "    \n",
    "    def feature5(self):\n",
    "        print(\"feature 5 working...\")"
   ]
  },
  {
   "cell_type": "code",
   "execution_count": 23,
   "metadata": {},
   "outputs": [],
   "source": [
    "c1 = C()"
   ]
  },
  {
   "cell_type": "code",
   "execution_count": 24,
   "metadata": {},
   "outputs": [
    {
     "name": "stdout",
     "output_type": "stream",
     "text": [
      "feature 1 working...\n"
     ]
    }
   ],
   "source": [
    "c1.feature1()"
   ]
  },
  {
   "cell_type": "code",
   "execution_count": 25,
   "metadata": {},
   "outputs": [],
   "source": [
    "# Multiple inheritance\n",
    "\n",
    "class A:     # 1st class \n",
    "    \n",
    "    def feature1(self):\n",
    "        print(\"feature 1 working...\")\n",
    "        \n",
    "    def feature2(self):\n",
    "        print(\"feature 2 working...\")\n",
    "        \n",
    "class B:            # 2nd class\n",
    "    \n",
    "    def feature3(self):\n",
    "        print(\"feature 3 working...\")\n",
    "        \n",
    "    def feature4(self):\n",
    "        print(\"feature 4 working...\")\n",
    "        \n",
    "class C(A, B):\n",
    "    \n",
    "    def feature5(self):\n",
    "        print(\"feature 5 working...\")"
   ]
  },
  {
   "cell_type": "code",
   "execution_count": 26,
   "metadata": {},
   "outputs": [],
   "source": [
    "C1 = C()"
   ]
  },
  {
   "cell_type": "code",
   "execution_count": 27,
   "metadata": {},
   "outputs": [
    {
     "name": "stdout",
     "output_type": "stream",
     "text": [
      "feature 2 working...\n"
     ]
    }
   ],
   "source": [
    "C1.feature2()"
   ]
  },
  {
   "cell_type": "markdown",
   "metadata": {},
   "source": [
    "# Constructor in Inheritance \n",
    "\n",
    "- how constructor behaves in inheritance \n",
    "- how to use super() in inheritance \n",
    "- Method resolution Order (MRO)"
   ]
  },
  {
   "cell_type": "code",
   "execution_count": 46,
   "metadata": {},
   "outputs": [
    {
     "name": "stdout",
     "output_type": "stream",
     "text": [
      "In A Init. \n"
     ]
    }
   ],
   "source": [
    "class A:                     # super class (super class can not access any features of sub class )\n",
    "    \n",
    "    def __init__(self):\n",
    "        print(\"In A Init. \")\n",
    "    \n",
    "    def feature1(self):\n",
    "        print(\"feature 1 working...\")\n",
    "        \n",
    "    def feature2(self):\n",
    "        print(\"feature 2 working...\")\n",
    "        \n",
    "class B(A):                 # sub class (sub class access all features of super class )\n",
    "    \n",
    "    def feature1(self):\n",
    "        print(\"feature 1 working...\")\n",
    "        \n",
    "    def feature4(self):\n",
    "        print(\"feature 4 working...\")\n",
    "        \n",
    "        \n",
    "a1 = B()     # we are calling B class but still its calling the constructor of A why ?\n",
    "        "
   ]
  },
  {
   "cell_type": "markdown",
   "metadata": {},
   "source": [
    "we are calling B class but still its calling the constructor of A why ? <BR>\n",
    "since we dont have init inside B that's why is going to A\n",
    "but what if you have init in B ?"
   ]
  },
  {
   "cell_type": "code",
   "execution_count": 47,
   "metadata": {},
   "outputs": [
    {
     "name": "stdout",
     "output_type": "stream",
     "text": [
      "In B Init. \n"
     ]
    }
   ],
   "source": [
    "class A:                     # super class (super class can not access any features of sub class )\n",
    "    \n",
    "    def __init__(self):\n",
    "        print(\"In A Init. \")\n",
    "    \n",
    "    def feature1(self):\n",
    "        print(\"feature 1 working...\")\n",
    "        \n",
    "    def feature2(self):\n",
    "        print(\"feature 2 working...\")\n",
    "        \n",
    "class B(A):                 # sub class (sub class access all features of super class )\n",
    "    \n",
    "    def __init__(self):\n",
    "        print(\"In B Init. \")\n",
    "        \n",
    "    def feature1(self):\n",
    "        print(\"feature 1 working...\")\n",
    "        \n",
    "    def feature4(self):\n",
    "        print(\"feature 4 working...\")\n",
    "        \n",
    "        \n",
    "a1 = B()     # we are calling B class and now it is calling constructor for B class \n",
    "        "
   ]
  },
  {
   "cell_type": "markdown",
   "metadata": {},
   "source": [
    "if you create object of sub class it will first try find init of sub class if it is not found then it will call init of super class"
   ]
  },
  {
   "cell_type": "markdown",
   "metadata": {},
   "source": [
    "but what if you also want to call the init of A (super class) ? <br>\n",
    "use super when we use super then we can access all the features of parent class "
   ]
  },
  {
   "cell_type": "code",
   "execution_count": 49,
   "metadata": {},
   "outputs": [
    {
     "name": "stdout",
     "output_type": "stream",
     "text": [
      "In A Init. \n",
      "In B Init. \n"
     ]
    }
   ],
   "source": [
    "class A:                     # super class \n",
    "    \n",
    "    def __init__(self):\n",
    "        print(\"In A Init. \")\n",
    "    \n",
    "    def feature1(self):\n",
    "        print(\"feature 1 working...\")\n",
    "        \n",
    "    def feature2(self):\n",
    "        print(\"feature 2 working...\")\n",
    "        \n",
    "class B(A):                 # sub class \n",
    "    \n",
    "    def __init__(self):\n",
    "        super().__init__()        # using super()\n",
    "        print(\"In B Init. \")\n",
    "        \n",
    "    def feature1(self):\n",
    "        print(\"feature 1 working...\")\n",
    "        \n",
    "    def feature4(self):\n",
    "        print(\"feature 4 working...\")\n",
    "        \n",
    "        \n",
    "a1 = B()     # we are calling B class and now it is calling constructor for A and B \n",
    "        "
   ]
  },
  {
   "cell_type": "markdown",
   "metadata": {},
   "source": [
    "### what if we are using multilevel inheritance ?"
   ]
  },
  {
   "cell_type": "code",
   "execution_count": 52,
   "metadata": {},
   "outputs": [
    {
     "name": "stdout",
     "output_type": "stream",
     "text": [
      "In A Init. \n",
      "In c Init. \n"
     ]
    }
   ],
   "source": [
    "class A:                    \n",
    "    \n",
    "    def __init__(self):\n",
    "        print(\"In A Init. \")\n",
    "    \n",
    "    def feature1(self):\n",
    "        print(\"feature 1-A working...\")\n",
    "        \n",
    "    def feature2(self):\n",
    "        print(\"feature 2 working...\")\n",
    "        \n",
    "class B:                \n",
    "    \n",
    "    def __init__(self):\n",
    "        print(\"In B Init. \")\n",
    "        \n",
    "    def feature1(self):\n",
    "        print(\"feature 1-B working...\")\n",
    "        \n",
    "    def feature4(self):\n",
    "        print(\"feature 4 working...\")\n",
    "        \n",
    "class C(A, B):                      # now c has two superclass\n",
    "    \n",
    "    def __init__(self):\n",
    "        super().__init__()     # which init it will call, for A or B ???\n",
    "        print(\"In c Init. \")\n",
    "    \n",
    "        \n",
    "        s\n",
    "a1 = C()     # we are calling C class and now it is calling constructor for A and C\n",
    "        "
   ]
  },
  {
   "cell_type": "markdown",
   "metadata": {},
   "source": [
    "we are baised towards A we are not taking B here so this concept called MRO (Method Resolution Order)"
   ]
  },
  {
   "cell_type": "markdown",
   "metadata": {},
   "source": [
    "whenever you have multiple inheritance it will always start from left to right\n",
    "so when we call the class then first it will try to find init of itself and excute the init and then if \n",
    "you have more than 1 classes so it will prefer Left side class (A) first, so its always from left to right and thats why we got A. Same thing can be done for method also."
   ]
  },
  {
   "cell_type": "code",
   "execution_count": 54,
   "metadata": {},
   "outputs": [
    {
     "name": "stdout",
     "output_type": "stream",
     "text": [
      "feature 1-A working...\n"
     ]
    }
   ],
   "source": [
    "a1.feature1()"
   ]
  },
  {
   "cell_type": "markdown",
   "metadata": {},
   "source": [
    "you can also use super to call other methods as well not just init"
   ]
  },
  {
   "cell_type": "code",
   "execution_count": null,
   "metadata": {},
   "outputs": [],
   "source": [
    "# "
   ]
  }
 ],
 "metadata": {
  "kernelspec": {
   "display_name": "Python 3",
   "language": "python",
   "name": "python3"
  },
  "language_info": {
   "codemirror_mode": {
    "name": "ipython",
    "version": 3
   },
   "file_extension": ".py",
   "mimetype": "text/x-python",
   "name": "python",
   "nbconvert_exporter": "python",
   "pygments_lexer": "ipython3",
   "version": "3.7.1"
  }
 },
 "nbformat": 4,
 "nbformat_minor": 2
}
