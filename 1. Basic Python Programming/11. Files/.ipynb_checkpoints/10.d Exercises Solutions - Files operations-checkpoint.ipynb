{
 "cells": [
  {
   "cell_type": "markdown",
   "metadata": {},
   "source": [
    "\n",
    "## <font color='red'> FILES OPERATIONS  </font> "
   ]
  },
  {
   "cell_type": "markdown",
   "metadata": {},
   "source": [
    "#  <font color='blue'>1. READ THE FILE 'FRUITS_INPUT.TXT' AND PRINT ITS CONTENT </font> "
   ]
  },
  {
   "cell_type": "code",
   "execution_count": 2,
   "metadata": {},
   "outputs": [],
   "source": [
    "with open(\"fruits_input.txt\", \"r\") as file:\n",
    "    fruits = file.readlines()"
   ]
  },
  {
   "cell_type": "code",
   "execution_count": 3,
   "metadata": {},
   "outputs": [
    {
     "name": "stdout",
     "output_type": "stream",
     "text": [
      "['Here is the list of fruits: \\n', '\\n', 'Start of List\\n', '\\n', 'Açaí\\n', 'Apple\\n', 'Akee\\n', 'Apricot\\n', 'Avocado\\n', 'Banana\\n', 'Bilberry\\n', 'Blackberry\\n', 'Blackcurrant\\n', 'Black sapote\\n', 'Blueberry\\n', 'Boysenberry\\n', \"Buddha's hand (fingered citron)\\n\", 'Crab apples\\n', 'Currant\\n', 'Cherry\\n', 'Cherimoya (Custard Apple)\\n', 'Chico fruit\\n', 'Cloudberry\\n', 'Coconut\\n', 'Cranberry\\n', 'Cucumber\\n', 'Damson\\n', '\\n', '\\n', 'Date\\n', 'Dragonfruit (or Pitaya)\\n', 'Durian\\n', 'Elderberry\\n', 'Feijoa\\n', 'Fig\\n', 'Goji berry\\n', 'Gooseberry\\n', 'Grape\\n', '\\n', '\\n', 'Raisin\\n', 'Grapefruit\\n', 'Guava\\n', 'Honeyberry\\n', 'Huckleberry\\n', 'Jabuticaba\\n', 'Jackfruit\\n', 'Jambul\\n', 'Japanese plum\\n', 'Jostaberry\\n', '\\n', '!\\n', '\\n', 'Jujube\\n', 'Juniper berry\\n', 'Kiwano (horned melon)\\n', 'Kiwifruit\\n', 'Kumquat\\n', '\\n', '%\\n', '\\n', 'Lemon\\n', 'Lime\\n', 'Loquat\\n', 'Longan\\n', 'Lychee\\n', 'Mango\\n', 'Mangosteen\\n', 'Marionberry\\n', 'Melon\\n', 'Cantaloupe\\n', 'Honeydew\\n', 'Watermelon\\n', 'Miracle fruit\\n', 'Mulberry\\n', 'Nectarine\\n', 'Nance\\n', 'Olive\\n', 'Orange\\n', 'Blood orange\\n', 'Clementine\\n', 'Mandarine\\n', 'Tangerine\\n', 'Papaya\\n', 'Passionfruit\\n', 'Peach\\n', 'Pear\\n', 'Persimmon\\n', 'Plantain\\n', 'Plum\\n', 'Prune (dried plum)\\n', 'Pineapple\\n', 'Pineberry\\n', 'Plumcot (or Pluot)\\n', 'Pomegranate\\n', 'Pomelo\\n', 'Purple mangosteen\\n', 'Quince\\n', 'Raspberry\\n', 'Salmonberry\\n', 'Rambutan (or Mamin Chino)\\n', 'Redcurrant\\n', 'Salal berry\\n', 'Salak\\n', 'Satsuma\\n', 'Soursop\\n', 'Star apple\\n', 'Star fruit\\n', 'Strawberry\\n', 'Surinam cherry\\n', 'Tamarillo\\n', 'Tamarind\\n', 'Ugli fruit\\n', 'White currant\\n', 'White sapote\\n', 'Yuzu\\n', '\\n']\n"
     ]
    }
   ],
   "source": [
    "print(fruits)"
   ]
  },
  {
   "cell_type": "markdown",
   "metadata": {},
   "source": [
    "#  <font color='blue'>2. READ THE FILE 'FRUITS_INPUT.TXT' AND REMOVE ALL THE NEW LINE SPACES AND SPECIAL CHARACHTERS AND THEN SAVE THE OUTPUT FILE 'FRUITS_OUTPUT.TXT' </font> "
   ]
  },
  {
   "cell_type": "code",
   "execution_count": 4,
   "metadata": {},
   "outputs": [],
   "source": [
    "with open(\"fruits_input.txt\", \"r\") as file:\n",
    "    fruits = file.readlines()"
   ]
  },
  {
   "cell_type": "code",
   "execution_count": 5,
   "metadata": {},
   "outputs": [
    {
     "data": {
      "text/plain": [
       "['Here is the list of fruits: \\n',\n",
       " '\\n',\n",
       " 'Start of List\\n',\n",
       " '\\n',\n",
       " 'Açaí\\n',\n",
       " 'Apple\\n',\n",
       " 'Akee\\n',\n",
       " 'Apricot\\n',\n",
       " 'Avocado\\n',\n",
       " 'Banana\\n',\n",
       " 'Bilberry\\n',\n",
       " 'Blackberry\\n',\n",
       " 'Blackcurrant\\n',\n",
       " 'Black sapote\\n',\n",
       " 'Blueberry\\n',\n",
       " 'Boysenberry\\n',\n",
       " \"Buddha's hand (fingered citron)\\n\",\n",
       " 'Crab apples\\n',\n",
       " 'Currant\\n',\n",
       " 'Cherry\\n',\n",
       " 'Cherimoya (Custard Apple)\\n',\n",
       " 'Chico fruit\\n',\n",
       " 'Cloudberry\\n',\n",
       " 'Coconut\\n',\n",
       " 'Cranberry\\n',\n",
       " 'Cucumber\\n',\n",
       " 'Damson\\n',\n",
       " '\\n',\n",
       " '\\n',\n",
       " 'Date\\n',\n",
       " 'Dragonfruit (or Pitaya)\\n',\n",
       " 'Durian\\n',\n",
       " 'Elderberry\\n',\n",
       " 'Feijoa\\n',\n",
       " 'Fig\\n',\n",
       " 'Goji berry\\n',\n",
       " 'Gooseberry\\n',\n",
       " 'Grape\\n',\n",
       " '\\n',\n",
       " '\\n',\n",
       " 'Raisin\\n',\n",
       " 'Grapefruit\\n',\n",
       " 'Guava\\n',\n",
       " 'Honeyberry\\n',\n",
       " 'Huckleberry\\n',\n",
       " 'Jabuticaba\\n',\n",
       " 'Jackfruit\\n',\n",
       " 'Jambul\\n',\n",
       " 'Japanese plum\\n',\n",
       " 'Jostaberry\\n',\n",
       " '\\n',\n",
       " '!\\n',\n",
       " '\\n',\n",
       " 'Jujube\\n',\n",
       " 'Juniper berry\\n',\n",
       " 'Kiwano (horned melon)\\n',\n",
       " 'Kiwifruit\\n',\n",
       " 'Kumquat\\n',\n",
       " '\\n',\n",
       " '%\\n',\n",
       " '\\n',\n",
       " 'Lemon\\n',\n",
       " 'Lime\\n',\n",
       " 'Loquat\\n',\n",
       " 'Longan\\n',\n",
       " 'Lychee\\n',\n",
       " 'Mango\\n',\n",
       " 'Mangosteen\\n',\n",
       " 'Marionberry\\n',\n",
       " 'Melon\\n',\n",
       " 'Cantaloupe\\n',\n",
       " 'Honeydew\\n',\n",
       " 'Watermelon\\n',\n",
       " 'Miracle fruit\\n',\n",
       " 'Mulberry\\n',\n",
       " 'Nectarine\\n',\n",
       " 'Nance\\n',\n",
       " 'Olive\\n',\n",
       " 'Orange\\n',\n",
       " 'Blood orange\\n',\n",
       " 'Clementine\\n',\n",
       " 'Mandarine\\n',\n",
       " 'Tangerine\\n',\n",
       " 'Papaya\\n',\n",
       " 'Passionfruit\\n',\n",
       " 'Peach\\n',\n",
       " 'Pear\\n',\n",
       " 'Persimmon\\n',\n",
       " 'Plantain\\n',\n",
       " 'Plum\\n',\n",
       " 'Prune (dried plum)\\n',\n",
       " 'Pineapple\\n',\n",
       " 'Pineberry\\n',\n",
       " 'Plumcot (or Pluot)\\n',\n",
       " 'Pomegranate\\n',\n",
       " 'Pomelo\\n',\n",
       " 'Purple mangosteen\\n',\n",
       " 'Quince\\n',\n",
       " 'Raspberry\\n',\n",
       " 'Salmonberry\\n',\n",
       " 'Rambutan (or Mamin Chino)\\n',\n",
       " 'Redcurrant\\n',\n",
       " 'Salal berry\\n',\n",
       " 'Salak\\n',\n",
       " 'Satsuma\\n',\n",
       " 'Soursop\\n',\n",
       " 'Star apple\\n',\n",
       " 'Star fruit\\n',\n",
       " 'Strawberry\\n',\n",
       " 'Surinam cherry\\n',\n",
       " 'Tamarillo\\n',\n",
       " 'Tamarind\\n',\n",
       " 'Ugli fruit\\n',\n",
       " 'White currant\\n',\n",
       " 'White sapote\\n',\n",
       " 'Yuzu\\n',\n",
       " '\\n']"
      ]
     },
     "execution_count": 5,
     "metadata": {},
     "output_type": "execute_result"
    }
   ],
   "source": [
    "fruits"
   ]
  },
  {
   "cell_type": "code",
   "execution_count": 6,
   "metadata": {},
   "outputs": [
    {
     "data": {
      "text/plain": [
       "['Here is the list of fruits: ',\n",
       " '',\n",
       " 'Start of List',\n",
       " '',\n",
       " 'Açaí',\n",
       " 'Apple',\n",
       " 'Akee',\n",
       " 'Apricot',\n",
       " 'Avocado',\n",
       " 'Banana',\n",
       " 'Bilberry',\n",
       " 'Blackberry',\n",
       " 'Blackcurrant',\n",
       " 'Black sapote',\n",
       " 'Blueberry',\n",
       " 'Boysenberry',\n",
       " \"Buddha's hand (fingered citron)\",\n",
       " 'Crab apples',\n",
       " 'Currant',\n",
       " 'Cherry',\n",
       " 'Cherimoya (Custard Apple)',\n",
       " 'Chico fruit',\n",
       " 'Cloudberry',\n",
       " 'Coconut',\n",
       " 'Cranberry',\n",
       " 'Cucumber',\n",
       " 'Damson',\n",
       " '',\n",
       " '',\n",
       " 'Date',\n",
       " 'Dragonfruit (or Pitaya)',\n",
       " 'Durian',\n",
       " 'Elderberry',\n",
       " 'Feijoa',\n",
       " 'Fig',\n",
       " 'Goji berry',\n",
       " 'Gooseberry',\n",
       " 'Grape',\n",
       " '',\n",
       " '',\n",
       " 'Raisin',\n",
       " 'Grapefruit',\n",
       " 'Guava',\n",
       " 'Honeyberry',\n",
       " 'Huckleberry',\n",
       " 'Jabuticaba',\n",
       " 'Jackfruit',\n",
       " 'Jambul',\n",
       " 'Japanese plum',\n",
       " 'Jostaberry',\n",
       " '',\n",
       " '!',\n",
       " '',\n",
       " 'Jujube',\n",
       " 'Juniper berry',\n",
       " 'Kiwano (horned melon)',\n",
       " 'Kiwifruit',\n",
       " 'Kumquat',\n",
       " '',\n",
       " '%',\n",
       " '',\n",
       " 'Lemon',\n",
       " 'Lime',\n",
       " 'Loquat',\n",
       " 'Longan',\n",
       " 'Lychee',\n",
       " 'Mango',\n",
       " 'Mangosteen',\n",
       " 'Marionberry',\n",
       " 'Melon',\n",
       " 'Cantaloupe',\n",
       " 'Honeydew',\n",
       " 'Watermelon',\n",
       " 'Miracle fruit',\n",
       " 'Mulberry',\n",
       " 'Nectarine',\n",
       " 'Nance',\n",
       " 'Olive',\n",
       " 'Orange',\n",
       " 'Blood orange',\n",
       " 'Clementine',\n",
       " 'Mandarine',\n",
       " 'Tangerine',\n",
       " 'Papaya',\n",
       " 'Passionfruit',\n",
       " 'Peach',\n",
       " 'Pear',\n",
       " 'Persimmon',\n",
       " 'Plantain',\n",
       " 'Plum',\n",
       " 'Prune (dried plum)',\n",
       " 'Pineapple',\n",
       " 'Pineberry',\n",
       " 'Plumcot (or Pluot)',\n",
       " 'Pomegranate',\n",
       " 'Pomelo',\n",
       " 'Purple mangosteen',\n",
       " 'Quince',\n",
       " 'Raspberry',\n",
       " 'Salmonberry',\n",
       " 'Rambutan (or Mamin Chino)',\n",
       " 'Redcurrant',\n",
       " 'Salal berry',\n",
       " 'Salak',\n",
       " 'Satsuma',\n",
       " 'Soursop',\n",
       " 'Star apple',\n",
       " 'Star fruit',\n",
       " 'Strawberry',\n",
       " 'Surinam cherry',\n",
       " 'Tamarillo',\n",
       " 'Tamarind',\n",
       " 'Ugli fruit',\n",
       " 'White currant',\n",
       " 'White sapote',\n",
       " 'Yuzu',\n",
       " '']"
      ]
     },
     "execution_count": 6,
     "metadata": {},
     "output_type": "execute_result"
    }
   ],
   "source": [
    "fruits = [char.strip(\"\\n\") for char in fruits if \"\\n\" in char]\n",
    "fruits"
   ]
  },
  {
   "cell_type": "code",
   "execution_count": 7,
   "metadata": {},
   "outputs": [],
   "source": [
    "\n",
    "fruits = [char for char in fruits if char !=\"\"]\n",
    "fruits = [char for char in fruits if len(char) != 1]\n"
   ]
  },
  {
   "cell_type": "code",
   "execution_count": 8,
   "metadata": {},
   "outputs": [
    {
     "data": {
      "text/plain": [
       "['Here is the list of fruits: ',\n",
       " 'Start of List',\n",
       " 'Açaí',\n",
       " 'Apple',\n",
       " 'Akee',\n",
       " 'Apricot',\n",
       " 'Avocado',\n",
       " 'Banana',\n",
       " 'Bilberry',\n",
       " 'Blackberry',\n",
       " 'Blackcurrant',\n",
       " 'Black sapote',\n",
       " 'Blueberry',\n",
       " 'Boysenberry',\n",
       " \"Buddha's hand (fingered citron)\",\n",
       " 'Crab apples',\n",
       " 'Currant',\n",
       " 'Cherry',\n",
       " 'Cherimoya (Custard Apple)',\n",
       " 'Chico fruit',\n",
       " 'Cloudberry',\n",
       " 'Coconut',\n",
       " 'Cranberry',\n",
       " 'Cucumber',\n",
       " 'Damson',\n",
       " 'Date',\n",
       " 'Dragonfruit (or Pitaya)',\n",
       " 'Durian',\n",
       " 'Elderberry',\n",
       " 'Feijoa',\n",
       " 'Fig',\n",
       " 'Goji berry',\n",
       " 'Gooseberry',\n",
       " 'Grape',\n",
       " 'Raisin',\n",
       " 'Grapefruit',\n",
       " 'Guava',\n",
       " 'Honeyberry',\n",
       " 'Huckleberry',\n",
       " 'Jabuticaba',\n",
       " 'Jackfruit',\n",
       " 'Jambul',\n",
       " 'Japanese plum',\n",
       " 'Jostaberry',\n",
       " 'Jujube',\n",
       " 'Juniper berry',\n",
       " 'Kiwano (horned melon)',\n",
       " 'Kiwifruit',\n",
       " 'Kumquat',\n",
       " 'Lemon',\n",
       " 'Lime',\n",
       " 'Loquat',\n",
       " 'Longan',\n",
       " 'Lychee',\n",
       " 'Mango',\n",
       " 'Mangosteen',\n",
       " 'Marionberry',\n",
       " 'Melon',\n",
       " 'Cantaloupe',\n",
       " 'Honeydew',\n",
       " 'Watermelon',\n",
       " 'Miracle fruit',\n",
       " 'Mulberry',\n",
       " 'Nectarine',\n",
       " 'Nance',\n",
       " 'Olive',\n",
       " 'Orange',\n",
       " 'Blood orange',\n",
       " 'Clementine',\n",
       " 'Mandarine',\n",
       " 'Tangerine',\n",
       " 'Papaya',\n",
       " 'Passionfruit',\n",
       " 'Peach',\n",
       " 'Pear',\n",
       " 'Persimmon',\n",
       " 'Plantain',\n",
       " 'Plum',\n",
       " 'Prune (dried plum)',\n",
       " 'Pineapple',\n",
       " 'Pineberry',\n",
       " 'Plumcot (or Pluot)',\n",
       " 'Pomegranate',\n",
       " 'Pomelo',\n",
       " 'Purple mangosteen',\n",
       " 'Quince',\n",
       " 'Raspberry',\n",
       " 'Salmonberry',\n",
       " 'Rambutan (or Mamin Chino)',\n",
       " 'Redcurrant',\n",
       " 'Salal berry',\n",
       " 'Salak',\n",
       " 'Satsuma',\n",
       " 'Soursop',\n",
       " 'Star apple',\n",
       " 'Star fruit',\n",
       " 'Strawberry',\n",
       " 'Surinam cherry',\n",
       " 'Tamarillo',\n",
       " 'Tamarind',\n",
       " 'Ugli fruit',\n",
       " 'White currant',\n",
       " 'White sapote',\n",
       " 'Yuzu']"
      ]
     },
     "execution_count": 8,
     "metadata": {},
     "output_type": "execute_result"
    }
   ],
   "source": [
    "fruits"
   ]
  },
  {
   "cell_type": "code",
   "execution_count": 9,
   "metadata": {},
   "outputs": [],
   "source": [
    "with open(\"fruits_out.txt\", \"w\") as file:\n",
    "    for char in fruits:\n",
    "        file.write(char+\"\\n\")"
   ]
  },
  {
   "cell_type": "markdown",
   "metadata": {},
   "source": [
    "#  <font color='blue'>3. READ THE FILE 'FRUITS_INPUT.TXT', REMOVE ALL THE NEW LINE SPACES AND SPECIAL CHARACHTERS, THEN REMOVE ANY LINES THAT DOES NOT REPRESENT A FRUIT, THEN SAVE THE OUTPUT FILE 'FRUITS_OUTPUT.TXT' </font> "
   ]
  },
  {
   "cell_type": "code",
   "execution_count": 10,
   "metadata": {},
   "outputs": [],
   "source": [
    "with open(\"fruits_input.txt\", \"r\") as file:\n",
    "    fruits = file.readlines()\n",
    "fruits = [word.strip(\"\\n\") for word in fruits if \"\\n\" in word]\n",
    "fruits = [word for word in fruits if word !=\"\"]\n",
    "fruits = [word for word in fruits if len(word) != 1]\n",
    "fruits = [word for word in fruits if word !=\"End of List\"]\n",
    "fruits = [word for word in fruits if word !=\"Start of List\"]\n",
    "fruits = [word for word in fruits if word !=\"Here is the list of fruits: \"]\n",
    "\n",
    "with open(\"fruits_out.txt\", \"w\") as file:\n",
    "    for char in fruits:\n",
    "        file.write(char+\"\\n\")\n"
   ]
  },
  {
   "cell_type": "code",
   "execution_count": 11,
   "metadata": {},
   "outputs": [
    {
     "data": {
      "text/plain": [
       "['Açaí',\n",
       " 'Apple',\n",
       " 'Akee',\n",
       " 'Apricot',\n",
       " 'Avocado',\n",
       " 'Banana',\n",
       " 'Bilberry',\n",
       " 'Blackberry',\n",
       " 'Blackcurrant',\n",
       " 'Black sapote',\n",
       " 'Blueberry',\n",
       " 'Boysenberry',\n",
       " \"Buddha's hand (fingered citron)\",\n",
       " 'Crab apples',\n",
       " 'Currant',\n",
       " 'Cherry',\n",
       " 'Cherimoya (Custard Apple)',\n",
       " 'Chico fruit',\n",
       " 'Cloudberry',\n",
       " 'Coconut',\n",
       " 'Cranberry',\n",
       " 'Cucumber',\n",
       " 'Damson',\n",
       " 'Date',\n",
       " 'Dragonfruit (or Pitaya)',\n",
       " 'Durian',\n",
       " 'Elderberry',\n",
       " 'Feijoa',\n",
       " 'Fig',\n",
       " 'Goji berry',\n",
       " 'Gooseberry',\n",
       " 'Grape',\n",
       " 'Raisin',\n",
       " 'Grapefruit',\n",
       " 'Guava',\n",
       " 'Honeyberry',\n",
       " 'Huckleberry',\n",
       " 'Jabuticaba',\n",
       " 'Jackfruit',\n",
       " 'Jambul',\n",
       " 'Japanese plum',\n",
       " 'Jostaberry',\n",
       " 'Jujube',\n",
       " 'Juniper berry',\n",
       " 'Kiwano (horned melon)',\n",
       " 'Kiwifruit',\n",
       " 'Kumquat',\n",
       " 'Lemon',\n",
       " 'Lime',\n",
       " 'Loquat',\n",
       " 'Longan',\n",
       " 'Lychee',\n",
       " 'Mango',\n",
       " 'Mangosteen',\n",
       " 'Marionberry',\n",
       " 'Melon',\n",
       " 'Cantaloupe',\n",
       " 'Honeydew',\n",
       " 'Watermelon',\n",
       " 'Miracle fruit',\n",
       " 'Mulberry',\n",
       " 'Nectarine',\n",
       " 'Nance',\n",
       " 'Olive',\n",
       " 'Orange',\n",
       " 'Blood orange',\n",
       " 'Clementine',\n",
       " 'Mandarine',\n",
       " 'Tangerine',\n",
       " 'Papaya',\n",
       " 'Passionfruit',\n",
       " 'Peach',\n",
       " 'Pear',\n",
       " 'Persimmon',\n",
       " 'Plantain',\n",
       " 'Plum',\n",
       " 'Prune (dried plum)',\n",
       " 'Pineapple',\n",
       " 'Pineberry',\n",
       " 'Plumcot (or Pluot)',\n",
       " 'Pomegranate',\n",
       " 'Pomelo',\n",
       " 'Purple mangosteen',\n",
       " 'Quince',\n",
       " 'Raspberry',\n",
       " 'Salmonberry',\n",
       " 'Rambutan (or Mamin Chino)',\n",
       " 'Redcurrant',\n",
       " 'Salal berry',\n",
       " 'Salak',\n",
       " 'Satsuma',\n",
       " 'Soursop',\n",
       " 'Star apple',\n",
       " 'Star fruit',\n",
       " 'Strawberry',\n",
       " 'Surinam cherry',\n",
       " 'Tamarillo',\n",
       " 'Tamarind',\n",
       " 'Ugli fruit',\n",
       " 'White currant',\n",
       " 'White sapote',\n",
       " 'Yuzu']"
      ]
     },
     "execution_count": 11,
     "metadata": {},
     "output_type": "execute_result"
    }
   ],
   "source": [
    "fruits"
   ]
  },
  {
   "cell_type": "markdown",
   "metadata": {},
   "source": [
    "#  <font color='blue'>4. READ THE FILE 'FRUITS_INPUT.TXT' AND COMPARE IT TO THE LIST OF FRUITS IN MY_FRUITS, RETURN ONLY MATCHING ELEMNTS </font> "
   ]
  },
  {
   "cell_type": "code",
   "execution_count": 13,
   "metadata": {},
   "outputs": [
    {
     "name": "stdout",
     "output_type": "stream",
     "text": [
      "['Apple', 'Watermelon', 'Orange']\n"
     ]
    }
   ],
   "source": [
    "my_fruits = [\"Apple\", \"Pepper\", \"Orange\", \"Watermelon\", \"Tomatoes\"]\n",
    "\n",
    "with open(\"fruits_input.txt\", \"r\") as file:\n",
    "    all_fruits = file.readlines()\n",
    "\n",
    "all_fruits = [char.rstrip('\\n') for char in all_fruits]\n",
    "Selected_fruits = [i for i in all_fruits if i in my_fruits]\n",
    "\n",
    "print(Selected_fruits)\n"
   ]
  },
  {
   "cell_type": "markdown",
   "metadata": {},
   "source": [
    "#  <font color='blue'> 5. WRITE A CODE THAT TAKES AN INPUT FROM A USER AND STORE THIS IN A NEW TEXT FILE SEPARATED BY NEW LINES"
   ]
  },
  {
   "cell_type": "code",
   "execution_count": null,
   "metadata": {},
   "outputs": [],
   "source": [
    "sentence = input(\"Enter 5 names of your favourite friends separated by comma: \")\n",
    "\n",
    "sentence_list = sentence.split(\",\")\n"
   ]
  },
  {
   "cell_type": "code",
   "execution_count": null,
   "metadata": {},
   "outputs": [],
   "source": [
    "sentence_list"
   ]
  },
  {
   "cell_type": "code",
   "execution_count": null,
   "metadata": {},
   "outputs": [],
   "source": [
    "\n",
    "with open(\"names_out_file.txt\", \"a\") as file:\n",
    "    for word in sentence_list:\n",
    "        file.write(word + \"\\n\")"
   ]
  },
  {
   "cell_type": "code",
   "execution_count": null,
   "metadata": {},
   "outputs": [],
   "source": []
  },
  {
   "cell_type": "markdown",
   "metadata": {},
   "source": [
    "# <font color='blue'> 6. READ THE CSV FILE \"S&P500_Stock_Data.csv\" AND PRINT OUT THE (1) HEADING, (2) FIRST 5 ROWS OF DATA "
   ]
  },
  {
   "cell_type": "code",
   "execution_count": null,
   "metadata": {},
   "outputs": [],
   "source": [
    "import csv\n",
    "with open(\"S&P500_Stock_Data.csv\", \"r\") as csvfile:\n",
    "    readCSV = csv.reader(csvfile, delimiter=',')\n",
    "    stock = list(readCSV)\n",
    "    "
   ]
  },
  {
   "cell_type": "code",
   "execution_count": null,
   "metadata": {},
   "outputs": [],
   "source": [
    "print(stock)"
   ]
  },
  {
   "cell_type": "code",
   "execution_count": null,
   "metadata": {},
   "outputs": [],
   "source": [
    "print(stock[0])"
   ]
  },
  {
   "cell_type": "code",
   "execution_count": null,
   "metadata": {},
   "outputs": [],
   "source": [
    "selected = []\n",
    "for row in stock[1:6]:\n",
    "    selected.append(row)"
   ]
  },
  {
   "cell_type": "code",
   "execution_count": null,
   "metadata": {},
   "outputs": [],
   "source": [
    "selected"
   ]
  },
  {
   "cell_type": "markdown",
   "metadata": {},
   "source": [
    "# <font color='blue'> 7. WRITE A CODE THAT TAKES SEVERAL INPUTS FROM A USER AS LONG AS THE USER DOES NOT ENTER \"STOP\". THE DATA IS THEN SAVED TO AN OUTPUT FILE"
   ]
  },
  {
   "cell_type": "code",
   "execution_count": 14,
   "metadata": {},
   "outputs": [
    {
     "name": "stdout",
     "output_type": "stream",
     "text": [
      "Enter something: dfg\n",
      "Enter something: dfg\n",
      "Enter something: dfg\n",
      "Enter something: dfg\n",
      "Enter something: stop\n",
      "Enter something: STOP\n"
     ]
    }
   ],
   "source": [
    "file = open(\"Output_User_Data.txt\", 'a')\n",
    "\n",
    "while True:\n",
    "    sentence = input(\"Enter something: \")\n",
    "    if sentence == \"STOP\":\n",
    "        file.close()\n",
    "        break\n",
    "    else:\n",
    "        file.write(sentence + \"\\n\")\n"
   ]
  },
  {
   "cell_type": "code",
   "execution_count": null,
   "metadata": {},
   "outputs": [],
   "source": []
  },
  {
   "cell_type": "code",
   "execution_count": 2,
   "metadata": {},
   "outputs": [],
   "source": []
  },
  {
   "cell_type": "code",
   "execution_count": null,
   "metadata": {},
   "outputs": [],
   "source": []
  },
  {
   "cell_type": "markdown",
   "metadata": {},
   "source": [
    "# <font color='blue'> 8. WRITE A CODE THAT SEARCHES FOR ALL TEXT FILES ON YOUR COMPUTER AND PRINT OUT ALL FILES AND THEIR PATH\n"
   ]
  },
  {
   "cell_type": "markdown",
   "metadata": {},
   "source": [
    "Os.walk generates the file names in a directory tree by walking the tree either top-down or bottom-up.\n",
    "For each directory in the tree rooted at directory top, it yields a 3-tuple (dirpath, dirnames, filenames)\n",
    "                 \n",
    "- dirpath: is a string, the path to the directory\n",
    "- dirnames: is a list of the names of the subdirectories in dirpath\n",
    "- filenames: is a list of the names of the non-directory files in dirpath\n",
    "\n",
    "\n",
    "The fnmatch module compares file names against glob-style patterns.\n",
    "\n",
    "- fnmatch() compares a single file name against a pattern and returns a boolean indicating whether or not they match. "
   ]
  },
  {
   "cell_type": "code",
   "execution_count": 15,
   "metadata": {},
   "outputs": [],
   "source": [
    "import fnmatch\n",
    "import os\n",
    "    \n",
    "path = os.getcwd()\n",
    "# path = r'C:\\Users\\devdatta\\Desktop'       \n",
    "    \n",
    "for root, directories, files in os.walk(path):\n",
    "    for filename in fnmatch.filter(files, '*.txt'):\n",
    "        print( os.path.join(root, filename))"
   ]
  },
  {
   "cell_type": "markdown",
   "metadata": {},
   "source": [
    "\n",
    "# <font color='blue'> 9. WRITE A CODE THAT WILL SEARCH FOR IMAGES ON YOUR COMPUTER AND RETURNS A LIST OF ALL IMAGES (EXERNAL RESEARCH OS.WALK)\n",
    "     Search for these image extensions = ['*.jpg', '*.jpeg', '*.png']\n"
   ]
  },
  {
   "cell_type": "code",
   "execution_count": null,
   "metadata": {},
   "outputs": [],
   "source": [
    "import fnmatch\n",
    "import os\n",
    "\n",
    "found_images = []\n",
    "\n",
    "path = r'C:\\Users\\devdatta\\desktop'   \n",
    "\n",
    "img_extensions = ['*.jpg', '*.jpeg', '*.png']\n",
    "\n",
    "for root, directories, files in os.walk(path):\n",
    "    for i in img_extensions:\n",
    "        for filename in fnmatch.filter(files, i):\n",
    "            print(os.path.join(root, filename))\n"
   ]
  }
 ],
 "metadata": {
  "kernelspec": {
   "display_name": "Python 3",
   "language": "python",
   "name": "python3"
  },
  "language_info": {
   "codemirror_mode": {
    "name": "ipython",
    "version": 3
   },
   "file_extension": ".py",
   "mimetype": "text/x-python",
   "name": "python",
   "nbconvert_exporter": "python",
   "pygments_lexer": "ipython3",
   "version": "3.7.1"
  }
 },
 "nbformat": 4,
 "nbformat_minor": 2
}
