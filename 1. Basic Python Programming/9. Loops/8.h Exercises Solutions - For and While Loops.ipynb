{
 "cells": [
  {
   "cell_type": "markdown",
   "metadata": {},
   "source": [
    "# <font color='red'> *INTERMEDIATE LEVEL* </font> \n",
    "## <font color='red'> FOR AND WHILE LOOPS </font> "
   ]
  },
  {
   "cell_type": "markdown",
   "metadata": {},
   "source": [
    "# <font color='blue'> 1. WHAT WILL THIS CODE GENERATE?"
   ]
  },
  {
   "cell_type": "code",
   "execution_count": 1,
   "metadata": {},
   "outputs": [
    {
     "name": "stdout",
     "output_type": "stream",
     "text": [
      "iphone\n",
      "blackberry\n",
      "google\n"
     ]
    }
   ],
   "source": [
    "my_phones = [\"iphone\", \"blackberry\", \"samsung\", \"google\"]\n",
    "\n",
    "i = 0\n",
    "while i < len(my_phones):\n",
    "    phone = my_phones[i]\n",
    "    i += 1\n",
    "\n",
    "    if phone == \"samsung\":\n",
    "        continue\n",
    "\n",
    "    print(phone)"
   ]
  },
  {
   "cell_type": "code",
   "execution_count": null,
   "metadata": {},
   "outputs": [],
   "source": []
  },
  {
   "cell_type": "code",
   "execution_count": null,
   "metadata": {},
   "outputs": [],
   "source": []
  },
  {
   "cell_type": "code",
   "execution_count": null,
   "metadata": {},
   "outputs": [],
   "source": []
  },
  {
   "cell_type": "markdown",
   "metadata": {},
   "source": [
    "# <font color='blue'> 2. WRITE A CODE THAT DISPLAYS ALL NUMBERS FROM 1 TO 20 USING WHILE AND FOR LOOPS"
   ]
  },
  {
   "cell_type": "code",
   "execution_count": null,
   "metadata": {},
   "outputs": [],
   "source": []
  },
  {
   "cell_type": "code",
   "execution_count": null,
   "metadata": {},
   "outputs": [],
   "source": []
  },
  {
   "cell_type": "code",
   "execution_count": null,
   "metadata": {},
   "outputs": [],
   "source": [
    "i = 1\n",
    "while (i <= 20):\n",
    "    print (i)\n",
    "    i = i+1"
   ]
  },
  {
   "cell_type": "code",
   "execution_count": null,
   "metadata": {},
   "outputs": [],
   "source": [
    "for i in range(1,20):\n",
    "    print(i)"
   ]
  },
  {
   "cell_type": "markdown",
   "metadata": {},
   "source": [
    "# <font color='blue'> 3. WRITE A CODE THAT GENERATES THE FOLLOWING TABLE\n",
    "- 1   1    1\n",
    "- 2   4    8\n",
    "- 3   9   27\n",
    "- 4  16   64\n",
    "- 5  25  125\n",
    "- 6  36  216\n",
    "- 7  49  343\n",
    "- 8  64  512\n",
    "- 9  81  729\n",
    "- 10 100 1000"
   ]
  },
  {
   "cell_type": "code",
   "execution_count": null,
   "metadata": {},
   "outputs": [],
   "source": []
  },
  {
   "cell_type": "code",
   "execution_count": null,
   "metadata": {},
   "outputs": [],
   "source": [
    "for x in range(1, 11):\n",
    "    print('{} {} {}'.format(x, x*x, x*x*x))\n"
   ]
  },
  {
   "cell_type": "markdown",
   "metadata": {},
   "source": [
    "# <font color='blue'> 4. CREATE A ROLLING DICE GAME, THE GAME SHOULD ASSUME TWO DICE (#1, and #2) ARE BEING THROWN AND A RANDOM NUMBER IS GENERATED EVERYTIME. THE GAME SHOULD PROMPT THE USER TO ASK IF HE/SHE WOULD LIKE TO KEEP PLAYING OR NOT </font> \n"
   ]
  },
  {
   "cell_type": "code",
   "execution_count": 8,
   "metadata": {},
   "outputs": [],
   "source": [
    "import random"
   ]
  },
  {
   "cell_type": "code",
   "execution_count": 31,
   "metadata": {},
   "outputs": [
    {
     "data": {
      "text/plain": [
       "3"
      ]
     },
     "execution_count": 31,
     "metadata": {},
     "output_type": "execute_result"
    }
   ],
   "source": [
    "random.randint(1, 6)"
   ]
  },
  {
   "cell_type": "code",
   "execution_count": 1,
   "metadata": {},
   "outputs": [
    {
     "name": "stdout",
     "output_type": "stream",
     "text": [
      "Rolling the dices, please wait!...\n",
      "Rolling results for Dice #1: 1\n",
      "Rolling results for Dice #2: 5\n",
      "Do you want to roll again?y\n",
      "Rolling the dices, please wait!...\n",
      "Rolling results for Dice #1: 3\n",
      "Rolling results for Dice #2: 5\n",
      "Do you want to roll again?y\n",
      "Rolling the dices, please wait!...\n",
      "Rolling results for Dice #1: 1\n",
      "Rolling results for Dice #2: 4\n",
      "Do you want to roll again?mnbm\n"
     ]
    }
   ],
   "source": [
    "import random\n",
    "\n",
    "keep_rolling = \"y\"\n",
    "\n",
    "while keep_rolling == \"y\":\n",
    "    print(\"Rolling the dices, please wait!...\")\n",
    "    print(\"Rolling results for Dice #1:\", random.randint(1, 6))\n",
    "    print(\"Rolling results for Dice #2:\", random.randint(1, 6))\n",
    "\n",
    "    keep_rolling = input(\"Do you want to roll again?\")"
   ]
  },
  {
   "cell_type": "markdown",
   "metadata": {},
   "source": [
    "# <font color='blue'> 5. DEVELOP A CODE THAT PRINT OUT THE MULTIPLICATION TABLE. THE CODE SHOULD PROMPT THE USER TO ENTER THE MAXIMUM NUMBER TO BE PRINTED (FROM 1 TO 9) "
   ]
  },
  {
   "cell_type": "code",
   "execution_count": null,
   "metadata": {},
   "outputs": [],
   "source": []
  },
  {
   "cell_type": "code",
   "execution_count": 34,
   "metadata": {},
   "outputs": [
    {
     "name": "stdout",
     "output_type": "stream",
     "text": [
      "Enter a number between 1 and 9: 5\n",
      "5 x 1 = 5\n",
      "5 x 2 = 10\n",
      "5 x 3 = 15\n",
      "5 x 4 = 20\n",
      "5 x 5 = 25\n",
      "5 x 6 = 30\n",
      "5 x 7 = 35\n",
      "5 x 8 = 40\n",
      "5 x 9 = 45\n",
      "5 x 10 = 50\n"
     ]
    }
   ],
   "source": [
    "number = int(input(\"Enter a number between 1 and 9: \"))\n",
    "\n",
    "for i in range(1, 11):\n",
    "    \n",
    "    print(number, 'x', i, '=', number * i)"
   ]
  },
  {
   "cell_type": "markdown",
   "metadata": {},
   "source": [
    "#  <font color='blue'> 6. WRITE A CODE THAT TAKES MAXIMUM AND MIMUMUM LIMITS FROM A USER AND PRINT OUT THE EVEN NUMBERS ONLY BETWEEN THE PROVIDED RANGE"
   ]
  },
  {
   "cell_type": "code",
   "execution_count": 35,
   "metadata": {},
   "outputs": [
    {
     "name": "stdout",
     "output_type": "stream",
     "text": [
      "Enter a number (lower bound: 1\n",
      "Enter a number (Upper bound: 10\n",
      "2\n",
      "4\n",
      "6\n",
      "8\n"
     ]
    }
   ],
   "source": [
    "min1 = int(input(\"Enter a number (lower bound: \"))\n",
    "max1 = int(input(\"Enter a number (Upper bound: \"))\n",
    "\n",
    "for i in range(min1, max1):\n",
    "    if i%2 == 0: \n",
    "        print(i)"
   ]
  },
  {
   "cell_type": "markdown",
   "metadata": {},
   "source": [
    "# <font color='blue'> 7. WHAT DOES THIS CODE GENERATE?"
   ]
  },
  {
   "cell_type": "code",
   "execution_count": 36,
   "metadata": {},
   "outputs": [
    {
     "name": "stdout",
     "output_type": "stream",
     "text": [
      "H\n",
      "e\n",
      "l\n",
      "l\n",
      " \n",
      "w\n",
      "r\n",
      "l\n",
      "d\n"
     ]
    }
   ],
   "source": [
    "for letter in 'Hello world':\n",
    "    if letter == 'o':\n",
    "        continue\n",
    "    print (letter)"
   ]
  },
  {
   "cell_type": "markdown",
   "metadata": {},
   "source": [
    "#  <font color='blue'> 8. WRITE A CODE THAT TAKES A LIST OF TEMPERATURES FROM A USER AND CONVERT THEM FROM CELCIUS TO FEHRENHEIT"
   ]
  },
  {
   "cell_type": "code",
   "execution_count": 38,
   "metadata": {},
   "outputs": [
    {
     "name": "stdout",
     "output_type": "stream",
     "text": [
      "Enter Tempreture: 44 55 87 65\n"
     ]
    }
   ],
   "source": [
    "l_temp = input(\"Enter Tempreture: \")\n",
    "l_temp = l_temp.split()"
   ]
  },
  {
   "cell_type": "code",
   "execution_count": 43,
   "metadata": {},
   "outputs": [],
   "source": [
    "l_temp = [   int(i)           for i in l_temp]"
   ]
  },
  {
   "cell_type": "code",
   "execution_count": 44,
   "metadata": {},
   "outputs": [
    {
     "data": {
      "text/plain": [
       "[44, 55, 87, 65]"
      ]
     },
     "execution_count": 44,
     "metadata": {},
     "output_type": "execute_result"
    }
   ],
   "source": [
    "l_temp"
   ]
  },
  {
   "cell_type": "code",
   "execution_count": 41,
   "metadata": {},
   "outputs": [],
   "source": [
    "ans = [   ((float(9)/5)*int(i) + 32)    for i in l_temp                  ]"
   ]
  },
  {
   "cell_type": "code",
   "execution_count": 42,
   "metadata": {},
   "outputs": [
    {
     "data": {
      "text/plain": [
       "[111.2, 131.0, 188.6, 149.0]"
      ]
     },
     "execution_count": 42,
     "metadata": {},
     "output_type": "execute_result"
    }
   ],
   "source": [
    "ans"
   ]
  },
  {
   "cell_type": "code",
   "execution_count": null,
   "metadata": {},
   "outputs": [],
   "source": []
  },
  {
   "cell_type": "code",
   "execution_count": null,
   "metadata": {},
   "outputs": [],
   "source": []
  },
  {
   "cell_type": "code",
   "execution_count": null,
   "metadata": {},
   "outputs": [],
   "source": []
  },
  {
   "cell_type": "code",
   "execution_count": null,
   "metadata": {},
   "outputs": [],
   "source": [
    "# method 2"
   ]
  },
  {
   "cell_type": "code",
   "execution_count": 45,
   "metadata": {},
   "outputs": [
    {
     "name": "stdout",
     "output_type": "stream",
     "text": [
      "55 44 55\n",
      "55\n",
      "44\n",
      "55\n"
     ]
    }
   ],
   "source": [
    "for x in input().split():\n",
    "    print(x)"
   ]
  },
  {
   "cell_type": "code",
   "execution_count": null,
   "metadata": {},
   "outputs": [],
   "source": [
    "\"33 45 76\".split()"
   ]
  },
  {
   "cell_type": "code",
   "execution_count": 46,
   "metadata": {},
   "outputs": [
    {
     "name": "stdout",
     "output_type": "stream",
     "text": [
      "Enter a list of temperatures in degC separated by a space:\n",
      "25 44 88 66 55 44\n"
     ]
    }
   ],
   "source": [
    "print('Enter a list of temperatures in degC separated by a space:')\n",
    "Temp_C = [int(x)                for x in input().split()                 ]"
   ]
  },
  {
   "cell_type": "code",
   "execution_count": 47,
   "metadata": {},
   "outputs": [
    {
     "data": {
      "text/plain": [
       "[25, 44, 88, 66, 55, 44]"
      ]
     },
     "execution_count": 47,
     "metadata": {},
     "output_type": "execute_result"
    }
   ],
   "source": [
    "Temp_C"
   ]
  },
  {
   "cell_type": "code",
   "execution_count": 48,
   "metadata": {},
   "outputs": [
    {
     "name": "stdout",
     "output_type": "stream",
     "text": [
      "Temperatures are degC Vs. Fehrenheit:\n",
      " [25, 44, 88, 66, 55, 44] [77.0, 111.2, 190.4, 150.8, 131.0, 111.2]\n"
     ]
    }
   ],
   "source": [
    "Temp_F = [ ((float(9)/5)*i + 32)        for i in Temp_C            ]\n",
    "print('Temperatures are degC Vs. Fehrenheit:\\n', Temp_C, Temp_F)"
   ]
  },
  {
   "cell_type": "markdown",
   "metadata": {},
   "source": [
    "# <font color='blue'> 9. CREATE A PASSWORD GENERATOR THAT TAKES THE REQUIRED PASSWORD LENGTH FROM THE USER AND GENERATE A PASSWORD. THE PASSWORD SHOULD BE A MIX OF CHARACTERS, NUMBERS AND SPECIAL CHARACTERS"
   ]
  },
  {
   "cell_type": "code",
   "execution_count": null,
   "metadata": {},
   "outputs": [],
   "source": []
  },
  {
   "cell_type": "code",
   "execution_count": 49,
   "metadata": {},
   "outputs": [],
   "source": [
    "import string \n",
    "import random\n"
   ]
  },
  {
   "cell_type": "code",
   "execution_count": 50,
   "metadata": {},
   "outputs": [
    {
     "data": {
      "text/plain": [
       "'abcdefghijklmnopqrstuvwxyzABCDEFGHIJKLMNOPQRSTUVWXYZ'"
      ]
     },
     "execution_count": 50,
     "metadata": {},
     "output_type": "execute_result"
    }
   ],
   "source": [
    "string.ascii_letters"
   ]
  },
  {
   "cell_type": "code",
   "execution_count": 81,
   "metadata": {},
   "outputs": [
    {
     "data": {
      "text/plain": [
       "'h'"
      ]
     },
     "execution_count": 81,
     "metadata": {},
     "output_type": "execute_result"
    }
   ],
   "source": [
    "random.choice(string.ascii_letters)"
   ]
  },
  {
   "cell_type": "code",
   "execution_count": 82,
   "metadata": {},
   "outputs": [
    {
     "data": {
      "text/plain": [
       "'0123456789'"
      ]
     },
     "execution_count": 82,
     "metadata": {},
     "output_type": "execute_result"
    }
   ],
   "source": [
    "string.digits"
   ]
  },
  {
   "cell_type": "code",
   "execution_count": 83,
   "metadata": {},
   "outputs": [
    {
     "data": {
      "text/plain": [
       "'!\"#$%&\\'()*+,-./:;<=>?@[\\\\]^_`{|}~'"
      ]
     },
     "execution_count": 83,
     "metadata": {},
     "output_type": "execute_result"
    }
   ],
   "source": [
    "string.punctuation"
   ]
  },
  {
   "cell_type": "code",
   "execution_count": 84,
   "metadata": {},
   "outputs": [
    {
     "data": {
      "text/plain": [
       "'abcdefghijklmnopqrstuvwxyzABCDEFGHIJKLMNOPQRSTUVWXYZ!\"#$%&\\'()*+,-./:;<=>?@[\\\\]^_`{|}~0123456789'"
      ]
     },
     "execution_count": 84,
     "metadata": {},
     "output_type": "execute_result"
    }
   ],
   "source": [
    "c = string.ascii_letters + string.punctuation  + string.digits\n",
    "c"
   ]
  },
  {
   "cell_type": "code",
   "execution_count": null,
   "metadata": {},
   "outputs": [],
   "source": []
  },
  {
   "cell_type": "code",
   "execution_count": null,
   "metadata": {},
   "outputs": [],
   "source": []
  },
  {
   "cell_type": "code",
   "execution_count": null,
   "metadata": {},
   "outputs": [],
   "source": []
  },
  {
   "cell_type": "code",
   "execution_count": 2,
   "metadata": {},
   "outputs": [
    {
     "name": "stdout",
     "output_type": "stream",
     "text": [
      "Enter the length of the password6\n",
      "0 iteration \n",
      "1 iteration q\n",
      "2 iteration qD\n",
      "3 iteration qD-\n",
      "4 iteration qD-Q\n",
      "5 iteration qD-Q.\n",
      "qD-Q.<\n"
     ]
    }
   ],
   "source": [
    "import string\n",
    "import random\n",
    "\n",
    "# string.ascii_letters\n",
    "# string.punctuation\n",
    "# string.digits\n",
    "\n",
    "characters = string.ascii_letters + string.punctuation  + string.digits\n",
    "\n",
    "length = int(input('Enter the length of the password'))\n",
    "\n",
    "password = \"\"\n",
    "\n",
    "for idx, i in enumerate(range(0, length)):\n",
    "    print(\"{} iteration {}\".format(idx, password))\n",
    "    password = password + random.choice(characters)\n",
    "\n",
    "print(password)"
   ]
  },
  {
   "cell_type": "markdown",
   "metadata": {},
   "source": [
    "# <font color='blue'> 10. WRITE A CODE THAT TAKES STRING FROM A USER AND SORT THE WORDS AND PRINT ALL WORDS"
   ]
  },
  {
   "cell_type": "code",
   "execution_count": null,
   "metadata": {},
   "outputs": [],
   "source": []
  },
  {
   "cell_type": "code",
   "execution_count": null,
   "metadata": {},
   "outputs": [],
   "source": []
  },
  {
   "cell_type": "code",
   "execution_count": 88,
   "metadata": {},
   "outputs": [
    {
     "name": "stdout",
     "output_type": "stream",
     "text": [
      "Enter a sentence explaining how do you feel today?!: hi my name is dev i am fine\n",
      "Words are sorted as follows:\n",
      "am\n",
      "dev\n",
      "fine\n",
      "hi\n",
      "i\n",
      "is\n",
      "my\n",
      "name\n"
     ]
    }
   ],
   "source": [
    "string = input(\"Enter a sentence explaining how do you feel today?!: \")\n",
    "\n",
    "words = string.split()\n",
    "words.sort()\n",
    "\n",
    "print(\"Words are sorted as follows:\")\n",
    "for word in words:\n",
    "    print(word)"
   ]
  },
  {
   "cell_type": "markdown",
   "metadata": {},
   "source": [
    "# <font color='blue'> 11. PRINT THE CORRESPONDING ELEMENTS IN BOTH LISTS BELOW USING TWO DIFFERENT METHODS"
   ]
  },
  {
   "cell_type": "code",
   "execution_count": 89,
   "metadata": {},
   "outputs": [
    {
     "name": "stdout",
     "output_type": "stream",
     "text": [
      "black iphone\n",
      "black Samsung\n",
      "black BlackBerry\n",
      "white iphone\n",
      "white Samsung\n",
      "white BlackBerry\n",
      "gold iphone\n",
      "gold Samsung\n",
      "gold BlackBerry\n"
     ]
    }
   ],
   "source": [
    "# Nested loops using comprehensions\n",
    "color_list = [ \"black\", \"white\", \"gold\"]\n",
    "phone_list = [ \"iphone\", \"Samsung\", \"BlackBerry\" ]\n",
    "\n",
    "for i in color_list: \n",
    "    for j in phone_list: \n",
    "        print(i,j)\n",
    " "
   ]
  },
  {
   "cell_type": "code",
   "execution_count": 90,
   "metadata": {},
   "outputs": [
    {
     "name": "stdout",
     "output_type": "stream",
     "text": [
      "[('black', 'iphone'), ('black', 'Samsung'), ('black', 'BlackBerry'), ('white', 'iphone'), ('white', 'Samsung'), ('white', 'BlackBerry'), ('gold', 'iphone'), ('gold', 'Samsung'), ('gold', 'BlackBerry')]\n"
     ]
    }
   ],
   "source": [
    "color_list = [ \"black\", \"white\", \"gold\"]\n",
    "phone_list = [ \"iphone\", \"Samsung\", \"BlackBerry\" ]\n",
    "new_list = [ (i,j)                    for i in color_list for j in phone_list               ]\n",
    "print(new_list)\n",
    " "
   ]
  },
  {
   "cell_type": "markdown",
   "metadata": {},
   "source": [
    "# <font color='blue'> 12. WRITE A CODE THAT TAKES A STRING AND CALCULATES THE NUMBER OF UPPER AND LOWER CASE CHARACTERS IN IT"
   ]
  },
  {
   "cell_type": "code",
   "execution_count": 91,
   "metadata": {},
   "outputs": [],
   "source": [
    "a =  \"\"\"Artificial intelligence (AI) is intelligence demonstrated by machines, as opposed to the natural intelligence displayed by humans or animals. Leading AI textbooks define the field as the study of \"intelligent agents\": any system that perceives its environment and takes actions that maximize its chance of achieving its goals.[a] Some popular accounts use the term \"artificial intelligence\" to describe machines that mimic \"cognitive\" functions that humans associate with the human mind, such as \"learning\" and \"problem solving\", however this definition is rejected by major AI researchers.[b][c]\n",
    "\n",
    "AI applications include advanced web search engines, recommendation systems (used by YouTube, Amazon and Netflix), understanding human speech (such as Siri or Alexa), self-driving cars (e.g. Tesla), and competing at the highest level in strategic game systems (such as chess and Go),[2] As machines become increasingly capable, tasks considered to require \"intelligence\" are often removed from the definition of AI, a phenomenon known as the AI effect.[3] For instance, optical character recognition is frequently excluded from things considered to be AI,[4] having become a routine technology.[5]\"\"\""
   ]
  },
  {
   "cell_type": "code",
   "execution_count": 92,
   "metadata": {},
   "outputs": [
    {
     "data": {
      "text/plain": [
       "1195"
      ]
     },
     "execution_count": 92,
     "metadata": {},
     "output_type": "execute_result"
    }
   ],
   "source": [
    "len(a)"
   ]
  },
  {
   "cell_type": "code",
   "execution_count": 93,
   "metadata": {
    "scrolled": true
   },
   "outputs": [
    {
     "data": {
      "text/plain": [
       "['__add__',\n",
       " '__class__',\n",
       " '__contains__',\n",
       " '__delattr__',\n",
       " '__dir__',\n",
       " '__doc__',\n",
       " '__eq__',\n",
       " '__format__',\n",
       " '__ge__',\n",
       " '__getattribute__',\n",
       " '__getitem__',\n",
       " '__getnewargs__',\n",
       " '__gt__',\n",
       " '__hash__',\n",
       " '__init__',\n",
       " '__init_subclass__',\n",
       " '__iter__',\n",
       " '__le__',\n",
       " '__len__',\n",
       " '__lt__',\n",
       " '__mod__',\n",
       " '__mul__',\n",
       " '__ne__',\n",
       " '__new__',\n",
       " '__reduce__',\n",
       " '__reduce_ex__',\n",
       " '__repr__',\n",
       " '__rmod__',\n",
       " '__rmul__',\n",
       " '__setattr__',\n",
       " '__sizeof__',\n",
       " '__str__',\n",
       " '__subclasshook__',\n",
       " 'capitalize',\n",
       " 'casefold',\n",
       " 'center',\n",
       " 'count',\n",
       " 'encode',\n",
       " 'endswith',\n",
       " 'expandtabs',\n",
       " 'find',\n",
       " 'format',\n",
       " 'format_map',\n",
       " 'index',\n",
       " 'isalnum',\n",
       " 'isalpha',\n",
       " 'isascii',\n",
       " 'isdecimal',\n",
       " 'isdigit',\n",
       " 'isidentifier',\n",
       " 'islower',\n",
       " 'isnumeric',\n",
       " 'isprintable',\n",
       " 'isspace',\n",
       " 'istitle',\n",
       " 'isupper',\n",
       " 'join',\n",
       " 'ljust',\n",
       " 'lower',\n",
       " 'lstrip',\n",
       " 'maketrans',\n",
       " 'partition',\n",
       " 'replace',\n",
       " 'rfind',\n",
       " 'rindex',\n",
       " 'rjust',\n",
       " 'rpartition',\n",
       " 'rsplit',\n",
       " 'rstrip',\n",
       " 'split',\n",
       " 'splitlines',\n",
       " 'startswith',\n",
       " 'strip',\n",
       " 'swapcase',\n",
       " 'title',\n",
       " 'translate',\n",
       " 'upper',\n",
       " 'zfill']"
      ]
     },
     "execution_count": 93,
     "metadata": {},
     "output_type": "execute_result"
    }
   ],
   "source": [
    "dir(str)"
   ]
  },
  {
   "cell_type": "code",
   "execution_count": 94,
   "metadata": {},
   "outputs": [
    {
     "name": "stdout",
     "output_type": "stream",
     "text": [
      "27\n",
      "935\n",
      "4\n"
     ]
    }
   ],
   "source": [
    "u_count = 0\n",
    "l_count = 0\n",
    "al = 0\n",
    "\n",
    "for i in a:\n",
    "    if i.isupper():\n",
    "        u_count += 1\n",
    "    elif i.islower():\n",
    "        l_count += 1\n",
    "    elif i.isdigit():\n",
    "        al +=1 \n",
    "    \n",
    "        \n",
    "print(u_count)\n",
    "print(l_count)\n",
    "print(al)"
   ]
  },
  {
   "cell_type": "code",
   "execution_count": null,
   "metadata": {},
   "outputs": [],
   "source": []
  },
  {
   "cell_type": "code",
   "execution_count": null,
   "metadata": {},
   "outputs": [],
   "source": []
  },
  {
   "cell_type": "code",
   "execution_count": null,
   "metadata": {},
   "outputs": [],
   "source": []
  },
  {
   "cell_type": "code",
   "execution_count": null,
   "metadata": {},
   "outputs": [],
   "source": []
  },
  {
   "cell_type": "code",
   "execution_count": null,
   "metadata": {},
   "outputs": [],
   "source": [
    "input_str = input()\n",
    "upper_case = 0\n",
    "lower_case = 0\n",
    "\n",
    "for char in input_str:\n",
    "    if char.isupper():\n",
    "        upper_case = upper_case + 1\n",
    "    elif char.islower():\n",
    "        lower_case = lower_case + 1 \n",
    "    else:\n",
    "        pass\n",
    "    \n",
    "print(\"Number of Upper Case Characters =\", upper_case)\n",
    "print(\"Number of Lower Case Characters =\", lower_case)"
   ]
  },
  {
   "cell_type": "markdown",
   "metadata": {},
   "source": [
    "# <font color='blue'> 13. WRITE A CODE THAT TAKES A RANGE FROM 100 AND 900 AND ONLY PRINTS NUMBERS WHERE ALL DIGITS ARE EVEN "
   ]
  },
  {
   "cell_type": "code",
   "execution_count": 95,
   "metadata": {},
   "outputs": [
    {
     "name": "stdout",
     "output_type": "stream",
     "text": [
      "Enter a number (lower bound: 100\n",
      "Enter a number (Upper bound: 500\n",
      "[200, 202, 204, 206, 208, 220, 222, 224, 226, 228, 240, 242, 244, 246, 248, 260, 262, 264, 266, 268, 280, 282, 284, 286, 288, 400, 402, 404, 406, 408, 420, 422, 424, 426, 428, 440, 442, 444, 446, 448, 460, 462, 464, 466, 468, 480, 482, 484, 486, 488]\n"
     ]
    }
   ],
   "source": [
    "min1 = int(input(\"Enter a number (lower bound: \"))\n",
    "max1 = int(input(\"Enter a number (Upper bound: \"))\n",
    "\n",
    "numbers = []\n",
    "\n",
    "for i in range(min1, max1):\n",
    "    s = str(i)\n",
    "    if (int(s[0])%2==0) and (int(s[1])%2==0) and (int(s[2])%2==0) :\n",
    "        numbers.append(int(s))\n",
    "print(numbers)"
   ]
  },
  {
   "cell_type": "markdown",
   "metadata": {},
   "source": [
    "# <font color='blue'> 14. WRITE A CODE THAT PRINTS I LOVE YOU FOLLOWED BY YOUR SIGNIFICANT OTHER NAME EVERY 3 SECONDS (EXTERNAL RESEARCH)\n",
    "- please research: time.sleep()"
   ]
  },
  {
   "cell_type": "code",
   "execution_count": null,
   "metadata": {
    "scrolled": true
   },
   "outputs": [],
   "source": []
  },
  {
   "cell_type": "code",
   "execution_count": null,
   "metadata": {},
   "outputs": [
    {
     "name": "stdout",
     "output_type": "stream",
     "text": [
      "1st command\n"
     ]
    }
   ],
   "source": [
    "import time\n",
    "\n",
    "\n",
    "while True:\n",
    "    print(\"1st command\")\n",
    "    time.sleep(50)\n",
    "    print(\"2nd command\")\n",
    "    \n"
   ]
  },
  {
   "cell_type": "markdown",
   "metadata": {},
   "source": [
    "# <font color='blue'> 15. WRITE A CODE THAT ASKS A USER TO ENTER A PASSWORD AND ENSURES THAT THE PASSWORD SATISIFIES THE FOLLOWING CONDITIONS: (A) AT LEAST 10 CHARACTERS, (B) CONTAINS AT LEAST ONE UPPER CASE, (C) AT LEAST ONE NUMBER"
   ]
  },
  {
   "cell_type": "code",
   "execution_count": 6,
   "metadata": {},
   "outputs": [],
   "source": [
    "p = \"abcd\""
   ]
  },
  {
   "cell_type": "code",
   "execution_count": 7,
   "metadata": {},
   "outputs": [
    {
     "data": {
      "text/plain": [
       "False"
      ]
     },
     "execution_count": 7,
     "metadata": {},
     "output_type": "execute_result"
    }
   ],
   "source": [
    "any([char.isdigit() for char in p])"
   ]
  },
  {
   "cell_type": "code",
   "execution_count": 5,
   "metadata": {},
   "outputs": [
    {
     "data": {
      "text/plain": [
       "False"
      ]
     },
     "execution_count": 5,
     "metadata": {},
     "output_type": "execute_result"
    }
   ],
   "source": [
    "any([False, False, False])"
   ]
  },
  {
   "cell_type": "code",
   "execution_count": 8,
   "metadata": {},
   "outputs": [
    {
     "name": "stdout",
     "output_type": "stream",
     "text": [
      "It's time to change your password, Select a new password: asdf\n",
      "Passowrd Does Not Satisfy the Requirements\n",
      "It's time to change your password, Select a new password: asdf3\n",
      "Passowrd Does Not Satisfy the Requirements\n",
      "It's time to change your password, Select a new password: Alskdjf9\n",
      "Passowrd Does Not Satisfy the Requirements\n",
      "It's time to change your password, Select a new password: Alskdjflskjdf987\n",
      "New Password Saved Successfully\n"
     ]
    }
   ],
   "source": [
    "while True:\n",
    "    password = input(\"It's time to change your password, Select a new password: \")\n",
    "    if len(password) >= 10 and any(char.isdigit() for char in password) and any(char.isupper() for char in password):\n",
    "        print(\"New Password Saved Successfully\")\n",
    "        break\n",
    "    else:\n",
    "        print(\"Passowrd Does Not Satisfy the Requirements\")\n"
   ]
  },
  {
   "cell_type": "markdown",
   "metadata": {},
   "source": [
    "# <font color='blue'> 16. WRITE A CODE THAT CONTINOUSLY GETS DATA FROM THE USER AND CALCULATES THE AVERAGE AND PRINT IT OUT ON THE SCREEN"
   ]
  },
  {
   "cell_type": "code",
   "execution_count": null,
   "metadata": {},
   "outputs": [],
   "source": [
    "print(\"Keep entering numbers and I will display the average to you!\") # print\n",
    "avg = 0 \n",
    "n = 0\n",
    "\n",
    "counter = 0\n",
    "while True:\n",
    "    x = int(input(\"Enter a number: \"))\n",
    "    \n",
    "    n = n + 1\n",
    "    \n",
    "    avg =   ((avg * (n - 1) ) + x) / n\n",
    "    print (\"The current average is \", avg)\n",
    "    \n",
    "    counter += 1\n",
    "    \n",
    "    if counter >=10:\n",
    "        break"
   ]
  },
  {
   "cell_type": "markdown",
   "metadata": {},
   "source": [
    "###### ### "
   ]
  },
  {
   "cell_type": "code",
   "execution_count": null,
   "metadata": {},
   "outputs": [],
   "source": []
  }
 ],
 "metadata": {
  "kernelspec": {
   "display_name": "Python 3",
   "language": "python",
   "name": "python3"
  },
  "language_info": {
   "codemirror_mode": {
    "name": "ipython",
    "version": 3
   },
   "file_extension": ".py",
   "mimetype": "text/x-python",
   "name": "python",
   "nbconvert_exporter": "python",
   "pygments_lexer": "ipython3",
   "version": "3.7.6"
  }
 },
 "nbformat": 4,
 "nbformat_minor": 2
}
