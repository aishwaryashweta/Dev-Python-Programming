{
 "cells": [
  {
   "cell_type": "markdown",
   "metadata": {},
   "source": [
    "# Python - MySql "
   ]
  },
  {
   "cell_type": "markdown",
   "metadata": {},
   "source": [
    "------"
   ]
  },
  {
   "cell_type": "markdown",
   "metadata": {},
   "source": [
    ">pip install mysql-connector     (       skip this )\n",
    "\n",
    "\n",
    ">pip install mysql-connector-python\n",
    "\n",
    ">pip install mysql-connector-python-rf"
   ]
  },
  {
   "cell_type": "markdown",
   "metadata": {},
   "source": [
    "# Test MySQL Connector\n",
    "To test if the installation was successful, or if you already have \"MySQL Connector\" installed, create a Python page with the following content:\n",
    "\n",
    "- If the above code was executed with no errors, \"MySQL Connector\" is installed and ready to be used.\n",
    "\n"
   ]
  },
  {
   "cell_type": "code",
   "execution_count": 2,
   "metadata": {},
   "outputs": [],
   "source": [
    " import mysql.connector\n"
   ]
  },
  {
   "cell_type": "markdown",
   "metadata": {},
   "source": [
    "# Create Connection\n",
    "Start by creating a connection to the database.\n",
    "\n",
    "Use the username and password from your MySQL database:"
   ]
  },
  {
   "cell_type": "code",
   "execution_count": 3,
   "metadata": {},
   "outputs": [
    {
     "name": "stdout",
     "output_type": "stream",
     "text": [
      "<mysql.connector.connection_cext.CMySQLConnection object at 0x0000016C78FABD88>\n"
     ]
    }
   ],
   "source": [
    "mydb = mysql.connector.connect(host='localhost', \n",
    "                               user='root', \n",
    "                               password='1234')\n",
    "\n",
    "\n",
    "print(mydb)"
   ]
  },
  {
   "cell_type": "markdown",
   "metadata": {},
   "source": [
    "# initialize the cursor"
   ]
  },
  {
   "cell_type": "code",
   "execution_count": 4,
   "metadata": {},
   "outputs": [],
   "source": [
    "\n",
    "mycursor = mydb.cursor()"
   ]
  },
  {
   "cell_type": "markdown",
   "metadata": {},
   "source": [
    "# Creating a Database\n",
    "To create a database in MySQL, use the \"CREATE DATABASE\" statement:"
   ]
  },
  {
   "cell_type": "code",
   "execution_count": 5,
   "metadata": {},
   "outputs": [],
   "source": [
    "mycursor = mydb.cursor()\n",
    "\n",
    "mycursor.execute(\"CREATE DATABASE dev1\")\n",
    "\n",
    "\n",
    "# If the above code was executed with no errors, \n",
    "# you have successfully created a database.\n"
   ]
  },
  {
   "cell_type": "markdown",
   "metadata": {},
   "source": [
    "# Check if Database Exists\n",
    "You can check if a database exist by listing all databases in your system by using the \"SHOW DATABASES\" statement:"
   ]
  },
  {
   "cell_type": "code",
   "execution_count": 5,
   "metadata": {},
   "outputs": [
    {
     "name": "stdout",
     "output_type": "stream",
     "text": [
      "('classicmodels',)\n",
      "('fkdemo',)\n",
      "('information_schema',)\n",
      "('mydatabase1',)\n",
      "('mysql',)\n",
      "('performance_schema',)\n",
      "('sakila',)\n",
      "('sys',)\n",
      "('test',)\n",
      "('world',)\n"
     ]
    }
   ],
   "source": [
    "# Return a list of your system's databases:\n",
    "\n",
    "\n",
    "mycursor = mydb.cursor()\n",
    "\n",
    "mycursor.execute(\"SHOW DATABASES\")\n",
    "\n",
    "for x in mycursor:\n",
    "    print(x)\n"
   ]
  },
  {
   "cell_type": "markdown",
   "metadata": {},
   "source": [
    "# Try connecting to the database \"mydatabase\":\n",
    "\n",
    "- If the database does not exist, you will get an error."
   ]
  },
  {
   "cell_type": "code",
   "execution_count": 6,
   "metadata": {},
   "outputs": [],
   "source": [
    "mydb = mysql.connector.connect(host='localhost',\n",
    "                               user='root',\n",
    "                               passwd='1234', \n",
    "                               database='classicmodels')"
   ]
  },
  {
   "cell_type": "markdown",
   "metadata": {},
   "source": [
    "# Creating a Table\n",
    "To create a table in MySQL, use the \"CREATE TABLE\" statement.\n",
    "\n",
    "Make sure you define the name of the database when you create the connection"
   ]
  },
  {
   "cell_type": "code",
   "execution_count": 7,
   "metadata": {},
   "outputs": [],
   "source": [
    "# Create a table named \"customers\":\n",
    "\n",
    "mycursor = mydb.cursor()\n",
    "\n",
    "mycursor.execute(\"CREATE TABLE customers1 (name VARCHAR(255), address VARCHAR(255))\")"
   ]
  },
  {
   "cell_type": "markdown",
   "metadata": {},
   "source": [
    "# Check if Table Exists\n",
    "You can check if a table exist by listing all tables in your database with the \"SHOW TABLES\" statement:"
   ]
  },
  {
   "cell_type": "code",
   "execution_count": 8,
   "metadata": {},
   "outputs": [
    {
     "name": "stdout",
     "output_type": "stream",
     "text": [
      "('checklists',)\n",
      "('committees',)\n",
      "('customers',)\n",
      "('customers1',)\n",
      "('empl',)\n",
      "('employees',)\n",
      "('employees_audit',)\n",
      "('members',)\n",
      "('offices',)\n",
      "('orderdetails',)\n",
      "('orders',)\n",
      "('payments',)\n",
      "('pkdemos',)\n",
      "('productlines',)\n",
      "('products',)\n",
      "('task',)\n",
      "('tasks',)\n",
      "('test',)\n",
      "('test2',)\n",
      "('users',)\n"
     ]
    }
   ],
   "source": [
    "# Return a list of your system's databases:\n",
    "\n",
    "\n",
    "mycursor = mydb.cursor()\n",
    "\n",
    "mycursor.execute(\"SHOW TABLES\")\n",
    "\n",
    "for x in mycursor:\n",
    "    print(x)"
   ]
  },
  {
   "cell_type": "markdown",
   "metadata": {},
   "source": [
    "# Primary Key\n",
    "When creating a table, you should also create a column with a unique key for each record.\n",
    "\n",
    "This can be done by defining a PRIMARY KEY.\n",
    "\n",
    "We use the statement \"INT AUTO_INCREMENT PRIMARY KEY\" which will insert a unique number for each record. Starting at 1, and increased by one for each record."
   ]
  },
  {
   "cell_type": "code",
   "execution_count": 10,
   "metadata": {},
   "outputs": [],
   "source": [
    "# Create primary key when creating the table:\n",
    "\n",
    "\n",
    "mycursor = mydb.cursor()\n",
    "\n",
    "mycursor.execute(\"CREATE TABLE customers2 (id INT AUTO_INCREMENT PRIMARY KEY, name VARCHAR(255), address VARCHAR(255))\")"
   ]
  },
  {
   "cell_type": "markdown",
   "metadata": {},
   "source": [
    "# If the table already exists, use the ALTER TABLE keyword:"
   ]
  },
  {
   "cell_type": "code",
   "execution_count": 13,
   "metadata": {},
   "outputs": [],
   "source": [
    "# Create primary key on an existing table:\n",
    "\n",
    "mycursor = mydb.cursor()\n",
    "\n",
    "mycursor.execute(\"ALTER TABLE customers1 ADD COLUMN id INT AUTO_INCREMENT PRIMARY KEY\")\n"
   ]
  },
  {
   "cell_type": "markdown",
   "metadata": {},
   "source": [
    "# Insert Into Table\n",
    "To fill a table in MySQL, use the \"INSERT INTO\" statement."
   ]
  },
  {
   "cell_type": "code",
   "execution_count": 14,
   "metadata": {},
   "outputs": [
    {
     "name": "stdout",
     "output_type": "stream",
     "text": [
      "1 record inserted.\n"
     ]
    }
   ],
   "source": [
    "# Insert a record in the \"customers\" table:\n",
    "\n",
    "\n",
    "mycursor = mydb.cursor()\n",
    "\n",
    "sql = \"INSERT INTO customers1 (name, address) VALUES (%s, %s)\"\n",
    "val = (\"John\", \"Highway 21\")\n",
    "\n",
    "mycursor.execute(sql, val)\n",
    "\n",
    "mydb.commit()\n",
    "\n",
    "print(mycursor.rowcount, \"record inserted.\")\n"
   ]
  },
  {
   "cell_type": "markdown",
   "metadata": {},
   "source": [
    "- Important!: Notice the statement: mydb.commit(). It is required to make the changes, otherwise no changes are made to the table.\n",
    "\n"
   ]
  },
  {
   "cell_type": "markdown",
   "metadata": {},
   "source": [
    "# Insert Multiple Rows\n",
    "To insert multiple rows into a table, use the \"executemany()\" method.\n",
    "\n",
    "The second parameter of the \"executemany()\" method is a list of tuples, containing the data you want to insert:"
   ]
  },
  {
   "cell_type": "code",
   "execution_count": 15,
   "metadata": {},
   "outputs": [
    {
     "name": "stdout",
     "output_type": "stream",
     "text": [
      "13 was inserted.\n"
     ]
    }
   ],
   "source": [
    "# Fill the \"customers\" table with data:\n",
    "\n",
    "\n",
    "\n",
    "mycursor = mydb.cursor()\n",
    "\n",
    "sql = \"INSERT INTO customers1 (name, address) VALUES (%s, %s)\"\n",
    "val = [\n",
    "  ('Peter', 'Lowstreet 4'),\n",
    "  ('Amy', 'Apple st 652'),\n",
    "  ('Hannah', 'Mountain 21'),\n",
    "  ('Michael', 'Valley 345'),\n",
    "  ('Sandy', 'Ocean blvd 2'),\n",
    "  ('Betty', 'Green Grass 1'),\n",
    "  ('Richard', 'Sky st 331'),\n",
    "  ('Susan', 'One way 98'),\n",
    "  ('Vicky', 'Yellow Garden 2'),\n",
    "  ('Ben', 'Park Lane 38'),\n",
    "  ('William', 'Central st 954'),\n",
    "  ('Chuck', 'Main Road 989'),\n",
    "  ('Viola', 'Sideway 1633')\n",
    "]\n",
    "\n",
    "mycursor.executemany(sql, val)\n",
    "\n",
    "mydb.commit()\n",
    "\n",
    "print(mycursor.rowcount, \"was inserted.\")"
   ]
  },
  {
   "cell_type": "markdown",
   "metadata": {},
   "source": [
    "# Get Inserted ID\n",
    "You can get the id of the row you just inserted by asking the cursor object.\n",
    "\n",
    "- Note: If you insert more that one row, the id of the last inserted row is returned."
   ]
  },
  {
   "cell_type": "code",
   "execution_count": 17,
   "metadata": {},
   "outputs": [
    {
     "name": "stdout",
     "output_type": "stream",
     "text": [
      "1 record inserted, ID: 15\n"
     ]
    }
   ],
   "source": [
    "# Insert one row, and return the ID:\n",
    "\n",
    "\n",
    "mycursor = mydb.cursor()\n",
    "\n",
    "sql = \"INSERT INTO customers1 (name, address) VALUES (%s, %s)\"\n",
    "val = (\"Michelle\", \"Blue Village\")\n",
    "mycursor.execute(sql, val)\n",
    "\n",
    "mydb.commit()\n",
    "\n",
    "print(\"1 record inserted, ID:\", mycursor.lastrowid)"
   ]
  },
  {
   "cell_type": "markdown",
   "metadata": {},
   "source": [
    "# Select From a Table\n",
    "To select from a table in MySQL, use the \"SELECT\" statement:"
   ]
  },
  {
   "cell_type": "code",
   "execution_count": 7,
   "metadata": {},
   "outputs": [
    {
     "name": "stdout",
     "output_type": "stream",
     "text": [
      "(10100, datetime.date(2003, 1, 6), datetime.date(2003, 1, 13), datetime.date(2003, 1, 10), 'Shipped', None, 363)\n",
      "(10101, datetime.date(2003, 1, 9), datetime.date(2003, 1, 18), datetime.date(2003, 1, 11), 'Shipped', 'Check on availability.', 128)\n",
      "(10102, datetime.date(2003, 1, 10), datetime.date(2003, 1, 18), datetime.date(2003, 1, 14), 'Shipped', None, 181)\n",
      "(10103, datetime.date(2003, 1, 29), datetime.date(2003, 2, 7), datetime.date(2003, 2, 2), 'Shipped', None, 121)\n",
      "(10104, datetime.date(2003, 1, 31), datetime.date(2003, 2, 9), datetime.date(2003, 2, 1), 'Shipped', None, 141)\n",
      "(10105, datetime.date(2003, 2, 11), datetime.date(2003, 2, 21), datetime.date(2003, 2, 12), 'Shipped', None, 145)\n",
      "(10106, datetime.date(2003, 2, 17), datetime.date(2003, 2, 24), datetime.date(2003, 2, 21), 'Shipped', None, 278)\n",
      "(10107, datetime.date(2003, 2, 24), datetime.date(2003, 3, 3), datetime.date(2003, 2, 26), 'Shipped', 'Difficult to negotiate with customer. We need more marketing materials', 131)\n",
      "(10108, datetime.date(2003, 3, 3), datetime.date(2003, 3, 12), datetime.date(2003, 3, 8), 'Shipped', None, 385)\n",
      "(10109, datetime.date(2003, 3, 10), datetime.date(2003, 3, 19), datetime.date(2003, 3, 11), 'Shipped', 'Customer requested that FedEx Ground is used for this shipping', 486)\n",
      "(10110, datetime.date(2003, 3, 18), datetime.date(2003, 3, 24), datetime.date(2003, 3, 20), 'Shipped', None, 187)\n",
      "(10111, datetime.date(2003, 3, 25), datetime.date(2003, 3, 31), datetime.date(2003, 3, 30), 'Shipped', None, 129)\n",
      "(10112, datetime.date(2003, 3, 24), datetime.date(2003, 4, 3), datetime.date(2003, 3, 29), 'Shipped', 'Customer requested that ad materials (such as posters, pamphlets) be included in the shippment', 144)\n",
      "(10113, datetime.date(2003, 3, 26), datetime.date(2003, 4, 2), datetime.date(2003, 3, 27), 'Shipped', None, 124)\n",
      "(10114, datetime.date(2003, 4, 1), datetime.date(2003, 4, 7), datetime.date(2003, 4, 2), 'Shipped', None, 172)\n",
      "(10115, datetime.date(2003, 4, 4), datetime.date(2003, 4, 12), datetime.date(2003, 4, 7), 'Shipped', None, 424)\n",
      "(10116, datetime.date(2003, 4, 11), datetime.date(2003, 4, 19), datetime.date(2003, 4, 13), 'Shipped', None, 381)\n",
      "(10117, datetime.date(2003, 4, 16), datetime.date(2003, 4, 24), datetime.date(2003, 4, 17), 'Shipped', None, 148)\n",
      "(10118, datetime.date(2003, 4, 21), datetime.date(2003, 4, 29), datetime.date(2003, 4, 26), 'Shipped', 'Customer has worked with some of our vendors in the past and is aware of their MSRP', 216)\n",
      "(10119, datetime.date(2003, 4, 28), datetime.date(2003, 5, 5), datetime.date(2003, 5, 2), 'Shipped', None, 382)\n",
      "(10120, datetime.date(2003, 4, 29), datetime.date(2003, 5, 8), datetime.date(2003, 5, 1), 'Shipped', None, 114)\n",
      "(10121, datetime.date(2003, 5, 7), datetime.date(2003, 5, 13), datetime.date(2003, 5, 13), 'Shipped', None, 353)\n",
      "(10122, datetime.date(2003, 5, 8), datetime.date(2003, 5, 16), datetime.date(2003, 5, 13), 'Shipped', None, 350)\n",
      "(10123, datetime.date(2003, 5, 20), datetime.date(2003, 5, 29), datetime.date(2003, 5, 22), 'Shipped', None, 103)\n",
      "(10124, datetime.date(2003, 5, 21), datetime.date(2003, 5, 29), datetime.date(2003, 5, 25), 'Shipped', 'Customer very concerned about the exact color of the models. There is high risk that he may dispute the order because there is a slight color mismatch', 112)\n",
      "(10125, datetime.date(2003, 5, 21), datetime.date(2003, 5, 27), datetime.date(2003, 5, 24), 'Shipped', None, 114)\n",
      "(10126, datetime.date(2003, 5, 28), datetime.date(2003, 6, 7), datetime.date(2003, 6, 2), 'Shipped', None, 458)\n",
      "(10127, datetime.date(2003, 6, 3), datetime.date(2003, 6, 9), datetime.date(2003, 6, 6), 'Shipped', 'Customer requested special shippment. The instructions were passed along to the warehouse', 151)\n",
      "(10128, datetime.date(2003, 6, 6), datetime.date(2003, 6, 12), datetime.date(2003, 6, 11), 'Shipped', None, 141)\n",
      "(10129, datetime.date(2003, 6, 12), datetime.date(2003, 6, 18), datetime.date(2003, 6, 14), 'Shipped', None, 324)\n",
      "(10130, datetime.date(2003, 6, 16), datetime.date(2003, 6, 24), datetime.date(2003, 6, 21), 'Shipped', None, 198)\n",
      "(10131, datetime.date(2003, 6, 16), datetime.date(2003, 6, 25), datetime.date(2003, 6, 21), 'Shipped', None, 447)\n",
      "(10132, datetime.date(2003, 6, 25), datetime.date(2003, 7, 1), datetime.date(2003, 6, 28), 'Shipped', None, 323)\n",
      "(10133, datetime.date(2003, 6, 27), datetime.date(2003, 7, 4), datetime.date(2003, 7, 3), 'Shipped', None, 141)\n",
      "(10134, datetime.date(2003, 7, 1), datetime.date(2003, 7, 10), datetime.date(2003, 7, 5), 'Shipped', None, 250)\n",
      "(10135, datetime.date(2003, 7, 2), datetime.date(2003, 7, 12), datetime.date(2003, 7, 3), 'Shipped', None, 124)\n",
      "(10136, datetime.date(2003, 7, 4), datetime.date(2003, 7, 14), datetime.date(2003, 7, 6), 'Shipped', 'Customer is interested in buying more Ferrari models', 242)\n",
      "(10137, datetime.date(2003, 7, 10), datetime.date(2003, 7, 20), datetime.date(2003, 7, 14), 'Shipped', None, 353)\n",
      "(10138, datetime.date(2003, 7, 7), datetime.date(2003, 7, 16), datetime.date(2003, 7, 13), 'Shipped', None, 496)\n",
      "(10139, datetime.date(2003, 7, 16), datetime.date(2003, 7, 23), datetime.date(2003, 7, 21), 'Shipped', None, 282)\n",
      "(10140, datetime.date(2003, 7, 24), datetime.date(2003, 8, 2), datetime.date(2003, 7, 30), 'Shipped', None, 161)\n",
      "(10141, datetime.date(2003, 8, 1), datetime.date(2003, 8, 9), datetime.date(2003, 8, 4), 'Shipped', None, 334)\n",
      "(10142, datetime.date(2003, 8, 8), datetime.date(2003, 8, 16), datetime.date(2003, 8, 13), 'Shipped', None, 124)\n",
      "(10143, datetime.date(2003, 8, 10), datetime.date(2003, 8, 18), datetime.date(2003, 8, 12), 'Shipped', 'Can we deliver the new Ford Mustang models by end-of-quarter?', 320)\n",
      "(10144, datetime.date(2003, 8, 13), datetime.date(2003, 8, 21), datetime.date(2003, 8, 14), 'Shipped', None, 381)\n",
      "(10145, datetime.date(2003, 8, 25), datetime.date(2003, 9, 2), datetime.date(2003, 8, 31), 'Shipped', None, 205)\n",
      "(10146, datetime.date(2003, 9, 3), datetime.date(2003, 9, 13), datetime.date(2003, 9, 6), 'Shipped', None, 447)\n",
      "(10147, datetime.date(2003, 9, 5), datetime.date(2003, 9, 12), datetime.date(2003, 9, 9), 'Shipped', None, 379)\n",
      "(10148, datetime.date(2003, 9, 11), datetime.date(2003, 9, 21), datetime.date(2003, 9, 15), 'Shipped', 'They want to reevaluate their terms agreement with Finance.', 276)\n",
      "(10149, datetime.date(2003, 9, 12), datetime.date(2003, 9, 18), datetime.date(2003, 9, 17), 'Shipped', None, 487)\n",
      "(10150, datetime.date(2003, 9, 19), datetime.date(2003, 9, 27), datetime.date(2003, 9, 21), 'Shipped', 'They want to reevaluate their terms agreement with Finance.', 148)\n",
      "(10151, datetime.date(2003, 9, 21), datetime.date(2003, 9, 30), datetime.date(2003, 9, 24), 'Shipped', None, 311)\n",
      "(10152, datetime.date(2003, 9, 25), datetime.date(2003, 10, 3), datetime.date(2003, 10, 1), 'Shipped', None, 333)\n",
      "(10153, datetime.date(2003, 9, 28), datetime.date(2003, 10, 5), datetime.date(2003, 10, 3), 'Shipped', None, 141)\n",
      "(10154, datetime.date(2003, 10, 2), datetime.date(2003, 10, 12), datetime.date(2003, 10, 8), 'Shipped', None, 219)\n",
      "(10155, datetime.date(2003, 10, 6), datetime.date(2003, 10, 13), datetime.date(2003, 10, 7), 'Shipped', None, 186)\n",
      "(10156, datetime.date(2003, 10, 8), datetime.date(2003, 10, 17), datetime.date(2003, 10, 11), 'Shipped', None, 141)\n",
      "(10157, datetime.date(2003, 10, 9), datetime.date(2003, 10, 15), datetime.date(2003, 10, 14), 'Shipped', None, 473)\n",
      "(10158, datetime.date(2003, 10, 10), datetime.date(2003, 10, 18), datetime.date(2003, 10, 15), 'Shipped', None, 121)\n",
      "(10159, datetime.date(2003, 10, 10), datetime.date(2003, 10, 19), datetime.date(2003, 10, 16), 'Shipped', None, 321)\n",
      "(10160, datetime.date(2003, 10, 11), datetime.date(2003, 10, 17), datetime.date(2003, 10, 17), 'Shipped', None, 347)\n",
      "(10161, datetime.date(2003, 10, 17), datetime.date(2003, 10, 25), datetime.date(2003, 10, 20), 'Shipped', None, 227)\n",
      "(10162, datetime.date(2003, 10, 18), datetime.date(2003, 10, 26), datetime.date(2003, 10, 19), 'Shipped', None, 321)\n",
      "(10163, datetime.date(2003, 10, 20), datetime.date(2003, 10, 27), datetime.date(2003, 10, 24), 'Shipped', None, 424)\n",
      "(10164, datetime.date(2003, 10, 21), datetime.date(2003, 10, 30), datetime.date(2003, 10, 23), 'Resolved', \"This order was disputed, but resolved on 11/1/2003; Customer doesn't like the colors and precision of the models.\", 452)\n",
      "(10165, datetime.date(2003, 10, 22), datetime.date(2003, 10, 31), datetime.date(2003, 12, 26), 'Shipped', \"This order was on hold because customers's credit limit had been exceeded. Order will ship when payment is received\", 148)\n",
      "(10166, datetime.date(2003, 10, 21), datetime.date(2003, 10, 30), datetime.date(2003, 10, 27), 'Shipped', None, 462)\n",
      "(10167, datetime.date(2003, 10, 23), datetime.date(2003, 10, 30), None, 'Cancelled', \"Customer called to cancel. The warehouse was notified in time and the order didn't ship. They have a new VP of Sales and are shifting their sales model. Our VP of Sales should contact them.\", 448)\n",
      "(10168, datetime.date(2003, 10, 28), datetime.date(2003, 11, 3), datetime.date(2003, 11, 1), 'Shipped', None, 161)\n",
      "(10169, datetime.date(2003, 11, 4), datetime.date(2003, 11, 14), datetime.date(2003, 11, 9), 'Shipped', None, 276)\n",
      "(10170, datetime.date(2003, 11, 4), datetime.date(2003, 11, 12), datetime.date(2003, 11, 7), 'Shipped', None, 452)\n",
      "(10171, datetime.date(2003, 11, 5), datetime.date(2003, 11, 13), datetime.date(2003, 11, 7), 'Shipped', None, 233)\n",
      "(10172, datetime.date(2003, 11, 5), datetime.date(2003, 11, 14), datetime.date(2003, 11, 11), 'Shipped', None, 175)\n",
      "(10173, datetime.date(2003, 11, 5), datetime.date(2003, 11, 15), datetime.date(2003, 11, 9), 'Shipped', 'Cautious optimism. We have happy customers here, if we can keep them well stocked.  I need all the information I can get on the planned shippments of Porches', 278)\n",
      "(10174, datetime.date(2003, 11, 6), datetime.date(2003, 11, 15), datetime.date(2003, 11, 10), 'Shipped', None, 333)\n",
      "(10175, datetime.date(2003, 11, 6), datetime.date(2003, 11, 14), datetime.date(2003, 11, 9), 'Shipped', None, 324)\n",
      "(10176, datetime.date(2003, 11, 6), datetime.date(2003, 11, 15), datetime.date(2003, 11, 12), 'Shipped', None, 386)\n",
      "(10177, datetime.date(2003, 11, 7), datetime.date(2003, 11, 17), datetime.date(2003, 11, 12), 'Shipped', None, 344)\n",
      "(10178, datetime.date(2003, 11, 8), datetime.date(2003, 11, 16), datetime.date(2003, 11, 10), 'Shipped', 'Custom shipping instructions sent to warehouse', 242)\n",
      "(10179, datetime.date(2003, 11, 11), datetime.date(2003, 11, 17), datetime.date(2003, 11, 13), 'Cancelled', 'Customer cancelled due to urgent budgeting issues. Must be cautious when dealing with them in the future. Since order shipped already we must discuss who would cover the shipping charges.', 496)\n",
      "(10180, datetime.date(2003, 11, 11), datetime.date(2003, 11, 19), datetime.date(2003, 11, 14), 'Shipped', None, 171)\n",
      "(10181, datetime.date(2003, 11, 12), datetime.date(2003, 11, 19), datetime.date(2003, 11, 15), 'Shipped', None, 167)\n",
      "(10182, datetime.date(2003, 11, 12), datetime.date(2003, 11, 21), datetime.date(2003, 11, 18), 'Shipped', None, 124)\n",
      "(10183, datetime.date(2003, 11, 13), datetime.date(2003, 11, 22), datetime.date(2003, 11, 15), 'Shipped', 'We need to keep in close contact with their Marketing VP. He is the decision maker for all their purchases.', 339)\n",
      "(10184, datetime.date(2003, 11, 14), datetime.date(2003, 11, 22), datetime.date(2003, 11, 20), 'Shipped', None, 484)\n",
      "(10185, datetime.date(2003, 11, 14), datetime.date(2003, 11, 21), datetime.date(2003, 11, 20), 'Shipped', None, 320)\n",
      "(10186, datetime.date(2003, 11, 14), datetime.date(2003, 11, 20), datetime.date(2003, 11, 18), 'Shipped', 'They want to reevaluate their terms agreement with the VP of Sales', 489)\n",
      "(10187, datetime.date(2003, 11, 15), datetime.date(2003, 11, 24), datetime.date(2003, 11, 16), 'Shipped', None, 211)\n",
      "(10188, datetime.date(2003, 11, 18), datetime.date(2003, 11, 26), datetime.date(2003, 11, 24), 'Shipped', None, 167)\n",
      "(10189, datetime.date(2003, 11, 18), datetime.date(2003, 11, 25), datetime.date(2003, 11, 24), 'Shipped', 'They want to reevaluate their terms agreement with Finance.', 205)\n",
      "(10190, datetime.date(2003, 11, 19), datetime.date(2003, 11, 29), datetime.date(2003, 11, 20), 'Shipped', None, 141)\n",
      "(10191, datetime.date(2003, 11, 20), datetime.date(2003, 11, 30), datetime.date(2003, 11, 24), 'Shipped', 'We must be cautions with this customer. Their VP of Sales resigned. Company may be heading down.', 259)\n",
      "(10192, datetime.date(2003, 11, 20), datetime.date(2003, 11, 29), datetime.date(2003, 11, 25), 'Shipped', None, 363)\n",
      "(10193, datetime.date(2003, 11, 21), datetime.date(2003, 11, 28), datetime.date(2003, 11, 27), 'Shipped', None, 471)\n",
      "(10194, datetime.date(2003, 11, 25), datetime.date(2003, 12, 2), datetime.date(2003, 11, 26), 'Shipped', None, 146)\n",
      "(10195, datetime.date(2003, 11, 25), datetime.date(2003, 12, 1), datetime.date(2003, 11, 28), 'Shipped', None, 319)\n",
      "(10196, datetime.date(2003, 11, 26), datetime.date(2003, 12, 3), datetime.date(2003, 12, 1), 'Shipped', None, 455)\n",
      "(10197, datetime.date(2003, 11, 26), datetime.date(2003, 12, 2), datetime.date(2003, 12, 1), 'Shipped', 'Customer inquired about remote controlled models and gold models.', 216)\n",
      "(10198, datetime.date(2003, 11, 27), datetime.date(2003, 12, 6), datetime.date(2003, 12, 3), 'Shipped', None, 385)\n",
      "(10199, datetime.date(2003, 12, 1), datetime.date(2003, 12, 10), datetime.date(2003, 12, 6), 'Shipped', None, 475)\n",
      "(10200, datetime.date(2003, 12, 1), datetime.date(2003, 12, 9), datetime.date(2003, 12, 6), 'Shipped', None, 211)\n",
      "(10201, datetime.date(2003, 12, 1), datetime.date(2003, 12, 11), datetime.date(2003, 12, 2), 'Shipped', None, 129)\n",
      "(10202, datetime.date(2003, 12, 2), datetime.date(2003, 12, 9), datetime.date(2003, 12, 6), 'Shipped', None, 357)\n",
      "(10203, datetime.date(2003, 12, 2), datetime.date(2003, 12, 11), datetime.date(2003, 12, 7), 'Shipped', None, 141)\n",
      "(10204, datetime.date(2003, 12, 2), datetime.date(2003, 12, 10), datetime.date(2003, 12, 4), 'Shipped', None, 151)\n",
      "(10205, datetime.date(2003, 12, 3), datetime.date(2003, 12, 9), datetime.date(2003, 12, 7), 'Shipped', ' I need all the information I can get on our competitors.', 141)\n",
      "(10206, datetime.date(2003, 12, 5), datetime.date(2003, 12, 13), datetime.date(2003, 12, 8), 'Shipped', 'Can we renegotiate this one?', 202)\n",
      "(10207, datetime.date(2003, 12, 9), datetime.date(2003, 12, 17), datetime.date(2003, 12, 11), 'Shipped', 'Check on availability.', 495)\n",
      "(10208, datetime.date(2004, 1, 2), datetime.date(2004, 1, 11), datetime.date(2004, 1, 4), 'Shipped', None, 146)\n",
      "(10209, datetime.date(2004, 1, 9), datetime.date(2004, 1, 15), datetime.date(2004, 1, 12), 'Shipped', None, 347)\n",
      "(10210, datetime.date(2004, 1, 12), datetime.date(2004, 1, 22), datetime.date(2004, 1, 20), 'Shipped', None, 177)\n",
      "(10211, datetime.date(2004, 1, 15), datetime.date(2004, 1, 25), datetime.date(2004, 1, 18), 'Shipped', None, 406)\n",
      "(10212, datetime.date(2004, 1, 16), datetime.date(2004, 1, 24), datetime.date(2004, 1, 18), 'Shipped', None, 141)\n",
      "(10213, datetime.date(2004, 1, 22), datetime.date(2004, 1, 28), datetime.date(2004, 1, 27), 'Shipped', 'Difficult to negotiate with customer. We need more marketing materials', 489)\n",
      "(10214, datetime.date(2004, 1, 26), datetime.date(2004, 2, 4), datetime.date(2004, 1, 29), 'Shipped', None, 458)\n",
      "(10215, datetime.date(2004, 1, 29), datetime.date(2004, 2, 8), datetime.date(2004, 2, 1), 'Shipped', 'Customer requested that FedEx Ground is used for this shipping', 475)\n",
      "(10216, datetime.date(2004, 2, 2), datetime.date(2004, 2, 10), datetime.date(2004, 2, 4), 'Shipped', None, 256)\n",
      "(10217, datetime.date(2004, 2, 4), datetime.date(2004, 2, 14), datetime.date(2004, 2, 6), 'Shipped', None, 166)\n",
      "(10218, datetime.date(2004, 2, 9), datetime.date(2004, 2, 16), datetime.date(2004, 2, 11), 'Shipped', 'Customer requested that ad materials (such as posters, pamphlets) be included in the shippment', 473)\n",
      "(10219, datetime.date(2004, 2, 10), datetime.date(2004, 2, 17), datetime.date(2004, 2, 12), 'Shipped', None, 487)\n",
      "(10220, datetime.date(2004, 2, 12), datetime.date(2004, 2, 19), datetime.date(2004, 2, 16), 'Shipped', None, 189)\n",
      "(10221, datetime.date(2004, 2, 18), datetime.date(2004, 2, 26), datetime.date(2004, 2, 19), 'Shipped', None, 314)\n",
      "(10222, datetime.date(2004, 2, 19), datetime.date(2004, 2, 27), datetime.date(2004, 2, 20), 'Shipped', None, 239)\n",
      "(10223, datetime.date(2004, 2, 20), datetime.date(2004, 2, 29), datetime.date(2004, 2, 24), 'Shipped', None, 114)\n",
      "(10224, datetime.date(2004, 2, 21), datetime.date(2004, 3, 2), datetime.date(2004, 2, 26), 'Shipped', 'Customer has worked with some of our vendors in the past and is aware of their MSRP', 171)\n",
      "(10225, datetime.date(2004, 2, 22), datetime.date(2004, 3, 1), datetime.date(2004, 2, 24), 'Shipped', None, 298)\n",
      "(10226, datetime.date(2004, 2, 26), datetime.date(2004, 3, 6), datetime.date(2004, 3, 2), 'Shipped', None, 239)\n",
      "(10227, datetime.date(2004, 3, 2), datetime.date(2004, 3, 12), datetime.date(2004, 3, 8), 'Shipped', None, 146)\n",
      "(10228, datetime.date(2004, 3, 10), datetime.date(2004, 3, 18), datetime.date(2004, 3, 13), 'Shipped', None, 173)\n",
      "(10229, datetime.date(2004, 3, 11), datetime.date(2004, 3, 20), datetime.date(2004, 3, 12), 'Shipped', None, 124)\n",
      "(10230, datetime.date(2004, 3, 15), datetime.date(2004, 3, 24), datetime.date(2004, 3, 20), 'Shipped', 'Customer very concerned about the exact color of the models. There is high risk that he may dispute the order because there is a slight color mismatch', 128)\n",
      "(10231, datetime.date(2004, 3, 19), datetime.date(2004, 3, 26), datetime.date(2004, 3, 25), 'Shipped', None, 344)\n",
      "(10232, datetime.date(2004, 3, 20), datetime.date(2004, 3, 30), datetime.date(2004, 3, 25), 'Shipped', None, 240)\n",
      "(10233, datetime.date(2004, 3, 29), datetime.date(2004, 4, 4), datetime.date(2004, 4, 2), 'Shipped', 'Customer requested special shippment. The instructions were passed along to the warehouse', 328)\n",
      "(10234, datetime.date(2004, 3, 30), datetime.date(2004, 4, 5), datetime.date(2004, 4, 2), 'Shipped', None, 412)\n",
      "(10235, datetime.date(2004, 4, 2), datetime.date(2004, 4, 12), datetime.date(2004, 4, 6), 'Shipped', None, 260)\n",
      "(10236, datetime.date(2004, 4, 3), datetime.date(2004, 4, 11), datetime.date(2004, 4, 8), 'Shipped', None, 486)\n",
      "(10237, datetime.date(2004, 4, 5), datetime.date(2004, 4, 12), datetime.date(2004, 4, 10), 'Shipped', None, 181)\n",
      "(10238, datetime.date(2004, 4, 9), datetime.date(2004, 4, 16), datetime.date(2004, 4, 10), 'Shipped', None, 145)\n",
      "(10239, datetime.date(2004, 4, 12), datetime.date(2004, 4, 21), datetime.date(2004, 4, 17), 'Shipped', None, 311)\n",
      "(10240, datetime.date(2004, 4, 13), datetime.date(2004, 4, 20), datetime.date(2004, 4, 20), 'Shipped', None, 177)\n",
      "(10241, datetime.date(2004, 4, 13), datetime.date(2004, 4, 20), datetime.date(2004, 4, 19), 'Shipped', None, 209)\n",
      "(10242, datetime.date(2004, 4, 20), datetime.date(2004, 4, 28), datetime.date(2004, 4, 25), 'Shipped', 'Customer is interested in buying more Ferrari models', 456)\n",
      "(10243, datetime.date(2004, 4, 26), datetime.date(2004, 5, 3), datetime.date(2004, 4, 28), 'Shipped', None, 495)\n",
      "(10244, datetime.date(2004, 4, 29), datetime.date(2004, 5, 9), datetime.date(2004, 5, 4), 'Shipped', None, 141)\n",
      "(10245, datetime.date(2004, 5, 4), datetime.date(2004, 5, 12), datetime.date(2004, 5, 9), 'Shipped', None, 455)\n",
      "(10246, datetime.date(2004, 5, 5), datetime.date(2004, 5, 13), datetime.date(2004, 5, 6), 'Shipped', None, 141)\n",
      "(10247, datetime.date(2004, 5, 5), datetime.date(2004, 5, 11), datetime.date(2004, 5, 8), 'Shipped', None, 334)\n",
      "(10248, datetime.date(2004, 5, 7), datetime.date(2004, 5, 14), None, 'Cancelled', 'Order was mistakenly placed. The warehouse noticed the lack of documentation.', 131)\n",
      "(10249, datetime.date(2004, 5, 8), datetime.date(2004, 5, 17), datetime.date(2004, 5, 11), 'Shipped', 'Can we deliver the new Ford Mustang models by end-of-quarter?', 173)\n",
      "(10250, datetime.date(2004, 5, 11), datetime.date(2004, 5, 19), datetime.date(2004, 5, 15), 'Shipped', None, 450)\n",
      "(10251, datetime.date(2004, 5, 18), datetime.date(2004, 5, 24), datetime.date(2004, 5, 24), 'Shipped', None, 328)\n",
      "(10252, datetime.date(2004, 5, 26), datetime.date(2004, 6, 4), datetime.date(2004, 5, 29), 'Shipped', None, 406)\n",
      "(10253, datetime.date(2004, 6, 1), datetime.date(2004, 6, 9), datetime.date(2004, 6, 2), 'Cancelled', 'Customer disputed the order and we agreed to cancel it. We must be more cautions with this customer going forward, since they are very hard to please. We must cover the shipping fees.', 201)\n",
      "(10254, datetime.date(2004, 6, 3), datetime.date(2004, 6, 13), datetime.date(2004, 6, 4), 'Shipped', 'Customer requested that DHL is used for this shipping', 323)\n",
      "(10255, datetime.date(2004, 6, 4), datetime.date(2004, 6, 12), datetime.date(2004, 6, 9), 'Shipped', None, 209)\n",
      "(10256, datetime.date(2004, 6, 8), datetime.date(2004, 6, 16), datetime.date(2004, 6, 10), 'Shipped', None, 145)\n",
      "(10257, datetime.date(2004, 6, 14), datetime.date(2004, 6, 24), datetime.date(2004, 6, 15), 'Shipped', None, 450)\n",
      "(10258, datetime.date(2004, 6, 15), datetime.date(2004, 6, 25), datetime.date(2004, 6, 23), 'Shipped', None, 398)\n",
      "(10259, datetime.date(2004, 6, 15), datetime.date(2004, 6, 22), datetime.date(2004, 6, 17), 'Shipped', None, 166)\n",
      "(10260, datetime.date(2004, 6, 16), datetime.date(2004, 6, 22), None, 'Cancelled', 'Customer heard complaints from their customers and called to cancel this order. Will notify the Sales Manager.', 357)\n",
      "(10261, datetime.date(2004, 6, 17), datetime.date(2004, 6, 25), datetime.date(2004, 6, 22), 'Shipped', None, 233)\n",
      "(10262, datetime.date(2004, 6, 24), datetime.date(2004, 7, 1), None, 'Cancelled', 'This customer found a better offer from one of our competitors. Will call back to renegotiate.', 141)\n",
      "(10263, datetime.date(2004, 6, 28), datetime.date(2004, 7, 4), datetime.date(2004, 7, 2), 'Shipped', None, 175)\n",
      "(10264, datetime.date(2004, 6, 30), datetime.date(2004, 7, 6), datetime.date(2004, 7, 1), 'Shipped', 'Customer will send a truck to our local warehouse on 7/1/2004', 362)\n",
      "(10265, datetime.date(2004, 7, 2), datetime.date(2004, 7, 9), datetime.date(2004, 7, 7), 'Shipped', None, 471)\n",
      "(10266, datetime.date(2004, 7, 6), datetime.date(2004, 7, 14), datetime.date(2004, 7, 10), 'Shipped', None, 386)\n",
      "(10267, datetime.date(2004, 7, 7), datetime.date(2004, 7, 17), datetime.date(2004, 7, 9), 'Shipped', None, 151)\n",
      "(10268, datetime.date(2004, 7, 12), datetime.date(2004, 7, 18), datetime.date(2004, 7, 14), 'Shipped', None, 412)\n",
      "(10269, datetime.date(2004, 7, 16), datetime.date(2004, 7, 22), datetime.date(2004, 7, 18), 'Shipped', None, 382)\n",
      "(10270, datetime.date(2004, 7, 19), datetime.date(2004, 7, 27), datetime.date(2004, 7, 24), 'Shipped', 'Can we renegotiate this one?', 282)\n",
      "(10271, datetime.date(2004, 7, 20), datetime.date(2004, 7, 29), datetime.date(2004, 7, 23), 'Shipped', None, 124)\n",
      "(10272, datetime.date(2004, 7, 20), datetime.date(2004, 7, 26), datetime.date(2004, 7, 22), 'Shipped', None, 157)\n",
      "(10273, datetime.date(2004, 7, 21), datetime.date(2004, 7, 28), datetime.date(2004, 7, 22), 'Shipped', None, 314)\n",
      "(10274, datetime.date(2004, 7, 21), datetime.date(2004, 7, 29), datetime.date(2004, 7, 22), 'Shipped', None, 379)\n",
      "(10275, datetime.date(2004, 7, 23), datetime.date(2004, 8, 2), datetime.date(2004, 7, 29), 'Shipped', None, 119)\n",
      "(10276, datetime.date(2004, 8, 2), datetime.date(2004, 8, 11), datetime.date(2004, 8, 8), 'Shipped', None, 204)\n",
      "(10277, datetime.date(2004, 8, 4), datetime.date(2004, 8, 12), datetime.date(2004, 8, 5), 'Shipped', None, 148)\n",
      "(10278, datetime.date(2004, 8, 6), datetime.date(2004, 8, 16), datetime.date(2004, 8, 9), 'Shipped', None, 112)\n",
      "(10279, datetime.date(2004, 8, 9), datetime.date(2004, 8, 19), datetime.date(2004, 8, 15), 'Shipped', 'Cautious optimism. We have happy customers here, if we can keep them well stocked.  I need all the information I can get on the planned shippments of Porches', 141)\n",
      "(10280, datetime.date(2004, 8, 17), datetime.date(2004, 8, 27), datetime.date(2004, 8, 19), 'Shipped', None, 249)\n",
      "(10281, datetime.date(2004, 8, 19), datetime.date(2004, 8, 28), datetime.date(2004, 8, 23), 'Shipped', None, 157)\n",
      "(10282, datetime.date(2004, 8, 20), datetime.date(2004, 8, 26), datetime.date(2004, 8, 22), 'Shipped', None, 124)\n",
      "(10283, datetime.date(2004, 8, 20), datetime.date(2004, 8, 30), datetime.date(2004, 8, 23), 'Shipped', None, 260)\n",
      "(10284, datetime.date(2004, 8, 21), datetime.date(2004, 8, 29), datetime.date(2004, 8, 26), 'Shipped', 'Custom shipping instructions sent to warehouse', 299)\n",
      "(10285, datetime.date(2004, 8, 27), datetime.date(2004, 9, 4), datetime.date(2004, 8, 31), 'Shipped', None, 286)\n",
      "(10286, datetime.date(2004, 8, 28), datetime.date(2004, 9, 6), datetime.date(2004, 9, 1), 'Shipped', None, 172)\n",
      "(10287, datetime.date(2004, 8, 30), datetime.date(2004, 9, 6), datetime.date(2004, 9, 1), 'Shipped', None, 298)\n",
      "(10288, datetime.date(2004, 9, 1), datetime.date(2004, 9, 11), datetime.date(2004, 9, 5), 'Shipped', None, 166)\n",
      "(10289, datetime.date(2004, 9, 3), datetime.date(2004, 9, 13), datetime.date(2004, 9, 4), 'Shipped', 'We need to keep in close contact with their Marketing VP. He is the decision maker for all their purchases.', 167)\n",
      "(10290, datetime.date(2004, 9, 7), datetime.date(2004, 9, 15), datetime.date(2004, 9, 13), 'Shipped', None, 198)\n",
      "(10291, datetime.date(2004, 9, 8), datetime.date(2004, 9, 17), datetime.date(2004, 9, 14), 'Shipped', None, 448)\n",
      "(10292, datetime.date(2004, 9, 8), datetime.date(2004, 9, 18), datetime.date(2004, 9, 11), 'Shipped', 'They want to reevaluate their terms agreement with Finance.', 131)\n",
      "(10293, datetime.date(2004, 9, 9), datetime.date(2004, 9, 18), datetime.date(2004, 9, 14), 'Shipped', None, 249)\n",
      "(10294, datetime.date(2004, 9, 10), datetime.date(2004, 9, 17), datetime.date(2004, 9, 14), 'Shipped', None, 204)\n",
      "(10295, datetime.date(2004, 9, 10), datetime.date(2004, 9, 17), datetime.date(2004, 9, 14), 'Shipped', 'They want to reevaluate their terms agreement with Finance.', 362)\n",
      "(10296, datetime.date(2004, 9, 15), datetime.date(2004, 9, 22), datetime.date(2004, 9, 16), 'Shipped', None, 415)\n",
      "(10297, datetime.date(2004, 9, 16), datetime.date(2004, 9, 22), datetime.date(2004, 9, 21), 'Shipped', 'We must be cautions with this customer. Their VP of Sales resigned. Company may be heading down.', 189)\n",
      "(10298, datetime.date(2004, 9, 27), datetime.date(2004, 10, 5), datetime.date(2004, 10, 1), 'Shipped', None, 103)\n",
      "(10299, datetime.date(2004, 9, 30), datetime.date(2004, 10, 10), datetime.date(2004, 10, 1), 'Shipped', None, 186)\n",
      "(10300, datetime.date(2003, 10, 4), datetime.date(2003, 10, 13), datetime.date(2003, 10, 9), 'Shipped', None, 128)\n",
      "(10301, datetime.date(2003, 10, 5), datetime.date(2003, 10, 15), datetime.date(2003, 10, 8), 'Shipped', None, 299)\n",
      "(10302, datetime.date(2003, 10, 6), datetime.date(2003, 10, 16), datetime.date(2003, 10, 7), 'Shipped', None, 201)\n",
      "(10303, datetime.date(2004, 10, 6), datetime.date(2004, 10, 14), datetime.date(2004, 10, 9), 'Shipped', 'Customer inquired about remote controlled models and gold models.', 484)\n",
      "(10304, datetime.date(2004, 10, 11), datetime.date(2004, 10, 20), datetime.date(2004, 10, 17), 'Shipped', None, 256)\n",
      "(10305, datetime.date(2004, 10, 13), datetime.date(2004, 10, 22), datetime.date(2004, 10, 15), 'Shipped', 'Check on availability.', 286)\n",
      "(10306, datetime.date(2004, 10, 14), datetime.date(2004, 10, 21), datetime.date(2004, 10, 17), 'Shipped', None, 187)\n",
      "(10307, datetime.date(2004, 10, 14), datetime.date(2004, 10, 23), datetime.date(2004, 10, 20), 'Shipped', None, 339)\n",
      "(10308, datetime.date(2004, 10, 15), datetime.date(2004, 10, 24), datetime.date(2004, 10, 20), 'Shipped', 'Customer requested that FedEx Ground is used for this shipping', 319)\n",
      "(10309, datetime.date(2004, 10, 15), datetime.date(2004, 10, 24), datetime.date(2004, 10, 18), 'Shipped', None, 121)\n",
      "(10310, datetime.date(2004, 10, 16), datetime.date(2004, 10, 24), datetime.date(2004, 10, 18), 'Shipped', None, 259)\n",
      "(10311, datetime.date(2004, 10, 16), datetime.date(2004, 10, 23), datetime.date(2004, 10, 20), 'Shipped', 'Difficult to negotiate with customer. We need more marketing materials', 141)\n",
      "(10312, datetime.date(2004, 10, 21), datetime.date(2004, 10, 27), datetime.date(2004, 10, 23), 'Shipped', None, 124)\n",
      "(10313, datetime.date(2004, 10, 22), datetime.date(2004, 10, 28), datetime.date(2004, 10, 25), 'Shipped', 'Customer requested that FedEx Ground is used for this shipping', 202)\n",
      "(10314, datetime.date(2004, 10, 22), datetime.date(2004, 11, 1), datetime.date(2004, 10, 23), 'Shipped', None, 227)\n",
      "(10315, datetime.date(2004, 10, 29), datetime.date(2004, 11, 8), datetime.date(2004, 10, 30), 'Shipped', None, 119)\n",
      "(10316, datetime.date(2004, 11, 1), datetime.date(2004, 11, 9), datetime.date(2004, 11, 7), 'Shipped', 'Customer requested that ad materials (such as posters, pamphlets) be included in the shippment', 240)\n",
      "(10317, datetime.date(2004, 11, 2), datetime.date(2004, 11, 12), datetime.date(2004, 11, 8), 'Shipped', None, 161)\n",
      "(10318, datetime.date(2004, 11, 2), datetime.date(2004, 11, 9), datetime.date(2004, 11, 7), 'Shipped', None, 157)\n",
      "(10319, datetime.date(2004, 11, 3), datetime.date(2004, 11, 11), datetime.date(2004, 11, 6), 'Shipped', 'Customer requested that DHL is used for this shipping', 456)\n",
      "(10320, datetime.date(2004, 11, 3), datetime.date(2004, 11, 13), datetime.date(2004, 11, 7), 'Shipped', None, 144)\n",
      "(10321, datetime.date(2004, 11, 4), datetime.date(2004, 11, 12), datetime.date(2004, 11, 7), 'Shipped', None, 462)\n",
      "(10322, datetime.date(2004, 11, 4), datetime.date(2004, 11, 12), datetime.date(2004, 11, 10), 'Shipped', 'Customer has worked with some of our vendors in the past and is aware of their MSRP', 363)\n",
      "(10323, datetime.date(2004, 11, 5), datetime.date(2004, 11, 12), datetime.date(2004, 11, 9), 'Shipped', None, 128)\n",
      "(10324, datetime.date(2004, 11, 5), datetime.date(2004, 11, 11), datetime.date(2004, 11, 8), 'Shipped', None, 181)\n",
      "(10325, datetime.date(2004, 11, 5), datetime.date(2004, 11, 13), datetime.date(2004, 11, 8), 'Shipped', None, 121)\n",
      "(10326, datetime.date(2004, 11, 9), datetime.date(2004, 11, 16), datetime.date(2004, 11, 10), 'Shipped', None, 144)\n",
      "(10327, datetime.date(2004, 11, 10), datetime.date(2004, 11, 19), datetime.date(2004, 11, 13), 'Resolved', \"Order was disputed and resolved on 12/1/04. The Sales Manager was involved. Customer claims the scales of the models don't match what was discussed.\", 145)\n",
      "(10328, datetime.date(2004, 11, 12), datetime.date(2004, 11, 21), datetime.date(2004, 11, 18), 'Shipped', 'Customer very concerned about the exact color of the models. There is high risk that he may dispute the order because there is a slight color mismatch', 278)\n",
      "(10329, datetime.date(2004, 11, 15), datetime.date(2004, 11, 24), datetime.date(2004, 11, 16), 'Shipped', None, 131)\n",
      "(10330, datetime.date(2004, 11, 16), datetime.date(2004, 11, 25), datetime.date(2004, 11, 21), 'Shipped', None, 385)\n",
      "(10331, datetime.date(2004, 11, 17), datetime.date(2004, 11, 23), datetime.date(2004, 11, 23), 'Shipped', 'Customer requested special shippment. The instructions were passed along to the warehouse', 486)\n",
      "(10332, datetime.date(2004, 11, 17), datetime.date(2004, 11, 25), datetime.date(2004, 11, 18), 'Shipped', None, 187)\n",
      "(10333, datetime.date(2004, 11, 18), datetime.date(2004, 11, 27), datetime.date(2004, 11, 20), 'Shipped', None, 129)\n",
      "(10334, datetime.date(2004, 11, 19), datetime.date(2004, 11, 28), None, 'On Hold', 'The outstaniding balance for this customer exceeds their credit limit. Order will be shipped when a payment is received.', 144)\n",
      "(10335, datetime.date(2004, 11, 19), datetime.date(2004, 11, 29), datetime.date(2004, 11, 23), 'Shipped', None, 124)\n",
      "(10336, datetime.date(2004, 11, 20), datetime.date(2004, 11, 26), datetime.date(2004, 11, 24), 'Shipped', 'Customer requested that DHL is used for this shipping', 172)\n",
      "(10337, datetime.date(2004, 11, 21), datetime.date(2004, 11, 30), datetime.date(2004, 11, 26), 'Shipped', None, 424)\n",
      "(10338, datetime.date(2004, 11, 22), datetime.date(2004, 12, 2), datetime.date(2004, 11, 27), 'Shipped', None, 381)\n",
      "(10339, datetime.date(2004, 11, 23), datetime.date(2004, 11, 30), datetime.date(2004, 11, 30), 'Shipped', None, 398)\n",
      "(10340, datetime.date(2004, 11, 24), datetime.date(2004, 12, 1), datetime.date(2004, 11, 25), 'Shipped', 'Customer is interested in buying more Ferrari models', 216)\n",
      "(10341, datetime.date(2004, 11, 24), datetime.date(2004, 12, 1), datetime.date(2004, 11, 29), 'Shipped', None, 382)\n",
      "(10342, datetime.date(2004, 11, 24), datetime.date(2004, 12, 1), datetime.date(2004, 11, 29), 'Shipped', None, 114)\n",
      "(10343, datetime.date(2004, 11, 24), datetime.date(2004, 12, 1), datetime.date(2004, 11, 26), 'Shipped', None, 353)\n",
      "(10344, datetime.date(2004, 11, 25), datetime.date(2004, 12, 2), datetime.date(2004, 11, 29), 'Shipped', None, 350)\n",
      "(10345, datetime.date(2004, 11, 25), datetime.date(2004, 12, 1), datetime.date(2004, 11, 26), 'Shipped', None, 103)\n",
      "(10346, datetime.date(2004, 11, 29), datetime.date(2004, 12, 5), datetime.date(2004, 11, 30), 'Shipped', None, 112)\n",
      "(10347, datetime.date(2004, 11, 29), datetime.date(2004, 12, 7), datetime.date(2004, 11, 30), 'Shipped', 'Can we deliver the new Ford Mustang models by end-of-quarter?', 114)\n",
      "(10348, datetime.date(2004, 11, 1), datetime.date(2004, 11, 8), datetime.date(2004, 11, 5), 'Shipped', None, 458)\n",
      "(10349, datetime.date(2004, 12, 1), datetime.date(2004, 12, 7), datetime.date(2004, 12, 3), 'Shipped', None, 151)\n",
      "(10350, datetime.date(2004, 12, 2), datetime.date(2004, 12, 8), datetime.date(2004, 12, 5), 'Shipped', None, 141)\n",
      "(10351, datetime.date(2004, 12, 3), datetime.date(2004, 12, 11), datetime.date(2004, 12, 7), 'Shipped', None, 324)\n",
      "(10352, datetime.date(2004, 12, 3), datetime.date(2004, 12, 12), datetime.date(2004, 12, 9), 'Shipped', None, 198)\n",
      "(10353, datetime.date(2004, 12, 4), datetime.date(2004, 12, 11), datetime.date(2004, 12, 5), 'Shipped', None, 447)\n",
      "(10354, datetime.date(2004, 12, 4), datetime.date(2004, 12, 10), datetime.date(2004, 12, 5), 'Shipped', None, 323)\n",
      "(10355, datetime.date(2004, 12, 7), datetime.date(2004, 12, 14), datetime.date(2004, 12, 13), 'Shipped', None, 141)\n",
      "(10356, datetime.date(2004, 12, 9), datetime.date(2004, 12, 15), datetime.date(2004, 12, 12), 'Shipped', None, 250)\n",
      "(10357, datetime.date(2004, 12, 10), datetime.date(2004, 12, 16), datetime.date(2004, 12, 14), 'Shipped', None, 124)\n",
      "(10358, datetime.date(2004, 12, 10), datetime.date(2004, 12, 16), datetime.date(2004, 12, 16), 'Shipped', 'Customer requested that DHL is used for this shipping', 141)\n",
      "(10359, datetime.date(2004, 12, 15), datetime.date(2004, 12, 23), datetime.date(2004, 12, 18), 'Shipped', None, 353)\n",
      "(10360, datetime.date(2004, 12, 16), datetime.date(2004, 12, 22), datetime.date(2004, 12, 18), 'Shipped', None, 496)\n",
      "(10361, datetime.date(2004, 12, 17), datetime.date(2004, 12, 24), datetime.date(2004, 12, 20), 'Shipped', None, 282)\n",
      "(10362, datetime.date(2005, 1, 5), datetime.date(2005, 1, 16), datetime.date(2005, 1, 10), 'Shipped', None, 161)\n",
      "(10363, datetime.date(2005, 1, 6), datetime.date(2005, 1, 12), datetime.date(2005, 1, 10), 'Shipped', None, 334)\n",
      "(10364, datetime.date(2005, 1, 6), datetime.date(2005, 1, 17), datetime.date(2005, 1, 9), 'Shipped', None, 350)\n",
      "(10365, datetime.date(2005, 1, 7), datetime.date(2005, 1, 18), datetime.date(2005, 1, 11), 'Shipped', None, 320)\n",
      "(10366, datetime.date(2005, 1, 10), datetime.date(2005, 1, 19), datetime.date(2005, 1, 12), 'Shipped', None, 381)\n",
      "(10367, datetime.date(2005, 1, 12), datetime.date(2005, 1, 21), datetime.date(2005, 1, 16), 'Resolved', \"This order was disputed and resolved on 2/1/2005. Customer claimed that container with shipment was damaged. FedEx's investigation proved this wrong.\", 205)\n",
      "(10368, datetime.date(2005, 1, 19), datetime.date(2005, 1, 27), datetime.date(2005, 1, 24), 'Shipped', 'Can we renegotiate this one?', 124)\n",
      "(10369, datetime.date(2005, 1, 20), datetime.date(2005, 1, 28), datetime.date(2005, 1, 24), 'Shipped', None, 379)\n",
      "(10370, datetime.date(2005, 1, 20), datetime.date(2005, 2, 1), datetime.date(2005, 1, 25), 'Shipped', None, 276)\n",
      "(10371, datetime.date(2005, 1, 23), datetime.date(2005, 2, 3), datetime.date(2005, 1, 25), 'Shipped', None, 124)\n",
      "(10372, datetime.date(2005, 1, 26), datetime.date(2005, 2, 5), datetime.date(2005, 1, 28), 'Shipped', None, 398)\n",
      "(10373, datetime.date(2005, 1, 31), datetime.date(2005, 2, 8), datetime.date(2005, 2, 6), 'Shipped', None, 311)\n",
      "(10374, datetime.date(2005, 2, 2), datetime.date(2005, 2, 9), datetime.date(2005, 2, 3), 'Shipped', None, 333)\n",
      "(10375, datetime.date(2005, 2, 3), datetime.date(2005, 2, 10), datetime.date(2005, 2, 6), 'Shipped', None, 119)\n",
      "(10376, datetime.date(2005, 2, 8), datetime.date(2005, 2, 18), datetime.date(2005, 2, 13), 'Shipped', None, 219)\n",
      "(10377, datetime.date(2005, 2, 9), datetime.date(2005, 2, 21), datetime.date(2005, 2, 12), 'Shipped', 'Cautious optimism. We have happy customers here, if we can keep them well stocked.  I need all the information I can get on the planned shippments of Porches', 186)\n",
      "(10378, datetime.date(2005, 2, 10), datetime.date(2005, 2, 18), datetime.date(2005, 2, 11), 'Shipped', None, 141)\n",
      "(10379, datetime.date(2005, 2, 10), datetime.date(2005, 2, 18), datetime.date(2005, 2, 11), 'Shipped', None, 141)\n",
      "(10380, datetime.date(2005, 2, 16), datetime.date(2005, 2, 24), datetime.date(2005, 2, 18), 'Shipped', None, 141)\n",
      "(10381, datetime.date(2005, 2, 17), datetime.date(2005, 2, 25), datetime.date(2005, 2, 18), 'Shipped', None, 321)\n",
      "(10382, datetime.date(2005, 2, 17), datetime.date(2005, 2, 23), datetime.date(2005, 2, 18), 'Shipped', 'Custom shipping instructions sent to warehouse', 124)\n",
      "(10383, datetime.date(2005, 2, 22), datetime.date(2005, 3, 2), datetime.date(2005, 2, 25), 'Shipped', None, 141)\n",
      "(10384, datetime.date(2005, 2, 23), datetime.date(2005, 3, 6), datetime.date(2005, 2, 27), 'Shipped', None, 321)\n",
      "(10385, datetime.date(2005, 2, 28), datetime.date(2005, 3, 9), datetime.date(2005, 3, 1), 'Shipped', None, 124)\n",
      "(10386, datetime.date(2005, 3, 1), datetime.date(2005, 3, 9), datetime.date(2005, 3, 6), 'Resolved', \"Disputed then Resolved on 3/15/2005. Customer doesn't like the craftsmaship of the models.\", 141)\n",
      "(10387, datetime.date(2005, 3, 2), datetime.date(2005, 3, 9), datetime.date(2005, 3, 6), 'Shipped', 'We need to keep in close contact with their Marketing VP. He is the decision maker for all their purchases.', 148)\n",
      "(10388, datetime.date(2005, 3, 3), datetime.date(2005, 3, 11), datetime.date(2005, 3, 9), 'Shipped', None, 462)\n",
      "(10389, datetime.date(2005, 3, 3), datetime.date(2005, 3, 9), datetime.date(2005, 3, 8), 'Shipped', None, 448)\n",
      "(10390, datetime.date(2005, 3, 4), datetime.date(2005, 3, 11), datetime.date(2005, 3, 7), 'Shipped', 'They want to reevaluate their terms agreement with Finance.', 124)\n",
      "(10391, datetime.date(2005, 3, 9), datetime.date(2005, 3, 20), datetime.date(2005, 3, 15), 'Shipped', None, 276)\n",
      "(10392, datetime.date(2005, 3, 10), datetime.date(2005, 3, 18), datetime.date(2005, 3, 12), 'Shipped', None, 452)\n",
      "(10393, datetime.date(2005, 3, 11), datetime.date(2005, 3, 22), datetime.date(2005, 3, 14), 'Shipped', 'They want to reevaluate their terms agreement with Finance.', 323)\n",
      "(10394, datetime.date(2005, 3, 15), datetime.date(2005, 3, 25), datetime.date(2005, 3, 19), 'Shipped', None, 141)\n",
      "(10395, datetime.date(2005, 3, 17), datetime.date(2005, 3, 24), datetime.date(2005, 3, 23), 'Shipped', 'We must be cautions with this customer. Their VP of Sales resigned. Company may be heading down.', 250)\n",
      "(10396, datetime.date(2005, 3, 23), datetime.date(2005, 4, 2), datetime.date(2005, 3, 28), 'Shipped', None, 124)\n",
      "(10397, datetime.date(2005, 3, 28), datetime.date(2005, 4, 9), datetime.date(2005, 4, 1), 'Shipped', None, 242)\n",
      "(10398, datetime.date(2005, 3, 30), datetime.date(2005, 4, 9), datetime.date(2005, 3, 31), 'Shipped', None, 353)\n",
      "(10399, datetime.date(2005, 4, 1), datetime.date(2005, 4, 12), datetime.date(2005, 4, 3), 'Shipped', None, 496)\n",
      "(10400, datetime.date(2005, 4, 1), datetime.date(2005, 4, 11), datetime.date(2005, 4, 4), 'Shipped', 'Customer requested that DHL is used for this shipping', 450)\n",
      "(10401, datetime.date(2005, 4, 3), datetime.date(2005, 4, 14), None, 'On Hold', 'Customer credit limit exceeded. Will ship when a payment is received.', 328)\n",
      "(10402, datetime.date(2005, 4, 7), datetime.date(2005, 4, 14), datetime.date(2005, 4, 12), 'Shipped', None, 406)\n",
      "(10403, datetime.date(2005, 4, 8), datetime.date(2005, 4, 18), datetime.date(2005, 4, 11), 'Shipped', None, 201)\n",
      "(10404, datetime.date(2005, 4, 8), datetime.date(2005, 4, 14), datetime.date(2005, 4, 11), 'Shipped', None, 323)\n",
      "(10405, datetime.date(2005, 4, 14), datetime.date(2005, 4, 24), datetime.date(2005, 4, 20), 'Shipped', None, 209)\n",
      "(10406, datetime.date(2005, 4, 15), datetime.date(2005, 4, 25), datetime.date(2005, 4, 21), 'Disputed', 'Customer claims container with shipment was damaged during shipping and some items were missing. I am talking to FedEx about this.', 145)\n",
      "(10407, datetime.date(2005, 4, 22), datetime.date(2005, 5, 4), None, 'On Hold', 'Customer credit limit exceeded. Will ship when a payment is received.', 450)\n",
      "(10408, datetime.date(2005, 4, 22), datetime.date(2005, 4, 29), datetime.date(2005, 4, 27), 'Shipped', None, 398)\n",
      "(10409, datetime.date(2005, 4, 23), datetime.date(2005, 5, 5), datetime.date(2005, 4, 24), 'Shipped', None, 166)\n",
      "(10410, datetime.date(2005, 4, 29), datetime.date(2005, 5, 10), datetime.date(2005, 4, 30), 'Shipped', None, 357)\n",
      "(10411, datetime.date(2005, 5, 1), datetime.date(2005, 5, 8), datetime.date(2005, 5, 6), 'Shipped', None, 233)\n",
      "(10412, datetime.date(2005, 5, 3), datetime.date(2005, 5, 13), datetime.date(2005, 5, 5), 'Shipped', None, 141)\n",
      "(10413, datetime.date(2005, 5, 5), datetime.date(2005, 5, 14), datetime.date(2005, 5, 9), 'Shipped', 'Customer requested that DHL is used for this shipping', 175)\n",
      "(10414, datetime.date(2005, 5, 6), datetime.date(2005, 5, 13), None, 'On Hold', 'Customer credit limit exceeded. Will ship when a payment is received.', 362)\n",
      "(10415, datetime.date(2005, 5, 9), datetime.date(2005, 5, 20), datetime.date(2005, 5, 12), 'Disputed', \"Customer claims the scales of the models don't match what was discussed. I keep all the paperwork though to prove otherwise\", 471)\n",
      "(10416, datetime.date(2005, 5, 10), datetime.date(2005, 5, 16), datetime.date(2005, 5, 14), 'Shipped', None, 386)\n",
      "(10417, datetime.date(2005, 5, 13), datetime.date(2005, 5, 19), datetime.date(2005, 5, 19), 'Disputed', \"Customer doesn't like the colors and precision of the models.\", 141)\n",
      "(10418, datetime.date(2005, 5, 16), datetime.date(2005, 5, 24), datetime.date(2005, 5, 20), 'Shipped', None, 412)\n",
      "(10419, datetime.date(2005, 5, 17), datetime.date(2005, 5, 28), datetime.date(2005, 5, 19), 'Shipped', None, 382)\n",
      "(10420, datetime.date(2005, 5, 29), datetime.date(2005, 6, 7), None, 'In Process', None, 282)\n",
      "(10421, datetime.date(2005, 5, 29), datetime.date(2005, 6, 6), None, 'In Process', 'Custom shipping instructions were sent to warehouse', 124)\n",
      "(10422, datetime.date(2005, 5, 30), datetime.date(2005, 6, 11), None, 'In Process', None, 157)\n",
      "(10423, datetime.date(2005, 5, 30), datetime.date(2005, 6, 5), None, 'In Process', None, 314)\n",
      "(10424, datetime.date(2005, 5, 31), datetime.date(2005, 6, 8), None, 'In Process', None, 141)\n",
      "(10425, datetime.date(2005, 5, 31), datetime.date(2005, 6, 7), None, 'In Process', None, 119)\n"
     ]
    }
   ],
   "source": [
    "# Select all records from the \"customers\" table, and display the result:\n",
    "\n",
    "\n",
    "mycursor = mydb.cursor()\n",
    "\n",
    "mycursor.execute(\"SELECT * FROM orders\")\n",
    "\n",
    "myresult = mycursor.fetchall()\n",
    "\n",
    "for x in myresult:\n",
    "    print(x)"
   ]
  },
  {
   "cell_type": "markdown",
   "metadata": {},
   "source": [
    "- Note: We use the fetchall() method, which fetches all rows from the last executed statement."
   ]
  },
  {
   "cell_type": "markdown",
   "metadata": {},
   "source": [
    "# Selecting Columns\n",
    "To select only some of the columns in a table, use the \"SELECT\" statement followed by the column name(s):"
   ]
  },
  {
   "cell_type": "code",
   "execution_count": 33,
   "metadata": {},
   "outputs": [
    {
     "name": "stdout",
     "output_type": "stream",
     "text": [
      "('John', 'Highway 21')\n",
      "('Peter', 'Lowstreet 4')\n",
      "('Amy', 'Apple st 652')\n",
      "('Hannah', 'Mountain 21')\n",
      "('Michael', 'Valley 345')\n",
      "('Sandy', 'Ocean blvd 2')\n",
      "('Betty', 'Green Grass 1')\n",
      "('Richard', 'Sky st 331')\n",
      "('Susan', 'One way 98')\n",
      "('Vicky', 'Yellow Garden 2')\n",
      "('Ben', 'Park Lane 38')\n",
      "('William', 'Central st 954')\n",
      "('Chuck', 'Main Road 989')\n",
      "('Viola', 'Sideway 1633')\n",
      "('Michelle', 'Blue Village')\n"
     ]
    }
   ],
   "source": [
    "# Select only the name and address columns:\n",
    "\n",
    "\n",
    "mycursor = mydb.cursor()\n",
    "\n",
    "mycursor.execute(\"SELECT name, address FROM customers1\")\n",
    "\n",
    "myresult = mycursor.fetchall()\n",
    "\n",
    "for x in myresult:\n",
    "    print(x)"
   ]
  },
  {
   "cell_type": "markdown",
   "metadata": {},
   "source": [
    "# Using the fetchone() Method\n",
    "If you are only interested in one row, you can use the fetchone() method.\n",
    "\n",
    "The fetchone() method will return the first row of the result:"
   ]
  },
  {
   "cell_type": "code",
   "execution_count": 29,
   "metadata": {},
   "outputs": [
    {
     "name": "stdout",
     "output_type": "stream",
     "text": [
      "('John', 'Highway 21', 1)\n"
     ]
    }
   ],
   "source": [
    "# Fetch only one row:\n",
    "\n",
    "mycursor = mydb.cursor()\n",
    "\n",
    "mycursor.execute(\"SELECT * FROM customers1\")\n",
    "\n",
    "myresult = mycursor.fetchone()\n",
    "\n",
    "print(myresult)"
   ]
  },
  {
   "cell_type": "markdown",
   "metadata": {},
   "source": [
    "# Select With a Filter\n",
    "When selecting records from a table, you can filter the selection by using the \"WHERE\" statement:"
   ]
  },
  {
   "cell_type": "code",
   "execution_count": 34,
   "metadata": {},
   "outputs": [
    {
     "name": "stdout",
     "output_type": "stream",
     "text": [
      "('Ben', 'Park Lane 38', 11)\n"
     ]
    }
   ],
   "source": [
    "# Select record(s) where the address is \"Park Lane 38\": result:\n",
    "\n",
    "\n",
    "mycursor = mydb.cursor()\n",
    "\n",
    "sql = \"SELECT * FROM customers1 WHERE address ='Park Lane 38'\"\n",
    "\n",
    "mycursor.execute(sql)\n",
    "\n",
    "myresult = mycursor.fetchall()\n",
    "\n",
    "for x in myresult:\n",
    "    print(x)\n"
   ]
  },
  {
   "cell_type": "markdown",
   "metadata": {},
   "source": [
    "# Wildcard Characters\n",
    "You can also select the records that starts, includes, or ends with a given letter or phrase.\n",
    "\n",
    "Use the %  to represent wildcard characters:"
   ]
  },
  {
   "cell_type": "code",
   "execution_count": 36,
   "metadata": {},
   "outputs": [
    {
     "name": "stdout",
     "output_type": "stream",
     "text": [
      "('John', 'Highway 21', 1)\n",
      "('Susan', 'One way 98', 9)\n",
      "('Viola', 'Sideway 1633', 14)\n"
     ]
    }
   ],
   "source": [
    "# Select records where the address contains the word \"way\":\n",
    "\n",
    "\n",
    "mycursor = mydb.cursor()\n",
    "\n",
    "sql = \"SELECT * FROM customers1 WHERE address LIKE '%way%'\"\n",
    "\n",
    "mycursor.execute(sql)\n",
    "\n",
    "myresult = mycursor.fetchall()\n",
    "\n",
    "for x in myresult:\n",
    "    print(x)"
   ]
  },
  {
   "cell_type": "markdown",
   "metadata": {},
   "source": [
    "# Prevent SQL Injection\n",
    "When query values are provided by the user, you should escape the values.\n",
    "\n",
    "This is to prevent SQL injections, which is a common web hacking technique to destroy or misuse your database.\n",
    "\n",
    "The mysql.connector module has methods to escape query values:"
   ]
  },
  {
   "cell_type": "code",
   "execution_count": 38,
   "metadata": {},
   "outputs": [
    {
     "name": "stdout",
     "output_type": "stream",
     "text": [
      "('Vicky', 'Yellow Garden 2', 10)\n"
     ]
    }
   ],
   "source": [
    "# Escape query values by using the placholder %s method:\n",
    "\n",
    "\n",
    "mycursor = mydb.cursor()\n",
    "\n",
    "sql = \"SELECT * FROM customers1 WHERE address = %s\"\n",
    "adr = (\"Yellow Garden 2\", )\n",
    "\n",
    "mycursor.execute(sql, adr)\n",
    "\n",
    "myresult = mycursor.fetchall()\n",
    "\n",
    "for x in myresult:\n",
    "    print(x)\n"
   ]
  },
  {
   "cell_type": "markdown",
   "metadata": {},
   "source": [
    "# Sort the Result\n",
    "Use the ORDER BY statement to sort the result in ascending or descending order.\n",
    "\n",
    "The ORDER BY keyword sorts the result ascending by default. To sort the result in descending order, use the DESC keyword."
   ]
  },
  {
   "cell_type": "code",
   "execution_count": 39,
   "metadata": {},
   "outputs": [
    {
     "name": "stdout",
     "output_type": "stream",
     "text": [
      "('Amy', 'Apple st 652', 3)\n",
      "('Ben', 'Park Lane 38', 11)\n",
      "('Betty', 'Green Grass 1', 7)\n",
      "('Chuck', 'Main Road 989', 13)\n",
      "('Hannah', 'Mountain 21', 4)\n",
      "('John', 'Highway 21', 1)\n",
      "('Michael', 'Valley 345', 5)\n",
      "('Michelle', 'Blue Village', 15)\n",
      "('Peter', 'Lowstreet 4', 2)\n",
      "('Richard', 'Sky st 331', 8)\n",
      "('Sandy', 'Ocean blvd 2', 6)\n",
      "('Susan', 'One way 98', 9)\n",
      "('Vicky', 'Yellow Garden 2', 10)\n",
      "('Viola', 'Sideway 1633', 14)\n",
      "('William', 'Central st 954', 12)\n"
     ]
    }
   ],
   "source": [
    "# Sort the result alphabetically by name: result:\n",
    "\n",
    "\n",
    "mycursor = mydb.cursor()\n",
    "\n",
    "sql = \"SELECT * FROM customers1 ORDER BY name\"\n",
    "\n",
    "mycursor.execute(sql)\n",
    "\n",
    "myresult = mycursor.fetchall()\n",
    "\n",
    "for x in myresult:\n",
    "    print(x)\n"
   ]
  },
  {
   "cell_type": "markdown",
   "metadata": {},
   "source": [
    "# ORDER BY DESC\n",
    "Use the DESC keyword to sort the result in a descending order."
   ]
  },
  {
   "cell_type": "code",
   "execution_count": 22,
   "metadata": {},
   "outputs": [
    {
     "name": "stdout",
     "output_type": "stream",
     "text": [
      "('William', 'Central st 954', 12)\n",
      "('Viola', 'Sideway 1633', 14)\n",
      "('Vicky', 'Yellow Garden 2', 10)\n",
      "('Susan', 'One way 98', 9)\n",
      "('Sandy', 'Ocean blvd 2', 6)\n",
      "('Richard', 'Sky st 331', 8)\n",
      "('Peter', 'Lowstreet 4', 2)\n",
      "('Michelle', 'Blue Village', 15)\n",
      "('Michael', 'Valley 345', 5)\n",
      "('John', 'Highway 21', 1)\n",
      "('Hannah', 'Mountain 21', 4)\n",
      "('Chuck', 'Main Road 989', 13)\n",
      "('Betty', 'Green Grass 1', 7)\n",
      "('Ben', 'Park Lane 38', 11)\n",
      "('Amy', 'Apple st 652', 3)\n"
     ]
    }
   ],
   "source": [
    "# Sort the result reverse alphabetically by name:\n",
    "\n",
    "\n",
    "mycursor = mydb.cursor()\n",
    "\n",
    "sql = \"SELECT * FROM customers ORDER BY name DESC\"\n",
    "\n",
    "mycursor.execute(sql)\n",
    "\n",
    "myresult = mycursor.fetchall()\n",
    "\n",
    "for x in myresult:\n",
    "    print(x)"
   ]
  },
  {
   "cell_type": "markdown",
   "metadata": {},
   "source": [
    "# Delete Record\n",
    "You can delete records from an existing table by using the \"DELETE FROM\" statement:"
   ]
  },
  {
   "cell_type": "code",
   "execution_count": 23,
   "metadata": {},
   "outputs": [
    {
     "name": "stdout",
     "output_type": "stream",
     "text": [
      "1 record(s) deleted\n"
     ]
    }
   ],
   "source": [
    "# Delete any record where the address is \"Mountain 21\"\n",
    "\n",
    "\n",
    "\n",
    "mycursor = mydb.cursor()\n",
    "\n",
    "sql = \"DELETE FROM customers WHERE address = 'Mountain 21'\"\n",
    "\n",
    "mycursor.execute(sql)\n",
    "\n",
    "mydb.commit()\n",
    "\n",
    "print(mycursor.rowcount, \"record(s) deleted\")\n"
   ]
  },
  {
   "cell_type": "markdown",
   "metadata": {},
   "source": [
    "> Important!: Notice the statement: mydb.commit(). It is required to make the changes, otherwise no changes are made to the table.\n",
    "\n",
    "> Notice the WHERE clause in the DELETE syntax: The WHERE clause specifies which record(s) that should be deleted. If you omit the WHERE clause, all records will be deleted!"
   ]
  },
  {
   "cell_type": "markdown",
   "metadata": {},
   "source": [
    "# Prevent SQL Injection\n",
    "It is considered a good practice to escape the values of any query, also in delete statements.\n",
    "\n",
    "This is to prevent SQL injections, which is a common web hacking technique to destroy or misuse your database.\n",
    "\n",
    "The mysql.connector module uses the placeholder %s to escape values in the delete statement:"
   ]
  },
  {
   "cell_type": "code",
   "execution_count": 25,
   "metadata": {
    "scrolled": true
   },
   "outputs": [
    {
     "name": "stdout",
     "output_type": "stream",
     "text": [
      "1 record(s) deleted\n"
     ]
    }
   ],
   "source": [
    "# Escape values by using the placeholder %s method:\n",
    "\n",
    "\n",
    "mycursor = mydb.cursor()\n",
    "\n",
    "sql = \"DELETE FROM customers WHERE address = %s\"\n",
    "adr = (\"Yellow Garden 2\", )\n",
    "\n",
    "mycursor.execute(sql, adr)\n",
    "\n",
    "mydb.commit()\n",
    "\n",
    "print(mycursor.rowcount, \"record(s) deleted\")"
   ]
  },
  {
   "cell_type": "markdown",
   "metadata": {},
   "source": [
    "# Delete a Table\n",
    "You can delete an existing table by using the \"DROP TABLE\" statement:"
   ]
  },
  {
   "cell_type": "code",
   "execution_count": 6,
   "metadata": {},
   "outputs": [],
   "source": [
    "# Delete the table \"customers\":\n",
    "\n",
    "mycursor = mydb.cursor()\n",
    "\n",
    "sql = \"DROP TABLE customers\"\n",
    "\n",
    "mycursor.execute(sql)\n"
   ]
  },
  {
   "cell_type": "markdown",
   "metadata": {},
   "source": [
    "# Drop Only if Exist\n",
    "If the the table you want to delete is already deleted, or for any other reason does not exist, you can use the IF EXISTS keyword to avoid getting an error."
   ]
  },
  {
   "cell_type": "code",
   "execution_count": 7,
   "metadata": {},
   "outputs": [],
   "source": [
    "# Delete the table \"customers\" if it exists:\n",
    "\n",
    "\n",
    "mycursor = mydb.cursor()\n",
    "\n",
    "sql = \"DROP TABLE IF EXISTS customers\"\n",
    "\n",
    "mycursor.execute(sql)"
   ]
  },
  {
   "cell_type": "markdown",
   "metadata": {},
   "source": [
    "# Update Table\n",
    "You can update existing records in a table by using the \"UPDATE\" statement:"
   ]
  },
  {
   "cell_type": "code",
   "execution_count": 17,
   "metadata": {},
   "outputs": [],
   "source": [
    "# Overwrite the address column from \"Valley 345\" to \"Canyoun 123\":\n",
    "\n",
    "\n",
    "mycursor = mydb.cursor()\n",
    "\n",
    "sql = \"UPDATE customers SET address = 'Canyon 123' WHERE address = 'Valley 345'\"\n",
    "\n",
    "mycursor.execute(sql)\n",
    "\n",
    "mydb.commit()\n",
    "\n",
    "print(mycursor.rowcount, \"record(s) affected\")"
   ]
  },
  {
   "cell_type": "markdown",
   "metadata": {},
   "source": [
    "> Important!: Notice the statement: mydb.commit(). It is required to make the changes, otherwise no changes are made to the table.\n",
    "\n",
    "> Notice the WHERE clause in the UPDATE syntax: The WHERE clause specifies which record or records that should be updated. If you omit the WHERE clause, all records will be updated!"
   ]
  },
  {
   "cell_type": "markdown",
   "metadata": {},
   "source": [
    "# Limit the Result\n",
    "You can limit the number of records returned from the query, by using the \"LIMIT\" statement:"
   ]
  },
  {
   "cell_type": "code",
   "execution_count": null,
   "metadata": {},
   "outputs": [],
   "source": [
    "# Select the 5 first records in the \"customers\" table:\n",
    "\n",
    "\n",
    "\n",
    "mycursor = mydb.cursor()\n",
    "\n",
    "mycursor.execute(\"SELECT * FROM customers LIMIT 5\")\n",
    "\n",
    "myresult = mycursor.fetchall()\n",
    "\n",
    "for x in myresult:\n",
    "    print(x)"
   ]
  },
  {
   "cell_type": "markdown",
   "metadata": {},
   "source": [
    "# Start From Another Position\n",
    "If you want to return five records, starting from the third record, you can use the \"OFFSET\" keyword:"
   ]
  },
  {
   "cell_type": "code",
   "execution_count": 40,
   "metadata": {},
   "outputs": [
    {
     "name": "stdout",
     "output_type": "stream",
     "text": [
      "('Amy', 'Apple st 652', 3)\n",
      "('Hannah', 'Mountain 21', 4)\n",
      "('Michael', 'Valley 345', 5)\n",
      "('Sandy', 'Ocean blvd 2', 6)\n",
      "('Betty', 'Green Grass 1', 7)\n"
     ]
    }
   ],
   "source": [
    "# Start from position 3, and return 5 records:\n",
    "\n",
    "\n",
    "\n",
    "mycursor = mydb.cursor()\n",
    "\n",
    "mycursor.execute(\"SELECT * FROM customers1 LIMIT 5 OFFSET 2\")\n",
    "\n",
    "myresult = mycursor.fetchall()\n",
    "\n",
    "for x in myresult:\n",
    "    print(x)\n"
   ]
  },
  {
   "cell_type": "markdown",
   "metadata": {},
   "source": [
    "# Join Two or More Tables\n",
    "You can combine rows from two or more tables, based on a related column between them, by using a JOIN statement.\n",
    "\n",
    "Consider you have a \"users\" table and a \"products\" table:"
   ]
  },
  {
   "cell_type": "markdown",
   "metadata": {},
   "source": [
    "USERS <br>\n",
    "\n",
    "{ id: 1, name: 'John', fav: 154}, <br>\n",
    "{ id: 2, name: 'Peter', fav: 154}, <br>\n",
    "{ id: 3, name: 'Amy', fav: 155}, <br>\n",
    "{ id: 4, name: 'Hannah', fav:}, <br>\n",
    "{ id: 5, name: 'Michael', fav:} <br>"
   ]
  },
  {
   "cell_type": "markdown",
   "metadata": {},
   "source": [
    "PRODUCTS\n",
    "\n",
    "{ id: 154, name: 'Chocolate Heaven' }, <br>\n",
    "{ id: 155, name: 'Tasty Lemons' }, <br>\n",
    "{ id: 156, name: 'Vanilla Dreams' } <br>"
   ]
  },
  {
   "cell_type": "markdown",
   "metadata": {},
   "source": [
    "These two tables can be combined by using users' fav field and products' id field."
   ]
  },
  {
   "cell_type": "code",
   "execution_count": null,
   "metadata": {},
   "outputs": [],
   "source": [
    "# Join users and products to see the name of the users favorite product:\n",
    "\n",
    "mycursor = mydb.cursor()\n",
    "\n",
    "sql = \"SELECT \\\n",
    "  users.name AS user, \\\n",
    "  products.name AS favorite \\\n",
    "  FROM users \\\n",
    "  INNER JOIN products ON users.fav = products.id\"\n",
    "\n",
    "mycursor.execute(sql)\n",
    "\n",
    "myresult = mycursor.fetchall()\n",
    "\n",
    "for x in myresult:\n",
    "    print(x)\n"
   ]
  },
  {
   "cell_type": "markdown",
   "metadata": {},
   "source": [
    "> Note: You can use JOIN instead of INNER JOIN. They will both give you the same result.\n",
    "\n"
   ]
  },
  {
   "cell_type": "markdown",
   "metadata": {},
   "source": [
    "# LEFT JOIN\n",
    "In the example above, Hannah, and Michael were excluded from the result, that is because INNER JOIN only shows the records where there is a match.\n",
    "\n",
    "If you want to show all users, even if they do not have a favorite product, use the LEFT JOIN statement:"
   ]
  },
  {
   "cell_type": "code",
   "execution_count": null,
   "metadata": {},
   "outputs": [],
   "source": [
    "# Select all users and their favorite product:\n",
    "\n",
    "\n",
    "\n",
    "mycursor = mydb.cursor()\n",
    "\n",
    "sql = \"SELECT \\\n",
    "  users.name AS user, \\\n",
    "  products.name AS favorite \\\n",
    "  FROM users \\\n",
    "  LEFT JOIN products ON users.fav = products.id\"\n",
    "\n",
    "mycursor.execute(sql)\n",
    "\n",
    "myresult = mycursor.fetchall()\n",
    "\n",
    "for x in myresult:\n",
    "    print(x)"
   ]
  },
  {
   "cell_type": "markdown",
   "metadata": {},
   "source": [
    "# RIGHT JOIN\n",
    "If you want to return all products, and the users who have them as their favorite, even if no user have them as their favorite, use the RIGHT JOIN statement:"
   ]
  },
  {
   "cell_type": "code",
   "execution_count": null,
   "metadata": {},
   "outputs": [],
   "source": [
    "# Select all products, and the user(s) who have them as their favorite:\n",
    "    \n",
    "    \n",
    "mycursor = mydb.cursor()\n",
    "\n",
    "sql = \"SELECT \\\n",
    "  users.name AS user, \\\n",
    "  products.name AS favorite \\\n",
    "  FROM users \\\n",
    "  RIGHT JOIN products ON users.fav = products.id\"\n",
    "\n",
    "mycursor.execute(sql)\n",
    "\n",
    "myresult = mycursor.fetchall()\n",
    "\n",
    "for x in myresult:\n",
    "    print(x)\n"
   ]
  },
  {
   "cell_type": "code",
   "execution_count": null,
   "metadata": {},
   "outputs": [],
   "source": []
  },
  {
   "cell_type": "code",
   "execution_count": null,
   "metadata": {},
   "outputs": [],
   "source": []
  }
 ],
 "metadata": {
  "kernelspec": {
   "display_name": "Python 3",
   "language": "python",
   "name": "python3"
  },
  "language_info": {
   "codemirror_mode": {
    "name": "ipython",
    "version": 3
   },
   "file_extension": ".py",
   "mimetype": "text/x-python",
   "name": "python",
   "nbconvert_exporter": "python",
   "pygments_lexer": "ipython3",
   "version": "3.7.6"
  }
 },
 "nbformat": 4,
 "nbformat_minor": 2
}
