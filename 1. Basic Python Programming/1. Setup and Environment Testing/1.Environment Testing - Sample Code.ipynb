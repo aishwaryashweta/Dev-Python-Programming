{
 "cells": [
  {
   "cell_type": "markdown",
   "metadata": {},
   "source": [
    "#  CARTOON EFFECTS AND SKETCH USING LIVE WEBCAM"
   ]
  },
  {
   "cell_type": "markdown",
   "metadata": {},
   "source": [
    "# Import all the necessary libraries"
   ]
  },
  {
   "cell_type": "code",
   "execution_count": 14,
   "metadata": {},
   "outputs": [],
   "source": [
    "import matplotlib.image as mpimg\n",
    "import matplotlib.pyplot as plt\n",
    "import numpy as np\n",
    "import cv2"
   ]
  },
  {
   "cell_type": "code",
   "execution_count": null,
   "metadata": {},
   "outputs": [],
   "source": [
    "# !pip install opencv-python"
   ]
  },
  {
   "cell_type": "code",
   "execution_count": 15,
   "metadata": {},
   "outputs": [],
   "source": [
    "\n",
    "color_image = cv2.imread(\"devdatta.jpeg\")\n",
    "\n",
    "# cartoon_image = cv2.stylization(color_image, sigma_s=200, sigma_r=0.3)\n",
    "cartoon_image, cartoon_image2  = cv2.pencilSketch(color_image, sigma_s=60, sigma_r=0.1)\n"
   ]
  },
  {
   "cell_type": "code",
   "execution_count": 16,
   "metadata": {},
   "outputs": [],
   "source": [
    "cv2.imshow('Original Image', color_image)\n",
    "cv2.waitKey()\n",
    "cv2.destroyAllWindows() "
   ]
  },
  {
   "cell_type": "code",
   "execution_count": 18,
   "metadata": {},
   "outputs": [],
   "source": [
    "cv2.imshow('cartoon', cartoon_image2)\n",
    "cv2.waitKey()\n",
    "cv2.destroyAllWindows() "
   ]
  },
  {
   "cell_type": "markdown",
   "metadata": {},
   "source": [
    "# Let's get Live Camera Canny "
   ]
  },
  {
   "cell_type": "code",
   "execution_count": 19,
   "metadata": {},
   "outputs": [],
   "source": [
    "def Cartoon(image_color):\n",
    "\n",
    "    output_image = cv2.stylization(image_color, sigma_s=100, sigma_r=0.3)\n",
    "\n",
    "    return output_image"
   ]
  },
  {
   "cell_type": "code",
   "execution_count": 24,
   "metadata": {},
   "outputs": [],
   "source": [
    "def LiveCamEdgeDetection_canny(image_color):\n",
    "            \n",
    "    threshold_1 = 30\n",
    "    threshold_2 = 40\n",
    "    image_gray = cv2.cvtColor(image_color, cv2.COLOR_BGR2GRAY)\n",
    "    canny = cv2.Canny(image_gray, threshold_1, threshold_2)\n",
    "    \n",
    "    return canny"
   ]
  },
  {
   "cell_type": "markdown",
   "metadata": {},
   "source": [
    "# Main calling function to initialize webcam and apply edge detection"
   ]
  },
  {
   "cell_type": "code",
   "execution_count": 25,
   "metadata": {},
   "outputs": [],
   "source": [
    "cap = cv2.VideoCapture(0)\n",
    "\n",
    "while True:\n",
    "    ret, frame = cap.read() # Cap.read() returns a ret bool to indicate success.\n",
    "    # cv2.imshow('Live Edge Detection', Cartoon(frame))\n",
    "    \n",
    "    cv2.imshow('Live Edge Detection', LiveCamEdgeDetection_canny(frame))\n",
    "    cv2.imshow('Webcam Video', frame)\n",
    "    if cv2.waitKey(1) == 13: #13 Enter Key\n",
    "        break\n",
    "        \n",
    "cap.release() # camera release \n",
    "cv2.destroyAllWindows()      "
   ]
  },
  {
   "cell_type": "markdown",
   "metadata": {},
   "source": [
    "# Well Done!"
   ]
  },
  {
   "cell_type": "code",
   "execution_count": 28,
   "metadata": {},
   "outputs": [
    {
     "data": {
      "text/plain": [
       "array([[[169, 147, 169],\n",
       "        [167, 146, 165],\n",
       "        [167, 147, 163],\n",
       "        ...,\n",
       "        [103, 121, 121],\n",
       "        [103, 120, 121],\n",
       "        [104, 119, 121]],\n",
       "\n",
       "       [[168, 148, 171],\n",
       "        [170, 151, 171],\n",
       "        [172, 154, 171],\n",
       "        ...,\n",
       "        [103, 119, 121],\n",
       "        [104, 119, 121],\n",
       "        [103, 118, 120]],\n",
       "\n",
       "       [[175, 161, 185],\n",
       "        [175, 162, 184],\n",
       "        [172, 160, 179],\n",
       "        ...,\n",
       "        [105, 118, 123],\n",
       "        [104, 117, 122],\n",
       "        [103, 116, 121]],\n",
       "\n",
       "       ...,\n",
       "\n",
       "       [[139, 145, 151],\n",
       "        [139, 145, 151],\n",
       "        [139, 146, 150],\n",
       "        ...,\n",
       "        [100, 113, 124],\n",
       "        [ 92, 107, 117],\n",
       "        [ 85, 101, 111]],\n",
       "\n",
       "       [[138, 143, 151],\n",
       "        [139, 144, 152],\n",
       "        [140, 145, 151],\n",
       "        ...,\n",
       "        [104, 118, 127],\n",
       "        [ 97, 112, 122],\n",
       "        [ 89, 106, 116]],\n",
       "\n",
       "       [[138, 143, 153],\n",
       "        [139, 144, 153],\n",
       "        [140, 144, 153],\n",
       "        ...,\n",
       "        [103, 117, 125],\n",
       "        [ 98, 114, 123],\n",
       "        [ 92, 109, 119]]], dtype=uint8)"
      ]
     },
     "execution_count": 28,
     "metadata": {},
     "output_type": "execute_result"
    }
   ],
   "source": [
    "frame"
   ]
  },
  {
   "cell_type": "code",
   "execution_count": null,
   "metadata": {},
   "outputs": [],
   "source": []
  }
 ],
 "metadata": {
  "kernelspec": {
   "display_name": "Python 3",
   "language": "python",
   "name": "python3"
  },
  "language_info": {
   "codemirror_mode": {
    "name": "ipython",
    "version": 3
   },
   "file_extension": ".py",
   "mimetype": "text/x-python",
   "name": "python",
   "nbconvert_exporter": "python",
   "pygments_lexer": "ipython3",
   "version": "3.7.6"
  },
  "widgets": {
   "state": {},
   "version": "1.1.2"
  }
 },
 "nbformat": 4,
 "nbformat_minor": 2
}
