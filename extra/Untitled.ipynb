{
 "cells": [
  {
   "cell_type": "markdown",
   "metadata": {},
   "source": [
    "# Python Program for simple interest\n",
    "Simple interest formula is given by:\n",
    "Simple Interest = (P x T x R)/100\n",
    "Where,\n",
    "P is the principle amount\n",
    "T is the time and\n",
    "R is the rate"
   ]
  },
  {
   "cell_type": "code",
   "execution_count": 6,
   "metadata": {},
   "outputs": [
    {
     "name": "stdout",
     "output_type": "stream",
     "text": [
      "enter the principle amount 10000\n",
      "enter the time 5\n",
      "enter the rate 5\n",
      "simple intrest is  2500.0\n"
     ]
    }
   ],
   "source": [
    "p = int(input(\"enter the principle amount \"))\n",
    "t = int(input(\"enter the time \"))\n",
    "r = int(input(\"enter the rate \"))\n",
    "\n",
    "si = (p * t * r)/100\n",
    "\n",
    "print(\"simple intrest is \" , si)"
   ]
  },
  {
   "cell_type": "markdown",
   "metadata": {},
   "source": [
    "# Python Program for compound interest\n",
    "Compound Interest formula:\n",
    "\n",
    "Formula to calculate compound interest annually is given by:\n",
    "\n",
    "Compound Interest = P(1 + R/100)r\n",
    "Where,\n",
    "\n",
    "P is principle amount\n",
    "R is the rate and\n",
    "T is the time span"
   ]
  },
  {
   "cell_type": "code",
   "execution_count": 3,
   "metadata": {},
   "outputs": [],
   "source": [
    "def compound_interest(p,r,t):     \n",
    "    \n",
    "\n",
    "    ci = p * (1 + r/100)**t\n",
    "\n",
    "    print(\"simple intrest is \" , ci)"
   ]
  },
  {
   "cell_type": "code",
   "execution_count": 5,
   "metadata": {},
   "outputs": [
    {
     "name": "stdout",
     "output_type": "stream",
     "text": [
      "simple intrest is  1333.0992\n"
     ]
    }
   ],
   "source": [
    "compound_interest(1200,5.4,2)"
   ]
  },
  {
   "cell_type": "markdown",
   "metadata": {},
   "source": [
    "# Python Program to check Armstrong Number\n",
    "Given a number x, determine whether the given number is Armstrong number or not. A positive integer of n digits is called an Armstrong number of order n (order is number of digits) if.\n",
    "\n",
    "abcd... = pow(a,n) + pow(b,n) + pow(c,n) + pow(d,n) + .... \n",
    "Example:\n",
    "\n",
    "Input : 153\n",
    "\n",
    "Output : Yes\n",
    "\n",
    "153 is an Armstrong number.\n",
    "\n",
    "1*1*1 + 5*5*5 + 3*3*3 = 153\n",
    "\n",
    "\n",
    "\n",
    "Input : 120\n",
    "\n",
    "Output : No\n",
    "\n",
    "120 is not a Armstrong number.\n",
    "\n",
    "1*1*1 + 2*2*2 + 0*0*0 = 9\n",
    "\n",
    "\n",
    "\n",
    "Input : 1253\n",
    "\n",
    "Output : No\n",
    "\n",
    "1253 is not a Armstrong Number\n",
    "\n",
    "1*1*1*1 + 2*2*2*2 + 5*5*5*5 + 3*3*3*3 = 723\n",
    "\n",
    "\n",
    "\n",
    "Input : 1634\n",
    "\n",
    "Output : Yes\n",
    "\n",
    "1*1*1*1 + 6*6*6*6 + 3*3*3*3 + 4*4*4*4 = 1634"
   ]
  },
  {
   "cell_type": "code",
   "execution_count": null,
   "metadata": {},
   "outputs": [],
   "source": [
    "# Python program to determine whether the number is \n",
    "# Armstrong number or not \n",
    "  \n",
    "# Function to calculate x raised to the power y \n",
    "def power(x, y): \n",
    "    if y==0: \n",
    "        return 1\n",
    "    if y%2==0: \n",
    "        return power(x, y/2)*power(x, y/2) \n",
    "    return x*power(x, y/2)*power(x, y/2) \n",
    "  \n",
    "# Function to calculate order of the number \n",
    "def order(x): \n",
    "  \n",
    "    # variable to store of the number \n",
    "    n = 0\n",
    "    while (x!=0): \n",
    "        n = n+1\n",
    "        x = x/10\n",
    "    return n \n",
    "  \n",
    "# Function to check whether the given number is \n",
    "# Armstrong number or not \n",
    "def isArmstrong (x): \n",
    "    n = order(x) \n",
    "    temp = x \n",
    "    sum1 = 0\n",
    "    while (temp!=0): \n",
    "        r = temp%10\n",
    "        sum1 = sum1 + power(r, n) \n",
    "        temp = temp/10\n",
    "  \n",
    "    # If condition satisfies \n",
    "    return (sum1 == x) \n",
    "  \n",
    "  \n",
    "# Driver Program \n",
    "x = 153\n",
    "print(isArmstrong(x)) \n",
    "x = 1253\n",
    "print(isArmstrong(x)) "
   ]
  },
  {
   "cell_type": "code",
   "execution_count": null,
   "metadata": {},
   "outputs": [],
   "source": []
  }
 ],
 "metadata": {
  "kernelspec": {
   "display_name": "Python 3",
   "language": "python",
   "name": "python3"
  },
  "language_info": {
   "codemirror_mode": {
    "name": "ipython",
    "version": 3
   },
   "file_extension": ".py",
   "mimetype": "text/x-python",
   "name": "python",
   "nbconvert_exporter": "python",
   "pygments_lexer": "ipython3",
   "version": "3.7.1"
  }
 },
 "nbformat": 4,
 "nbformat_minor": 2
}
