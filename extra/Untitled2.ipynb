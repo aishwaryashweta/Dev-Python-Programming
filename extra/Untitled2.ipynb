{
 "cells": [
  {
   "cell_type": "code",
   "execution_count": 1,
   "metadata": {},
   "outputs": [
    {
     "name": "stdout",
     "output_type": "stream",
     "text": [
      "['http://www.moneycontrol.com/company-article/cadilahealthcare/news/CHC#CHC', 'http://www.moneycontrol.com/company-article/piramalenterprises/news/PH05#PH05', 'http://www.moneycontrol.com/company-article/glenmarkpharma/news/GP08#GP08', 'http://www.moneycontrol.com/company-article/glaxosmithklinepharmaceuticals/news/GSK#GSK', 'http://www.moneycontrol.com/company-article/sunpharmaceuticalindustries/news/SPI#SPI', 'http://www.moneycontrol.com/company-article/lupinlaboratories/news/LL#LL', 'http://www.moneycontrol.com/company-article/cipla/news/C#C', 'http://www.moneycontrol.com/company-article/aurobindopharma/news/AP#AP', 'http://www.moneycontrol.com/company-article/drreddyslaboratories/news/DRL#DRL', 'http://www.moneycontrol.com/company-article/divislaboratories/news/DL03#DL03']\n"
     ]
    }
   ],
   "source": [
    "import csv\n",
    "import time\n",
    "import requests\n",
    "from bs4 import BeautifulSoup\n",
    "#from pattern.en import ngrams\n",
    " \n",
    "Base_url = \"http://www.moneycontrol.com\"\n",
    " \n",
    "# Build a dictionary of companies and their abbreviated names \n",
    "companies = {'cadilahealthcare':'CHC','piramalenterprises':'PH05',\n",
    "             'glenmarkpharma':'GP08','glaxosmithklinepharmaceuticals':'GSK',\n",
    "             'sunpharmaceuticalindustries':'SPI','lupinlaboratories':'LL',\n",
    "             'cipla':'C','aurobindopharma':'AP',\n",
    "             'drreddyslaboratories':'DRL','divislaboratories':'DL03'}\n",
    "             \n",
    "# Create a list of the news section urls of the respective companies \n",
    "url_list = ['http://www.moneycontrol.com/company-article/{}/news/{}#{}'.format(k,v,v) for k,v in companies.items()]\n",
    "print(url_list)"
   ]
  },
  {
   "cell_type": "code",
   "execution_count": 2,
   "metadata": {},
   "outputs": [],
   "source": [
    "# Create an empty list which will contain the selected news articles \n",
    "List_of_links = []   \n",
    " \n",
    "# Extract the relevant news articles weblinks from the news section of selected companies\n",
    "for urls in url_list:\n",
    "   html = requests.get(urls)\n",
    "   soup = BeautifulSoup(html.text,'html.parser') # Create a BeautifulSoup object \n",
    " \n",
    "   # Retrieve a list of all the links and the titles for the respective links\n",
    "   word1,word2,word3 = \"US\",\"USA\",\"USFDA\"\n",
    " \n",
    "   sub_links = soup.find_all('a', class_='arial11_summ')\n",
    "   for links in sub_links:\n",
    "      sp = BeautifulSoup(str(links),'html.parser')  # first convert into a string\n",
    "      tag = sp.a\n",
    "      if word1 in tag['title'] or word2 in tag['title'] or word3 in tag['title']:\n",
    "          category_links = Base_url + tag[\"href\"]\n",
    "          List_of_links.append(category_links)\n",
    "          #time.sleep(3)\n",
    "          \n",
    "# Print the select list of news articles weblinks    \n",
    "#for p in List_of_links: print p"
   ]
  },
  {
   "cell_type": "code",
   "execution_count": 3,
   "metadata": {},
   "outputs": [
    {
     "data": {
      "text/plain": [
       "['http://www.moneycontrol.com/news/results/cadila-healthcare-q4-profit-slips-22weak-operating-show-us-business-grows-9_12582841.html',\n",
       " 'http://www.moneycontrol.com/news/buzzing-stocks/glenmark-pharma2usfda-nod-hsbc-cuts-target_12972961.html',\n",
       " 'http://www.moneycontrol.com/news/business/glenmark-gets-usfda-nod-for-plaque-psoriasis-treatment-drug_12969021.html',\n",
       " 'http://www.moneycontrol.com/news/buzzing-stocks/glenmark-pharma-rises-nearly-2usfda-nod-for-skin-treatment-ointment_12942661.html',\n",
       " 'http://www.moneycontrol.com/news/business/glenmark-gets-usfda-nod-for-generic-breast-cancer-injection_12921561.html',\n",
       " 'http://www.moneycontrol.com/news/buzzing-stocks/sun-pharma-climbs-5-after-usfda-classifies-halol-plant-as-39no-action-indicated39_12904981.html',\n",
       " 'http://www.moneycontrol.com/news/results/sun-pharma-q1-beats-estimates-profit-jumps-31-driven-by-india-us-biz_12888401.html',\n",
       " 'http://www.moneycontrol.com/news/business/lupin-natco-get-usfda-nod-to-market-generic-hypertension-drug_12439441.html',\n",
       " 'http://www.moneycontrol.com/news/business/dr-reddy39s-launches-generic-bupropion-hydrochloride-extended-release-tabletsus_12958141.html',\n",
       " 'http://www.moneycontrol.com/news/buzzing-stocks/dr-reddy39s-slips-2-after-usfda-issues-8-observations-for-andhra-facility_12912841.html',\n",
       " 'http://www.moneycontrol.com/news/buzzing-stocks/dr-reddy39s-falls-nearly-2-after-co-clarifiesnuvaring-usfda-issue-citi-cuts-target-by-65_12899141.html',\n",
       " 'http://www.moneycontrol.com/news/local-markets/an-evening-walk-down-dalal-street-delayed-us-tariffs-lift-market-sentiments_12896541.html',\n",
       " 'http://www.moneycontrol.com/news/buzzing-stocks/dr-reddy39s-dips-8-after-receiving-complete-response-letterusfda-citi-cuts-target_12894001.html']"
      ]
     },
     "execution_count": 3,
     "metadata": {},
     "output_type": "execute_result"
    }
   ],
   "source": [
    "List_of_links"
   ]
  },
  {
   "cell_type": "code",
   "execution_count": 6,
   "metadata": {},
   "outputs": [
    {
     "name": "stdout",
     "output_type": "stream",
     "text": [
      "http://www.moneycontrol.com/news/business/glenmark-gets-usfda-nod-for-generic-breast-cancer-injection_12921561.html\n",
      "http://www.moneycontrol.com/news/results/cadila-healthcare-q4-profit-slips-22weak-operating-show-us-business-grows-9_12582841.html\n",
      "http://www.moneycontrol.com/news/business/lupin-natco-get-usfda-nod-to-market-generic-hypertension-drug_12439441.html\n",
      "http://www.moneycontrol.com/news/business/dr-reddy39s-launches-generic-bupropion-hydrochloride-extended-release-tabletsus_12958141.html\n",
      "http://www.moneycontrol.com/news/buzzing-stocks/dr-reddy39s-falls-nearly-2-after-co-clarifiesnuvaring-usfda-issue-citi-cuts-target-by-65_12899141.html\n",
      "http://www.moneycontrol.com/news/buzzing-stocks/glenmark-pharma-rises-nearly-2usfda-nod-for-skin-treatment-ointment_12942661.html\n",
      "http://www.moneycontrol.com/news/buzzing-stocks/dr-reddy39s-slips-2-after-usfda-issues-8-observations-for-andhra-facility_12912841.html\n",
      "http://www.moneycontrol.com/news/local-markets/an-evening-walk-down-dalal-street-delayed-us-tariffs-lift-market-sentiments_12896541.html\n",
      "http://www.moneycontrol.com/news/results/sun-pharma-q1-beats-estimates-profit-jumps-31-driven-by-india-us-biz_12888401.html\n",
      "http://www.moneycontrol.com/news/business/glenmark-gets-usfda-nod-for-plaque-psoriasis-treatment-drug_12969021.html\n",
      "http://www.moneycontrol.com/news/buzzing-stocks/dr-reddy39s-dips-8-after-receiving-complete-response-letterusfda-citi-cuts-target_12894001.html\n",
      "http://www.moneycontrol.com/news/buzzing-stocks/sun-pharma-climbs-5-after-usfda-classifies-halol-plant-as-39no-action-indicated39_12904981.html\n",
      "http://www.moneycontrol.com/news/buzzing-stocks/glenmark-pharma2usfda-nod-hsbc-cuts-target_12972961.html\n"
     ]
    }
   ],
   "source": [
    "# Remove the duplicate news articles based on News Title\n",
    "unique_links = list(set(List_of_links))\n",
    "for q in unique_links: \n",
    "    print(q)"
   ]
  },
  {
   "cell_type": "code",
   "execution_count": 7,
   "metadata": {},
   "outputs": [
    {
     "ename": "FileNotFoundError",
     "evalue": "[Errno 2] No such file or directory: 'dict.csv'",
     "output_type": "error",
     "traceback": [
      "\u001b[1;31m---------------------------------------------------------------------------\u001b[0m",
      "\u001b[1;31mFileNotFoundError\u001b[0m                         Traceback (most recent call last)",
      "\u001b[1;32m<ipython-input-7-34d1baa4a1e3>\u001b[0m in \u001b[0;36m<module>\u001b[1;34m\u001b[0m\n\u001b[0;32m      1\u001b[0m \u001b[1;31m# Create a dictionary of positive/negative words related to the Pharma Sector\u001b[0m\u001b[1;33m\u001b[0m\u001b[1;33m\u001b[0m\u001b[1;33m\u001b[0m\u001b[0m\n\u001b[1;32m----> 2\u001b[1;33m \u001b[0mreader\u001b[0m \u001b[1;33m=\u001b[0m \u001b[0mcsv\u001b[0m\u001b[1;33m.\u001b[0m\u001b[0mreader\u001b[0m\u001b[1;33m(\u001b[0m\u001b[0mopen\u001b[0m\u001b[1;33m(\u001b[0m\u001b[1;34m'dict.csv'\u001b[0m\u001b[1;33m,\u001b[0m \u001b[1;34m'r'\u001b[0m\u001b[1;33m)\u001b[0m\u001b[1;33m)\u001b[0m\u001b[1;33m\u001b[0m\u001b[1;33m\u001b[0m\u001b[0m\n\u001b[0m\u001b[0;32m      3\u001b[0m \u001b[0mpharma_dict\u001b[0m \u001b[1;33m=\u001b[0m \u001b[0mdict\u001b[0m\u001b[1;33m(\u001b[0m\u001b[1;33m(\u001b[0m\u001b[0mrows\u001b[0m\u001b[1;33m[\u001b[0m\u001b[1;36m0\u001b[0m\u001b[1;33m]\u001b[0m\u001b[1;33m,\u001b[0m\u001b[0mrows\u001b[0m\u001b[1;33m[\u001b[0m\u001b[1;36m1\u001b[0m\u001b[1;33m]\u001b[0m\u001b[1;33m)\u001b[0m \u001b[1;32mfor\u001b[0m \u001b[0mrows\u001b[0m \u001b[1;32min\u001b[0m \u001b[0mreader\u001b[0m\u001b[1;33m)\u001b[0m\u001b[1;33m\u001b[0m\u001b[1;33m\u001b[0m\u001b[0m\n\u001b[0;32m      4\u001b[0m \u001b[1;33m\u001b[0m\u001b[0m\n\u001b[0;32m      5\u001b[0m \u001b[1;31m# Creating an empty list which will be filled later with news article links, and Polarity values (pos/neg)\u001b[0m\u001b[1;33m\u001b[0m\u001b[1;33m\u001b[0m\u001b[1;33m\u001b[0m\u001b[0m\n",
      "\u001b[1;31mFileNotFoundError\u001b[0m: [Errno 2] No such file or directory: 'dict.csv'"
     ]
    }
   ],
   "source": [
    "# Create a dictionary of positive/negative words related to the Pharma Sector\n",
    "reader = csv.reader(open('dict.csv', 'r'))\n",
    "pharma_dict = dict((rows[0],rows[1]) for rows in reader)\n",
    " \n",
    "# Creating an empty list which will be filled later with news article links, and Polarity values (pos/neg)\n",
    "df =[]\n"
   ]
  },
  {
   "cell_type": "code",
   "execution_count": null,
   "metadata": {},
   "outputs": [],
   "source": []
  }
 ],
 "metadata": {
  "kernelspec": {
   "display_name": "Python 3",
   "language": "python",
   "name": "python3"
  },
  "language_info": {
   "codemirror_mode": {
    "name": "ipython",
    "version": 3
   },
   "file_extension": ".py",
   "mimetype": "text/x-python",
   "name": "python",
   "nbconvert_exporter": "python",
   "pygments_lexer": "ipython3",
   "version": "3.7.1"
  }
 },
 "nbformat": 4,
 "nbformat_minor": 2
}
