{
 "cells": [
  {
   "cell_type": "markdown",
   "metadata": {},
   "source": [
    "# bridgelabz questions"
   ]
  },
  {
   "cell_type": "markdown",
   "metadata": {},
   "source": [
    "### Q.1 A leap year is exactly divisible by 4 except for century years (years ending with 00). The century year is a leap year only if it is perfectly divisible by 400. For example,\n",
    "\n",
    "- 2017 is not a leap year\n",
    "- 1900 is a not leap year\n",
    "- 2012 is a leap year\n",
    "- 2000 is a leap year"
   ]
  },
  {
   "cell_type": "code",
   "execution_count": null,
   "metadata": {},
   "outputs": [],
   "source": [
    "# Python program to check if the input year is a leap year or not\n",
    "\n",
    "# year = 2000\n",
    "\n",
    "# To get year (integer input) from the user\n",
    "year = int(input(\"Enter a year: \"))\n",
    "\n",
    "\n",
    "\n",
    "if (year % 4) == 0:\n",
    "    if (year % 100) == 0:\n",
    "        \n",
    "        if (year % 400) == 0:\n",
    "            print(\"{0} is a leap year\".format(year))\n",
    "        else:\n",
    "            print(\"{0} is not a leap year\".format(year))\n",
    "    else:\n",
    "        print(\"{0} is a leap year\".format(year))\n",
    "else:\n",
    "    print(\"{0} is not a leap year\".format(year))"
   ]
  },
  {
   "cell_type": "markdown",
   "metadata": {},
   "source": [
    "### Q.2 This program takes a command-line argument n and prints a table of the powers of 2 that are less than or equal to 2^n. Only works if 0 <= n < 31 since 2^31 overflows an int."
   ]
  },
  {
   "cell_type": "code",
   "execution_count": 9,
   "metadata": {},
   "outputs": [
    {
     "name": "stdout",
     "output_type": "stream",
     "text": [
      "Enter power of 2 :-   4\n",
      "\n",
      "\n",
      "power of 2^0 = 1\n",
      "power of 2^1 = 2\n",
      "power of 2^2 = 4\n",
      "power of 2^3 = 8\n",
      "power of 2^4 = 16\n"
     ]
    }
   ],
   "source": [
    "\n",
    "num = 2\n",
    "\n",
    "while True:\n",
    "    p = int(input(\"Enter power of 2 :-   \"))\n",
    "    print(\"\\n\")\n",
    "\n",
    "    if 0 <= p < 31:\n",
    "        for i in range(0,p+1):\n",
    "            print(\"power of {}^{} = {}\".format(num, i, num**i))\n",
    "        break\n",
    "    else:\n",
    "        print(\"Enter the correct value between 1 and 30 \")\n",
    "        print(\"\\n\")\n",
    "        continue\n"
   ]
  },
  {
   "cell_type": "code",
   "execution_count": 7,
   "metadata": {},
   "outputs": [
    {
     "name": "stdout",
     "output_type": "stream",
     "text": [
      "0\n",
      "1\n",
      "2\n",
      "3\n",
      "4\n",
      "5\n",
      "6\n",
      "7\n",
      "8\n",
      "9\n",
      "10\n",
      "11\n",
      "12\n",
      "13\n",
      "14\n",
      "15\n",
      "16\n",
      "17\n",
      "18\n",
      "19\n",
      "20\n",
      "21\n",
      "22\n",
      "23\n",
      "24\n",
      "25\n",
      "26\n",
      "27\n",
      "28\n",
      "29\n",
      "30\n",
      "31\n"
     ]
    }
   ],
   "source": [
    "for i in range(0,31+1):\n",
    "    print(i)"
   ]
  },
  {
   "cell_type": "markdown",
   "metadata": {},
   "source": [
    "### Q.3 Write a program to find top 2 maximum number in the given array. you should not use any sorting functions."
   ]
  },
  {
   "cell_type": "code",
   "execution_count": 11,
   "metadata": {},
   "outputs": [
    {
     "name": "stdout",
     "output_type": "stream",
     "text": [
      "Enter the values for array: 1 2 3 4 5 6\n",
      "['1', '2', '3', '4', '5', '6']\n",
      "\n",
      "\n",
      "First max number: 6\n",
      "second max number: 5\n"
     ]
    }
   ],
   "source": [
    "import numpy as np \n",
    "\n",
    "array = input(\"Enter the values for array: \").split()\n",
    "\n",
    "print(array)\n",
    "print('\\n')\n",
    "\n",
    "\n",
    "maxone = 0\n",
    "maxtwo = 0\n",
    "\n",
    "\n",
    "\n",
    "for i in array:\n",
    "    if maxone < int(i):\n",
    "        \n",
    "        maxtwo = maxone\n",
    "        maxone = int(i)\n",
    "    else:\n",
    "        maxtwo < int(i) \n",
    "        maxtwo= int(i)\n",
    "        \n",
    "print(\"First max number: {}\".format(maxone))\n",
    "print(\"second max number: {}\".format(maxtwo))"
   ]
  },
  {
   "cell_type": "markdown",
   "metadata": {},
   "source": [
    "### Q.4 Find the Missing Number\n",
    "You are given a list of n-1 integers and these integers are in the range of 1 to n. There are no duplicates in the list. One of the integers is missing in the list. Write an efficient code to find the missing integer.\n",
    "\n",
    "Example :\n",
    "\n",
    "Input: arr[] = {1, 2, 4,, 6, 3, 7, 8}\n",
    "\n",
    "Output: 5\n",
    "\n",
    "Input: arr[] = {1, 2, 3, 5}\n",
    "\n",
    "Output: 4"
   ]
  },
  {
   "cell_type": "markdown",
   "metadata": {},
   "source": [
    "Algorithm:\n",
    "\n",
    "1. Get the sum of numbers which is total = n*(n+1)/2\n",
    "2. Subtract all the numbers from sum and\n",
    "   you will get the missing number"
   ]
  },
  {
   "cell_type": "code",
   "execution_count": 53,
   "metadata": {},
   "outputs": [
    {
     "name": "stdout",
     "output_type": "stream",
     "text": [
      "the missing number from the array is 3.0\n"
     ]
    }
   ],
   "source": [
    "# getMissingNo takes list as argument \n",
    "def getMissingNo(A): \n",
    "    n = len(A) \n",
    "    total = (n + 1)*(n + 2)/2\n",
    "    sum_of_A = sum(A) \n",
    "    return total - sum_of_A \n",
    "  \n",
    "# Driver program to test above function \n",
    "A = [1, 2, 4, 5, 6] \n",
    "miss = getMissingNo(A) \n",
    "print(\"the missing number from the array is\" , miss) "
   ]
  },
  {
   "cell_type": "code",
   "execution_count": null,
   "metadata": {},
   "outputs": [],
   "source": []
  },
  {
   "cell_type": "markdown",
   "metadata": {},
   "source": [
    "### Q.5 Impelmenting bubble sort on an array of strings"
   ]
  },
  {
   "cell_type": "markdown",
   "metadata": {},
   "source": [
    "# Bubble Sort\n",
    "Bubble Sort is the simplest sorting algorithm that works by repeatedly swapping the adjacent elements if they are in wrong order.\n",
    "Example:\n",
    "\n",
    "- First Pass:\n",
    "( 5 1 4 2 8 ) –> ( 1 5 4 2 8 ), Here, algorithm compares the first two elements, and swaps since 5 > 1.\n",
    "\n",
    "( 1 5 4 2 8 ) –>  ( 1 4 5 2 8 ), Swap since 5 > 4\n",
    "\n",
    "( 1 4 5 2 8 ) –>  ( 1 4 2 5 8 ), Swap since 5 > 2\n",
    "\n",
    "( 1 4 2 5 8 ) –> ( 1 4 2 5 8 ), Now, since these elements are already in order (8 > 5), algorithm does not swap them.\n",
    "\n",
    "\n",
    "\n",
    "- Second Pass:\n",
    "( 1 4 2 5 8 ) –> ( 1 4 2 5 8 )\n",
    "\n",
    "( 1 4 2 5 8 ) –> ( 1 2 4 5 8 ), Swap since 4 > 2\n",
    "\n",
    "( 1 2 4 5 8 ) –> ( 1 2 4 5 8 )\n",
    "\n",
    "( 1 2 4 5 8 ) –>  ( 1 2 4 5 8 )\n",
    "\n",
    "Now, the array is already sorted, but our algorithm does not know if it is completed. The algorithm needs one whole pass without any swap to know it is sorted.\n",
    "\n",
    "\n",
    "\n",
    "- Third Pass:\n",
    "( 1 2 4 5 8 ) –> ( 1 2 4 5 8 )\n",
    "\n",
    "( 1 2 4 5 8 ) –> ( 1 2 4 5 8 )\n",
    "\n",
    "( 1 2 4 5 8 ) –> ( 1 2 4 5 8 )\n",
    "\n",
    "( 1 2 4 5 8 ) –> ( 1 2 4 5 8 )\n"
   ]
  },
  {
   "cell_type": "code",
   "execution_count": 40,
   "metadata": {},
   "outputs": [],
   "source": [
    "def bubbleSort(arr): \n",
    "    n = len(arr) \n",
    "  \n",
    "    # Traverse through all array elements \n",
    "    for i in range(n): \n",
    "  \n",
    "        # Last i elements are already in place \n",
    "        for j in range(0, n-i-1): \n",
    "  \n",
    "            # traverse the array from 0 to n-i-1 \n",
    "            # Swap if the element found is greater \n",
    "            # than the next element \n",
    "            if arr[j] > arr[j+1] : \n",
    "                arr[j], arr[j+1] = arr[j+1], arr[j] "
   ]
  },
  {
   "cell_type": "code",
   "execution_count": 45,
   "metadata": {
    "scrolled": true
   },
   "outputs": [
    {
     "name": "stdout",
     "output_type": "stream",
     "text": [
      "Sorted array is:\n",
      "a\n",
      "b\n",
      "t\n",
      "w\n",
      "x\n",
      "y\n",
      "z\n"
     ]
    }
   ],
   "source": [
    "# Driver code to test above \n",
    "\n",
    "# array of string's \n",
    "arr1 = ['x','y','b','t','z','w','a']\n",
    "\n",
    "\n",
    "bubbleSort(arr1) \n",
    "  \n",
    "print (\"Sorted array is:\") \n",
    "for i in range(len(arr1)): \n",
    "    print (arr1[i]),  "
   ]
  },
  {
   "cell_type": "code",
   "execution_count": 48,
   "metadata": {},
   "outputs": [
    {
     "name": "stdout",
     "output_type": "stream",
     "text": [
      "Sorted array is:\n",
      "11\n",
      "12\n",
      "22\n",
      "25\n",
      "34\n",
      "64\n",
      "90\n"
     ]
    }
   ],
   "source": [
    "# array of interger's \n",
    "\n",
    "arr2 = [64, 34, 25, 12, 22, 11, 90] \n",
    "\n",
    "bubbleSort(arr2) \n",
    "  \n",
    "print (\"Sorted array is:\") \n",
    "for i in range(len(arr2)): \n",
    "    print (arr2[i]),  "
   ]
  },
  {
   "cell_type": "markdown",
   "metadata": {},
   "source": [
    "### Q.6 Implementing insertion sort on array of of intergers"
   ]
  },
  {
   "cell_type": "markdown",
   "metadata": {},
   "source": [
    "# Insertion Sort\n",
    "Insertion sort is a simple sorting algorithm that works the way we sort playing cards in our hands."
   ]
  },
  {
   "cell_type": "markdown",
   "metadata": {},
   "source": [
    "12, 11, 13, 5, 6\n",
    "\n",
    "Let us loop for i = 1 (second element of the array) to 4 (last element of the array)\n",
    "\n",
    "i = 1. Since 11 is smaller than 12, move 12 and insert 11 before 12\n",
    "11, 12, 13, 5, 6\n",
    "\n",
    "i = 2. 13 will remain at its position as all elements in A[0..I-1] are smaller than 13\n",
    "11, 12, 13, 5, 6\n",
    "\n",
    "i = 3. 5 will move to the beginning and all other elements from 11 to 13 will move one position ahead of their current position.\n",
    "5, 11, 12, 13, 6\n",
    "\n",
    "i = 4. 6 will move to position after 5, and elements from 11 to 13 will move one position ahead of their current position.\n",
    "5, 6, 11, 12, 13"
   ]
  },
  {
   "cell_type": "code",
   "execution_count": 50,
   "metadata": {},
   "outputs": [],
   "source": [
    "# Function to do insertion sort \n",
    "def insertionSort(arr): \n",
    "  \n",
    "    # Traverse through 1 to len(arr) \n",
    "    for i in range(1, len(arr)): \n",
    "  \n",
    "        key = arr[i] \n",
    "  \n",
    "        # Move elements of arr[0..i-1], that are \n",
    "        # greater than key, to one position ahead \n",
    "        # of their current position \n",
    "        j = i-1\n",
    "        while j >= 0 and key < arr[j] : \n",
    "                arr[j + 1] = arr[j] \n",
    "                j -= 1\n",
    "        arr[j + 1] = key "
   ]
  },
  {
   "cell_type": "code",
   "execution_count": 51,
   "metadata": {},
   "outputs": [
    {
     "name": "stdout",
     "output_type": "stream",
     "text": [
      "5\n",
      "6\n",
      "11\n",
      "12\n",
      "13\n"
     ]
    }
   ],
   "source": [
    "# Driver code to test above \n",
    "arr = [12, 11, 13, 5, 6] \n",
    "insertionSort(arr) \n",
    "for i in range(len(arr)): \n",
    "    print (arr[i]) "
   ]
  },
  {
   "cell_type": "markdown",
   "metadata": {},
   "source": [
    "### Q.7 Read a list of number from file and arrange it ascending order in  a linked list. take user input for a number if found then pop the number out of the list else insert the number in appropriate positioin"
   ]
  },
  {
   "cell_type": "code",
   "execution_count": 71,
   "metadata": {},
   "outputs": [],
   "source": [
    "with open(\"test1.txt\",'r') as myfile:\n",
    "    for line in myfile:\n",
    "        print(sorted(map(int, line.split(','))))\n",
    "        \n"
   ]
  },
  {
   "cell_type": "code",
   "execution_count": 70,
   "metadata": {},
   "outputs": [
    {
     "name": "stdout",
     "output_type": "stream",
     "text": [
      "How many elements would you like to add? 4\n",
      "Enter data item: 1\n",
      "Enter data item: 3\n",
      "Enter data item: 4\n",
      "Enter data item: 5\n",
      "The linked list: 1 3 4 5 "
     ]
    }
   ],
   "source": [
    "class Node:\n",
    "    def __init__(self, data):\n",
    "       self.data = data\n",
    "       self.next = None\n",
    " \n",
    "class LinkedList:\n",
    "    def __init__(self):\n",
    "        self.head = None\n",
    "        self.last_node = None\n",
    " \n",
    "    def append(self, data):\n",
    "        if self.last_node is None:\n",
    "            self.head = Node(data)\n",
    "            self.last_node = self.head\n",
    "        else:\n",
    "            self.last_node.next = Node(data)\n",
    "            self.last_node = self.last_node.next\n",
    " \n",
    "    def display(self):\n",
    "        current = self.head\n",
    "        while current is not None:\n",
    "            print(current.data, end = ' ')\n",
    "            current = current.next\n",
    " \n",
    "a_llist = LinkedList()\n",
    "n = int(input('How many elements would you like to add? '))\n",
    "for i in range(n):\n",
    "    data = int(input('Enter data item: '))\n",
    "    a_llist.append(data)\n",
    "print('The linked list: ', end = '')\n",
    "a_llist.display()"
   ]
  },
  {
   "cell_type": "code",
   "execution_count": null,
   "metadata": {},
   "outputs": [],
   "source": []
  }
 ],
 "metadata": {
  "kernelspec": {
   "display_name": "Python 3",
   "language": "python",
   "name": "python3"
  },
  "language_info": {
   "codemirror_mode": {
    "name": "ipython",
    "version": 3
   },
   "file_extension": ".py",
   "mimetype": "text/x-python",
   "name": "python",
   "nbconvert_exporter": "python",
   "pygments_lexer": "ipython3",
   "version": "3.7.1"
  }
 },
 "nbformat": 4,
 "nbformat_minor": 2
}
