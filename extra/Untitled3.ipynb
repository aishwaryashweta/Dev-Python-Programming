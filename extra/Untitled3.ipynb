{
 "cells": [
  {
   "cell_type": "markdown",
   "metadata": {},
   "source": [
    "# Float formating follows {value:width.precision f}"
   ]
  },
  {
   "cell_type": "code",
   "execution_count": 1,
   "metadata": {},
   "outputs": [],
   "source": [
    "result = 100/7"
   ]
  },
  {
   "cell_type": "code",
   "execution_count": 2,
   "metadata": {},
   "outputs": [
    {
     "data": {
      "text/plain": [
       "14.285714285714286"
      ]
     },
     "execution_count": 2,
     "metadata": {},
     "output_type": "execute_result"
    }
   ],
   "source": [
    "result"
   ]
  },
  {
   "cell_type": "code",
   "execution_count": 3,
   "metadata": {},
   "outputs": [
    {
     "name": "stdout",
     "output_type": "stream",
     "text": [
      "the value is 14.285714285714286\n"
     ]
    }
   ],
   "source": [
    "print(\"the value is {}\".format(result))"
   ]
  },
  {
   "cell_type": "code",
   "execution_count": 7,
   "metadata": {},
   "outputs": [
    {
     "name": "stdout",
     "output_type": "stream",
     "text": [
      "the value is     14.3\n"
     ]
    }
   ],
   "source": [
    "print(\"the value is {r:8.3}\".format(r=result))"
   ]
  },
  {
   "cell_type": "code",
   "execution_count": 8,
   "metadata": {
    "scrolled": true
   },
   "outputs": [
    {
     "name": "stdout",
     "output_type": "stream",
     "text": [
      "the value is   14.286\n"
     ]
    }
   ],
   "source": [
    "print(\"the value is {r:8.3f}\".format(r=result))"
   ]
  },
  {
   "cell_type": "markdown",
   "metadata": {},
   "source": [
    "# F string method "
   ]
  },
  {
   "cell_type": "code",
   "execution_count": 9,
   "metadata": {},
   "outputs": [],
   "source": [
    "name = 'devdatta'\n"
   ]
  },
  {
   "cell_type": "code",
   "execution_count": 10,
   "metadata": {},
   "outputs": [
    {
     "name": "stdout",
     "output_type": "stream",
     "text": [
      "Hello my name is devdatta\n"
     ]
    }
   ],
   "source": [
    "print(f'Hello my name is {name}')"
   ]
  },
  {
   "cell_type": "code",
   "execution_count": 12,
   "metadata": {},
   "outputs": [
    {
     "name": "stdout",
     "output_type": "stream",
     "text": [
      "hello my name is dev and my age is 24\n"
     ]
    }
   ],
   "source": [
    "name = 'dev'\n",
    "age = 24\n",
    "\n",
    "print(f'hello my name is {name} and my age is {age}')"
   ]
  },
  {
   "cell_type": "markdown",
   "metadata": {},
   "source": [
    "# append method allows us to add new element to the end of the list "
   ]
  },
  {
   "cell_type": "code",
   "execution_count": 13,
   "metadata": {},
   "outputs": [],
   "source": [
    "a = ['a','b','c','d','e']"
   ]
  },
  {
   "cell_type": "code",
   "execution_count": 14,
   "metadata": {},
   "outputs": [
    {
     "data": {
      "text/plain": [
       "'e'"
      ]
     },
     "execution_count": 14,
     "metadata": {},
     "output_type": "execute_result"
    }
   ],
   "source": [
    "a.pop()"
   ]
  },
  {
   "cell_type": "code",
   "execution_count": 15,
   "metadata": {},
   "outputs": [
    {
     "data": {
      "text/plain": [
       "'d'"
      ]
     },
     "execution_count": 15,
     "metadata": {},
     "output_type": "execute_result"
    }
   ],
   "source": [
    "b = a.pop()\n",
    "b"
   ]
  },
  {
   "cell_type": "markdown",
   "metadata": {},
   "source": [
    "pop removes the item form list based on index location if we do not provide the index then it will take the -1 as default index"
   ]
  },
  {
   "cell_type": "code",
   "execution_count": 16,
   "metadata": {},
   "outputs": [
    {
     "data": {
      "text/plain": [
       "'b'"
      ]
     },
     "execution_count": 16,
     "metadata": {},
     "output_type": "execute_result"
    }
   ],
   "source": [
    "a.pop(1)"
   ]
  },
  {
   "cell_type": "code",
   "execution_count": 17,
   "metadata": {},
   "outputs": [
    {
     "data": {
      "text/plain": [
       "['a', 'c']"
      ]
     },
     "execution_count": 17,
     "metadata": {},
     "output_type": "execute_result"
    }
   ],
   "source": [
    "a"
   ]
  },
  {
   "cell_type": "code",
   "execution_count": 18,
   "metadata": {},
   "outputs": [],
   "source": [
    "a = {1:'dev',\n",
    "    2:'jan'}"
   ]
  },
  {
   "cell_type": "code",
   "execution_count": 19,
   "metadata": {},
   "outputs": [
    {
     "data": {
      "text/plain": [
       "'dev'"
      ]
     },
     "execution_count": 19,
     "metadata": {},
     "output_type": "execute_result"
    }
   ],
   "source": [
    "a[1]"
   ]
  },
  {
   "cell_type": "code",
   "execution_count": 20,
   "metadata": {},
   "outputs": [
    {
     "data": {
      "text/plain": [
       "dict_keys([1, 2])"
      ]
     },
     "execution_count": 20,
     "metadata": {},
     "output_type": "execute_result"
    }
   ],
   "source": [
    "a.keys()"
   ]
  },
  {
   "cell_type": "markdown",
   "metadata": {},
   "source": [
    "dict canot be sorted and its an unordered colloection and it can be nested structure "
   ]
  },
  {
   "cell_type": "code",
   "execution_count": 21,
   "metadata": {},
   "outputs": [],
   "source": [
    "t = ('a','b','v','d','e','g','a')"
   ]
  },
  {
   "cell_type": "code",
   "execution_count": 24,
   "metadata": {},
   "outputs": [
    {
     "data": {
      "text/plain": [
       "2"
      ]
     },
     "execution_count": 24,
     "metadata": {},
     "output_type": "execute_result"
    }
   ],
   "source": [
    "t.count('a') # a comes two times in this tupple"
   ]
  },
  {
   "cell_type": "code",
   "execution_count": 27,
   "metadata": {},
   "outputs": [
    {
     "data": {
      "text/plain": [
       "1"
      ]
     },
     "execution_count": 27,
     "metadata": {},
     "output_type": "execute_result"
    }
   ],
   "source": [
    "t.index('b')"
   ]
  },
  {
   "cell_type": "code",
   "execution_count": 28,
   "metadata": {},
   "outputs": [],
   "source": [
    "a = set()"
   ]
  },
  {
   "cell_type": "code",
   "execution_count": 29,
   "metadata": {},
   "outputs": [],
   "source": [
    "a.add(1)"
   ]
  },
  {
   "cell_type": "code",
   "execution_count": 30,
   "metadata": {},
   "outputs": [
    {
     "data": {
      "text/plain": [
       "{1}"
      ]
     },
     "execution_count": 30,
     "metadata": {},
     "output_type": "execute_result"
    }
   ],
   "source": [
    "a"
   ]
  },
  {
   "cell_type": "code",
   "execution_count": 31,
   "metadata": {},
   "outputs": [],
   "source": [
    "a.add(2)"
   ]
  },
  {
   "cell_type": "code",
   "execution_count": 32,
   "metadata": {},
   "outputs": [
    {
     "data": {
      "text/plain": [
       "{1, 2}"
      ]
     },
     "execution_count": 32,
     "metadata": {},
     "output_type": "execute_result"
    }
   ],
   "source": [
    "a"
   ]
  },
  {
   "cell_type": "code",
   "execution_count": 33,
   "metadata": {},
   "outputs": [
    {
     "data": {
      "text/plain": [
       "{1, 2}"
      ]
     },
     "execution_count": 33,
     "metadata": {},
     "output_type": "execute_result"
    }
   ],
   "source": [
    "a.add(2)\n",
    "a"
   ]
  },
  {
   "cell_type": "markdown",
   "metadata": {},
   "source": [
    "# jupyter cell magic command to write a text file inside the jupyter notebook"
   ]
  },
  {
   "cell_type": "code",
   "execution_count": 36,
   "metadata": {},
   "outputs": [
    {
     "name": "stdout",
     "output_type": "stream",
     "text": [
      "Overwriting text1.txt\n"
     ]
    }
   ],
   "source": [
    "%%writefile text1.txt\n",
    "\n",
    "hello this is simple text file for testing \n",
    "this is the first line\n",
    "this the third line"
   ]
  },
  {
   "cell_type": "code",
   "execution_count": 37,
   "metadata": {},
   "outputs": [],
   "source": [
    "mf = open('text1.txt')"
   ]
  },
  {
   "cell_type": "code",
   "execution_count": 38,
   "metadata": {},
   "outputs": [
    {
     "data": {
      "text/plain": [
       "'\\nhello this is simple text file for testing \\nthis is the first line\\nthis the third line\\n'"
      ]
     },
     "execution_count": 38,
     "metadata": {},
     "output_type": "execute_result"
    }
   ],
   "source": [
    "mf.read()"
   ]
  },
  {
   "cell_type": "code",
   "execution_count": 39,
   "metadata": {},
   "outputs": [
    {
     "data": {
      "text/plain": [
       "''"
      ]
     },
     "execution_count": 39,
     "metadata": {},
     "output_type": "execute_result"
    }
   ],
   "source": [
    "mf.read()"
   ]
  },
  {
   "cell_type": "markdown",
   "metadata": {},
   "source": [
    "bcoz the cursor is at the end location so we have to reset the cursor location at start position"
   ]
  },
  {
   "cell_type": "code",
   "execution_count": 40,
   "metadata": {},
   "outputs": [
    {
     "data": {
      "text/plain": [
       "0"
      ]
     },
     "execution_count": 40,
     "metadata": {},
     "output_type": "execute_result"
    }
   ],
   "source": [
    "mf.seek(0)"
   ]
  },
  {
   "cell_type": "code",
   "execution_count": 41,
   "metadata": {},
   "outputs": [
    {
     "data": {
      "text/plain": [
       "'\\nhello this is simple text file for testing \\nthis is the first line\\nthis the third line\\n'"
      ]
     },
     "execution_count": 41,
     "metadata": {},
     "output_type": "execute_result"
    }
   ],
   "source": [
    "mf.read()"
   ]
  },
  {
   "cell_type": "code",
   "execution_count": 42,
   "metadata": {},
   "outputs": [
    {
     "data": {
      "text/plain": [
       "''"
      ]
     },
     "execution_count": 42,
     "metadata": {},
     "output_type": "execute_result"
    }
   ],
   "source": [
    "mf.read()"
   ]
  },
  {
   "cell_type": "code",
   "execution_count": 43,
   "metadata": {},
   "outputs": [
    {
     "data": {
      "text/plain": [
       "0"
      ]
     },
     "execution_count": 43,
     "metadata": {},
     "output_type": "execute_result"
    }
   ],
   "source": [
    "mf.seek(0)"
   ]
  },
  {
   "cell_type": "code",
   "execution_count": 44,
   "metadata": {},
   "outputs": [
    {
     "data": {
      "text/plain": [
       "'\\nhello this is simple text file for testing \\nthis is the first line\\nthis the third line\\n'"
      ]
     },
     "execution_count": 44,
     "metadata": {},
     "output_type": "execute_result"
    }
   ],
   "source": [
    "mf.read()"
   ]
  },
  {
   "cell_type": "code",
   "execution_count": 45,
   "metadata": {},
   "outputs": [
    {
     "data": {
      "text/plain": [
       "[]"
      ]
     },
     "execution_count": 45,
     "metadata": {},
     "output_type": "execute_result"
    }
   ],
   "source": [
    "mf.readlines()"
   ]
  },
  {
   "cell_type": "code",
   "execution_count": 46,
   "metadata": {},
   "outputs": [
    {
     "data": {
      "text/plain": [
       "0"
      ]
     },
     "execution_count": 46,
     "metadata": {},
     "output_type": "execute_result"
    }
   ],
   "source": [
    "mf.seek(0)"
   ]
  },
  {
   "cell_type": "code",
   "execution_count": 47,
   "metadata": {},
   "outputs": [
    {
     "data": {
      "text/plain": [
       "['\\n',\n",
       " 'hello this is simple text file for testing \\n',\n",
       " 'this is the first line\\n',\n",
       " 'this the third line\\n']"
      ]
     },
     "execution_count": 47,
     "metadata": {},
     "output_type": "execute_result"
    }
   ],
   "source": [
    "mf.readlines()"
   ]
  },
  {
   "cell_type": "code",
   "execution_count": 48,
   "metadata": {},
   "outputs": [
    {
     "data": {
      "text/plain": [
       "'C:\\\\Users\\\\LENOVO\\\\Desktop\\\\Dev_Python Programming\\\\extra'"
      ]
     },
     "execution_count": 48,
     "metadata": {},
     "output_type": "execute_result"
    }
   ],
   "source": [
    "pwd"
   ]
  },
  {
   "cell_type": "markdown",
   "metadata": {},
   "source": [
    "but for mac we have to use / this "
   ]
  },
  {
   "cell_type": "code",
   "execution_count": 49,
   "metadata": {},
   "outputs": [],
   "source": [
    "mf.close()"
   ]
  },
  {
   "cell_type": "markdown",
   "metadata": {},
   "source": [
    "if we open the file manually then we have to close it manually other wise it will show the erros that the is still open "
   ]
  },
  {
   "cell_type": "markdown",
   "metadata": {},
   "source": [
    "so to avoid this error we can also use the with statement"
   ]
  },
  {
   "cell_type": "code",
   "execution_count": 52,
   "metadata": {},
   "outputs": [],
   "source": [
    "with open('text1.txt') as myfile:     # now i dont need to close this file manually\n",
    "    a=myfile.read()"
   ]
  },
  {
   "cell_type": "code",
   "execution_count": 53,
   "metadata": {},
   "outputs": [
    {
     "data": {
      "text/plain": [
       "'\\nhello this is simple text file for testing \\nthis is the first line\\nthis the third line\\n'"
      ]
     },
     "execution_count": 53,
     "metadata": {},
     "output_type": "execute_result"
    }
   ],
   "source": [
    "a"
   ]
  },
  {
   "cell_type": "markdown",
   "metadata": {},
   "source": [
    "---"
   ]
  },
  {
   "cell_type": "code",
   "execution_count": 56,
   "metadata": {},
   "outputs": [],
   "source": [
    "a = [0]*10"
   ]
  },
  {
   "cell_type": "code",
   "execution_count": 57,
   "metadata": {},
   "outputs": [
    {
     "data": {
      "text/plain": [
       "[0, 0, 0, 0, 0, 0, 0, 0, 0, 0]"
      ]
     },
     "execution_count": 57,
     "metadata": {},
     "output_type": "execute_result"
    }
   ],
   "source": [
    "a"
   ]
  },
  {
   "cell_type": "markdown",
   "metadata": {},
   "source": [
    "---"
   ]
  },
  {
   "cell_type": "code",
   "execution_count": 2,
   "metadata": {},
   "outputs": [
    {
     "name": "stdout",
     "output_type": "stream",
     "text": [
      "cool\n",
      "cool\n",
      "cool\n",
      "cool\n",
      "cool\n",
      "cool\n",
      "cool\n",
      "cool\n",
      "cool\n",
      "cool\n",
      "cool\n",
      "cool\n",
      "cool\n",
      "cool\n",
      "cool\n",
      "cool\n",
      "cool\n"
     ]
    }
   ],
   "source": [
    "for _ in 'devdatta supnekar':\n",
    "    print(\"cool\")"
   ]
  },
  {
   "cell_type": "markdown",
   "metadata": {},
   "source": [
    "# tupple unpacking "
   ]
  },
  {
   "cell_type": "code",
   "execution_count": 6,
   "metadata": {},
   "outputs": [],
   "source": [
    "mylist = [(1,2),(3,7),(7,2),(5,6),(9,8)]"
   ]
  },
  {
   "cell_type": "code",
   "execution_count": 7,
   "metadata": {},
   "outputs": [
    {
     "name": "stdout",
     "output_type": "stream",
     "text": [
      "(1, 2)\n",
      "(3, 7)\n",
      "(7, 2)\n",
      "(5, 6)\n",
      "(9, 8)\n"
     ]
    }
   ],
   "source": [
    "for i in mylist:\n",
    "    print(i)"
   ]
  },
  {
   "cell_type": "code",
   "execution_count": 8,
   "metadata": {},
   "outputs": [
    {
     "name": "stdout",
     "output_type": "stream",
     "text": [
      "1\n",
      "2\n",
      "3\n",
      "7\n",
      "7\n",
      "2\n",
      "5\n",
      "6\n",
      "9\n",
      "8\n"
     ]
    }
   ],
   "source": [
    "for (i,j) in mylist:\n",
    "    print(i)\n",
    "    print(j)"
   ]
  },
  {
   "cell_type": "code",
   "execution_count": 9,
   "metadata": {},
   "outputs": [
    {
     "name": "stdout",
     "output_type": "stream",
     "text": [
      "1\n",
      "3\n",
      "7\n",
      "5\n",
      "9\n"
     ]
    }
   ],
   "source": [
    "for i,j in mylist:\n",
    "    print(i)"
   ]
  },
  {
   "cell_type": "code",
   "execution_count": 10,
   "metadata": {},
   "outputs": [],
   "source": [
    "mylist2 = [(1,2,3,4),(6,7,8,9),(4,3,2,5)]"
   ]
  },
  {
   "cell_type": "code",
   "execution_count": 11,
   "metadata": {},
   "outputs": [
    {
     "name": "stdout",
     "output_type": "stream",
     "text": [
      "1\n",
      "2\n",
      "3\n",
      "4\n",
      "6\n",
      "7\n",
      "8\n",
      "9\n",
      "4\n",
      "3\n",
      "2\n",
      "5\n"
     ]
    }
   ],
   "source": [
    "for i,j,k,l in mylist2:\n",
    "    print(i)\n",
    "    print(j)\n",
    "    print(k)\n",
    "    print(l)"
   ]
  },
  {
   "cell_type": "code",
   "execution_count": 12,
   "metadata": {},
   "outputs": [],
   "source": [
    "d = {'k1':'v1', 'k2':'v2','k3':'v3'}"
   ]
  },
  {
   "cell_type": "code",
   "execution_count": 14,
   "metadata": {},
   "outputs": [
    {
     "name": "stdout",
     "output_type": "stream",
     "text": [
      "k1\n",
      "k2\n",
      "k3\n"
     ]
    }
   ],
   "source": [
    "for i in d:\n",
    "    print(i) #by default dict will return only keys "
   ]
  },
  {
   "cell_type": "code",
   "execution_count": 15,
   "metadata": {},
   "outputs": [
    {
     "name": "stdout",
     "output_type": "stream",
     "text": [
      "k1\n",
      "v1\n",
      "k2\n",
      "v2\n",
      "k3\n",
      "v3\n"
     ]
    }
   ],
   "source": [
    "for key,val in d.items():\n",
    "    print(key)\n",
    "    print(val)"
   ]
  },
  {
   "cell_type": "markdown",
   "metadata": {},
   "source": [
    "# we can also use else with while "
   ]
  },
  {
   "cell_type": "code",
   "execution_count": 18,
   "metadata": {},
   "outputs": [
    {
     "name": "stdout",
     "output_type": "stream",
     "text": [
      "hello the value of a is \n",
      "0\n",
      "hello the value of a is \n",
      "1\n",
      "hello the value of a is \n",
      "2\n",
      "hello the value of a is \n",
      "3\n",
      "hello the value of a is \n",
      "4\n",
      "hello the value of a is \n",
      "5\n",
      "hello the value of a is \n",
      "6\n",
      "a is not equal to \n"
     ]
    }
   ],
   "source": [
    "a = 0\n",
    "\n",
    "while a<7:\n",
    "    print(\"hello the value of a is \")\n",
    "    print(a)\n",
    "    a=a+1\n",
    "else:\n",
    "    print('a is not equal to ')"
   ]
  },
  {
   "cell_type": "markdown",
   "metadata": {},
   "source": [
    "---"
   ]
  },
  {
   "cell_type": "markdown",
   "metadata": {},
   "source": [
    "eof means end of file \n"
   ]
  },
  {
   "cell_type": "code",
   "execution_count": 20,
   "metadata": {},
   "outputs": [],
   "source": [
    "for i in mylist:\n",
    "    pass"
   ]
  },
  {
   "cell_type": "markdown",
   "metadata": {},
   "source": [
    "---"
   ]
  },
  {
   "cell_type": "code",
   "execution_count": 21,
   "metadata": {},
   "outputs": [
    {
     "name": "stdout",
     "output_type": "stream",
     "text": [
      "d\n",
      "e\n",
      "v\n",
      "d\n",
      "a\n",
      "t\n",
      "t\n",
      "a\n"
     ]
    }
   ],
   "source": [
    "\n",
    "index_count = 0\n",
    "word  = \"devdatta\"\n",
    "\n",
    "\n",
    "for i in word:\n",
    "    print(word[index_count])\n",
    "    index_count+=1"
   ]
  },
  {
   "cell_type": "code",
   "execution_count": 22,
   "metadata": {},
   "outputs": [
    {
     "name": "stdout",
     "output_type": "stream",
     "text": [
      "(0, 'd')\n",
      "(1, 'e')\n",
      "(2, 'v')\n",
      "(3, 'd')\n",
      "(4, 'a')\n",
      "(5, 't')\n",
      "(6, 't')\n",
      "(7, 'a')\n"
     ]
    }
   ],
   "source": [
    "for i in enumerate(word):\n",
    "    print(i)"
   ]
  },
  {
   "cell_type": "code",
   "execution_count": 23,
   "metadata": {},
   "outputs": [
    {
     "name": "stdout",
     "output_type": "stream",
     "text": [
      "the word d is at index 0\n",
      "the word e is at index 1\n",
      "the word v is at index 2\n",
      "the word d is at index 3\n",
      "the word a is at index 4\n",
      "the word t is at index 5\n",
      "the word t is at index 6\n",
      "the word a is at index 7\n"
     ]
    }
   ],
   "source": [
    "for i , j in enumerate(word):\n",
    "    print(f'the word {j} is at index {i}')"
   ]
  },
  {
   "cell_type": "markdown",
   "metadata": {},
   "source": [
    "---"
   ]
  },
  {
   "cell_type": "code",
   "execution_count": 24,
   "metadata": {},
   "outputs": [],
   "source": [
    "list1 = ['a','d','r']\n",
    "list2 = [1,2,3]\n",
    "list3 =  [100,200,400]\n",
    "\n",
    "\n",
    "for i in zip(list1, list2, list3):\n",
    "    print(i)"
   ]
  },
  {
   "cell_type": "code",
   "execution_count": 28,
   "metadata": {},
   "outputs": [
    {
     "name": "stdout",
     "output_type": "stream",
     "text": [
      "a 1 100\n",
      "d 2 200\n",
      "r 3 400\n"
     ]
    }
   ],
   "source": [
    "list1 = ['a','d','r']\n",
    "list2 = [1,2,3,5,6,7]\n",
    "list3 =  [100,200,400]\n",
    "\n",
    "\n",
    "for i,j,k in zip(list1, list2, list3): # zip function consider only shortest list\n",
    "    print(i,j,k)"
   ]
  },
  {
   "cell_type": "markdown",
   "metadata": {},
   "source": [
    "---"
   ]
  },
  {
   "cell_type": "code",
   "execution_count": 29,
   "metadata": {},
   "outputs": [],
   "source": [
    "from random import shuffle\n",
    "\n",
    "\n",
    "a = [1,2,3,4,5,6,7,8]"
   ]
  },
  {
   "cell_type": "code",
   "execution_count": 30,
   "metadata": {},
   "outputs": [],
   "source": [
    "shuffle(a)"
   ]
  },
  {
   "cell_type": "code",
   "execution_count": 31,
   "metadata": {},
   "outputs": [
    {
     "data": {
      "text/plain": [
       "[6, 7, 5, 2, 3, 1, 8, 4]"
      ]
     },
     "execution_count": 31,
     "metadata": {},
     "output_type": "execute_result"
    }
   ],
   "source": [
    "a"
   ]
  },
  {
   "cell_type": "code",
   "execution_count": 32,
   "metadata": {},
   "outputs": [],
   "source": [
    "b = shuffle(a)"
   ]
  },
  {
   "cell_type": "code",
   "execution_count": 34,
   "metadata": {},
   "outputs": [],
   "source": [
    "b"
   ]
  },
  {
   "cell_type": "code",
   "execution_count": 35,
   "metadata": {},
   "outputs": [
    {
     "data": {
      "text/plain": [
       "NoneType"
      ]
     },
     "execution_count": 35,
     "metadata": {},
     "output_type": "execute_result"
    }
   ],
   "source": [
    "type(b)"
   ]
  },
  {
   "cell_type": "markdown",
   "metadata": {},
   "source": [
    "---"
   ]
  },
  {
   "cell_type": "markdown",
   "metadata": {},
   "source": [
    "# how to use if else in list comprehension "
   ]
  },
  {
   "cell_type": "code",
   "execution_count": 36,
   "metadata": {},
   "outputs": [],
   "source": [
    "a = [1,2,3,4,5,7,8,9,10,11,12,34]"
   ]
  },
  {
   "cell_type": "code",
   "execution_count": 37,
   "metadata": {},
   "outputs": [],
   "source": [
    "b = [ i if i%2==0 else 'odd'          for i in a                        ]"
   ]
  },
  {
   "cell_type": "code",
   "execution_count": 38,
   "metadata": {},
   "outputs": [
    {
     "data": {
      "text/plain": [
       "['odd', 2, 'odd', 4, 'odd', 'odd', 8, 'odd', 10, 'odd', 12, 34]"
      ]
     },
     "execution_count": 38,
     "metadata": {},
     "output_type": "execute_result"
    }
   ],
   "source": [
    "b"
   ]
  },
  {
   "cell_type": "markdown",
   "metadata": {},
   "source": [
    "---"
   ]
  },
  {
   "cell_type": "markdown",
   "metadata": {},
   "source": [
    "nested list \n"
   ]
  },
  {
   "cell_type": "code",
   "execution_count": 39,
   "metadata": {},
   "outputs": [],
   "source": [
    "a = [1,2,3,4,5,6]\n",
    "b = [100,200,300,400,500,600]\n",
    "c = [8,6,5,3,2,1]"
   ]
  },
  {
   "cell_type": "code",
   "execution_count": 41,
   "metadata": {},
   "outputs": [],
   "source": [
    "x = []"
   ]
  },
  {
   "cell_type": "code",
   "execution_count": 42,
   "metadata": {},
   "outputs": [
    {
     "name": "stdout",
     "output_type": "stream",
     "text": [
      "[800, 600, 500, 300, 200, 100, 1600, 1200, 1000, 600, 400, 200, 2400, 1800, 1500, 900, 600, 300, 3200, 2400, 2000, 1200, 800, 400, 4000, 3000, 2500, 1500, 1000, 500, 4800, 3600, 3000, 1800, 1200, 600, 1600, 1200, 1000, 600, 400, 200, 3200, 2400, 2000, 1200, 800, 400, 4800, 3600, 3000, 1800, 1200, 600, 6400, 4800, 4000, 2400, 1600, 800, 8000, 6000, 5000, 3000, 2000, 1000, 9600, 7200, 6000, 3600, 2400, 1200, 2400, 1800, 1500, 900, 600, 300, 4800, 3600, 3000, 1800, 1200, 600, 7200, 5400, 4500, 2700, 1800, 900, 9600, 7200, 6000, 3600, 2400, 1200, 12000, 9000, 7500, 4500, 3000, 1500, 14400, 10800, 9000, 5400, 3600, 1800, 3200, 2400, 2000, 1200, 800, 400, 6400, 4800, 4000, 2400, 1600, 800, 9600, 7200, 6000, 3600, 2400, 1200, 12800, 9600, 8000, 4800, 3200, 1600, 16000, 12000, 10000, 6000, 4000, 2000, 19200, 14400, 12000, 7200, 4800, 2400, 4000, 3000, 2500, 1500, 1000, 500, 8000, 6000, 5000, 3000, 2000, 1000, 12000, 9000, 7500, 4500, 3000, 1500, 16000, 12000, 10000, 6000, 4000, 2000, 20000, 15000, 12500, 7500, 5000, 2500, 24000, 18000, 15000, 9000, 6000, 3000, 4800, 3600, 3000, 1800, 1200, 600, 9600, 7200, 6000, 3600, 2400, 1200, 14400, 10800, 9000, 5400, 3600, 1800, 19200, 14400, 12000, 7200, 4800, 2400, 24000, 18000, 15000, 9000, 6000, 3000, 28800, 21600, 18000, 10800, 7200, 3600]\n"
     ]
    }
   ],
   "source": [
    "for i in a:\n",
    "    for j in b:\n",
    "        for k in c:\n",
    "            x.append(i*j*k)\n",
    "print(x)"
   ]
  },
  {
   "cell_type": "code",
   "execution_count": 43,
   "metadata": {},
   "outputs": [],
   "source": [
    "y = [i*j*k for i in a for j in b for k in c]"
   ]
  },
  {
   "cell_type": "code",
   "execution_count": 44,
   "metadata": {},
   "outputs": [
    {
     "data": {
      "text/plain": [
       "[800,\n",
       " 600,\n",
       " 500,\n",
       " 300,\n",
       " 200,\n",
       " 100,\n",
       " 1600,\n",
       " 1200,\n",
       " 1000,\n",
       " 600,\n",
       " 400,\n",
       " 200,\n",
       " 2400,\n",
       " 1800,\n",
       " 1500,\n",
       " 900,\n",
       " 600,\n",
       " 300,\n",
       " 3200,\n",
       " 2400,\n",
       " 2000,\n",
       " 1200,\n",
       " 800,\n",
       " 400,\n",
       " 4000,\n",
       " 3000,\n",
       " 2500,\n",
       " 1500,\n",
       " 1000,\n",
       " 500,\n",
       " 4800,\n",
       " 3600,\n",
       " 3000,\n",
       " 1800,\n",
       " 1200,\n",
       " 600,\n",
       " 1600,\n",
       " 1200,\n",
       " 1000,\n",
       " 600,\n",
       " 400,\n",
       " 200,\n",
       " 3200,\n",
       " 2400,\n",
       " 2000,\n",
       " 1200,\n",
       " 800,\n",
       " 400,\n",
       " 4800,\n",
       " 3600,\n",
       " 3000,\n",
       " 1800,\n",
       " 1200,\n",
       " 600,\n",
       " 6400,\n",
       " 4800,\n",
       " 4000,\n",
       " 2400,\n",
       " 1600,\n",
       " 800,\n",
       " 8000,\n",
       " 6000,\n",
       " 5000,\n",
       " 3000,\n",
       " 2000,\n",
       " 1000,\n",
       " 9600,\n",
       " 7200,\n",
       " 6000,\n",
       " 3600,\n",
       " 2400,\n",
       " 1200,\n",
       " 2400,\n",
       " 1800,\n",
       " 1500,\n",
       " 900,\n",
       " 600,\n",
       " 300,\n",
       " 4800,\n",
       " 3600,\n",
       " 3000,\n",
       " 1800,\n",
       " 1200,\n",
       " 600,\n",
       " 7200,\n",
       " 5400,\n",
       " 4500,\n",
       " 2700,\n",
       " 1800,\n",
       " 900,\n",
       " 9600,\n",
       " 7200,\n",
       " 6000,\n",
       " 3600,\n",
       " 2400,\n",
       " 1200,\n",
       " 12000,\n",
       " 9000,\n",
       " 7500,\n",
       " 4500,\n",
       " 3000,\n",
       " 1500,\n",
       " 14400,\n",
       " 10800,\n",
       " 9000,\n",
       " 5400,\n",
       " 3600,\n",
       " 1800,\n",
       " 3200,\n",
       " 2400,\n",
       " 2000,\n",
       " 1200,\n",
       " 800,\n",
       " 400,\n",
       " 6400,\n",
       " 4800,\n",
       " 4000,\n",
       " 2400,\n",
       " 1600,\n",
       " 800,\n",
       " 9600,\n",
       " 7200,\n",
       " 6000,\n",
       " 3600,\n",
       " 2400,\n",
       " 1200,\n",
       " 12800,\n",
       " 9600,\n",
       " 8000,\n",
       " 4800,\n",
       " 3200,\n",
       " 1600,\n",
       " 16000,\n",
       " 12000,\n",
       " 10000,\n",
       " 6000,\n",
       " 4000,\n",
       " 2000,\n",
       " 19200,\n",
       " 14400,\n",
       " 12000,\n",
       " 7200,\n",
       " 4800,\n",
       " 2400,\n",
       " 4000,\n",
       " 3000,\n",
       " 2500,\n",
       " 1500,\n",
       " 1000,\n",
       " 500,\n",
       " 8000,\n",
       " 6000,\n",
       " 5000,\n",
       " 3000,\n",
       " 2000,\n",
       " 1000,\n",
       " 12000,\n",
       " 9000,\n",
       " 7500,\n",
       " 4500,\n",
       " 3000,\n",
       " 1500,\n",
       " 16000,\n",
       " 12000,\n",
       " 10000,\n",
       " 6000,\n",
       " 4000,\n",
       " 2000,\n",
       " 20000,\n",
       " 15000,\n",
       " 12500,\n",
       " 7500,\n",
       " 5000,\n",
       " 2500,\n",
       " 24000,\n",
       " 18000,\n",
       " 15000,\n",
       " 9000,\n",
       " 6000,\n",
       " 3000,\n",
       " 4800,\n",
       " 3600,\n",
       " 3000,\n",
       " 1800,\n",
       " 1200,\n",
       " 600,\n",
       " 9600,\n",
       " 7200,\n",
       " 6000,\n",
       " 3600,\n",
       " 2400,\n",
       " 1200,\n",
       " 14400,\n",
       " 10800,\n",
       " 9000,\n",
       " 5400,\n",
       " 3600,\n",
       " 1800,\n",
       " 19200,\n",
       " 14400,\n",
       " 12000,\n",
       " 7200,\n",
       " 4800,\n",
       " 2400,\n",
       " 24000,\n",
       " 18000,\n",
       " 15000,\n",
       " 9000,\n",
       " 6000,\n",
       " 3000,\n",
       " 28800,\n",
       " 21600,\n",
       " 18000,\n",
       " 10800,\n",
       " 7200,\n",
       " 3600]"
      ]
     },
     "execution_count": 44,
     "metadata": {},
     "output_type": "execute_result"
    }
   ],
   "source": [
    "y"
   ]
  },
  {
   "cell_type": "markdown",
   "metadata": {},
   "source": [
    "---"
   ]
  },
  {
   "cell_type": "markdown",
   "metadata": {},
   "source": [
    "# the exact meaning of return keyword "
   ]
  },
  {
   "cell_type": "code",
   "execution_count": 45,
   "metadata": {},
   "outputs": [],
   "source": [
    "def add(a,b):\n",
    "    print(a+b)"
   ]
  },
  {
   "cell_type": "code",
   "execution_count": 46,
   "metadata": {},
   "outputs": [
    {
     "name": "stdout",
     "output_type": "stream",
     "text": [
      "15\n"
     ]
    }
   ],
   "source": [
    "add(7,8)"
   ]
  },
  {
   "cell_type": "code",
   "execution_count": 47,
   "metadata": {},
   "outputs": [
    {
     "name": "stdout",
     "output_type": "stream",
     "text": [
      "7\n"
     ]
    }
   ],
   "source": [
    "a = add(3,4)"
   ]
  },
  {
   "cell_type": "code",
   "execution_count": 48,
   "metadata": {},
   "outputs": [],
   "source": [
    "a"
   ]
  },
  {
   "cell_type": "code",
   "execution_count": 49,
   "metadata": {},
   "outputs": [
    {
     "data": {
      "text/plain": [
       "NoneType"
      ]
     },
     "execution_count": 49,
     "metadata": {},
     "output_type": "execute_result"
    }
   ],
   "source": [
    "type(a)"
   ]
  },
  {
   "cell_type": "code",
   "execution_count": 50,
   "metadata": {},
   "outputs": [],
   "source": [
    "def add(a,b):\n",
    "    return (a+b)"
   ]
  },
  {
   "cell_type": "code",
   "execution_count": 51,
   "metadata": {},
   "outputs": [],
   "source": [
    "a = add(7,4)"
   ]
  },
  {
   "cell_type": "code",
   "execution_count": 52,
   "metadata": {},
   "outputs": [
    {
     "data": {
      "text/plain": [
       "11"
      ]
     },
     "execution_count": 52,
     "metadata": {},
     "output_type": "execute_result"
    }
   ],
   "source": [
    "a"
   ]
  },
  {
   "cell_type": "code",
   "execution_count": 53,
   "metadata": {},
   "outputs": [
    {
     "data": {
      "text/plain": [
       "int"
      ]
     },
     "execution_count": 53,
     "metadata": {},
     "output_type": "execute_result"
    }
   ],
   "source": [
    "type(a)"
   ]
  },
  {
   "cell_type": "code",
   "execution_count": 56,
   "metadata": {},
   "outputs": [],
   "source": [
    "a ='DEVDATTA'\n",
    "\n",
    "n = a.lower()"
   ]
  },
  {
   "cell_type": "code",
   "execution_count": 57,
   "metadata": {},
   "outputs": [
    {
     "data": {
      "text/plain": [
       "'devdatta'"
      ]
     },
     "execution_count": 57,
     "metadata": {},
     "output_type": "execute_result"
    }
   ],
   "source": [
    "n"
   ]
  },
  {
   "cell_type": "code",
   "execution_count": 59,
   "metadata": {},
   "outputs": [],
   "source": [
    "def vol(w):\n",
    "    a = w[0].lower()\n",
    "    if a == 'a' or a == 'e' or a == 'i' or a=='o' or a == 'u':\n",
    "        return w+\"ay\"\n",
    "    else:\n",
    "        return w[1:]+w[0]+'ay'"
   ]
  },
  {
   "cell_type": "code",
   "execution_count": 60,
   "metadata": {},
   "outputs": [
    {
     "data": {
      "text/plain": [
       "'evday'"
      ]
     },
     "execution_count": 60,
     "metadata": {},
     "output_type": "execute_result"
    }
   ],
   "source": [
    "vol('dev')"
   ]
  },
  {
   "cell_type": "code",
   "execution_count": 61,
   "metadata": {},
   "outputs": [
    {
     "data": {
      "text/plain": [
       "'elephantay'"
      ]
     },
     "execution_count": 61,
     "metadata": {},
     "output_type": "execute_result"
    }
   ],
   "source": [
    "vol('elephant')"
   ]
  },
  {
   "cell_type": "code",
   "execution_count": 64,
   "metadata": {},
   "outputs": [],
   "source": [
    "def vol(w):\n",
    "    a = w[0].lower()\n",
    "    if a in 'aeiou':\n",
    "        d = w+\"ay\"\n",
    "    else:\n",
    "        d=  w[1:]+w[0]+'ay'\n",
    "        \n",
    "    return d"
   ]
  },
  {
   "cell_type": "code",
   "execution_count": 65,
   "metadata": {},
   "outputs": [
    {
     "data": {
      "text/plain": [
       "'abhijeetay'"
      ]
     },
     "execution_count": 65,
     "metadata": {},
     "output_type": "execute_result"
    }
   ],
   "source": [
    "vol('abhijeet')"
   ]
  },
  {
   "cell_type": "markdown",
   "metadata": {},
   "source": [
    "---"
   ]
  },
  {
   "cell_type": "markdown",
   "metadata": {},
   "source": [
    "# *args and *kwargs"
   ]
  },
  {
   "cell_type": "code",
   "execution_count": 66,
   "metadata": {},
   "outputs": [],
   "source": [
    "def add(a,b,c=0,d=0):\n",
    "    return sum((a,b,c,d))  * 0.5"
   ]
  },
  {
   "cell_type": "code",
   "execution_count": 67,
   "metadata": {},
   "outputs": [
    {
     "data": {
      "text/plain": [
       "3.5"
      ]
     },
     "execution_count": 67,
     "metadata": {},
     "output_type": "execute_result"
    }
   ],
   "source": [
    "add(3,4)"
   ]
  },
  {
   "cell_type": "code",
   "execution_count": 70,
   "metadata": {},
   "outputs": [
    {
     "data": {
      "text/plain": [
       "69.5"
      ]
     },
     "execution_count": 70,
     "metadata": {},
     "output_type": "execute_result"
    }
   ],
   "source": [
    "add(25,25,50,39)"
   ]
  },
  {
   "cell_type": "code",
   "execution_count": 71,
   "metadata": {},
   "outputs": [
    {
     "ename": "TypeError",
     "evalue": "add() takes from 2 to 4 positional arguments but 6 were given",
     "output_type": "error",
     "traceback": [
      "\u001b[1;31m---------------------------------------------------------------------------\u001b[0m",
      "\u001b[1;31mTypeError\u001b[0m                                 Traceback (most recent call last)",
      "\u001b[1;32m<ipython-input-71-b39be942fde7>\u001b[0m in \u001b[0;36m<module>\u001b[1;34m\u001b[0m\n\u001b[1;32m----> 1\u001b[1;33m \u001b[0madd\u001b[0m\u001b[1;33m(\u001b[0m\u001b[1;36m23\u001b[0m \u001b[1;33m,\u001b[0m\u001b[1;36m34\u001b[0m\u001b[1;33m,\u001b[0m\u001b[1;36m32\u001b[0m\u001b[1;33m,\u001b[0m\u001b[1;36m44\u001b[0m\u001b[1;33m,\u001b[0m\u001b[1;36m55\u001b[0m\u001b[1;33m,\u001b[0m\u001b[1;36m33\u001b[0m\u001b[1;33m)\u001b[0m\u001b[1;33m\u001b[0m\u001b[1;33m\u001b[0m\u001b[0m\n\u001b[0m",
      "\u001b[1;31mTypeError\u001b[0m: add() takes from 2 to 4 positional arguments but 6 were given"
     ]
    }
   ],
   "source": [
    "add(23 ,34,32,44,55,33)"
   ]
  },
  {
   "cell_type": "code",
   "execution_count": 78,
   "metadata": {},
   "outputs": [],
   "source": [
    "def addf(*args):\n",
    "    return sum(args)* 0.5"
   ]
  },
  {
   "cell_type": "code",
   "execution_count": 79,
   "metadata": {},
   "outputs": [
    {
     "data": {
      "text/plain": [
       "129.0"
      ]
     },
     "execution_count": 79,
     "metadata": {},
     "output_type": "execute_result"
    }
   ],
   "source": [
    "addf(34,45,5,64,5,6,3,2,34,55,5)"
   ]
  },
  {
   "cell_type": "code",
   "execution_count": 80,
   "metadata": {},
   "outputs": [],
   "source": [
    "def addf(*args):\n",
    "    for i in args:\n",
    "        print(i)"
   ]
  },
  {
   "cell_type": "code",
   "execution_count": 81,
   "metadata": {},
   "outputs": [
    {
     "name": "stdout",
     "output_type": "stream",
     "text": [
      "1\n",
      "2\n",
      "3\n",
      "5\n",
      "6\n",
      "7\n",
      "3\n",
      "3\n",
      "4\n",
      "5\n",
      "6\n",
      "7\n",
      "4\n"
     ]
    }
   ],
   "source": [
    "addf(1,2,3,5,6,7,3,3,4,5,6,7,4)"
   ]
  },
  {
   "cell_type": "markdown",
   "metadata": {},
   "source": [
    "args retrun the tuppel and kwargs retrun the dict "
   ]
  },
  {
   "cell_type": "code",
   "execution_count": 82,
   "metadata": {},
   "outputs": [],
   "source": [
    "def fruit(**kwargs):\n",
    "    print(kwargs)\n",
    "    print('\\n')\n",
    "    if 'fruit' in kwargs:\n",
    "        print('my fruit is {}'.format(kwargs['fruit']))"
   ]
  },
  {
   "cell_type": "code",
   "execution_count": 84,
   "metadata": {},
   "outputs": [
    {
     "name": "stdout",
     "output_type": "stream",
     "text": [
      "{'fruit': 'apple', 'city': 'mumbai'}\n",
      "\n",
      "\n",
      "my fruit is apple\n"
     ]
    }
   ],
   "source": [
    "fruit(fruit='apple' , city='mumbai')"
   ]
  },
  {
   "cell_type": "code",
   "execution_count": 87,
   "metadata": {},
   "outputs": [],
   "source": [
    "def testd(*args,**kwargs):\n",
    "    print(args)\n",
    "    print(kwargs)\n",
    "    print(' i like {} {} '.format(args[3],kwargs['food']))"
   ]
  },
  {
   "cell_type": "code",
   "execution_count": 88,
   "metadata": {},
   "outputs": [
    {
     "name": "stdout",
     "output_type": "stream",
     "text": [
      "(1, 2, 3, 4, 5)\n",
      "{'food': 'chinese'}\n",
      " i like 4 chinese \n"
     ]
    }
   ],
   "source": [
    "testd(1,2,3,4,5,food='chinese')"
   ]
  },
  {
   "cell_type": "code",
   "execution_count": null,
   "metadata": {},
   "outputs": [],
   "source": []
  }
 ],
 "metadata": {
  "kernelspec": {
   "display_name": "Python 3",
   "language": "python",
   "name": "python3"
  },
  "language_info": {
   "codemirror_mode": {
    "name": "ipython",
    "version": 3
   },
   "file_extension": ".py",
   "mimetype": "text/x-python",
   "name": "python",
   "nbconvert_exporter": "python",
   "pygments_lexer": "ipython3",
   "version": "3.7.1"
  }
 },
 "nbformat": 4,
 "nbformat_minor": 2
}
