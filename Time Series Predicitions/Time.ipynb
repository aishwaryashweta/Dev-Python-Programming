{
 "cells": [
  {
   "cell_type": "markdown",
   "metadata": {},
   "source": [
    "# Time Series Forecasting Using LSTM"
   ]
  },
  {
   "cell_type": "markdown",
   "metadata": {},
   "source": [
    "1. Univariate LSTM Models\n",
    "    1. Data Preparation\n",
    "    2. Vanilla LSTM\n",
    "    3. Stacked LSTM\n",
    "    4. Bidirectional LSTM\n",
    "    5. CNN LSTM\n",
    "    6. ConvLSTM\n",
    "   \n",
    "   \n",
    "2. Multivariate LSTM Models\n",
    "    1. Multiple Input Series.\n",
    "    2. Multiple Parallel Series\n",
    "    \n",
    "    \n",
    "3. Multi-Step LSTM Models\n",
    "    1. Data Preparation\n",
    "    2. Vector Output Model\n",
    "    3. Encoder-Decoder Model\n",
    "    \n",
    "    \n",
    "4. Multivariate Multi-Step LSTM Models\n",
    "    1. Multiple Input Multi-Step Output.\n",
    "    2. Multiple Parallel Input and Multi-Step Output."
   ]
  },
  {
   "cell_type": "markdown",
   "metadata": {},
   "source": [
    "## Univarite Forecasting on dummy dataset"
   ]
  },
  {
   "cell_type": "markdown",
   "metadata": {},
   "source": [
    "### 1. Import all the dependencies"
   ]
  },
  {
   "cell_type": "code",
   "execution_count": 85,
   "metadata": {},
   "outputs": [],
   "source": [
    "\n",
    "import numpy as np\n",
    "from tensorflow.keras.models import Sequential\n",
    "from tensorflow.keras.layers import LSTM\n",
    "from tensorflow.keras.layers import Dense\n",
    "from tensorflow.keras.layers import Flatten\n",
    "\n",
    "from datetime import date\n",
    "from sklearn.preprocessing import MinMaxScaler\n",
    "from numpy import array\n",
    "import pandas as pd\n",
    "\n",
    "import math\n",
    "from sklearn.metrics import mean_squared_error\n",
    "import seaborn as sns\n",
    "import matplotlib as plt\n",
    "import matplotlib.pyplot as plt\n",
    "%matplotlib inline\n",
    "\n",
    "\n",
    "import warnings\n",
    "warnings.filterwarnings('ignore')"
   ]
  },
  {
   "cell_type": "markdown",
   "metadata": {},
   "source": [
    "### 2. preparing independent and dependent features"
   ]
  },
  {
   "cell_type": "code",
   "execution_count": 2,
   "metadata": {},
   "outputs": [],
   "source": [
    "\n",
    "def prepare_data(timeseries_data, n_features):\n",
    "    \"\"\"\n",
    "    objective: prepare data for time serires forecasting \n",
    "    \n",
    "    timeseries_data: input array \n",
    "    n_features: time_step\n",
    "    \n",
    "    return: X, y \n",
    "    \"\"\"\n",
    "    \n",
    "    X, y =[],[]\n",
    "    \n",
    "    for i in range(len(timeseries_data)):\n",
    "        \n",
    "        # find the end of this pattern\n",
    "        end_ix = i + n_features\n",
    "        \n",
    "        # check if we are beyond the sequence\n",
    "        if end_ix > len(timeseries_data)-1:\n",
    "            break\n",
    "            \n",
    "        # gather input and output parts of the pattern\n",
    "        seq_x, seq_y = timeseries_data[i:end_ix], timeseries_data[end_ix]\n",
    "        \n",
    "        X.append(seq_x)\n",
    "        y.append(seq_y)\n",
    "        \n",
    "    return np.array(X), np.array(y)"
   ]
  },
  {
   "cell_type": "code",
   "execution_count": 3,
   "metadata": {},
   "outputs": [],
   "source": [
    "# define input sequence\n",
    "timeseries_data = [110, 125, 133, 146, 158, 172, 187, 196, 210]\n",
    "\n",
    "# choose a number of time steps\n",
    "n_steps = 3\n",
    "\n",
    "# split into samples\n",
    "X, y = prepare_data(timeseries_data, n_steps)"
   ]
  },
  {
   "cell_type": "code",
   "execution_count": 4,
   "metadata": {},
   "outputs": [
    {
     "name": "stdout",
     "output_type": "stream",
     "text": [
      "[[110 125 133]\n",
      " [125 133 146]\n",
      " [133 146 158]\n",
      " [146 158 172]\n",
      " [158 172 187]\n",
      " [172 187 196]]\n"
     ]
    }
   ],
   "source": [
    "print(X) # x independent variable"
   ]
  },
  {
   "cell_type": "code",
   "execution_count": 5,
   "metadata": {},
   "outputs": [
    {
     "name": "stdout",
     "output_type": "stream",
     "text": [
      "[146 158 172 187 196 210]\n"
     ]
    }
   ],
   "source": [
    "print(y) # y dependent variable"
   ]
  },
  {
   "cell_type": "code",
   "execution_count": 6,
   "metadata": {},
   "outputs": [
    {
     "data": {
      "text/plain": [
       "(6, 3)"
      ]
     },
     "execution_count": 6,
     "metadata": {},
     "output_type": "execute_result"
    }
   ],
   "source": [
    "X.shape"
   ]
  },
  {
   "cell_type": "markdown",
   "metadata": {},
   "source": [
    "### 3.  Reshape the data"
   ]
  },
  {
   "cell_type": "code",
   "execution_count": 7,
   "metadata": {},
   "outputs": [],
   "source": [
    "# reshape from [samples, timesteps] into [samples, timesteps, features]\n",
    "n_features = 1\n",
    "X = X.reshape((X.shape[0], X.shape[1], n_features))"
   ]
  },
  {
   "cell_type": "code",
   "execution_count": 8,
   "metadata": {},
   "outputs": [
    {
     "data": {
      "text/plain": [
       "(6, 3, 1)"
      ]
     },
     "execution_count": 8,
     "metadata": {},
     "output_type": "execute_result"
    }
   ],
   "source": [
    "X.shape"
   ]
  },
  {
   "cell_type": "code",
   "execution_count": 9,
   "metadata": {
    "collapsed": true
   },
   "outputs": [
    {
     "data": {
      "text/plain": [
       "array([[[110],\n",
       "        [125],\n",
       "        [133]],\n",
       "\n",
       "       [[125],\n",
       "        [133],\n",
       "        [146]],\n",
       "\n",
       "       [[133],\n",
       "        [146],\n",
       "        [158]],\n",
       "\n",
       "       [[146],\n",
       "        [158],\n",
       "        [172]],\n",
       "\n",
       "       [[158],\n",
       "        [172],\n",
       "        [187]],\n",
       "\n",
       "       [[172],\n",
       "        [187],\n",
       "        [196]]])"
      ]
     },
     "execution_count": 9,
     "metadata": {},
     "output_type": "execute_result"
    }
   ],
   "source": [
    "X"
   ]
  },
  {
   "cell_type": "markdown",
   "metadata": {},
   "source": [
    "### 4. Build and Compile the model"
   ]
  },
  {
   "cell_type": "code",
   "execution_count": 10,
   "metadata": {},
   "outputs": [],
   "source": [
    "# define model\n",
    "model = Sequential()\n",
    "model.add(LSTM(50, activation='relu', return_sequences=True, input_shape=(n_steps, n_features)))\n",
    "model.add(LSTM(50, activation='relu'))\n",
    "model.add(Dense(1))\n",
    "\n",
    "# compile the model\n",
    "model.compile(optimizer='adam', loss='mse')"
   ]
  },
  {
   "cell_type": "markdown",
   "metadata": {},
   "source": [
    "### 5. Train the model"
   ]
  },
  {
   "cell_type": "code",
   "execution_count": 11,
   "metadata": {
    "collapsed": true
   },
   "outputs": [
    {
     "name": "stdout",
     "output_type": "stream",
     "text": [
      "Train on 6 samples\n",
      "Epoch 1/300\n",
      "6/6 [==============================] - 2s 289ms/sample - loss: 32344.5703\n",
      "Epoch 2/300\n",
      "6/6 [==============================] - 0s 833us/sample - loss: 31904.7520\n",
      "Epoch 3/300\n",
      "6/6 [==============================] - 0s 836us/sample - loss: 31395.3965\n",
      "Epoch 4/300\n",
      "6/6 [==============================] - 0s 999us/sample - loss: 30873.6621\n",
      "Epoch 5/300\n",
      "6/6 [==============================] - 0s 1ms/sample - loss: 30357.1562\n",
      "Epoch 6/300\n",
      "6/6 [==============================] - 0s 1ms/sample - loss: 29848.0723\n",
      "Epoch 7/300\n",
      "6/6 [==============================] - 0s 1ms/sample - loss: 29334.0098\n",
      "Epoch 8/300\n",
      "6/6 [==============================] - 0s 1ms/sample - loss: 28833.2031\n",
      "Epoch 9/300\n",
      "6/6 [==============================] - 0s 1ms/sample - loss: 28332.1426\n",
      "Epoch 10/300\n",
      "6/6 [==============================] - 0s 999us/sample - loss: 27809.5684\n",
      "Epoch 11/300\n",
      "6/6 [==============================] - 0s 1ms/sample - loss: 27236.7598\n",
      "Epoch 12/300\n",
      "6/6 [==============================] - 0s 996us/sample - loss: 26590.4746\n",
      "Epoch 13/300\n",
      "6/6 [==============================] - 0s 833us/sample - loss: 25848.1406\n",
      "Epoch 14/300\n",
      "6/6 [==============================] - 0s 1ms/sample - loss: 24996.1621\n",
      "Epoch 15/300\n",
      "6/6 [==============================] - 0s 833us/sample - loss: 24056.9629\n",
      "Epoch 16/300\n",
      "6/6 [==============================] - 0s 1ms/sample - loss: 23034.6465\n",
      "Epoch 17/300\n",
      "6/6 [==============================] - 0s 16ms/sample - loss: 21916.9531\n",
      "Epoch 18/300\n",
      "6/6 [==============================] - 0s 1ms/sample - loss: 20710.5898\n",
      "Epoch 19/300\n",
      "6/6 [==============================] - 0s 1ms/sample - loss: 19413.3770\n",
      "Epoch 20/300\n",
      "6/6 [==============================] - 0s 1ms/sample - loss: 18004.0371\n",
      "Epoch 21/300\n",
      "6/6 [==============================] - 0s 1000us/sample - loss: 16460.0176\n",
      "Epoch 22/300\n",
      "6/6 [==============================] - 0s 1ms/sample - loss: 14787.7920\n",
      "Epoch 23/300\n",
      "6/6 [==============================] - 0s 1ms/sample - loss: 12886.5791\n",
      "Epoch 24/300\n",
      "6/6 [==============================] - 0s 1ms/sample - loss: 11053.2861\n",
      "Epoch 25/300\n",
      "6/6 [==============================] - 0s 1000us/sample - loss: 9513.2510\n",
      "Epoch 26/300\n",
      "6/6 [==============================] - 0s 1ms/sample - loss: 7763.3921\n",
      "Epoch 27/300\n",
      "6/6 [==============================] - 0s 1ms/sample - loss: 5634.8999\n",
      "Epoch 28/300\n",
      "6/6 [==============================] - 0s 1ms/sample - loss: 3613.5007\n",
      "Epoch 29/300\n",
      "6/6 [==============================] - 0s 1ms/sample - loss: 2098.0969\n",
      "Epoch 30/300\n",
      "6/6 [==============================] - 0s 835us/sample - loss: 1018.3499\n",
      "Epoch 31/300\n",
      "6/6 [==============================] - 0s 999us/sample - loss: 358.9166\n",
      "Epoch 32/300\n",
      "6/6 [==============================] - 0s 1000us/sample - loss: 33.0478\n",
      "Epoch 33/300\n",
      "6/6 [==============================] - 0s 1ms/sample - loss: 199.0709\n",
      "Epoch 34/300\n",
      "6/6 [==============================] - 0s 1ms/sample - loss: 651.6616\n",
      "Epoch 35/300\n",
      "6/6 [==============================] - 0s 1ms/sample - loss: 984.9214\n",
      "Epoch 36/300\n",
      "6/6 [==============================] - 0s 1ms/sample - loss: 1112.9091\n",
      "Epoch 37/300\n",
      "6/6 [==============================] - 0s 833us/sample - loss: 1135.2317\n",
      "Epoch 38/300\n",
      "6/6 [==============================] - 0s 833us/sample - loss: 1051.9938\n",
      "Epoch 39/300\n",
      "6/6 [==============================] - 0s 1ms/sample - loss: 845.6684\n",
      "Epoch 40/300\n",
      "6/6 [==============================] - 0s 833us/sample - loss: 612.4297\n",
      "Epoch 41/300\n",
      "6/6 [==============================] - 0s 1ms/sample - loss: 430.6842\n",
      "Epoch 42/300\n",
      "6/6 [==============================] - 0s 666us/sample - loss: 284.3401\n",
      "Epoch 43/300\n",
      "6/6 [==============================] - 0s 833us/sample - loss: 167.6655\n",
      "Epoch 44/300\n",
      "6/6 [==============================] - 0s 1ms/sample - loss: 79.6621\n",
      "Epoch 45/300\n",
      "6/6 [==============================] - 0s 833us/sample - loss: 25.0919\n",
      "Epoch 46/300\n",
      "6/6 [==============================] - 0s 834us/sample - loss: 15.7330\n",
      "Epoch 47/300\n",
      "6/6 [==============================] - 0s 833us/sample - loss: 39.8930\n",
      "Epoch 48/300\n",
      "6/6 [==============================] - 0s 666us/sample - loss: 73.1117\n",
      "Epoch 49/300\n",
      "6/6 [==============================] - 0s 1ms/sample - loss: 101.7751\n",
      "Epoch 50/300\n",
      "6/6 [==============================] - 0s 833us/sample - loss: 121.4319\n",
      "Epoch 51/300\n",
      "6/6 [==============================] - 0s 1000us/sample - loss: 127.3698\n",
      "Epoch 52/300\n",
      "6/6 [==============================] - 0s 831us/sample - loss: 113.3761\n",
      "Epoch 53/300\n",
      "6/6 [==============================] - 0s 834us/sample - loss: 78.9925\n",
      "Epoch 54/300\n",
      "6/6 [==============================] - 0s 1ms/sample - loss: 40.4907\n",
      "Epoch 55/300\n",
      "6/6 [==============================] - 0s 834us/sample - loss: 19.4925\n",
      "Epoch 56/300\n",
      "6/6 [==============================] - 0s 838us/sample - loss: 14.6189\n",
      "Epoch 57/300\n",
      "6/6 [==============================] - 0s 832us/sample - loss: 17.5946\n",
      "Epoch 58/300\n",
      "6/6 [==============================] - 0s 833us/sample - loss: 22.8891\n",
      "Epoch 59/300\n",
      "6/6 [==============================] - 0s 833us/sample - loss: 26.7967\n",
      "Epoch 60/300\n",
      "6/6 [==============================] - 0s 1ms/sample - loss: 27.6013\n",
      "Epoch 61/300\n",
      "6/6 [==============================] - 0s 999us/sample - loss: 25.3957\n",
      "Epoch 62/300\n",
      "6/6 [==============================] - 0s 666us/sample - loss: 21.4566\n",
      "Epoch 63/300\n",
      "6/6 [==============================] - 0s 833us/sample - loss: 17.3914\n",
      "Epoch 64/300\n",
      "6/6 [==============================] - 0s 1ms/sample - loss: 14.4339\n",
      "Epoch 65/300\n",
      "6/6 [==============================] - 0s 1ms/sample - loss: 13.1337\n",
      "Epoch 66/300\n",
      "6/6 [==============================] - 0s 995us/sample - loss: 13.3840\n",
      "Epoch 67/300\n",
      "6/6 [==============================] - 0s 833us/sample - loss: 14.6359\n",
      "Epoch 68/300\n",
      "6/6 [==============================] - 0s 834us/sample - loss: 16.1758\n",
      "Epoch 69/300\n",
      "6/6 [==============================] - 0s 833us/sample - loss: 17.3756\n",
      "Epoch 70/300\n",
      "6/6 [==============================] - 0s 832us/sample - loss: 17.8541\n",
      "Epoch 71/300\n",
      "6/6 [==============================] - 0s 1ms/sample - loss: 17.5239\n",
      "Epoch 72/300\n",
      "6/6 [==============================] - 0s 666us/sample - loss: 16.5486\n",
      "Epoch 73/300\n",
      "6/6 [==============================] - 0s 831us/sample - loss: 15.2500\n",
      "Epoch 74/300\n",
      "6/6 [==============================] - 0s 834us/sample - loss: 13.9943\n",
      "Epoch 75/300\n",
      "6/6 [==============================] - 0s 833us/sample - loss: 13.0877\n",
      "Epoch 76/300\n",
      "6/6 [==============================] - 0s 833us/sample - loss: 12.6981\n",
      "Epoch 77/300\n",
      "6/6 [==============================] - 0s 834us/sample - loss: 12.8180\n",
      "Epoch 78/300\n",
      "6/6 [==============================] - 0s 834us/sample - loss: 13.2757\n",
      "Epoch 79/300\n",
      "6/6 [==============================] - 0s 667us/sample - loss: 13.7989\n",
      "Epoch 80/300\n",
      "6/6 [==============================] - 0s 833us/sample - loss: 14.1195\n",
      "Epoch 81/300\n",
      "6/6 [==============================] - 0s 835us/sample - loss: 14.0809\n",
      "Epoch 82/300\n",
      "6/6 [==============================] - 0s 833us/sample - loss: 13.6936\n",
      "Epoch 83/300\n",
      "6/6 [==============================] - 0s 833us/sample - loss: 13.1097\n",
      "Epoch 84/300\n",
      "6/6 [==============================] - 0s 833us/sample - loss: 12.5339\n",
      "Epoch 85/300\n",
      "6/6 [==============================] - 0s 834us/sample - loss: 12.1297\n",
      "Epoch 86/300\n",
      "6/6 [==============================] - 0s 1ms/sample - loss: 11.9617\n",
      "Epoch 87/300\n",
      "6/6 [==============================] - 0s 667us/sample - loss: 11.9924\n",
      "Epoch 88/300\n",
      "6/6 [==============================] - 0s 833us/sample - loss: 12.1175\n",
      "Epoch 89/300\n",
      "6/6 [==============================] - 0s 833us/sample - loss: 12.2157\n",
      "Epoch 90/300\n",
      "6/6 [==============================] - 0s 834us/sample - loss: 12.1962\n",
      "Epoch 91/300\n",
      "6/6 [==============================] - 0s 833us/sample - loss: 12.0264\n",
      "Epoch 92/300\n",
      "6/6 [==============================] - 0s 830us/sample - loss: 11.7364\n",
      "Epoch 93/300\n",
      "6/6 [==============================] - 0s 833us/sample - loss: 11.4022\n",
      "Epoch 94/300\n",
      "6/6 [==============================] - 0s 829us/sample - loss: 11.1132\n",
      "Epoch 95/300\n",
      "6/6 [==============================] - 0s 666us/sample - loss: 10.9334\n",
      "Epoch 96/300\n",
      "6/6 [==============================] - 0s 839us/sample - loss: 10.8709\n",
      "Epoch 97/300\n",
      "6/6 [==============================] - 0s 834us/sample - loss: 10.8739\n"
     ]
    },
    {
     "name": "stdout",
     "output_type": "stream",
     "text": [
      "Epoch 98/300\n",
      "6/6 [==============================] - 0s 1ms/sample - loss: 10.8624\n",
      "Epoch 99/300\n",
      "6/6 [==============================] - 0s 667us/sample - loss: 10.7663\n",
      "Epoch 100/300\n",
      "6/6 [==============================] - 0s 667us/sample - loss: 10.5450\n",
      "Epoch 101/300\n",
      "6/6 [==============================] - 0s 1ms/sample - loss: 10.2413\n",
      "Epoch 102/300\n",
      "6/6 [==============================] - 0s 834us/sample - loss: 9.9555\n",
      "Epoch 103/300\n",
      "6/6 [==============================] - 0s 834us/sample - loss: 9.7829\n",
      "Epoch 104/300\n",
      "6/6 [==============================] - 0s 666us/sample - loss: 9.6467\n",
      "Epoch 105/300\n",
      "6/6 [==============================] - 0s 667us/sample - loss: 9.5155\n",
      "Epoch 106/300\n",
      "6/6 [==============================] - 0s 833us/sample - loss: 9.4253\n",
      "Epoch 107/300\n",
      "6/6 [==============================] - 0s 667us/sample - loss: 9.2863\n",
      "Epoch 108/300\n",
      "6/6 [==============================] - 0s 834us/sample - loss: 9.1740\n",
      "Epoch 109/300\n",
      "6/6 [==============================] - 0s 833us/sample - loss: 9.0180\n",
      "Epoch 110/300\n",
      "6/6 [==============================] - 0s 500us/sample - loss: 8.9301\n",
      "Epoch 111/300\n",
      "6/6 [==============================] - 0s 668us/sample - loss: 8.7652\n",
      "Epoch 112/300\n",
      "6/6 [==============================] - 0s 834us/sample - loss: 8.6537\n",
      "Epoch 113/300\n",
      "6/6 [==============================] - 0s 834us/sample - loss: 8.5065\n",
      "Epoch 114/300\n",
      "6/6 [==============================] - 0s 833us/sample - loss: 8.3506\n",
      "Epoch 115/300\n",
      "6/6 [==============================] - 0s 835us/sample - loss: 8.2225\n",
      "Epoch 116/300\n",
      "6/6 [==============================] - 0s 666us/sample - loss: 8.0497\n",
      "Epoch 117/300\n",
      "6/6 [==============================] - 0s 666us/sample - loss: 7.9241\n",
      "Epoch 118/300\n",
      "6/6 [==============================] - 0s 1000us/sample - loss: 7.7732\n",
      "Epoch 119/300\n",
      "6/6 [==============================] - 0s 500us/sample - loss: 7.6667\n",
      "Epoch 120/300\n",
      "6/6 [==============================] - 0s 667us/sample - loss: 7.5200\n",
      "Epoch 121/300\n",
      "6/6 [==============================] - 0s 833us/sample - loss: 7.4071\n",
      "Epoch 122/300\n",
      "6/6 [==============================] - 0s 667us/sample - loss: 7.2552\n",
      "Epoch 123/300\n",
      "6/6 [==============================] - 0s 668us/sample - loss: 7.1325\n",
      "Epoch 124/300\n",
      "6/6 [==============================] - 0s 833us/sample - loss: 6.9704\n",
      "Epoch 125/300\n",
      "6/6 [==============================] - 0s 667us/sample - loss: 6.8357\n",
      "Epoch 126/300\n",
      "6/6 [==============================] - 0s 667us/sample - loss: 6.6880\n",
      "Epoch 127/300\n",
      "6/6 [==============================] - 0s 834us/sample - loss: 6.5495\n",
      "Epoch 128/300\n",
      "6/6 [==============================] - 0s 500us/sample - loss: 6.4208\n",
      "Epoch 129/300\n",
      "6/6 [==============================] - 0s 834us/sample - loss: 6.2745\n",
      "Epoch 130/300\n",
      "6/6 [==============================] - 0s 834us/sample - loss: 6.1558\n",
      "Epoch 131/300\n",
      "6/6 [==============================] - 0s 667us/sample - loss: 6.0380\n",
      "Epoch 132/300\n",
      "6/6 [==============================] - 0s 834us/sample - loss: 5.8963\n",
      "Epoch 133/300\n",
      "6/6 [==============================] - 0s 1ms/sample - loss: 5.7909\n",
      "Epoch 134/300\n",
      "6/6 [==============================] - 0s 669us/sample - loss: 5.7119\n",
      "Epoch 135/300\n",
      "6/6 [==============================] - 0s 667us/sample - loss: 5.5906\n",
      "Epoch 136/300\n",
      "6/6 [==============================] - 0s 834us/sample - loss: 5.4764\n",
      "Epoch 137/300\n",
      "6/6 [==============================] - 0s 833us/sample - loss: 5.3913\n",
      "Epoch 138/300\n",
      "6/6 [==============================] - 0s 667us/sample - loss: 5.3229\n",
      "Epoch 139/300\n",
      "6/6 [==============================] - 0s 833us/sample - loss: 5.2431\n",
      "Epoch 140/300\n",
      "6/6 [==============================] - 0s 667us/sample - loss: 5.1511\n",
      "Epoch 141/300\n",
      "6/6 [==============================] - 0s 837us/sample - loss: 5.0926\n",
      "Epoch 142/300\n",
      "6/6 [==============================] - 0s 834us/sample - loss: 5.0236\n",
      "Epoch 143/300\n",
      "6/6 [==============================] - 0s 666us/sample - loss: 4.9481\n",
      "Epoch 144/300\n",
      "6/6 [==============================] - 0s 667us/sample - loss: 4.9214\n",
      "Epoch 145/300\n",
      "6/6 [==============================] - 0s 833us/sample - loss: 4.8806\n",
      "Epoch 146/300\n",
      "6/6 [==============================] - 0s 667us/sample - loss: 4.8138\n",
      "Epoch 147/300\n",
      "6/6 [==============================] - 0s 834us/sample - loss: 4.8171\n",
      "Epoch 148/300\n",
      "6/6 [==============================] - 0s 667us/sample - loss: 4.8101\n",
      "Epoch 149/300\n",
      "6/6 [==============================] - 0s 832us/sample - loss: 4.7106\n",
      "Epoch 150/300\n",
      "6/6 [==============================] - 0s 834us/sample - loss: 4.7483\n",
      "Epoch 151/300\n",
      "6/6 [==============================] - 0s 835us/sample - loss: 4.6537\n",
      "Epoch 152/300\n",
      "6/6 [==============================] - 0s 667us/sample - loss: 4.6478\n",
      "Epoch 153/300\n",
      "6/6 [==============================] - 0s 667us/sample - loss: 4.5916\n",
      "Epoch 154/300\n",
      "6/6 [==============================] - 0s 834us/sample - loss: 4.5887\n",
      "Epoch 155/300\n",
      "6/6 [==============================] - 0s 667us/sample - loss: 4.5347\n",
      "Epoch 156/300\n",
      "6/6 [==============================] - 0s 667us/sample - loss: 4.5250\n",
      "Epoch 157/300\n",
      "6/6 [==============================] - 0s 836us/sample - loss: 4.4741\n",
      "Epoch 158/300\n",
      "6/6 [==============================] - 0s 666us/sample - loss: 4.4649\n",
      "Epoch 159/300\n",
      "6/6 [==============================] - 0s 667us/sample - loss: 4.4162\n",
      "Epoch 160/300\n",
      "6/6 [==============================] - 0s 833us/sample - loss: 4.3952\n",
      "Epoch 161/300\n",
      "6/6 [==============================] - 0s 666us/sample - loss: 4.3581\n",
      "Epoch 162/300\n",
      "6/6 [==============================] - 0s 667us/sample - loss: 4.3242\n",
      "Epoch 163/300\n",
      "6/6 [==============================] - 0s 834us/sample - loss: 4.3045\n",
      "Epoch 164/300\n",
      "6/6 [==============================] - 0s 666us/sample - loss: 4.2548\n",
      "Epoch 165/300\n",
      "6/6 [==============================] - 0s 668us/sample - loss: 4.2486\n",
      "Epoch 166/300\n",
      "6/6 [==============================] - 0s 833us/sample - loss: 4.2282\n",
      "Epoch 167/300\n",
      "6/6 [==============================] - 0s 666us/sample - loss: 4.1714\n",
      "Epoch 168/300\n",
      "6/6 [==============================] - 0s 667us/sample - loss: 4.1541\n",
      "Epoch 169/300\n",
      "6/6 [==============================] - 0s 667us/sample - loss: 4.1655\n",
      "Epoch 170/300\n",
      "6/6 [==============================] - 0s 1000us/sample - loss: 4.1382\n",
      "Epoch 171/300\n",
      "6/6 [==============================] - 0s 833us/sample - loss: 4.1058\n",
      "Epoch 172/300\n",
      "6/6 [==============================] - 0s 667us/sample - loss: 4.0480\n",
      "Epoch 173/300\n",
      "6/6 [==============================] - 0s 832us/sample - loss: 4.0134\n",
      "Epoch 174/300\n",
      "6/6 [==============================] - 0s 667us/sample - loss: 4.0027\n",
      "Epoch 175/300\n",
      "6/6 [==============================] - 0s 667us/sample - loss: 4.0042\n",
      "Epoch 176/300\n",
      "6/6 [==============================] - 0s 833us/sample - loss: 4.0294\n",
      "Epoch 177/300\n",
      "6/6 [==============================] - 0s 667us/sample - loss: 4.0040\n",
      "Epoch 178/300\n",
      "6/6 [==============================] - 0s 667us/sample - loss: 3.9906\n",
      "Epoch 179/300\n",
      "6/6 [==============================] - 0s 833us/sample - loss: 3.9105\n",
      "Epoch 180/300\n",
      "6/6 [==============================] - 0s 667us/sample - loss: 3.8614\n",
      "Epoch 181/300\n",
      "6/6 [==============================] - 0s 667us/sample - loss: 3.8509\n",
      "Epoch 182/300\n",
      "6/6 [==============================] - 0s 833us/sample - loss: 3.8649\n",
      "Epoch 183/300\n",
      "6/6 [==============================] - 0s 667us/sample - loss: 3.9032\n",
      "Epoch 184/300\n",
      "6/6 [==============================] - 0s 833us/sample - loss: 3.8887\n",
      "Epoch 185/300\n",
      "6/6 [==============================] - 0s 1ms/sample - loss: 3.8955\n",
      "Epoch 186/300\n",
      "6/6 [==============================] - 0s 834us/sample - loss: 3.8144\n",
      "Epoch 187/300\n",
      "6/6 [==============================] - 0s 1ms/sample - loss: 3.7580\n",
      "Epoch 188/300\n",
      "6/6 [==============================] - 0s 999us/sample - loss: 3.7248\n",
      "Epoch 189/300\n",
      "6/6 [==============================] - 0s 833us/sample - loss: 3.7232\n",
      "Epoch 190/300\n",
      "6/6 [==============================] - 0s 832us/sample - loss: 3.7485\n",
      "Epoch 191/300\n",
      "6/6 [==============================] - 0s 667us/sample - loss: 3.7804\n",
      "Epoch 192/300\n",
      "6/6 [==============================] - 0s 1ms/sample - loss: 3.8832\n",
      "Epoch 193/300\n",
      "6/6 [==============================] - 0s 667us/sample - loss: 3.8610\n",
      "Epoch 194/300\n",
      "6/6 [==============================] - 0s 667us/sample - loss: 3.8932\n",
      "Epoch 195/300\n",
      "6/6 [==============================] - 0s 834us/sample - loss: 3.7111\n"
     ]
    },
    {
     "name": "stdout",
     "output_type": "stream",
     "text": [
      "Epoch 196/300\n",
      "6/6 [==============================] - 0s 667us/sample - loss: 3.6230\n",
      "Epoch 197/300\n",
      "6/6 [==============================] - 0s 834us/sample - loss: 3.6473\n",
      "Epoch 198/300\n",
      "6/6 [==============================] - 0s 666us/sample - loss: 3.7096\n",
      "Epoch 199/300\n",
      "6/6 [==============================] - 0s 665us/sample - loss: 3.7698\n",
      "Epoch 200/300\n",
      "6/6 [==============================] - 0s 834us/sample - loss: 3.6639\n",
      "Epoch 201/300\n",
      "6/6 [==============================] - 0s 834us/sample - loss: 3.5842\n",
      "Epoch 202/300\n",
      "6/6 [==============================] - 0s 667us/sample - loss: 3.5659\n",
      "Epoch 203/300\n",
      "6/6 [==============================] - 0s 834us/sample - loss: 3.6046\n",
      "Epoch 204/300\n",
      "6/6 [==============================] - 0s 833us/sample - loss: 3.6635\n",
      "Epoch 205/300\n",
      "6/6 [==============================] - 0s 667us/sample - loss: 3.6348\n",
      "Epoch 206/300\n",
      "6/6 [==============================] - 0s 668us/sample - loss: 3.6010\n",
      "Epoch 207/300\n",
      "6/6 [==============================] - 0s 833us/sample - loss: 3.5351\n",
      "Epoch 208/300\n",
      "6/6 [==============================] - 0s 667us/sample - loss: 3.5030\n",
      "Epoch 209/300\n",
      "6/6 [==============================] - 0s 834us/sample - loss: 3.5045\n",
      "Epoch 210/300\n",
      "6/6 [==============================] - 0s 833us/sample - loss: 3.5271\n",
      "Epoch 211/300\n",
      "6/6 [==============================] - 0s 667us/sample - loss: 3.5742\n",
      "Epoch 212/300\n",
      "6/6 [==============================] - 0s 667us/sample - loss: 3.5988\n",
      "Epoch 213/300\n",
      "6/6 [==============================] - 0s 832us/sample - loss: 3.6803\n",
      "Epoch 214/300\n",
      "6/6 [==============================] - 0s 832us/sample - loss: 3.6469\n",
      "Epoch 215/300\n",
      "6/6 [==============================] - 0s 500us/sample - loss: 3.6706\n",
      "Epoch 216/300\n",
      "6/6 [==============================] - 0s 836us/sample - loss: 3.5506\n",
      "Epoch 217/300\n",
      "6/6 [==============================] - 0s 667us/sample - loss: 3.4743\n",
      "Epoch 218/300\n",
      "6/6 [==============================] - 0s 667us/sample - loss: 3.4204\n",
      "Epoch 219/300\n",
      "6/6 [==============================] - 0s 833us/sample - loss: 3.4164\n",
      "Epoch 220/300\n",
      "6/6 [==============================] - 0s 666us/sample - loss: 3.4564\n",
      "Epoch 221/300\n",
      "6/6 [==============================] - 0s 667us/sample - loss: 3.5320\n",
      "Epoch 222/300\n",
      "6/6 [==============================] - 0s 667us/sample - loss: 3.6877\n",
      "Epoch 223/300\n",
      "6/6 [==============================] - 0s 833us/sample - loss: 3.6637\n",
      "Epoch 224/300\n",
      "6/6 [==============================] - 0s 667us/sample - loss: 3.6932\n",
      "Epoch 225/300\n",
      "6/6 [==============================] - 0s 1ms/sample - loss: 3.4798\n",
      "Epoch 226/300\n",
      "6/6 [==============================] - 0s 833us/sample - loss: 3.3672\n",
      "Epoch 227/300\n",
      "6/6 [==============================] - 0s 667us/sample - loss: 3.3698\n",
      "Epoch 228/300\n",
      "6/6 [==============================] - 0s 667us/sample - loss: 3.4485\n",
      "Epoch 229/300\n",
      "6/6 [==============================] - 0s 832us/sample - loss: 3.5570\n",
      "Epoch 230/300\n",
      "6/6 [==============================] - 0s 667us/sample - loss: 3.4997\n",
      "Epoch 231/300\n",
      "6/6 [==============================] - 0s 667us/sample - loss: 3.4395\n",
      "Epoch 232/300\n",
      "6/6 [==============================] - 0s 665us/sample - loss: 3.3410\n",
      "Epoch 233/300\n",
      "6/6 [==============================] - 0s 667us/sample - loss: 3.3112\n",
      "Epoch 234/300\n",
      "6/6 [==============================] - 0s 667us/sample - loss: 3.3434\n",
      "Epoch 235/300\n",
      "6/6 [==============================] - 0s 1000us/sample - loss: 3.3915\n",
      "Epoch 236/300\n",
      "6/6 [==============================] - 0s 667us/sample - loss: 3.4559\n",
      "Epoch 237/300\n",
      "6/6 [==============================] - 0s 1ms/sample - loss: 3.4282\n",
      "Epoch 238/300\n",
      "6/6 [==============================] - 0s 1ms/sample - loss: 3.4154\n",
      "Epoch 239/300\n",
      "6/6 [==============================] - 0s 1ms/sample - loss: 3.3391\n",
      "Epoch 240/300\n",
      "6/6 [==============================] - 0s 667us/sample - loss: 3.2889\n",
      "Epoch 241/300\n",
      "6/6 [==============================] - 0s 1ms/sample - loss: 3.2548\n",
      "Epoch 242/300\n",
      "6/6 [==============================] - 0s 832us/sample - loss: 3.2441\n",
      "Epoch 243/300\n",
      "6/6 [==============================] - 0s 1ms/sample - loss: 3.2518\n",
      "Epoch 244/300\n",
      "6/6 [==============================] - 0s 999us/sample - loss: 3.2734\n",
      "Epoch 245/300\n",
      "6/6 [==============================] - 0s 1ms/sample - loss: 3.3276\n",
      "Epoch 246/300\n",
      "6/6 [==============================] - 0s 833us/sample - loss: 3.3962\n",
      "Epoch 247/300\n",
      "6/6 [==============================] - 0s 667us/sample - loss: 3.6220\n",
      "Epoch 248/300\n",
      "6/6 [==============================] - 0s 834us/sample - loss: 3.7361\n",
      "Epoch 249/300\n",
      "6/6 [==============================] - 0s 666us/sample - loss: 4.2347\n",
      "Epoch 250/300\n",
      "6/6 [==============================] - 0s 500us/sample - loss: 3.7270\n",
      "Epoch 251/300\n",
      "6/6 [==============================] - 0s 833us/sample - loss: 3.4431\n",
      "Epoch 252/300\n",
      "6/6 [==============================] - 0s 666us/sample - loss: 3.1777\n",
      "Epoch 253/300\n",
      "6/6 [==============================] - 0s 833us/sample - loss: 3.2801\n",
      "Epoch 254/300\n",
      "6/6 [==============================] - 0s 834us/sample - loss: 3.5912\n",
      "Epoch 255/300\n",
      "6/6 [==============================] - 0s 667us/sample - loss: 3.4795\n",
      "Epoch 256/300\n",
      "6/6 [==============================] - 0s 500us/sample - loss: 3.3168\n",
      "Epoch 257/300\n",
      "6/6 [==============================] - 0s 834us/sample - loss: 3.1419\n",
      "Epoch 258/300\n",
      "6/6 [==============================] - 0s 833us/sample - loss: 3.2104\n",
      "Epoch 259/300\n",
      "6/6 [==============================] - 0s 833us/sample - loss: 3.4036\n",
      "Epoch 260/300\n",
      "6/6 [==============================] - 0s 834us/sample - loss: 3.3501\n",
      "Epoch 261/300\n",
      "6/6 [==============================] - 0s 500us/sample - loss: 3.2457\n",
      "Epoch 262/300\n",
      "6/6 [==============================] - 0s 834us/sample - loss: 3.1151\n",
      "Epoch 263/300\n",
      "6/6 [==============================] - 0s 834us/sample - loss: 3.1255\n",
      "Epoch 264/300\n",
      "6/6 [==============================] - 0s 666us/sample - loss: 3.2327\n",
      "Epoch 265/300\n",
      "6/6 [==============================] - 0s 667us/sample - loss: 3.2726\n",
      "Epoch 266/300\n",
      "6/6 [==============================] - 0s 667us/sample - loss: 3.2864\n",
      "Epoch 267/300\n",
      "6/6 [==============================] - 0s 666us/sample - loss: 3.1628\n",
      "Epoch 268/300\n",
      "6/6 [==============================] - 0s 668us/sample - loss: 3.0801\n",
      "Epoch 269/300\n",
      "6/6 [==============================] - 0s 832us/sample - loss: 3.0541\n",
      "Epoch 270/300\n",
      "6/6 [==============================] - 0s 833us/sample - loss: 3.0853\n",
      "Epoch 271/300\n",
      "6/6 [==============================] - 0s 667us/sample - loss: 3.1535\n",
      "Epoch 272/300\n",
      "6/6 [==============================] - 0s 833us/sample - loss: 3.1962\n",
      "Epoch 273/300\n",
      "6/6 [==============================] - 0s 667us/sample - loss: 3.2833\n",
      "Epoch 274/300\n",
      "6/6 [==============================] - 0s 667us/sample - loss: 3.2616\n",
      "Epoch 275/300\n",
      "6/6 [==============================] - 0s 667us/sample - loss: 3.3186\n",
      "Epoch 276/300\n",
      "6/6 [==============================] - 0s 832us/sample - loss: 3.2374\n",
      "Epoch 277/300\n",
      "6/6 [==============================] - 0s 500us/sample - loss: 3.2346\n",
      "Epoch 278/300\n",
      "6/6 [==============================] - 0s 833us/sample - loss: 3.1450\n",
      "Epoch 279/300\n",
      "6/6 [==============================] - 0s 833us/sample - loss: 3.1103\n",
      "Epoch 280/300\n",
      "6/6 [==============================] - 0s 668us/sample - loss: 3.0538\n",
      "Epoch 281/300\n",
      "6/6 [==============================] - 0s 833us/sample - loss: 3.0281\n",
      "Epoch 282/300\n",
      "6/6 [==============================] - 0s 832us/sample - loss: 3.0037\n",
      "Epoch 283/300\n",
      "6/6 [==============================] - 0s 835us/sample - loss: 2.9964\n",
      "Epoch 284/300\n",
      "6/6 [==============================] - 0s 834us/sample - loss: 2.9950\n",
      "Epoch 285/300\n",
      "6/6 [==============================] - 0s 834us/sample - loss: 3.0227\n",
      "Epoch 286/300\n",
      "6/6 [==============================] - 0s 667us/sample - loss: 3.0827\n",
      "Epoch 287/300\n",
      "6/6 [==============================] - 0s 834us/sample - loss: 3.3132\n",
      "Epoch 288/300\n",
      "6/6 [==============================] - 0s 666us/sample - loss: 3.6506\n",
      "Epoch 289/300\n",
      "6/6 [==============================] - 0s 667us/sample - loss: 4.9356\n",
      "Epoch 290/300\n",
      "6/6 [==============================] - 0s 667us/sample - loss: 4.2902\n",
      "Epoch 291/300\n",
      "6/6 [==============================] - 0s 832us/sample - loss: 4.2532\n",
      "Epoch 292/300\n",
      "6/6 [==============================] - 0s 834us/sample - loss: 3.0117\n",
      "Epoch 293/300\n",
      "6/6 [==============================] - 0s 667us/sample - loss: 3.2640\n"
     ]
    },
    {
     "name": "stdout",
     "output_type": "stream",
     "text": [
      "Epoch 294/300\n",
      "6/6 [==============================] - 0s 833us/sample - loss: 4.3320\n",
      "Epoch 295/300\n",
      "6/6 [==============================] - 0s 667us/sample - loss: 3.2707\n",
      "Epoch 296/300\n",
      "6/6 [==============================] - 0s 667us/sample - loss: 2.9691\n",
      "Epoch 297/300\n",
      "6/6 [==============================] - 0s 833us/sample - loss: 3.5482\n",
      "Epoch 298/300\n",
      "6/6 [==============================] - 0s 667us/sample - loss: 3.2168\n",
      "Epoch 299/300\n",
      "6/6 [==============================] - 0s 834us/sample - loss: 2.9170\n",
      "Epoch 300/300\n",
      "6/6 [==============================] - 0s 500us/sample - loss: 3.1308\n"
     ]
    }
   ],
   "source": [
    "EPOCHS = 300\n",
    "\n",
    "# fit model\n",
    "H = model.fit(X, y, epochs=EPOCHS, verbose=1)"
   ]
  },
  {
   "cell_type": "markdown",
   "metadata": {},
   "source": [
    "### 6. Plost Training Loss "
   ]
  },
  {
   "cell_type": "code",
   "execution_count": 12,
   "metadata": {},
   "outputs": [
    {
     "data": {
      "image/png": "[encoded data removed]",
      "text/plain": [
       "<Figure size 720x576 with 1 Axes>"
      ]
     },
     "metadata": {},
     "output_type": "display_data"
    }
   ],
   "source": [
    "# plot the training and validation loss\n",
    "N = np.arange(0, EPOCHS)\n",
    "plt.style.use(\"ggplot\")\n",
    "plt.figure(figsize = [10,8])\n",
    "plt.plot(N, H.history[\"loss\"], label=\"train_loss\")\n",
    "plt.title(\"Training Loss\")\n",
    "plt.xlabel(\"Epoch #\", weight=\"bold\")\n",
    "plt.ylabel(\"Loss\", weight=\"bold\")\n",
    "plt.legend()\n",
    "plt.show()"
   ]
  },
  {
   "cell_type": "markdown",
   "metadata": {},
   "source": [
    "### 7. Predicting For the next 10 data"
   ]
  },
  {
   "cell_type": "code",
   "execution_count": 15,
   "metadata": {},
   "outputs": [
    {
     "name": "stdout",
     "output_type": "stream",
     "text": [
      "[224.7021]\n",
      "--------------------------------------------------\n",
      "1 - day input: [196.     210.     224.7021]\n",
      "1 - day output: [235.78992]\n",
      "--------------------------------------------------\n",
      "2 - day input: [210.      224.7021  235.78992]\n",
      "2 - day output: [249.86243]\n",
      "--------------------------------------------------\n",
      "3 - day input: [224.7021  235.78992 249.86243]\n",
      "3 - day output: [263.56052]\n",
      "--------------------------------------------------\n",
      "4 - day input: [235.78992 249.86243 263.56052]\n",
      "4 - day output: [276.33698]\n",
      "--------------------------------------------------\n",
      "5 - day input: [249.86243 263.56052 276.33698]\n",
      "5 - day output: [290.68246]\n",
      "--------------------------------------------------\n",
      "6 - day input: [263.56052 276.33698 290.68246]\n",
      "6 - day output: [304.80215]\n",
      "--------------------------------------------------\n",
      "7 - day input: [276.33698 290.68246 304.80215]\n",
      "7 - day output: [319.07947]\n",
      "--------------------------------------------------\n",
      "8 - day input: [290.68246 304.80215 319.07947]\n",
      "8 - day output: [334.23706]\n",
      "--------------------------------------------------\n",
      "9 - day input: [304.80215 319.07947 334.23706]\n",
      "9 - day output: [349.54022]\n",
      "\n",
      "FINAL OUTPUT FOR 10 DAYS..\n",
      "[224.7021, 235.78992, 249.86243, 263.56052, 276.33698, 290.68246, 304.80215, 319.07947, 334.23706, 349.54022]\n"
     ]
    }
   ],
   "source": [
    "# demonstrate prediction for next 10 days\n",
    "\n",
    "x_input = np.array([187, 196, 210], dtype=\"float32\")\n",
    "temp_input=list(x_input)\n",
    "lst_output=[]\n",
    "i=0\n",
    "while(i<10):\n",
    "    \n",
    "    if(len(temp_input)>3):\n",
    "        \n",
    "        x_input=array(temp_input[1:])\n",
    "        \n",
    "        print(\"--\"*25)\n",
    "        print(\"{} - day input: {}\".format(i,x_input))\n",
    "\n",
    "        x_input = x_input.reshape((1, n_steps, n_features))\n",
    "\n",
    "        yhat = model.predict(x_input, verbose=0)\n",
    "        print(\"{} - day output: {}\".format(i,yhat[0]))\n",
    "        \n",
    "        temp_input.append(yhat[0][0])\n",
    "        temp_input=temp_input[1:]\n",
    "\n",
    "        lst_output.append(yhat[0][0])\n",
    "        i=i+1\n",
    "    else:\n",
    "        x_input = x_input.reshape((1, n_steps, n_features))\n",
    "        yhat = model.predict(x_input, verbose=0)\n",
    "        print(yhat[0])\n",
    "        temp_input.append(yhat[0][0])\n",
    "        lst_output.append(yhat[0][0])\n",
    "        i=i+1\n",
    "    \n",
    "print()\n",
    "print(\"FINAL OUTPUT FOR 10 DAYS..\")\n",
    "print(lst_output)"
   ]
  },
  {
   "cell_type": "markdown",
   "metadata": {},
   "source": [
    "### 8. Visualizaing The Output"
   ]
  },
  {
   "cell_type": "code",
   "execution_count": 16,
   "metadata": {},
   "outputs": [
    {
     "data": {
      "text/plain": [
       "[110, 125, 133, 146, 158, 172, 187, 196, 210]"
      ]
     },
     "execution_count": 16,
     "metadata": {},
     "output_type": "execute_result"
    }
   ],
   "source": [
    "timeseries_data"
   ]
  },
  {
   "cell_type": "code",
   "execution_count": 17,
   "metadata": {},
   "outputs": [
    {
     "data": {
      "text/plain": [
       "[224.7021,\n",
       " 235.78992,\n",
       " 249.86243,\n",
       " 263.56052,\n",
       " 276.33698,\n",
       " 290.68246,\n",
       " 304.80215,\n",
       " 319.07947,\n",
       " 334.23706,\n",
       " 349.54022]"
      ]
     },
     "execution_count": 17,
     "metadata": {},
     "output_type": "execute_result"
    }
   ],
   "source": [
    "lst_output"
   ]
  },
  {
   "cell_type": "code",
   "execution_count": 20,
   "metadata": {},
   "outputs": [
    {
     "data": {
      "image/png": "[encoded data removed]",
      "text/plain": [
       "<Figure size 720x576 with 1 Axes>"
      ]
     },
     "metadata": {},
     "output_type": "display_data"
    }
   ],
   "source": [
    "day_new=np.arange(1,10)\n",
    "day_pred=np.arange(10,20)\n",
    "\n",
    "plt.style.use(\"ggplot\")\n",
    "plt.figure(figsize = [10,8])\n",
    "plt.plot(day_new,timeseries_data, label=\"Actual sale\")\n",
    "plt.plot(day_pred,lst_output, label=\"predicted sale\")\n",
    "plt.title(\"10 Day forecast\")\n",
    "plt.xlabel(\"DAY\", weight=\"bold\")\n",
    "plt.ylabel(\"SALE\", weight=\"bold\")\n",
    "plt.legend()\n",
    "plt.show()"
   ]
  },
  {
   "cell_type": "markdown",
   "metadata": {},
   "source": [
    "## Stock Prediction and Forecasting Using Stacked LSTM"
   ]
  },
  {
   "cell_type": "code",
   "execution_count": 28,
   "metadata": {},
   "outputs": [],
   "source": [
    "df = pd.read_csv('Apple Stocks Prise.csv')"
   ]
  },
  {
   "cell_type": "code",
   "execution_count": 29,
   "metadata": {},
   "outputs": [
    {
     "data": {
      "text/html": [
       "<div>\n",
       "<style scoped>\n",
       "    .dataframe tbody tr th:only-of-type {\n",
       "        vertical-align: middle;\n",
       "    }\n",
       "\n",
       "    .dataframe tbody tr th {\n",
       "        vertical-align: top;\n",
       "    }\n",
       "\n",
       "    .dataframe thead th {\n",
       "        text-align: right;\n",
       "    }\n",
       "</style>\n",
       "<table border=\"1\" class=\"dataframe\">\n",
       "  <thead>\n",
       "    <tr style=\"text-align: right;\">\n",
       "      <th></th>\n",
       "      <th>Unnamed: 0</th>\n",
       "      <th>symbol</th>\n",
       "      <th>date</th>\n",
       "      <th>close</th>\n",
       "      <th>high</th>\n",
       "      <th>low</th>\n",
       "      <th>open</th>\n",
       "      <th>volume</th>\n",
       "      <th>adjClose</th>\n",
       "      <th>adjHigh</th>\n",
       "      <th>adjLow</th>\n",
       "      <th>adjOpen</th>\n",
       "      <th>adjVolume</th>\n",
       "      <th>divCash</th>\n",
       "      <th>splitFactor</th>\n",
       "    </tr>\n",
       "  </thead>\n",
       "  <tbody>\n",
       "    <tr>\n",
       "      <th>0</th>\n",
       "      <td>0</td>\n",
       "      <td>AAPL</td>\n",
       "      <td>2015-05-27 00:00:00+00:00</td>\n",
       "      <td>132.045</td>\n",
       "      <td>132.260</td>\n",
       "      <td>130.05</td>\n",
       "      <td>130.34</td>\n",
       "      <td>45833246</td>\n",
       "      <td>121.682558</td>\n",
       "      <td>121.880685</td>\n",
       "      <td>119.844118</td>\n",
       "      <td>120.111360</td>\n",
       "      <td>45833246</td>\n",
       "      <td>0.0</td>\n",
       "      <td>1.0</td>\n",
       "    </tr>\n",
       "    <tr>\n",
       "      <th>1</th>\n",
       "      <td>1</td>\n",
       "      <td>AAPL</td>\n",
       "      <td>2015-05-28 00:00:00+00:00</td>\n",
       "      <td>131.780</td>\n",
       "      <td>131.950</td>\n",
       "      <td>131.10</td>\n",
       "      <td>131.86</td>\n",
       "      <td>30733309</td>\n",
       "      <td>121.438354</td>\n",
       "      <td>121.595013</td>\n",
       "      <td>120.811718</td>\n",
       "      <td>121.512076</td>\n",
       "      <td>30733309</td>\n",
       "      <td>0.0</td>\n",
       "      <td>1.0</td>\n",
       "    </tr>\n",
       "    <tr>\n",
       "      <th>2</th>\n",
       "      <td>2</td>\n",
       "      <td>AAPL</td>\n",
       "      <td>2015-05-29 00:00:00+00:00</td>\n",
       "      <td>130.280</td>\n",
       "      <td>131.450</td>\n",
       "      <td>129.90</td>\n",
       "      <td>131.23</td>\n",
       "      <td>50884452</td>\n",
       "      <td>120.056069</td>\n",
       "      <td>121.134251</td>\n",
       "      <td>119.705890</td>\n",
       "      <td>120.931516</td>\n",
       "      <td>50884452</td>\n",
       "      <td>0.0</td>\n",
       "      <td>1.0</td>\n",
       "    </tr>\n",
       "    <tr>\n",
       "      <th>3</th>\n",
       "      <td>3</td>\n",
       "      <td>AAPL</td>\n",
       "      <td>2015-06-01 00:00:00+00:00</td>\n",
       "      <td>130.535</td>\n",
       "      <td>131.390</td>\n",
       "      <td>130.05</td>\n",
       "      <td>131.20</td>\n",
       "      <td>32112797</td>\n",
       "      <td>120.291057</td>\n",
       "      <td>121.078960</td>\n",
       "      <td>119.844118</td>\n",
       "      <td>120.903870</td>\n",
       "      <td>32112797</td>\n",
       "      <td>0.0</td>\n",
       "      <td>1.0</td>\n",
       "    </tr>\n",
       "    <tr>\n",
       "      <th>4</th>\n",
       "      <td>4</td>\n",
       "      <td>AAPL</td>\n",
       "      <td>2015-06-02 00:00:00+00:00</td>\n",
       "      <td>129.960</td>\n",
       "      <td>130.655</td>\n",
       "      <td>129.32</td>\n",
       "      <td>129.86</td>\n",
       "      <td>33667627</td>\n",
       "      <td>119.761181</td>\n",
       "      <td>120.401640</td>\n",
       "      <td>119.171406</td>\n",
       "      <td>119.669029</td>\n",
       "      <td>33667627</td>\n",
       "      <td>0.0</td>\n",
       "      <td>1.0</td>\n",
       "    </tr>\n",
       "  </tbody>\n",
       "</table>\n",
       "</div>"
      ],
      "text/plain": [
       "   Unnamed: 0 symbol                       date    close     high     low  \\\n",
       "0           0   AAPL  2015-05-27 00:00:00+00:00  132.045  132.260  130.05   \n",
       "1           1   AAPL  2015-05-28 00:00:00+00:00  131.780  131.950  131.10   \n",
       "2           2   AAPL  2015-05-29 00:00:00+00:00  130.280  131.450  129.90   \n",
       "3           3   AAPL  2015-06-01 00:00:00+00:00  130.535  131.390  130.05   \n",
       "4           4   AAPL  2015-06-02 00:00:00+00:00  129.960  130.655  129.32   \n",
       "\n",
       "     open    volume    adjClose     adjHigh      adjLow     adjOpen  \\\n",
       "0  130.34  45833246  121.682558  121.880685  119.844118  120.111360   \n",
       "1  131.86  30733309  121.438354  121.595013  120.811718  121.512076   \n",
       "2  131.23  50884452  120.056069  121.134251  119.705890  120.931516   \n",
       "3  131.20  32112797  120.291057  121.078960  119.844118  120.903870   \n",
       "4  129.86  33667627  119.761181  120.401640  119.171406  119.669029   \n",
       "\n",
       "   adjVolume  divCash  splitFactor  \n",
       "0   45833246      0.0          1.0  \n",
       "1   30733309      0.0          1.0  \n",
       "2   50884452      0.0          1.0  \n",
       "3   32112797      0.0          1.0  \n",
       "4   33667627      0.0          1.0  "
      ]
     },
     "execution_count": 29,
     "metadata": {},
     "output_type": "execute_result"
    }
   ],
   "source": [
    "df.head()"
   ]
  },
  {
   "cell_type": "code",
   "execution_count": 37,
   "metadata": {},
   "outputs": [
    {
     "data": {
      "text/plain": [
       "(1258, 15)"
      ]
     },
     "execution_count": 37,
     "metadata": {},
     "output_type": "execute_result"
    }
   ],
   "source": [
    "df.shape # check the shape of the data"
   ]
  },
  {
   "cell_type": "code",
   "execution_count": 38,
   "metadata": {},
   "outputs": [
    {
     "name": "stdout",
     "output_type": "stream",
     "text": [
      "<class 'pandas.core.frame.DataFrame'>\n",
      "RangeIndex: 1258 entries, 0 to 1257\n",
      "Data columns (total 15 columns):\n",
      " #   Column       Non-Null Count  Dtype  \n",
      "---  ------       --------------  -----  \n",
      " 0   Unnamed: 0   1258 non-null   int64  \n",
      " 1   symbol       1258 non-null   object \n",
      " 2   date         1258 non-null   object \n",
      " 3   close        1258 non-null   float64\n",
      " 4   high         1258 non-null   float64\n",
      " 5   low          1258 non-null   float64\n",
      " 6   open         1258 non-null   float64\n",
      " 7   volume       1258 non-null   int64  \n",
      " 8   adjClose     1258 non-null   float64\n",
      " 9   adjHigh      1258 non-null   float64\n",
      " 10  adjLow       1258 non-null   float64\n",
      " 11  adjOpen      1258 non-null   float64\n",
      " 12  adjVolume    1258 non-null   int64  \n",
      " 13  divCash      1258 non-null   float64\n",
      " 14  splitFactor  1258 non-null   float64\n",
      "dtypes: float64(10), int64(3), object(2)\n",
      "memory usage: 147.5+ KB\n"
     ]
    }
   ],
   "source": [
    "df.info()"
   ]
  },
  {
   "cell_type": "code",
   "execution_count": 36,
   "metadata": {},
   "outputs": [
    {
     "data": {
      "image/png": "[encoded data removed]",
      "text/plain": [
       "<Figure size 1080x576 with 1 Axes>"
      ]
     },
     "metadata": {},
     "output_type": "display_data"
    }
   ],
   "source": [
    "plt.style.use(\"ggplot\")\n",
    "plt.figure(figsize = [15,8])\n",
    "plt.plot(df[\"close\"], label=\"Close Prise\")\n",
    "plt.plot(df[\"open\"], label=\"Open Prise\")\n",
    "plt.title(\"10 Day forecast\")\n",
    "plt.xlabel(\"DAY\", weight=\"bold\")\n",
    "plt.ylabel(\"SALE\", weight=\"bold\")\n",
    "plt.legend()\n",
    "plt.show()"
   ]
  },
  {
   "cell_type": "code",
   "execution_count": 45,
   "metadata": {},
   "outputs": [
    {
     "data": {
      "text/plain": [
       "<matplotlib.axes._subplots.AxesSubplot at 0x1fb6ef36148>"
      ]
     },
     "execution_count": 45,
     "metadata": {},
     "output_type": "execute_result"
    },
    {
     "data": {
      "image/png": "[encoded data removed]",
      "text/plain": [
       "<Figure size 1440x576 with 1 Axes>"
      ]
     },
     "metadata": {
      "needs_background": "light"
     },
     "output_type": "display_data"
    }
   ],
   "source": [
    "plt.figure(figsize=(20,8))\n",
    "sns.boxplot(df['close'])"
   ]
  },
  {
   "cell_type": "code",
   "execution_count": 46,
   "metadata": {},
   "outputs": [
    {
     "data": {
      "text/plain": [
       "<matplotlib.axes._subplots.AxesSubplot at 0x1fb7003adc8>"
      ]
     },
     "execution_count": 46,
     "metadata": {},
     "output_type": "execute_result"
    },
    {
     "data": {
      "image/png": "[encoded data removed]",
      "text/plain": [
       "<Figure size 1440x576 with 1 Axes>"
      ]
     },
     "metadata": {
      "needs_background": "light"
     },
     "output_type": "display_data"
    }
   ],
   "source": [
    "plt.figure(figsize=(20,8))\n",
    "sns.boxplot(df['open'])"
   ]
  },
  {
   "cell_type": "code",
   "execution_count": 50,
   "metadata": {},
   "outputs": [],
   "source": [
    "# Data Scaling"
   ]
  },
  {
   "cell_type": "code",
   "execution_count": 54,
   "metadata": {},
   "outputs": [],
   "source": [
    "Close = df[\"close\"]"
   ]
  },
  {
   "cell_type": "code",
   "execution_count": 55,
   "metadata": {},
   "outputs": [
    {
     "data": {
      "text/plain": [
       "0       132.045\n",
       "1       131.780\n",
       "2       130.280\n",
       "3       130.535\n",
       "4       129.960\n",
       "         ...   \n",
       "1253    314.960\n",
       "1254    313.140\n",
       "1255    319.230\n",
       "1256    316.850\n",
       "1257    318.890\n",
       "Name: close, Length: 1258, dtype: float64"
      ]
     },
     "execution_count": 55,
     "metadata": {},
     "output_type": "execute_result"
    }
   ],
   "source": [
    "Close"
   ]
  },
  {
   "cell_type": "code",
   "execution_count": 56,
   "metadata": {},
   "outputs": [],
   "source": [
    "scaler=MinMaxScaler(feature_range=(0,1))\n",
    "Close_scaled =scaler.fit_transform(np.array(Close).reshape(-1,1))"
   ]
  },
  {
   "cell_type": "code",
   "execution_count": 57,
   "metadata": {},
   "outputs": [
    {
     "data": {
      "text/plain": [
       "array([[0.17607447],\n",
       "       [0.17495567],\n",
       "       [0.16862282],\n",
       "       ...,\n",
       "       [0.96635143],\n",
       "       [0.9563033 ],\n",
       "       [0.96491598]])"
      ]
     },
     "execution_count": 57,
     "metadata": {},
     "output_type": "execute_result"
    }
   ],
   "source": [
    "Close_scaled"
   ]
  },
  {
   "cell_type": "code",
   "execution_count": 58,
   "metadata": {},
   "outputs": [
    {
     "data": {
      "text/plain": [
       "1258"
      ]
     },
     "execution_count": 58,
     "metadata": {},
     "output_type": "execute_result"
    }
   ],
   "source": [
    "len(Close_scaled)"
   ]
  },
  {
   "cell_type": "markdown",
   "metadata": {},
   "source": [
    "## splitting dataset into train and test split"
   ]
  },
  {
   "cell_type": "code",
   "execution_count": 65,
   "metadata": {},
   "outputs": [],
   "source": [
    "\n",
    "training_size=int(len(Close_scaled)*0.80)\n",
    "test_size=len(Close_scaled)-training_size\n",
    "\n",
    "train_data = Close_scaled[0:training_size,:]\n",
    "test_data = Close_scaled[training_size:len(Close_scaled),:1]"
   ]
  },
  {
   "cell_type": "code",
   "execution_count": 66,
   "metadata": {},
   "outputs": [
    {
     "name": "stdout",
     "output_type": "stream",
     "text": [
      "Training Size:  1006\n",
      "Testing Size:  252\n"
     ]
    }
   ],
   "source": [
    "print(\"Training Size: \", training_size)\n",
    "print(\"Testing Size: \", test_size)"
   ]
  },
  {
   "cell_type": "code",
   "execution_count": 69,
   "metadata": {},
   "outputs": [
    {
     "name": "stdout",
     "output_type": "stream",
     "text": [
      "sample from train:  [[0.17607447]\n",
      " [0.17495567]\n",
      " [0.16862282]\n",
      " [0.1696994 ]\n",
      " [0.16727181]\n",
      " [0.16794731]\n",
      " [0.16473866]\n",
      " [0.16174111]\n",
      " [0.1581525 ]\n",
      " [0.15654817]]\n",
      "\n",
      "sample from test:  [[0.37418728]\n",
      " [0.37106308]\n",
      " [0.36747446]\n",
      " [0.37135861]\n",
      " [0.35772186]\n",
      " [0.35024909]\n",
      " [0.37701596]\n",
      " [0.38925948]\n",
      " [0.40057418]\n",
      " [0.42138816]]\n"
     ]
    }
   ],
   "source": [
    "print(\"sample from train: \", train_data[:10])\n",
    "print()\n",
    "print(\"sample from test: \", test_data[:10])"
   ]
  },
  {
   "cell_type": "code",
   "execution_count": 70,
   "metadata": {},
   "outputs": [],
   "source": [
    "\n",
    "# convert an array of values into a dataset matrix\n",
    "\n",
    "def create_dataset(dataset, time_step=1):\n",
    "    \n",
    "    dataX, dataY = [], []\n",
    "    \n",
    "    for i in range(len(dataset)-time_step-1):\n",
    "        a = dataset[i:(i+time_step), 0]   ###i=0, 0,1,2,3-----99   100 \n",
    "        dataX.append(a)\n",
    "        dataY.append(dataset[i + time_step, 0])\n",
    "        \n",
    "    return np.array(dataX), np.array(dataY)"
   ]
  },
  {
   "cell_type": "code",
   "execution_count": 71,
   "metadata": {},
   "outputs": [],
   "source": [
    "# reshape into X=t,t+1,t+2,t+3 and Y=t+4\n",
    "time_step = 100\n",
    "X_train, y_train = create_dataset(train_data, time_step)\n",
    "X_test, ytest = create_dataset(test_data, time_step)"
   ]
  },
  {
   "cell_type": "code",
   "execution_count": 72,
   "metadata": {},
   "outputs": [
    {
     "name": "stdout",
     "output_type": "stream",
     "text": [
      "(905, 100)\n",
      "(905,)\n"
     ]
    },
    {
     "data": {
      "text/plain": [
       "(None, None)"
      ]
     },
     "execution_count": 72,
     "metadata": {},
     "output_type": "execute_result"
    }
   ],
   "source": [
    "print(X_train.shape), print(y_train.shape)"
   ]
  },
  {
   "cell_type": "code",
   "execution_count": 73,
   "metadata": {},
   "outputs": [
    {
     "name": "stdout",
     "output_type": "stream",
     "text": [
      "(151, 100)\n",
      "(151,)\n"
     ]
    },
    {
     "data": {
      "text/plain": [
       "(None, None)"
      ]
     },
     "execution_count": 73,
     "metadata": {},
     "output_type": "execute_result"
    }
   ],
   "source": [
    "print(X_test.shape), print(ytest.shape)"
   ]
  },
  {
   "cell_type": "code",
   "execution_count": 74,
   "metadata": {},
   "outputs": [],
   "source": [
    "# reshape input to be [samples, time steps, features] which is required for LSTM\n",
    "X_train =X_train.reshape(X_train.shape[0],X_train.shape[1] , 1)\n",
    "X_test = X_test.reshape(X_test.shape[0],X_test.shape[1] , 1)"
   ]
  },
  {
   "cell_type": "code",
   "execution_count": 79,
   "metadata": {},
   "outputs": [],
   "source": [
    "model=Sequential()\n",
    "model.add(LSTM(50,return_sequences=True,input_shape=(100,1)))\n",
    "model.add(LSTM(50,return_sequences=True))\n",
    "model.add(LSTM(50))\n",
    "model.add(Dense(1))\n",
    "model.compile(loss='mean_squared_error',optimizer='adam')"
   ]
  },
  {
   "cell_type": "code",
   "execution_count": 80,
   "metadata": {},
   "outputs": [
    {
     "name": "stdout",
     "output_type": "stream",
     "text": [
      "Model: \"sequential_3\"\n",
      "_________________________________________________________________\n",
      "Layer (type)                 Output Shape              Param #   \n",
      "=================================================================\n",
      "lstm_8 (LSTM)                (None, 100, 50)           10400     \n",
      "_________________________________________________________________\n",
      "lstm_9 (LSTM)                (None, 100, 50)           20200     \n",
      "_________________________________________________________________\n",
      "lstm_10 (LSTM)               (None, 50)                20200     \n",
      "_________________________________________________________________\n",
      "dense_3 (Dense)              (None, 1)                 51        \n",
      "=================================================================\n",
      "Total params: 50,851\n",
      "Trainable params: 50,851\n",
      "Non-trainable params: 0\n",
      "_________________________________________________________________\n"
     ]
    }
   ],
   "source": [
    "model.summary()"
   ]
  },
  {
   "cell_type": "code",
   "execution_count": 81,
   "metadata": {},
   "outputs": [
    {
     "name": "stdout",
     "output_type": "stream",
     "text": [
      "Train on 905 samples, validate on 151 samples\n",
      "Epoch 1/100\n",
      "905/905 [==============================] - 7s 8ms/sample - loss: 0.0190 - val_loss: 0.0951\n",
      "Epoch 2/100\n",
      "905/905 [==============================] - 2s 2ms/sample - loss: 0.0033 - val_loss: 0.0275\n",
      "Epoch 3/100\n",
      "905/905 [==============================] - 2s 2ms/sample - loss: 0.0014 - val_loss: 0.0101\n",
      "Epoch 4/100\n",
      "905/905 [==============================] - 2s 2ms/sample - loss: 0.0010 - val_loss: 0.0107\n",
      "Epoch 5/100\n",
      "905/905 [==============================] - 2s 2ms/sample - loss: 9.9646e-04 - val_loss: 0.0117\n",
      "Epoch 6/100\n",
      "905/905 [==============================] - 2s 2ms/sample - loss: 9.3404e-04 - val_loss: 0.0099\n",
      "Epoch 7/100\n",
      "905/905 [==============================] - 2s 3ms/sample - loss: 8.8230e-04 - val_loss: 0.0107\n",
      "Epoch 8/100\n",
      "905/905 [==============================] - 2s 3ms/sample - loss: 8.5067e-04 - val_loss: 0.0088\n",
      "Epoch 9/100\n",
      "905/905 [==============================] - 2s 2ms/sample - loss: 8.1577e-04 - val_loss: 0.0092\n",
      "Epoch 10/100\n",
      "905/905 [==============================] - 2s 2ms/sample - loss: 7.6642e-04 - val_loss: 0.0105\n",
      "Epoch 11/100\n",
      "905/905 [==============================] - 3s 3ms/sample - loss: 6.9556e-04 - val_loss: 0.0102\n",
      "Epoch 12/100\n",
      "905/905 [==============================] - 3s 3ms/sample - loss: 7.0753e-04 - val_loss: 0.0116\n",
      "Epoch 13/100\n",
      "905/905 [==============================] - 2s 3ms/sample - loss: 6.3959e-04 - val_loss: 0.0137\n",
      "Epoch 14/100\n",
      "905/905 [==============================] - 2s 2ms/sample - loss: 6.9646e-04 - val_loss: 0.0204\n",
      "Epoch 15/100\n",
      "905/905 [==============================] - 2s 2ms/sample - loss: 6.4634e-04 - val_loss: 0.0160\n",
      "Epoch 16/100\n",
      "905/905 [==============================] - 2s 3ms/sample - loss: 6.6339e-04 - val_loss: 0.0144\n",
      "Epoch 17/100\n",
      "905/905 [==============================] - 2s 3ms/sample - loss: 6.6915e-04 - val_loss: 0.0108\n",
      "Epoch 18/100\n",
      "905/905 [==============================] - 2s 2ms/sample - loss: 6.4288e-04 - val_loss: 0.0058\n",
      "Epoch 19/100\n",
      "905/905 [==============================] - 2s 3ms/sample - loss: 5.9251e-04 - val_loss: 0.0056\n",
      "Epoch 20/100\n",
      "905/905 [==============================] - 2s 3ms/sample - loss: 5.7704e-04 - val_loss: 0.0060\n",
      "Epoch 21/100\n",
      "905/905 [==============================] - 2s 3ms/sample - loss: 5.6113e-04 - val_loss: 0.0071\n",
      "Epoch 22/100\n",
      "905/905 [==============================] - 2s 3ms/sample - loss: 5.9058e-04 - val_loss: 0.0083\n",
      "Epoch 23/100\n",
      "905/905 [==============================] - 2s 3ms/sample - loss: 5.3863e-04 - val_loss: 0.0078\n",
      "Epoch 24/100\n",
      "905/905 [==============================] - 3s 3ms/sample - loss: 5.3367e-04 - val_loss: 0.0049\n",
      "Epoch 25/100\n",
      "905/905 [==============================] - 3s 3ms/sample - loss: 5.4227e-04 - val_loss: 0.0040\n",
      "Epoch 26/100\n",
      "905/905 [==============================] - 3s 3ms/sample - loss: 6.1420e-04 - val_loss: 0.0049\n",
      "Epoch 27/100\n",
      "905/905 [==============================] - 2s 3ms/sample - loss: 5.4857e-04 - val_loss: 0.0055\n",
      "Epoch 28/100\n",
      "905/905 [==============================] - 2s 3ms/sample - loss: 5.5681e-04 - val_loss: 0.0044\n",
      "Epoch 29/100\n",
      "905/905 [==============================] - 2s 3ms/sample - loss: 6.4628e-04 - val_loss: 0.0028\n",
      "Epoch 30/100\n",
      "905/905 [==============================] - 2s 3ms/sample - loss: 6.5340e-04 - val_loss: 0.0095\n",
      "Epoch 31/100\n",
      "905/905 [==============================] - 2s 3ms/sample - loss: 5.1851e-04 - val_loss: 0.0050\n",
      "Epoch 32/100\n",
      "905/905 [==============================] - 2s 3ms/sample - loss: 4.8970e-04 - val_loss: 0.0072\n",
      "Epoch 33/100\n",
      "905/905 [==============================] - 2s 3ms/sample - loss: 4.8635e-04 - val_loss: 0.0085\n",
      "Epoch 34/100\n",
      "905/905 [==============================] - 3s 3ms/sample - loss: 5.2514e-04 - val_loss: 0.0072\n",
      "Epoch 35/100\n",
      "905/905 [==============================] - 2s 3ms/sample - loss: 4.8023e-04 - val_loss: 0.0040\n",
      "Epoch 36/100\n",
      "905/905 [==============================] - 2s 3ms/sample - loss: 4.9973e-04 - val_loss: 0.0062\n",
      "Epoch 37/100\n",
      "905/905 [==============================] - 2s 3ms/sample - loss: 4.8369e-04 - val_loss: 0.0091\n",
      "Epoch 38/100\n",
      "905/905 [==============================] - 2s 3ms/sample - loss: 4.9741e-04 - val_loss: 0.0055\n",
      "Epoch 39/100\n",
      "905/905 [==============================] - 3s 3ms/sample - loss: 4.4960e-04 - val_loss: 0.0045\n",
      "Epoch 40/100\n",
      "905/905 [==============================] - 3s 3ms/sample - loss: 4.4944e-04 - val_loss: 0.0037\n",
      "Epoch 41/100\n",
      "905/905 [==============================] - 3s 3ms/sample - loss: 4.3201e-04 - val_loss: 0.0062\n",
      "Epoch 42/100\n",
      "905/905 [==============================] - 3s 3ms/sample - loss: 4.2892e-04 - val_loss: 0.0087\n",
      "Epoch 43/100\n",
      "905/905 [==============================] - 2s 3ms/sample - loss: 4.7983e-04 - val_loss: 0.0109\n",
      "Epoch 44/100\n",
      "905/905 [==============================] - 2s 3ms/sample - loss: 5.0926e-04 - val_loss: 0.0055\n",
      "Epoch 45/100\n",
      "905/905 [==============================] - 2s 3ms/sample - loss: 4.1957e-04 - val_loss: 0.0080\n",
      "Epoch 46/100\n",
      "905/905 [==============================] - 3s 3ms/sample - loss: 4.4957e-04 - val_loss: 0.0099\n",
      "Epoch 47/100\n",
      "905/905 [==============================] - 3s 3ms/sample - loss: 4.6615e-04 - val_loss: 0.0107\n",
      "Epoch 48/100\n",
      "905/905 [==============================] - 3s 3ms/sample - loss: 4.3284e-04 - val_loss: 0.0028\n",
      "Epoch 49/100\n",
      "905/905 [==============================] - 2s 3ms/sample - loss: 3.8201e-04 - val_loss: 0.0034\n",
      "Epoch 50/100\n",
      "905/905 [==============================] - 2s 3ms/sample - loss: 3.7296e-04 - val_loss: 0.0033\n",
      "Epoch 51/100\n",
      "905/905 [==============================] - 3s 3ms/sample - loss: 3.9789e-04 - val_loss: 0.0020\n",
      "Epoch 52/100\n",
      "905/905 [==============================] - 2s 3ms/sample - loss: 4.0815e-04 - val_loss: 0.0047\n",
      "Epoch 53/100\n",
      "905/905 [==============================] - 2s 3ms/sample - loss: 3.6687e-04 - val_loss: 0.0056\n",
      "Epoch 54/100\n",
      "905/905 [==============================] - 2s 3ms/sample - loss: 3.8152e-04 - val_loss: 0.0054\n",
      "Epoch 55/100\n",
      "905/905 [==============================] - 2s 3ms/sample - loss: 4.3531e-04 - val_loss: 0.0050\n",
      "Epoch 56/100\n",
      "905/905 [==============================] - 2s 3ms/sample - loss: 3.9220e-04 - val_loss: 0.0056\n",
      "Epoch 57/100\n",
      "905/905 [==============================] - 3s 3ms/sample - loss: 3.9107e-04 - val_loss: 0.0050\n",
      "Epoch 58/100\n",
      "905/905 [==============================] - 3s 3ms/sample - loss: 3.2478e-04 - val_loss: 0.0030\n",
      "Epoch 59/100\n",
      "905/905 [==============================] - 3s 3ms/sample - loss: 3.5233e-04 - val_loss: 0.0057\n",
      "Epoch 60/100\n",
      "905/905 [==============================] - 2s 3ms/sample - loss: 3.1926e-04 - val_loss: 0.0026\n",
      "Epoch 61/100\n",
      "905/905 [==============================] - 2s 3ms/sample - loss: 3.0129e-04 - val_loss: 0.0030\n",
      "Epoch 62/100\n",
      "905/905 [==============================] - 2s 3ms/sample - loss: 2.9814e-04 - val_loss: 0.0017\n",
      "Epoch 63/100\n",
      "905/905 [==============================] - 2s 3ms/sample - loss: 3.1049e-04 - val_loss: 0.0029\n",
      "Epoch 64/100\n",
      "905/905 [==============================] - 2s 3ms/sample - loss: 3.2975e-04 - val_loss: 0.0025\n",
      "Epoch 65/100\n",
      "905/905 [==============================] - 2s 3ms/sample - loss: 2.9221e-04 - val_loss: 0.0033\n",
      "Epoch 66/100\n",
      "905/905 [==============================] - 2s 3ms/sample - loss: 2.7755e-04 - val_loss: 0.0037\n",
      "Epoch 67/100\n",
      "905/905 [==============================] - 2s 3ms/sample - loss: 2.6588e-04 - val_loss: 0.0036\n",
      "Epoch 68/100\n",
      "905/905 [==============================] - 2s 3ms/sample - loss: 2.6442e-04 - val_loss: 0.0030\n",
      "Epoch 69/100\n",
      "905/905 [==============================] - 2s 3ms/sample - loss: 2.5060e-04 - val_loss: 0.0032\n",
      "Epoch 70/100\n",
      "905/905 [==============================] - 2s 3ms/sample - loss: 2.6003e-04 - val_loss: 0.0015\n",
      "Epoch 71/100\n",
      "905/905 [==============================] - 2s 3ms/sample - loss: 2.7864e-04 - val_loss: 0.0020\n",
      "Epoch 72/100\n",
      "905/905 [==============================] - 2s 3ms/sample - loss: 2.6125e-04 - val_loss: 0.0017\n",
      "Epoch 73/100\n",
      "905/905 [==============================] - 2s 3ms/sample - loss: 2.6261e-04 - val_loss: 0.0021\n",
      "Epoch 74/100\n",
      "905/905 [==============================] - 2s 3ms/sample - loss: 2.3057e-04 - val_loss: 0.0018\n",
      "Epoch 75/100\n",
      "905/905 [==============================] - 2s 3ms/sample - loss: 3.0181e-04 - val_loss: 0.0022\n",
      "Epoch 76/100\n"
     ]
    },
    {
     "name": "stdout",
     "output_type": "stream",
     "text": [
      "905/905 [==============================] - 2s 3ms/sample - loss: 2.4720e-04 - val_loss: 0.0014\n",
      "Epoch 77/100\n",
      "905/905 [==============================] - 2s 3ms/sample - loss: 2.3863e-04 - val_loss: 0.0026\n",
      "Epoch 78/100\n",
      "905/905 [==============================] - 2s 3ms/sample - loss: 2.2126e-04 - val_loss: 0.0015\n",
      "Epoch 79/100\n",
      "905/905 [==============================] - 2s 3ms/sample - loss: 2.2729e-04 - val_loss: 0.0015\n",
      "Epoch 80/100\n",
      "905/905 [==============================] - 2s 3ms/sample - loss: 2.4950e-04 - val_loss: 0.0023\n",
      "Epoch 81/100\n",
      "905/905 [==============================] - 2s 3ms/sample - loss: 2.1641e-04 - val_loss: 0.0031\n",
      "Epoch 82/100\n",
      "905/905 [==============================] - 2s 3ms/sample - loss: 2.3960e-04 - val_loss: 0.0035\n",
      "Epoch 83/100\n",
      "905/905 [==============================] - 2s 3ms/sample - loss: 2.1219e-04 - val_loss: 0.0013\n",
      "Epoch 84/100\n",
      "905/905 [==============================] - 2s 3ms/sample - loss: 2.6236e-04 - val_loss: 0.0014\n",
      "Epoch 85/100\n",
      "905/905 [==============================] - 2s 3ms/sample - loss: 2.1025e-04 - val_loss: 0.0021\n",
      "Epoch 86/100\n",
      "905/905 [==============================] - 2s 3ms/sample - loss: 2.2594e-04 - val_loss: 0.0022\n",
      "Epoch 87/100\n",
      "905/905 [==============================] - 2s 3ms/sample - loss: 2.0886e-04 - val_loss: 0.0017\n",
      "Epoch 88/100\n",
      "905/905 [==============================] - 2s 3ms/sample - loss: 2.0949e-04 - val_loss: 0.0015\n",
      "Epoch 89/100\n",
      "905/905 [==============================] - 2s 3ms/sample - loss: 2.0414e-04 - val_loss: 0.0020\n",
      "Epoch 90/100\n",
      "905/905 [==============================] - 2s 3ms/sample - loss: 2.3545e-04 - val_loss: 0.0019\n",
      "Epoch 91/100\n",
      "905/905 [==============================] - 3s 3ms/sample - loss: 1.9537e-04 - val_loss: 0.0013\n",
      "Epoch 92/100\n",
      "905/905 [==============================] - 3s 3ms/sample - loss: 2.0015e-04 - val_loss: 0.0014\n",
      "Epoch 93/100\n",
      "905/905 [==============================] - 3s 3ms/sample - loss: 2.0249e-04 - val_loss: 0.0016\n",
      "Epoch 94/100\n",
      "905/905 [==============================] - 3s 3ms/sample - loss: 2.2594e-04 - val_loss: 0.0012\n",
      "Epoch 95/100\n",
      "905/905 [==============================] - 2s 3ms/sample - loss: 2.8296e-04 - val_loss: 0.0012\n",
      "Epoch 96/100\n",
      "905/905 [==============================] - 2s 3ms/sample - loss: 2.8394e-04 - val_loss: 0.0016\n",
      "Epoch 97/100\n",
      "905/905 [==============================] - 2s 3ms/sample - loss: 2.2501e-04 - val_loss: 0.0042\n",
      "Epoch 98/100\n",
      "905/905 [==============================] - 2s 3ms/sample - loss: 1.9412e-04 - val_loss: 0.0013\n",
      "Epoch 99/100\n",
      "905/905 [==============================] - 2s 3ms/sample - loss: 1.9584e-04 - val_loss: 0.0029\n",
      "Epoch 100/100\n",
      "905/905 [==============================] - 2s 3ms/sample - loss: 2.0828e-04 - val_loss: 0.0023\n"
     ]
    }
   ],
   "source": [
    "EPOCHS = 100\n",
    "H = model.fit(X_train,\n",
    "          y_train,\n",
    "          validation_data=(X_test,ytest),\n",
    "          epochs=EPOCHS,\n",
    "          batch_size=64,\n",
    "          verbose=1)"
   ]
  },
  {
   "cell_type": "code",
   "execution_count": 82,
   "metadata": {},
   "outputs": [
    {
     "data": {
      "image/png": "[encoded data removed]",
      "text/plain": [
       "<Figure size 720x576 with 1 Axes>"
      ]
     },
     "metadata": {},
     "output_type": "display_data"
    }
   ],
   "source": [
    "# plot the training and validation loss\n",
    "N = np.arange(0, EPOCHS)\n",
    "plt.style.use(\"ggplot\")\n",
    "plt.figure(figsize = [10,8])\n",
    "plt.plot(N, H.history[\"loss\"], label=\"train_loss\")\n",
    "plt.plot(N, H.history[\"val_loss\"], label=\"val_loss\")\n",
    "plt.title(\"Training & Validation Loss\")\n",
    "plt.xlabel(\"Epoch #\", weight=\"bold\")\n",
    "plt.ylabel(\"Loss\", weight=\"bold\")\n",
    "plt.legend()\n",
    "plt.show()"
   ]
  },
  {
   "cell_type": "code",
   "execution_count": 83,
   "metadata": {},
   "outputs": [],
   "source": [
    "### Lets Do the prediction and check performance metrics\n",
    "train_predict=model.predict(X_train)\n",
    "test_predict=model.predict(X_test)"
   ]
  },
  {
   "cell_type": "code",
   "execution_count": 84,
   "metadata": {},
   "outputs": [],
   "source": [
    "##Transformback to original form\n",
    "train_predict=scaler.inverse_transform(train_predict)\n",
    "test_predict=scaler.inverse_transform(test_predict)"
   ]
  },
  {
   "cell_type": "code",
   "execution_count": 86,
   "metadata": {},
   "outputs": [
    {
     "data": {
      "text/plain": [
       "274.24624646805097"
      ]
     },
     "execution_count": 86,
     "metadata": {},
     "output_type": "execute_result"
    }
   ],
   "source": [
    "### Test Data RMSE\n",
    "math.sqrt(mean_squared_error(ytest,test_predict))"
   ]
  },
  {
   "cell_type": "code",
   "execution_count": 144,
   "metadata": {},
   "outputs": [
    {
     "data": {
      "image/png": "[encoded data removed]",
      "text/plain": [
       "<Figure size 1080x576 with 1 Axes>"
      ]
     },
     "metadata": {},
     "output_type": "display_data"
    }
   ],
   "source": [
    "# shift train predictions for plotting\n",
    "plt.style.use(\"ggplot\")\n",
    "plt.figure(figsize = [15,8])\n",
    "\n",
    "# plot actual stock prise\n",
    "plt.plot(df[\"close\"], label=\"Close Prise\")\n",
    "\n",
    "# plot predicted train prise \n",
    "look_back=100\n",
    "trainPredictPlot = numpy.empty_like(Close_scaled)\n",
    "trainPredictPlot[:, :] = np.nan\n",
    "trainPredictPlot[look_back:len(train_predict)+look_back, :] = train_predict\n",
    "plt.plot(trainPredictPlot, label=\"Train Prediction\")\n",
    "\n",
    "# plot predicted test prise\n",
    "testPredictPlot = numpy.empty_like(Close_scaled)\n",
    "testPredictPlot[:, :] = numpy.nan\n",
    "testPredictPlot[len(train_predict)+(look_back*2)+1:len(df1)-1, :] = test_predict\n",
    "plt.plot(testPredictPlot, label=\"Train Prediction\")\n",
    "\n",
    "plt.title(\"Train Test Prediction on Stock\")\n",
    "plt.xlabel(\"DAY\", weight=\"bold\")\n",
    "plt.ylabel(\"Stock Prise\", weight=\"bold\")\n",
    "plt.legend()\n",
    "plt.show()"
   ]
  },
  {
   "cell_type": "markdown",
   "metadata": {},
   "source": [
    "### Predicting future stocks "
   ]
  },
  {
   "cell_type": "code",
   "execution_count": 145,
   "metadata": {},
   "outputs": [
    {
     "data": {
      "text/plain": [
       "252"
      ]
     },
     "execution_count": 145,
     "metadata": {},
     "output_type": "execute_result"
    }
   ],
   "source": [
    "len(test_data)"
   ]
  },
  {
   "cell_type": "code",
   "execution_count": 146,
   "metadata": {},
   "outputs": [
    {
     "data": {
      "text/plain": [
       "(1, 100)"
      ]
     },
     "execution_count": 146,
     "metadata": {},
     "output_type": "execute_result"
    }
   ],
   "source": [
    "x_input=test_data[152:].reshape(1,-1)\n",
    "x_input.shape"
   ]
  },
  {
   "cell_type": "code",
   "execution_count": 147,
   "metadata": {},
   "outputs": [],
   "source": [
    "temp_input=list(x_input)\n",
    "temp_input=temp_input[0].tolist()"
   ]
  },
  {
   "cell_type": "code",
   "execution_count": 148,
   "metadata": {},
   "outputs": [
    {
     "name": "stdout",
     "output_type": "stream",
     "text": [
      "temp input sample:  [0.8583551465000423, 0.8866418981676942, 0.8743139407244789, 0.8843198513890065, 0.8783669678290975, 0.8986321033521913, 0.925821160179009, 0.9287764924427933, 0.9567677108840666, 0.9386979650426415]\n"
     ]
    }
   ],
   "source": [
    "print(\"temp input sample: \", temp_input[:10])"
   ]
  },
  {
   "cell_type": "code",
   "execution_count": 149,
   "metadata": {},
   "outputs": [
    {
     "name": "stdout",
     "output_type": "stream",
     "text": [
      "[0.9343976]\n",
      "101\n",
      "--------------------------------------------------\n",
      "1 - day input : [0.8866419  0.87431394 0.88431985 0.87836697 0.8986321  0.92582116\n",
      " 0.92877649 0.95676771 0.93869797 0.93304061 0.94950604 0.96424048\n",
      " 0.95512117 0.95989192 0.96635143 0.96246728 0.92295027 0.9598497\n",
      " 0.98792536 0.98594106 0.92531453 0.92172591 0.96474711 0.97572406\n",
      " 0.99159841 0.96972895 0.97614625 0.96795575 1.         0.99016297\n",
      " 0.99050072 0.96538039 0.98488559 0.97086887 0.94026007 0.87748037\n",
      " 0.83483915 0.85413324 0.77336823 0.77269273 0.88014017 0.84007431\n",
      " 0.89673225 0.85527316 0.83884995 0.74233725 0.82327113 0.78143207\n",
      " 0.6665963  0.7921557  0.64118044 0.68614371 0.66001013 0.65203074\n",
      " 0.58642236 0.56586169 0.66089673 0.65515494 0.70970193 0.66452757\n",
      " 0.69437642 0.69218104 0.63569197 0.65266402 0.63780292 0.7267162\n",
      " 0.71388162 0.74191506 0.75002111 0.77222832 0.83049059 0.8194292\n",
      " 0.8289707  0.8125475  0.78776492 0.75162543 0.78426074 0.77974331\n",
      " 0.81326522 0.8141096  0.79473106 0.83336148 0.85898843 0.83901883\n",
      " 0.85628641 0.87486279 0.88782403 0.90095415 0.92793211 0.948535\n",
      " 0.93333615 0.91746179 0.92544119 0.91771511 0.9483239  0.94064004\n",
      " 0.96635143 0.9563033  0.96491598 0.93439758]\n",
      "1 - day output:  [[0.92154884]]\n",
      "--------------------------------------------------\n",
      "2 - day input : [0.87431394 0.88431985 0.87836697 0.8986321  0.92582116 0.92877649\n",
      " 0.95676771 0.93869797 0.93304061 0.94950604 0.96424048 0.95512117\n",
      " 0.95989192 0.96635143 0.96246728 0.92295027 0.9598497  0.98792536\n",
      " 0.98594106 0.92531453 0.92172591 0.96474711 0.97572406 0.99159841\n",
      " 0.96972895 0.97614625 0.96795575 1.         0.99016297 0.99050072\n",
      " 0.96538039 0.98488559 0.97086887 0.94026007 0.87748037 0.83483915\n",
      " 0.85413324 0.77336823 0.77269273 0.88014017 0.84007431 0.89673225\n",
      " 0.85527316 0.83884995 0.74233725 0.82327113 0.78143207 0.6665963\n",
      " 0.7921557  0.64118044 0.68614371 0.66001013 0.65203074 0.58642236\n",
      " 0.56586169 0.66089673 0.65515494 0.70970193 0.66452757 0.69437642\n",
      " 0.69218104 0.63569197 0.65266402 0.63780292 0.7267162  0.71388162\n",
      " 0.74191506 0.75002111 0.77222832 0.83049059 0.8194292  0.8289707\n",
      " 0.8125475  0.78776492 0.75162543 0.78426074 0.77974331 0.81326522\n",
      " 0.8141096  0.79473106 0.83336148 0.85898843 0.83901883 0.85628641\n",
      " 0.87486279 0.88782403 0.90095415 0.92793211 0.948535   0.93333615\n",
      " 0.91746179 0.92544119 0.91771511 0.9483239  0.94064004 0.96635143\n",
      " 0.9563033  0.96491598 0.93439758 0.92154884]\n",
      "2 - day output:  [[0.90506583]]\n",
      "--------------------------------------------------\n",
      "3 - day input : [0.88431985 0.87836697 0.8986321  0.92582116 0.92877649 0.95676771\n",
      " 0.93869797 0.93304061 0.94950604 0.96424048 0.95512117 0.95989192\n",
      " 0.96635143 0.96246728 0.92295027 0.9598497  0.98792536 0.98594106\n",
      " 0.92531453 0.92172591 0.96474711 0.97572406 0.99159841 0.96972895\n",
      " 0.97614625 0.96795575 1.         0.99016297 0.99050072 0.96538039\n",
      " 0.98488559 0.97086887 0.94026007 0.87748037 0.83483915 0.85413324\n",
      " 0.77336823 0.77269273 0.88014017 0.84007431 0.89673225 0.85527316\n",
      " 0.83884995 0.74233725 0.82327113 0.78143207 0.6665963  0.7921557\n",
      " 0.64118044 0.68614371 0.66001013 0.65203074 0.58642236 0.56586169\n",
      " 0.66089673 0.65515494 0.70970193 0.66452757 0.69437642 0.69218104\n",
      " 0.63569197 0.65266402 0.63780292 0.7267162  0.71388162 0.74191506\n",
      " 0.75002111 0.77222832 0.83049059 0.8194292  0.8289707  0.8125475\n",
      " 0.78776492 0.75162543 0.78426074 0.77974331 0.81326522 0.8141096\n",
      " 0.79473106 0.83336148 0.85898843 0.83901883 0.85628641 0.87486279\n",
      " 0.88782403 0.90095415 0.92793211 0.948535   0.93333615 0.91746179\n",
      " 0.92544119 0.91771511 0.9483239  0.94064004 0.96635143 0.9563033\n",
      " 0.96491598 0.93439758 0.92154884 0.90506583]\n",
      "3 - day output:  [[0.8899621]]\n",
      "--------------------------------------------------\n",
      "4 - day input : [0.87836697 0.8986321  0.92582116 0.92877649 0.95676771 0.93869797\n",
      " 0.93304061 0.94950604 0.96424048 0.95512117 0.95989192 0.96635143\n",
      " 0.96246728 0.92295027 0.9598497  0.98792536 0.98594106 0.92531453\n",
      " 0.92172591 0.96474711 0.97572406 0.99159841 0.96972895 0.97614625\n",
      " 0.96795575 1.         0.99016297 0.99050072 0.96538039 0.98488559\n",
      " 0.97086887 0.94026007 0.87748037 0.83483915 0.85413324 0.77336823\n",
      " 0.77269273 0.88014017 0.84007431 0.89673225 0.85527316 0.83884995\n",
      " 0.74233725 0.82327113 0.78143207 0.6665963  0.7921557  0.64118044\n",
      " 0.68614371 0.66001013 0.65203074 0.58642236 0.56586169 0.66089673\n",
      " 0.65515494 0.70970193 0.66452757 0.69437642 0.69218104 0.63569197\n",
      " 0.65266402 0.63780292 0.7267162  0.71388162 0.74191506 0.75002111\n",
      " 0.77222832 0.83049059 0.8194292  0.8289707  0.8125475  0.78776492\n",
      " 0.75162543 0.78426074 0.77974331 0.81326522 0.8141096  0.79473106\n",
      " 0.83336148 0.85898843 0.83901883 0.85628641 0.87486279 0.88782403\n",
      " 0.90095415 0.92793211 0.948535   0.93333615 0.91746179 0.92544119\n",
      " 0.91771511 0.9483239  0.94064004 0.96635143 0.9563033  0.96491598\n",
      " 0.93439758 0.92154884 0.90506583 0.88996208]\n",
      "4 - day output:  [[0.87563515]]\n",
      "--------------------------------------------------\n",
      "5 - day input : [0.8986321  0.92582116 0.92877649 0.95676771 0.93869797 0.93304061\n",
      " 0.94950604 0.96424048 0.95512117 0.95989192 0.96635143 0.96246728\n",
      " 0.92295027 0.9598497  0.98792536 0.98594106 0.92531453 0.92172591\n",
      " 0.96474711 0.97572406 0.99159841 0.96972895 0.97614625 0.96795575\n",
      " 1.         0.99016297 0.99050072 0.96538039 0.98488559 0.97086887\n",
      " 0.94026007 0.87748037 0.83483915 0.85413324 0.77336823 0.77269273\n",
      " 0.88014017 0.84007431 0.89673225 0.85527316 0.83884995 0.74233725\n",
      " 0.82327113 0.78143207 0.6665963  0.7921557  0.64118044 0.68614371\n",
      " 0.66001013 0.65203074 0.58642236 0.56586169 0.66089673 0.65515494\n",
      " 0.70970193 0.66452757 0.69437642 0.69218104 0.63569197 0.65266402\n",
      " 0.63780292 0.7267162  0.71388162 0.74191506 0.75002111 0.77222832\n",
      " 0.83049059 0.8194292  0.8289707  0.8125475  0.78776492 0.75162543\n",
      " 0.78426074 0.77974331 0.81326522 0.8141096  0.79473106 0.83336148\n",
      " 0.85898843 0.83901883 0.85628641 0.87486279 0.88782403 0.90095415\n",
      " 0.92793211 0.948535   0.93333615 0.91746179 0.92544119 0.91771511\n",
      " 0.9483239  0.94064004 0.96635143 0.9563033  0.96491598 0.93439758\n",
      " 0.92154884 0.90506583 0.88996208 0.87563515]\n",
      "5 - day output:  [[0.86104244]]\n",
      "--------------------------------------------------\n",
      "6 - day input : [0.92582116 0.92877649 0.95676771 0.93869797 0.93304061 0.94950604\n",
      " 0.96424048 0.95512117 0.95989192 0.96635143 0.96246728 0.92295027\n",
      " 0.9598497  0.98792536 0.98594106 0.92531453 0.92172591 0.96474711\n",
      " 0.97572406 0.99159841 0.96972895 0.97614625 0.96795575 1.\n",
      " 0.99016297 0.99050072 0.96538039 0.98488559 0.97086887 0.94026007\n",
      " 0.87748037 0.83483915 0.85413324 0.77336823 0.77269273 0.88014017\n",
      " 0.84007431 0.89673225 0.85527316 0.83884995 0.74233725 0.82327113\n",
      " 0.78143207 0.6665963  0.7921557  0.64118044 0.68614371 0.66001013\n",
      " 0.65203074 0.58642236 0.56586169 0.66089673 0.65515494 0.70970193\n",
      " 0.66452757 0.69437642 0.69218104 0.63569197 0.65266402 0.63780292\n",
      " 0.7267162  0.71388162 0.74191506 0.75002111 0.77222832 0.83049059\n",
      " 0.8194292  0.8289707  0.8125475  0.78776492 0.75162543 0.78426074\n",
      " 0.77974331 0.81326522 0.8141096  0.79473106 0.83336148 0.85898843\n",
      " 0.83901883 0.85628641 0.87486279 0.88782403 0.90095415 0.92793211\n",
      " 0.948535   0.93333615 0.91746179 0.92544119 0.91771511 0.9483239\n",
      " 0.94064004 0.96635143 0.9563033  0.96491598 0.93439758 0.92154884\n",
      " 0.90506583 0.88996208 0.87563515 0.86104244]\n",
      "6 - day output:  [[0.8458262]]\n",
      "--------------------------------------------------\n",
      "7 - day input : [0.92877649 0.95676771 0.93869797 0.93304061 0.94950604 0.96424048\n",
      " 0.95512117 0.95989192 0.96635143 0.96246728 0.92295027 0.9598497\n",
      " 0.98792536 0.98594106 0.92531453 0.92172591 0.96474711 0.97572406\n",
      " 0.99159841 0.96972895 0.97614625 0.96795575 1.         0.99016297\n",
      " 0.99050072 0.96538039 0.98488559 0.97086887 0.94026007 0.87748037\n",
      " 0.83483915 0.85413324 0.77336823 0.77269273 0.88014017 0.84007431\n",
      " 0.89673225 0.85527316 0.83884995 0.74233725 0.82327113 0.78143207\n",
      " 0.6665963  0.7921557  0.64118044 0.68614371 0.66001013 0.65203074\n",
      " 0.58642236 0.56586169 0.66089673 0.65515494 0.70970193 0.66452757\n",
      " 0.69437642 0.69218104 0.63569197 0.65266402 0.63780292 0.7267162\n",
      " 0.71388162 0.74191506 0.75002111 0.77222832 0.83049059 0.8194292\n",
      " 0.8289707  0.8125475  0.78776492 0.75162543 0.78426074 0.77974331\n",
      " 0.81326522 0.8141096  0.79473106 0.83336148 0.85898843 0.83901883\n",
      " 0.85628641 0.87486279 0.88782403 0.90095415 0.92793211 0.948535\n",
      " 0.93333615 0.91746179 0.92544119 0.91771511 0.9483239  0.94064004\n",
      " 0.96635143 0.9563033  0.96491598 0.93439758 0.92154884 0.90506583\n",
      " 0.88996208 0.87563515 0.86104244 0.84582621]\n"
     ]
    },
    {
     "name": "stdout",
     "output_type": "stream",
     "text": [
      "7 - day output:  [[0.8298602]]\n",
      "--------------------------------------------------\n",
      "8 - day input : [0.95676771 0.93869797 0.93304061 0.94950604 0.96424048 0.95512117\n",
      " 0.95989192 0.96635143 0.96246728 0.92295027 0.9598497  0.98792536\n",
      " 0.98594106 0.92531453 0.92172591 0.96474711 0.97572406 0.99159841\n",
      " 0.96972895 0.97614625 0.96795575 1.         0.99016297 0.99050072\n",
      " 0.96538039 0.98488559 0.97086887 0.94026007 0.87748037 0.83483915\n",
      " 0.85413324 0.77336823 0.77269273 0.88014017 0.84007431 0.89673225\n",
      " 0.85527316 0.83884995 0.74233725 0.82327113 0.78143207 0.6665963\n",
      " 0.7921557  0.64118044 0.68614371 0.66001013 0.65203074 0.58642236\n",
      " 0.56586169 0.66089673 0.65515494 0.70970193 0.66452757 0.69437642\n",
      " 0.69218104 0.63569197 0.65266402 0.63780292 0.7267162  0.71388162\n",
      " 0.74191506 0.75002111 0.77222832 0.83049059 0.8194292  0.8289707\n",
      " 0.8125475  0.78776492 0.75162543 0.78426074 0.77974331 0.81326522\n",
      " 0.8141096  0.79473106 0.83336148 0.85898843 0.83901883 0.85628641\n",
      " 0.87486279 0.88782403 0.90095415 0.92793211 0.948535   0.93333615\n",
      " 0.91746179 0.92544119 0.91771511 0.9483239  0.94064004 0.96635143\n",
      " 0.9563033  0.96491598 0.93439758 0.92154884 0.90506583 0.88996208\n",
      " 0.87563515 0.86104244 0.84582621 0.82986021]\n",
      "8 - day output:  [[0.81299603]]\n",
      "--------------------------------------------------\n",
      "9 - day input : [0.93869797 0.93304061 0.94950604 0.96424048 0.95512117 0.95989192\n",
      " 0.96635143 0.96246728 0.92295027 0.9598497  0.98792536 0.98594106\n",
      " 0.92531453 0.92172591 0.96474711 0.97572406 0.99159841 0.96972895\n",
      " 0.97614625 0.96795575 1.         0.99016297 0.99050072 0.96538039\n",
      " 0.98488559 0.97086887 0.94026007 0.87748037 0.83483915 0.85413324\n",
      " 0.77336823 0.77269273 0.88014017 0.84007431 0.89673225 0.85527316\n",
      " 0.83884995 0.74233725 0.82327113 0.78143207 0.6665963  0.7921557\n",
      " 0.64118044 0.68614371 0.66001013 0.65203074 0.58642236 0.56586169\n",
      " 0.66089673 0.65515494 0.70970193 0.66452757 0.69437642 0.69218104\n",
      " 0.63569197 0.65266402 0.63780292 0.7267162  0.71388162 0.74191506\n",
      " 0.75002111 0.77222832 0.83049059 0.8194292  0.8289707  0.8125475\n",
      " 0.78776492 0.75162543 0.78426074 0.77974331 0.81326522 0.8141096\n",
      " 0.79473106 0.83336148 0.85898843 0.83901883 0.85628641 0.87486279\n",
      " 0.88782403 0.90095415 0.92793211 0.948535   0.93333615 0.91746179\n",
      " 0.92544119 0.91771511 0.9483239  0.94064004 0.96635143 0.9563033\n",
      " 0.96491598 0.93439758 0.92154884 0.90506583 0.88996208 0.87563515\n",
      " 0.86104244 0.84582621 0.82986021 0.81299603]\n",
      "9 - day output:  [[0.7950811]]\n",
      "--------------------------------------------------\n",
      "10 - day input : [0.93304061 0.94950604 0.96424048 0.95512117 0.95989192 0.96635143\n",
      " 0.96246728 0.92295027 0.9598497  0.98792536 0.98594106 0.92531453\n",
      " 0.92172591 0.96474711 0.97572406 0.99159841 0.96972895 0.97614625\n",
      " 0.96795575 1.         0.99016297 0.99050072 0.96538039 0.98488559\n",
      " 0.97086887 0.94026007 0.87748037 0.83483915 0.85413324 0.77336823\n",
      " 0.77269273 0.88014017 0.84007431 0.89673225 0.85527316 0.83884995\n",
      " 0.74233725 0.82327113 0.78143207 0.6665963  0.7921557  0.64118044\n",
      " 0.68614371 0.66001013 0.65203074 0.58642236 0.56586169 0.66089673\n",
      " 0.65515494 0.70970193 0.66452757 0.69437642 0.69218104 0.63569197\n",
      " 0.65266402 0.63780292 0.7267162  0.71388162 0.74191506 0.75002111\n",
      " 0.77222832 0.83049059 0.8194292  0.8289707  0.8125475  0.78776492\n",
      " 0.75162543 0.78426074 0.77974331 0.81326522 0.8141096  0.79473106\n",
      " 0.83336148 0.85898843 0.83901883 0.85628641 0.87486279 0.88782403\n",
      " 0.90095415 0.92793211 0.948535   0.93333615 0.91746179 0.92544119\n",
      " 0.91771511 0.9483239  0.94064004 0.96635143 0.9563033  0.96491598\n",
      " 0.93439758 0.92154884 0.90506583 0.88996208 0.87563515 0.86104244\n",
      " 0.84582621 0.82986021 0.81299603 0.79508108]\n",
      "10 - day output:  [[0.77600396]]\n",
      "--------------------------------------------------\n",
      "11 - day input : [0.94950604 0.96424048 0.95512117 0.95989192 0.96635143 0.96246728\n",
      " 0.92295027 0.9598497  0.98792536 0.98594106 0.92531453 0.92172591\n",
      " 0.96474711 0.97572406 0.99159841 0.96972895 0.97614625 0.96795575\n",
      " 1.         0.99016297 0.99050072 0.96538039 0.98488559 0.97086887\n",
      " 0.94026007 0.87748037 0.83483915 0.85413324 0.77336823 0.77269273\n",
      " 0.88014017 0.84007431 0.89673225 0.85527316 0.83884995 0.74233725\n",
      " 0.82327113 0.78143207 0.6665963  0.7921557  0.64118044 0.68614371\n",
      " 0.66001013 0.65203074 0.58642236 0.56586169 0.66089673 0.65515494\n",
      " 0.70970193 0.66452757 0.69437642 0.69218104 0.63569197 0.65266402\n",
      " 0.63780292 0.7267162  0.71388162 0.74191506 0.75002111 0.77222832\n",
      " 0.83049059 0.8194292  0.8289707  0.8125475  0.78776492 0.75162543\n",
      " 0.78426074 0.77974331 0.81326522 0.8141096  0.79473106 0.83336148\n",
      " 0.85898843 0.83901883 0.85628641 0.87486279 0.88782403 0.90095415\n",
      " 0.92793211 0.948535   0.93333615 0.91746179 0.92544119 0.91771511\n",
      " 0.9483239  0.94064004 0.96635143 0.9563033  0.96491598 0.93439758\n",
      " 0.92154884 0.90506583 0.88996208 0.87563515 0.86104244 0.84582621\n",
      " 0.82986021 0.81299603 0.79508108 0.77600396]\n",
      "11 - day output:  [[0.7557017]]\n",
      "--------------------------------------------------\n",
      "12 - day input : [0.96424048 0.95512117 0.95989192 0.96635143 0.96246728 0.92295027\n",
      " 0.9598497  0.98792536 0.98594106 0.92531453 0.92172591 0.96474711\n",
      " 0.97572406 0.99159841 0.96972895 0.97614625 0.96795575 1.\n",
      " 0.99016297 0.99050072 0.96538039 0.98488559 0.97086887 0.94026007\n",
      " 0.87748037 0.83483915 0.85413324 0.77336823 0.77269273 0.88014017\n",
      " 0.84007431 0.89673225 0.85527316 0.83884995 0.74233725 0.82327113\n",
      " 0.78143207 0.6665963  0.7921557  0.64118044 0.68614371 0.66001013\n",
      " 0.65203074 0.58642236 0.56586169 0.66089673 0.65515494 0.70970193\n",
      " 0.66452757 0.69437642 0.69218104 0.63569197 0.65266402 0.63780292\n",
      " 0.7267162  0.71388162 0.74191506 0.75002111 0.77222832 0.83049059\n",
      " 0.8194292  0.8289707  0.8125475  0.78776492 0.75162543 0.78426074\n",
      " 0.77974331 0.81326522 0.8141096  0.79473106 0.83336148 0.85898843\n",
      " 0.83901883 0.85628641 0.87486279 0.88782403 0.90095415 0.92793211\n",
      " 0.948535   0.93333615 0.91746179 0.92544119 0.91771511 0.9483239\n",
      " 0.94064004 0.96635143 0.9563033  0.96491598 0.93439758 0.92154884\n",
      " 0.90506583 0.88996208 0.87563515 0.86104244 0.84582621 0.82986021\n",
      " 0.81299603 0.79508108 0.77600396 0.75570172]\n",
      "12 - day output:  [[0.7341463]]\n",
      "--------------------------------------------------\n",
      "13 - day input : [0.95512117 0.95989192 0.96635143 0.96246728 0.92295027 0.9598497\n",
      " 0.98792536 0.98594106 0.92531453 0.92172591 0.96474711 0.97572406\n",
      " 0.99159841 0.96972895 0.97614625 0.96795575 1.         0.99016297\n",
      " 0.99050072 0.96538039 0.98488559 0.97086887 0.94026007 0.87748037\n",
      " 0.83483915 0.85413324 0.77336823 0.77269273 0.88014017 0.84007431\n",
      " 0.89673225 0.85527316 0.83884995 0.74233725 0.82327113 0.78143207\n",
      " 0.6665963  0.7921557  0.64118044 0.68614371 0.66001013 0.65203074\n",
      " 0.58642236 0.56586169 0.66089673 0.65515494 0.70970193 0.66452757\n",
      " 0.69437642 0.69218104 0.63569197 0.65266402 0.63780292 0.7267162\n",
      " 0.71388162 0.74191506 0.75002111 0.77222832 0.83049059 0.8194292\n",
      " 0.8289707  0.8125475  0.78776492 0.75162543 0.78426074 0.77974331\n",
      " 0.81326522 0.8141096  0.79473106 0.83336148 0.85898843 0.83901883\n",
      " 0.85628641 0.87486279 0.88782403 0.90095415 0.92793211 0.948535\n",
      " 0.93333615 0.91746179 0.92544119 0.91771511 0.9483239  0.94064004\n",
      " 0.96635143 0.9563033  0.96491598 0.93439758 0.92154884 0.90506583\n",
      " 0.88996208 0.87563515 0.86104244 0.84582621 0.82986021 0.81299603\n",
      " 0.79508108 0.77600396 0.75570172 0.7341463 ]\n",
      "13 - day output:  [[0.7113319]]\n",
      "--------------------------------------------------\n",
      "14 - day input : [0.95989192 0.96635143 0.96246728 0.92295027 0.9598497  0.98792536\n",
      " 0.98594106 0.92531453 0.92172591 0.96474711 0.97572406 0.99159841\n",
      " 0.96972895 0.97614625 0.96795575 1.         0.99016297 0.99050072\n",
      " 0.96538039 0.98488559 0.97086887 0.94026007 0.87748037 0.83483915\n",
      " 0.85413324 0.77336823 0.77269273 0.88014017 0.84007431 0.89673225\n",
      " 0.85527316 0.83884995 0.74233725 0.82327113 0.78143207 0.6665963\n",
      " 0.7921557  0.64118044 0.68614371 0.66001013 0.65203074 0.58642236\n",
      " 0.56586169 0.66089673 0.65515494 0.70970193 0.66452757 0.69437642\n",
      " 0.69218104 0.63569197 0.65266402 0.63780292 0.7267162  0.71388162\n",
      " 0.74191506 0.75002111 0.77222832 0.83049059 0.8194292  0.8289707\n",
      " 0.8125475  0.78776492 0.75162543 0.78426074 0.77974331 0.81326522\n",
      " 0.8141096  0.79473106 0.83336148 0.85898843 0.83901883 0.85628641\n",
      " 0.87486279 0.88782403 0.90095415 0.92793211 0.948535   0.93333615\n",
      " 0.91746179 0.92544119 0.91771511 0.9483239  0.94064004 0.96635143\n",
      " 0.9563033  0.96491598 0.93439758 0.92154884 0.90506583 0.88996208\n",
      " 0.87563515 0.86104244 0.84582621 0.82986021 0.81299603 0.79508108\n",
      " 0.77600396 0.75570172 0.7341463  0.7113319 ]\n"
     ]
    },
    {
     "name": "stdout",
     "output_type": "stream",
     "text": [
      "14 - day output:  [[0.68726647]]\n",
      "--------------------------------------------------\n",
      "15 - day input : [0.96635143 0.96246728 0.92295027 0.9598497  0.98792536 0.98594106\n",
      " 0.92531453 0.92172591 0.96474711 0.97572406 0.99159841 0.96972895\n",
      " 0.97614625 0.96795575 1.         0.99016297 0.99050072 0.96538039\n",
      " 0.98488559 0.97086887 0.94026007 0.87748037 0.83483915 0.85413324\n",
      " 0.77336823 0.77269273 0.88014017 0.84007431 0.89673225 0.85527316\n",
      " 0.83884995 0.74233725 0.82327113 0.78143207 0.6665963  0.7921557\n",
      " 0.64118044 0.68614371 0.66001013 0.65203074 0.58642236 0.56586169\n",
      " 0.66089673 0.65515494 0.70970193 0.66452757 0.69437642 0.69218104\n",
      " 0.63569197 0.65266402 0.63780292 0.7267162  0.71388162 0.74191506\n",
      " 0.75002111 0.77222832 0.83049059 0.8194292  0.8289707  0.8125475\n",
      " 0.78776492 0.75162543 0.78426074 0.77974331 0.81326522 0.8141096\n",
      " 0.79473106 0.83336148 0.85898843 0.83901883 0.85628641 0.87486279\n",
      " 0.88782403 0.90095415 0.92793211 0.948535   0.93333615 0.91746179\n",
      " 0.92544119 0.91771511 0.9483239  0.94064004 0.96635143 0.9563033\n",
      " 0.96491598 0.93439758 0.92154884 0.90506583 0.88996208 0.87563515\n",
      " 0.86104244 0.84582621 0.82986021 0.81299603 0.79508108 0.77600396\n",
      " 0.75570172 0.7341463  0.7113319  0.68726647]\n",
      "15 - day output:  [[0.66196626]]\n",
      "--------------------------------------------------\n",
      "16 - day input : [0.96246728 0.92295027 0.9598497  0.98792536 0.98594106 0.92531453\n",
      " 0.92172591 0.96474711 0.97572406 0.99159841 0.96972895 0.97614625\n",
      " 0.96795575 1.         0.99016297 0.99050072 0.96538039 0.98488559\n",
      " 0.97086887 0.94026007 0.87748037 0.83483915 0.85413324 0.77336823\n",
      " 0.77269273 0.88014017 0.84007431 0.89673225 0.85527316 0.83884995\n",
      " 0.74233725 0.82327113 0.78143207 0.6665963  0.7921557  0.64118044\n",
      " 0.68614371 0.66001013 0.65203074 0.58642236 0.56586169 0.66089673\n",
      " 0.65515494 0.70970193 0.66452757 0.69437642 0.69218104 0.63569197\n",
      " 0.65266402 0.63780292 0.7267162  0.71388162 0.74191506 0.75002111\n",
      " 0.77222832 0.83049059 0.8194292  0.8289707  0.8125475  0.78776492\n",
      " 0.75162543 0.78426074 0.77974331 0.81326522 0.8141096  0.79473106\n",
      " 0.83336148 0.85898843 0.83901883 0.85628641 0.87486279 0.88782403\n",
      " 0.90095415 0.92793211 0.948535   0.93333615 0.91746179 0.92544119\n",
      " 0.91771511 0.9483239  0.94064004 0.96635143 0.9563033  0.96491598\n",
      " 0.93439758 0.92154884 0.90506583 0.88996208 0.87563515 0.86104244\n",
      " 0.84582621 0.82986021 0.81299603 0.79508108 0.77600396 0.75570172\n",
      " 0.7341463  0.7113319  0.68726647 0.66196626]\n",
      "16 - day output:  [[0.63545406]]\n",
      "--------------------------------------------------\n",
      "17 - day input : [0.92295027 0.9598497  0.98792536 0.98594106 0.92531453 0.92172591\n",
      " 0.96474711 0.97572406 0.99159841 0.96972895 0.97614625 0.96795575\n",
      " 1.         0.99016297 0.99050072 0.96538039 0.98488559 0.97086887\n",
      " 0.94026007 0.87748037 0.83483915 0.85413324 0.77336823 0.77269273\n",
      " 0.88014017 0.84007431 0.89673225 0.85527316 0.83884995 0.74233725\n",
      " 0.82327113 0.78143207 0.6665963  0.7921557  0.64118044 0.68614371\n",
      " 0.66001013 0.65203074 0.58642236 0.56586169 0.66089673 0.65515494\n",
      " 0.70970193 0.66452757 0.69437642 0.69218104 0.63569197 0.65266402\n",
      " 0.63780292 0.7267162  0.71388162 0.74191506 0.75002111 0.77222832\n",
      " 0.83049059 0.8194292  0.8289707  0.8125475  0.78776492 0.75162543\n",
      " 0.78426074 0.77974331 0.81326522 0.8141096  0.79473106 0.83336148\n",
      " 0.85898843 0.83901883 0.85628641 0.87486279 0.88782403 0.90095415\n",
      " 0.92793211 0.948535   0.93333615 0.91746179 0.92544119 0.91771511\n",
      " 0.9483239  0.94064004 0.96635143 0.9563033  0.96491598 0.93439758\n",
      " 0.92154884 0.90506583 0.88996208 0.87563515 0.86104244 0.84582621\n",
      " 0.82986021 0.81299603 0.79508108 0.77600396 0.75570172 0.7341463\n",
      " 0.7113319  0.68726647 0.66196626 0.63545406]\n",
      "17 - day output:  [[0.6077567]]\n",
      "--------------------------------------------------\n",
      "18 - day input : [0.9598497  0.98792536 0.98594106 0.92531453 0.92172591 0.96474711\n",
      " 0.97572406 0.99159841 0.96972895 0.97614625 0.96795575 1.\n",
      " 0.99016297 0.99050072 0.96538039 0.98488559 0.97086887 0.94026007\n",
      " 0.87748037 0.83483915 0.85413324 0.77336823 0.77269273 0.88014017\n",
      " 0.84007431 0.89673225 0.85527316 0.83884995 0.74233725 0.82327113\n",
      " 0.78143207 0.6665963  0.7921557  0.64118044 0.68614371 0.66001013\n",
      " 0.65203074 0.58642236 0.56586169 0.66089673 0.65515494 0.70970193\n",
      " 0.66452757 0.69437642 0.69218104 0.63569197 0.65266402 0.63780292\n",
      " 0.7267162  0.71388162 0.74191506 0.75002111 0.77222832 0.83049059\n",
      " 0.8194292  0.8289707  0.8125475  0.78776492 0.75162543 0.78426074\n",
      " 0.77974331 0.81326522 0.8141096  0.79473106 0.83336148 0.85898843\n",
      " 0.83901883 0.85628641 0.87486279 0.88782403 0.90095415 0.92793211\n",
      " 0.948535   0.93333615 0.91746179 0.92544119 0.91771511 0.9483239\n",
      " 0.94064004 0.96635143 0.9563033  0.96491598 0.93439758 0.92154884\n",
      " 0.90506583 0.88996208 0.87563515 0.86104244 0.84582621 0.82986021\n",
      " 0.81299603 0.79508108 0.77600396 0.75570172 0.7341463  0.7113319\n",
      " 0.68726647 0.66196626 0.63545406 0.60775667]\n",
      "18 - day output:  [[0.5789082]]\n",
      "--------------------------------------------------\n",
      "19 - day input : [0.98792536 0.98594106 0.92531453 0.92172591 0.96474711 0.97572406\n",
      " 0.99159841 0.96972895 0.97614625 0.96795575 1.         0.99016297\n",
      " 0.99050072 0.96538039 0.98488559 0.97086887 0.94026007 0.87748037\n",
      " 0.83483915 0.85413324 0.77336823 0.77269273 0.88014017 0.84007431\n",
      " 0.89673225 0.85527316 0.83884995 0.74233725 0.82327113 0.78143207\n",
      " 0.6665963  0.7921557  0.64118044 0.68614371 0.66001013 0.65203074\n",
      " 0.58642236 0.56586169 0.66089673 0.65515494 0.70970193 0.66452757\n",
      " 0.69437642 0.69218104 0.63569197 0.65266402 0.63780292 0.7267162\n",
      " 0.71388162 0.74191506 0.75002111 0.77222832 0.83049059 0.8194292\n",
      " 0.8289707  0.8125475  0.78776492 0.75162543 0.78426074 0.77974331\n",
      " 0.81326522 0.8141096  0.79473106 0.83336148 0.85898843 0.83901883\n",
      " 0.85628641 0.87486279 0.88782403 0.90095415 0.92793211 0.948535\n",
      " 0.93333615 0.91746179 0.92544119 0.91771511 0.9483239  0.94064004\n",
      " 0.96635143 0.9563033  0.96491598 0.93439758 0.92154884 0.90506583\n",
      " 0.88996208 0.87563515 0.86104244 0.84582621 0.82986021 0.81299603\n",
      " 0.79508108 0.77600396 0.75570172 0.7341463  0.7113319  0.68726647\n",
      " 0.66196626 0.63545406 0.60775667 0.57890821]\n",
      "19 - day output:  [[0.54895407]]\n",
      "--------------------------------------------------\n",
      "20 - day input : [0.98594106 0.92531453 0.92172591 0.96474711 0.97572406 0.99159841\n",
      " 0.96972895 0.97614625 0.96795575 1.         0.99016297 0.99050072\n",
      " 0.96538039 0.98488559 0.97086887 0.94026007 0.87748037 0.83483915\n",
      " 0.85413324 0.77336823 0.77269273 0.88014017 0.84007431 0.89673225\n",
      " 0.85527316 0.83884995 0.74233725 0.82327113 0.78143207 0.6665963\n",
      " 0.7921557  0.64118044 0.68614371 0.66001013 0.65203074 0.58642236\n",
      " 0.56586169 0.66089673 0.65515494 0.70970193 0.66452757 0.69437642\n",
      " 0.69218104 0.63569197 0.65266402 0.63780292 0.7267162  0.71388162\n",
      " 0.74191506 0.75002111 0.77222832 0.83049059 0.8194292  0.8289707\n",
      " 0.8125475  0.78776492 0.75162543 0.78426074 0.77974331 0.81326522\n",
      " 0.8141096  0.79473106 0.83336148 0.85898843 0.83901883 0.85628641\n",
      " 0.87486279 0.88782403 0.90095415 0.92793211 0.948535   0.93333615\n",
      " 0.91746179 0.92544119 0.91771511 0.9483239  0.94064004 0.96635143\n",
      " 0.9563033  0.96491598 0.93439758 0.92154884 0.90506583 0.88996208\n",
      " 0.87563515 0.86104244 0.84582621 0.82986021 0.81299603 0.79508108\n",
      " 0.77600396 0.75570172 0.7341463  0.7113319  0.68726647 0.66196626\n",
      " 0.63545406 0.60775667 0.57890821 0.54895407]\n",
      "20 - day output:  [[0.51795316]]\n",
      "--------------------------------------------------\n",
      "21 - day input : [0.92531453 0.92172591 0.96474711 0.97572406 0.99159841 0.96972895\n",
      " 0.97614625 0.96795575 1.         0.99016297 0.99050072 0.96538039\n",
      " 0.98488559 0.97086887 0.94026007 0.87748037 0.83483915 0.85413324\n",
      " 0.77336823 0.77269273 0.88014017 0.84007431 0.89673225 0.85527316\n",
      " 0.83884995 0.74233725 0.82327113 0.78143207 0.6665963  0.7921557\n",
      " 0.64118044 0.68614371 0.66001013 0.65203074 0.58642236 0.56586169\n",
      " 0.66089673 0.65515494 0.70970193 0.66452757 0.69437642 0.69218104\n",
      " 0.63569197 0.65266402 0.63780292 0.7267162  0.71388162 0.74191506\n",
      " 0.75002111 0.77222832 0.83049059 0.8194292  0.8289707  0.8125475\n",
      " 0.78776492 0.75162543 0.78426074 0.77974331 0.81326522 0.8141096\n",
      " 0.79473106 0.83336148 0.85898843 0.83901883 0.85628641 0.87486279\n",
      " 0.88782403 0.90095415 0.92793211 0.948535   0.93333615 0.91746179\n",
      " 0.92544119 0.91771511 0.9483239  0.94064004 0.96635143 0.9563033\n",
      " 0.96491598 0.93439758 0.92154884 0.90506583 0.88996208 0.87563515\n",
      " 0.86104244 0.84582621 0.82986021 0.81299603 0.79508108 0.77600396\n",
      " 0.75570172 0.7341463  0.7113319  0.68726647 0.66196626 0.63545406\n",
      " 0.60775667 0.57890821 0.54895407 0.51795316]\n",
      "21 - day output:  [[0.48598382]]\n",
      "--------------------------------------------------\n",
      "22 - day input : [0.92172591 0.96474711 0.97572406 0.99159841 0.96972895 0.97614625\n",
      " 0.96795575 1.         0.99016297 0.99050072 0.96538039 0.98488559\n",
      " 0.97086887 0.94026007 0.87748037 0.83483915 0.85413324 0.77336823\n",
      " 0.77269273 0.88014017 0.84007431 0.89673225 0.85527316 0.83884995\n",
      " 0.74233725 0.82327113 0.78143207 0.6665963  0.7921557  0.64118044\n",
      " 0.68614371 0.66001013 0.65203074 0.58642236 0.56586169 0.66089673\n",
      " 0.65515494 0.70970193 0.66452757 0.69437642 0.69218104 0.63569197\n",
      " 0.65266402 0.63780292 0.7267162  0.71388162 0.74191506 0.75002111\n",
      " 0.77222832 0.83049059 0.8194292  0.8289707  0.8125475  0.78776492\n",
      " 0.75162543 0.78426074 0.77974331 0.81326522 0.8141096  0.79473106\n",
      " 0.83336148 0.85898843 0.83901883 0.85628641 0.87486279 0.88782403\n",
      " 0.90095415 0.92793211 0.948535   0.93333615 0.91746179 0.92544119\n",
      " 0.91771511 0.9483239  0.94064004 0.96635143 0.9563033  0.96491598\n",
      " 0.93439758 0.92154884 0.90506583 0.88996208 0.87563515 0.86104244\n",
      " 0.84582621 0.82986021 0.81299603 0.79508108 0.77600396 0.75570172\n",
      " 0.7341463  0.7113319  0.68726647 0.66196626 0.63545406 0.60775667\n",
      " 0.57890821 0.54895407 0.51795316 0.48598382]\n",
      "22 - day output:  [[0.45314956]]\n",
      "--------------------------------------------------\n",
      "23 - day input : [0.96474711 0.97572406 0.99159841 0.96972895 0.97614625 0.96795575\n",
      " 1.         0.99016297 0.99050072 0.96538039 0.98488559 0.97086887\n",
      " 0.94026007 0.87748037 0.83483915 0.85413324 0.77336823 0.77269273\n",
      " 0.88014017 0.84007431 0.89673225 0.85527316 0.83884995 0.74233725\n",
      " 0.82327113 0.78143207 0.6665963  0.7921557  0.64118044 0.68614371\n",
      " 0.66001013 0.65203074 0.58642236 0.56586169 0.66089673 0.65515494\n",
      " 0.70970193 0.66452757 0.69437642 0.69218104 0.63569197 0.65266402\n",
      " 0.63780292 0.7267162  0.71388162 0.74191506 0.75002111 0.77222832\n",
      " 0.83049059 0.8194292  0.8289707  0.8125475  0.78776492 0.75162543\n",
      " 0.78426074 0.77974331 0.81326522 0.8141096  0.79473106 0.83336148\n",
      " 0.85898843 0.83901883 0.85628641 0.87486279 0.88782403 0.90095415\n",
      " 0.92793211 0.948535   0.93333615 0.91746179 0.92544119 0.91771511\n",
      " 0.9483239  0.94064004 0.96635143 0.9563033  0.96491598 0.93439758\n",
      " 0.92154884 0.90506583 0.88996208 0.87563515 0.86104244 0.84582621\n",
      " 0.82986021 0.81299603 0.79508108 0.77600396 0.75570172 0.7341463\n",
      " 0.7113319  0.68726647 0.66196626 0.63545406 0.60775667 0.57890821\n",
      " 0.54895407 0.51795316 0.48598382 0.45314956]\n"
     ]
    },
    {
     "name": "stdout",
     "output_type": "stream",
     "text": [
      "23 - day output:  [[0.4195858]]\n",
      "--------------------------------------------------\n",
      "24 - day input : [0.97572406 0.99159841 0.96972895 0.97614625 0.96795575 1.\n",
      " 0.99016297 0.99050072 0.96538039 0.98488559 0.97086887 0.94026007\n",
      " 0.87748037 0.83483915 0.85413324 0.77336823 0.77269273 0.88014017\n",
      " 0.84007431 0.89673225 0.85527316 0.83884995 0.74233725 0.82327113\n",
      " 0.78143207 0.6665963  0.7921557  0.64118044 0.68614371 0.66001013\n",
      " 0.65203074 0.58642236 0.56586169 0.66089673 0.65515494 0.70970193\n",
      " 0.66452757 0.69437642 0.69218104 0.63569197 0.65266402 0.63780292\n",
      " 0.7267162  0.71388162 0.74191506 0.75002111 0.77222832 0.83049059\n",
      " 0.8194292  0.8289707  0.8125475  0.78776492 0.75162543 0.78426074\n",
      " 0.77974331 0.81326522 0.8141096  0.79473106 0.83336148 0.85898843\n",
      " 0.83901883 0.85628641 0.87486279 0.88782403 0.90095415 0.92793211\n",
      " 0.948535   0.93333615 0.91746179 0.92544119 0.91771511 0.9483239\n",
      " 0.94064004 0.96635143 0.9563033  0.96491598 0.93439758 0.92154884\n",
      " 0.90506583 0.88996208 0.87563515 0.86104244 0.84582621 0.82986021\n",
      " 0.81299603 0.79508108 0.77600396 0.75570172 0.7341463  0.7113319\n",
      " 0.68726647 0.66196626 0.63545406 0.60775667 0.57890821 0.54895407\n",
      " 0.51795316 0.48598382 0.45314956 0.41958579]\n",
      "24 - day output:  [[0.38546473]]\n",
      "--------------------------------------------------\n",
      "25 - day input : [0.99159841 0.96972895 0.97614625 0.96795575 1.         0.99016297\n",
      " 0.99050072 0.96538039 0.98488559 0.97086887 0.94026007 0.87748037\n",
      " 0.83483915 0.85413324 0.77336823 0.77269273 0.88014017 0.84007431\n",
      " 0.89673225 0.85527316 0.83884995 0.74233725 0.82327113 0.78143207\n",
      " 0.6665963  0.7921557  0.64118044 0.68614371 0.66001013 0.65203074\n",
      " 0.58642236 0.56586169 0.66089673 0.65515494 0.70970193 0.66452757\n",
      " 0.69437642 0.69218104 0.63569197 0.65266402 0.63780292 0.7267162\n",
      " 0.71388162 0.74191506 0.75002111 0.77222832 0.83049059 0.8194292\n",
      " 0.8289707  0.8125475  0.78776492 0.75162543 0.78426074 0.77974331\n",
      " 0.81326522 0.8141096  0.79473106 0.83336148 0.85898843 0.83901883\n",
      " 0.85628641 0.87486279 0.88782403 0.90095415 0.92793211 0.948535\n",
      " 0.93333615 0.91746179 0.92544119 0.91771511 0.9483239  0.94064004\n",
      " 0.96635143 0.9563033  0.96491598 0.93439758 0.92154884 0.90506583\n",
      " 0.88996208 0.87563515 0.86104244 0.84582621 0.82986021 0.81299603\n",
      " 0.79508108 0.77600396 0.75570172 0.7341463  0.7113319  0.68726647\n",
      " 0.66196626 0.63545406 0.60775667 0.57890821 0.54895407 0.51795316\n",
      " 0.48598382 0.45314956 0.41958579 0.38546473]\n",
      "25 - day output:  [[0.35099843]]\n",
      "--------------------------------------------------\n",
      "26 - day input : [0.96972895 0.97614625 0.96795575 1.         0.99016297 0.99050072\n",
      " 0.96538039 0.98488559 0.97086887 0.94026007 0.87748037 0.83483915\n",
      " 0.85413324 0.77336823 0.77269273 0.88014017 0.84007431 0.89673225\n",
      " 0.85527316 0.83884995 0.74233725 0.82327113 0.78143207 0.6665963\n",
      " 0.7921557  0.64118044 0.68614371 0.66001013 0.65203074 0.58642236\n",
      " 0.56586169 0.66089673 0.65515494 0.70970193 0.66452757 0.69437642\n",
      " 0.69218104 0.63569197 0.65266402 0.63780292 0.7267162  0.71388162\n",
      " 0.74191506 0.75002111 0.77222832 0.83049059 0.8194292  0.8289707\n",
      " 0.8125475  0.78776492 0.75162543 0.78426074 0.77974331 0.81326522\n",
      " 0.8141096  0.79473106 0.83336148 0.85898843 0.83901883 0.85628641\n",
      " 0.87486279 0.88782403 0.90095415 0.92793211 0.948535   0.93333615\n",
      " 0.91746179 0.92544119 0.91771511 0.9483239  0.94064004 0.96635143\n",
      " 0.9563033  0.96491598 0.93439758 0.92154884 0.90506583 0.88996208\n",
      " 0.87563515 0.86104244 0.84582621 0.82986021 0.81299603 0.79508108\n",
      " 0.77600396 0.75570172 0.7341463  0.7113319  0.68726647 0.66196626\n",
      " 0.63545406 0.60775667 0.57890821 0.54895407 0.51795316 0.48598382\n",
      " 0.45314956 0.41958579 0.38546473 0.35099843]\n",
      "26 - day output:  [[0.31644347]]\n",
      "--------------------------------------------------\n",
      "27 - day input : [0.97614625 0.96795575 1.         0.99016297 0.99050072 0.96538039\n",
      " 0.98488559 0.97086887 0.94026007 0.87748037 0.83483915 0.85413324\n",
      " 0.77336823 0.77269273 0.88014017 0.84007431 0.89673225 0.85527316\n",
      " 0.83884995 0.74233725 0.82327113 0.78143207 0.6665963  0.7921557\n",
      " 0.64118044 0.68614371 0.66001013 0.65203074 0.58642236 0.56586169\n",
      " 0.66089673 0.65515494 0.70970193 0.66452757 0.69437642 0.69218104\n",
      " 0.63569197 0.65266402 0.63780292 0.7267162  0.71388162 0.74191506\n",
      " 0.75002111 0.77222832 0.83049059 0.8194292  0.8289707  0.8125475\n",
      " 0.78776492 0.75162543 0.78426074 0.77974331 0.81326522 0.8141096\n",
      " 0.79473106 0.83336148 0.85898843 0.83901883 0.85628641 0.87486279\n",
      " 0.88782403 0.90095415 0.92793211 0.948535   0.93333615 0.91746179\n",
      " 0.92544119 0.91771511 0.9483239  0.94064004 0.96635143 0.9563033\n",
      " 0.96491598 0.93439758 0.92154884 0.90506583 0.88996208 0.87563515\n",
      " 0.86104244 0.84582621 0.82986021 0.81299603 0.79508108 0.77600396\n",
      " 0.75570172 0.7341463  0.7113319  0.68726647 0.66196626 0.63545406\n",
      " 0.60775667 0.57890821 0.54895407 0.51795316 0.48598382 0.45314956\n",
      " 0.41958579 0.38546473 0.35099843 0.31644347]\n",
      "27 - day output:  [[0.28209987]]\n",
      "--------------------------------------------------\n",
      "28 - day input : [0.96795575 1.         0.99016297 0.99050072 0.96538039 0.98488559\n",
      " 0.97086887 0.94026007 0.87748037 0.83483915 0.85413324 0.77336823\n",
      " 0.77269273 0.88014017 0.84007431 0.89673225 0.85527316 0.83884995\n",
      " 0.74233725 0.82327113 0.78143207 0.6665963  0.7921557  0.64118044\n",
      " 0.68614371 0.66001013 0.65203074 0.58642236 0.56586169 0.66089673\n",
      " 0.65515494 0.70970193 0.66452757 0.69437642 0.69218104 0.63569197\n",
      " 0.65266402 0.63780292 0.7267162  0.71388162 0.74191506 0.75002111\n",
      " 0.77222832 0.83049059 0.8194292  0.8289707  0.8125475  0.78776492\n",
      " 0.75162543 0.78426074 0.77974331 0.81326522 0.8141096  0.79473106\n",
      " 0.83336148 0.85898843 0.83901883 0.85628641 0.87486279 0.88782403\n",
      " 0.90095415 0.92793211 0.948535   0.93333615 0.91746179 0.92544119\n",
      " 0.91771511 0.9483239  0.94064004 0.96635143 0.9563033  0.96491598\n",
      " 0.93439758 0.92154884 0.90506583 0.88996208 0.87563515 0.86104244\n",
      " 0.84582621 0.82986021 0.81299603 0.79508108 0.77600396 0.75570172\n",
      " 0.7341463  0.7113319  0.68726647 0.66196626 0.63545406 0.60775667\n",
      " 0.57890821 0.54895407 0.51795316 0.48598382 0.45314956 0.41958579\n",
      " 0.38546473 0.35099843 0.31644347 0.28209987]\n",
      "28 - day output:  [[0.24830906]]\n",
      "--------------------------------------------------\n",
      "29 - day input : [1.         0.99016297 0.99050072 0.96538039 0.98488559 0.97086887\n",
      " 0.94026007 0.87748037 0.83483915 0.85413324 0.77336823 0.77269273\n",
      " 0.88014017 0.84007431 0.89673225 0.85527316 0.83884995 0.74233725\n",
      " 0.82327113 0.78143207 0.6665963  0.7921557  0.64118044 0.68614371\n",
      " 0.66001013 0.65203074 0.58642236 0.56586169 0.66089673 0.65515494\n",
      " 0.70970193 0.66452757 0.69437642 0.69218104 0.63569197 0.65266402\n",
      " 0.63780292 0.7267162  0.71388162 0.74191506 0.75002111 0.77222832\n",
      " 0.83049059 0.8194292  0.8289707  0.8125475  0.78776492 0.75162543\n",
      " 0.78426074 0.77974331 0.81326522 0.8141096  0.79473106 0.83336148\n",
      " 0.85898843 0.83901883 0.85628641 0.87486279 0.88782403 0.90095415\n",
      " 0.92793211 0.948535   0.93333615 0.91746179 0.92544119 0.91771511\n",
      " 0.9483239  0.94064004 0.96635143 0.9563033  0.96491598 0.93439758\n",
      " 0.92154884 0.90506583 0.88996208 0.87563515 0.86104244 0.84582621\n",
      " 0.82986021 0.81299603 0.79508108 0.77600396 0.75570172 0.7341463\n",
      " 0.7113319  0.68726647 0.66196626 0.63545406 0.60775667 0.57890821\n",
      " 0.54895407 0.51795316 0.48598382 0.45314956 0.41958579 0.38546473\n",
      " 0.35099843 0.31644347 0.28209987 0.24830906]\n",
      "29 - day output:  [[0.21544307]]\n",
      "\n",
      "FINAL 30 DAY OUTPUT\n",
      "[[0.9343975782394409], [0.9215488433837891], [0.9050658345222473], [0.8899620771408081], [0.8756351470947266], [0.8610424399375916], [0.8458262085914612], [0.8298602104187012], [0.8129960298538208], [0.7950810790061951], [0.7760039567947388], [0.7557017207145691], [0.7341462969779968], [0.7113319039344788], [0.68726646900177], [0.6619662642478943], [0.6354540586471558], [0.6077566742897034], [0.5789082050323486], [0.5489540696144104], [0.5179531574249268], [0.48598381876945496], [0.45314955711364746], [0.41958579421043396], [0.38546472787857056], [0.3509984314441681], [0.31644347310066223], [0.2820998728275299], [0.24830906093120575], [0.21544307470321655]]\n"
     ]
    }
   ],
   "source": [
    "# demonstrate prediction for next 30 days\n",
    "from numpy import array\n",
    "\n",
    "lst_output=[]\n",
    "n_steps=100\n",
    "i=0\n",
    "while(i<30):\n",
    "    \n",
    "    if(len(temp_input)>100):\n",
    "\n",
    "        x_input=np.array(temp_input[1:])\n",
    "        print(\"--\"*25)\n",
    "        print(\"{} - day input : {}\".format(i,x_input))\n",
    "        x_input=x_input.reshape(1,-1)\n",
    "        x_input = x_input.reshape((1, n_steps, 1))\n",
    "\n",
    "        yhat = model.predict(x_input, verbose=0)\n",
    "        print(\"{} - day output:  {}\".format(i,yhat))\n",
    "        temp_input.extend(yhat[0].tolist())\n",
    "        temp_input=temp_input[1:]\n",
    "\n",
    "        lst_output.extend(yhat.tolist())\n",
    "        i=i+1\n",
    "    else:\n",
    "        x_input = x_input.reshape((1, n_steps,1))\n",
    "        yhat = model.predict(x_input, verbose=0)\n",
    "        print(yhat[0])\n",
    "        temp_input.extend(yhat[0].tolist())\n",
    "        print(len(temp_input))\n",
    "        lst_output.extend(yhat.tolist())\n",
    "        i=i+1\n",
    "    \n",
    "print()    \n",
    "print(\"FINAL 30 DAY OUTPUT\")\n",
    "print(lst_output)"
   ]
  },
  {
   "cell_type": "code",
   "execution_count": 150,
   "metadata": {},
   "outputs": [
    {
     "data": {
      "text/plain": [
       "1258"
      ]
     },
     "execution_count": 150,
     "metadata": {},
     "output_type": "execute_result"
    }
   ],
   "source": [
    "len(df1)"
   ]
  },
  {
   "cell_type": "code",
   "execution_count": 152,
   "metadata": {},
   "outputs": [
    {
     "data": {
      "image/png": "[encoded data removed]",
      "text/plain": [
       "<Figure size 720x576 with 1 Axes>"
      ]
     },
     "metadata": {},
     "output_type": "display_data"
    }
   ],
   "source": [
    "day_new=np.arange(1,101)\n",
    "day_pred=np.arange(101,131)\n",
    "\n",
    "\n",
    "\n",
    "plt.style.use(\"ggplot\")\n",
    "plt.figure(figsize = [10,8])\n",
    "plt.plot(day_new,scaler.inverse_transform(Close_scaled[1158:]) , label=\"Actual sale\")\n",
    "plt.plot(day_pred,scaler.inverse_transform(lst_output), label=\"predicted sale\")\n",
    "plt.title(\"30 Day forecast\")\n",
    "plt.xlabel(\"DAY\", weight=\"bold\")\n",
    "plt.ylabel(\"Stock Prise\", weight=\"bold\")\n",
    "plt.legend()\n",
    "plt.show()"
   ]
  },
  {
   "cell_type": "code",
   "execution_count": 153,
   "metadata": {},
   "outputs": [
    {
     "ename": "ValueError",
     "evalue": "setting an array element with a sequence.",
     "output_type": "error",
     "traceback": [
      "\u001b[1;31m---------------------------------------------------------------------------\u001b[0m",
      "\u001b[1;31mTypeError\u001b[0m                                 Traceback (most recent call last)",
      "\u001b[1;31mTypeError\u001b[0m: float() argument must be a string or a number, not 'list'",
      "\nThe above exception was the direct cause of the following exception:\n",
      "\u001b[1;31mValueError\u001b[0m                                Traceback (most recent call last)",
      "\u001b[1;32m<ipython-input-153-6942927bc03f>\u001b[0m in \u001b[0;36m<module>\u001b[1;34m\u001b[0m\n\u001b[0;32m      1\u001b[0m \u001b[0mdf3\u001b[0m\u001b[1;33m=\u001b[0m\u001b[0mdf1\u001b[0m\u001b[1;33m.\u001b[0m\u001b[0mtolist\u001b[0m\u001b[1;33m(\u001b[0m\u001b[1;33m)\u001b[0m\u001b[1;33m\u001b[0m\u001b[1;33m\u001b[0m\u001b[0m\n\u001b[0;32m      2\u001b[0m \u001b[0mdf3\u001b[0m\u001b[1;33m.\u001b[0m\u001b[0mextend\u001b[0m\u001b[1;33m(\u001b[0m\u001b[0mlst_output\u001b[0m\u001b[1;33m)\u001b[0m\u001b[1;33m\u001b[0m\u001b[1;33m\u001b[0m\u001b[0m\n\u001b[1;32m----> 3\u001b[1;33m \u001b[0mplt\u001b[0m\u001b[1;33m.\u001b[0m\u001b[0mplot\u001b[0m\u001b[1;33m(\u001b[0m\u001b[0mdf3\u001b[0m\u001b[1;33m[\u001b[0m\u001b[1;36m1200\u001b[0m\u001b[1;33m:\u001b[0m\u001b[1;33m]\u001b[0m\u001b[1;33m)\u001b[0m\u001b[1;33m\u001b[0m\u001b[1;33m\u001b[0m\u001b[0m\n\u001b[0m",
      "\u001b[1;32mC:\\Anaconda\\lib\\site-packages\\matplotlib\\pyplot.py\u001b[0m in \u001b[0;36mplot\u001b[1;34m(scalex, scaley, data, *args, **kwargs)\u001b[0m\n\u001b[0;32m   2794\u001b[0m     return gca().plot(\n\u001b[0;32m   2795\u001b[0m         *args, scalex=scalex, scaley=scaley, **({\"data\": data} if data\n\u001b[1;32m-> 2796\u001b[1;33m         is not None else {}), **kwargs)\n\u001b[0m\u001b[0;32m   2797\u001b[0m \u001b[1;33m\u001b[0m\u001b[0m\n\u001b[0;32m   2798\u001b[0m \u001b[1;33m\u001b[0m\u001b[0m\n",
      "\u001b[1;32mC:\\Anaconda\\lib\\site-packages\\matplotlib\\axes\\_axes.py\u001b[0m in \u001b[0;36mplot\u001b[1;34m(self, scalex, scaley, data, *args, **kwargs)\u001b[0m\n\u001b[0;32m   1665\u001b[0m         \u001b[0mlines\u001b[0m \u001b[1;33m=\u001b[0m \u001b[1;33m[\u001b[0m\u001b[1;33m*\u001b[0m\u001b[0mself\u001b[0m\u001b[1;33m.\u001b[0m\u001b[0m_get_lines\u001b[0m\u001b[1;33m(\u001b[0m\u001b[1;33m*\u001b[0m\u001b[0margs\u001b[0m\u001b[1;33m,\u001b[0m \u001b[0mdata\u001b[0m\u001b[1;33m=\u001b[0m\u001b[0mdata\u001b[0m\u001b[1;33m,\u001b[0m \u001b[1;33m**\u001b[0m\u001b[0mkwargs\u001b[0m\u001b[1;33m)\u001b[0m\u001b[1;33m]\u001b[0m\u001b[1;33m\u001b[0m\u001b[1;33m\u001b[0m\u001b[0m\n\u001b[0;32m   1666\u001b[0m         \u001b[1;32mfor\u001b[0m \u001b[0mline\u001b[0m \u001b[1;32min\u001b[0m \u001b[0mlines\u001b[0m\u001b[1;33m:\u001b[0m\u001b[1;33m\u001b[0m\u001b[1;33m\u001b[0m\u001b[0m\n\u001b[1;32m-> 1667\u001b[1;33m             \u001b[0mself\u001b[0m\u001b[1;33m.\u001b[0m\u001b[0madd_line\u001b[0m\u001b[1;33m(\u001b[0m\u001b[0mline\u001b[0m\u001b[1;33m)\u001b[0m\u001b[1;33m\u001b[0m\u001b[1;33m\u001b[0m\u001b[0m\n\u001b[0m\u001b[0;32m   1668\u001b[0m         \u001b[0mself\u001b[0m\u001b[1;33m.\u001b[0m\u001b[0mautoscale_view\u001b[0m\u001b[1;33m(\u001b[0m\u001b[0mscalex\u001b[0m\u001b[1;33m=\u001b[0m\u001b[0mscalex\u001b[0m\u001b[1;33m,\u001b[0m \u001b[0mscaley\u001b[0m\u001b[1;33m=\u001b[0m\u001b[0mscaley\u001b[0m\u001b[1;33m)\u001b[0m\u001b[1;33m\u001b[0m\u001b[1;33m\u001b[0m\u001b[0m\n\u001b[0;32m   1669\u001b[0m         \u001b[1;32mreturn\u001b[0m \u001b[0mlines\u001b[0m\u001b[1;33m\u001b[0m\u001b[1;33m\u001b[0m\u001b[0m\n",
      "\u001b[1;32mC:\\Anaconda\\lib\\site-packages\\matplotlib\\axes\\_base.py\u001b[0m in \u001b[0;36madd_line\u001b[1;34m(self, line)\u001b[0m\n\u001b[0;32m   1900\u001b[0m             \u001b[0mline\u001b[0m\u001b[1;33m.\u001b[0m\u001b[0mset_clip_path\u001b[0m\u001b[1;33m(\u001b[0m\u001b[0mself\u001b[0m\u001b[1;33m.\u001b[0m\u001b[0mpatch\u001b[0m\u001b[1;33m)\u001b[0m\u001b[1;33m\u001b[0m\u001b[1;33m\u001b[0m\u001b[0m\n\u001b[0;32m   1901\u001b[0m \u001b[1;33m\u001b[0m\u001b[0m\n\u001b[1;32m-> 1902\u001b[1;33m         \u001b[0mself\u001b[0m\u001b[1;33m.\u001b[0m\u001b[0m_update_line_limits\u001b[0m\u001b[1;33m(\u001b[0m\u001b[0mline\u001b[0m\u001b[1;33m)\u001b[0m\u001b[1;33m\u001b[0m\u001b[1;33m\u001b[0m\u001b[0m\n\u001b[0m\u001b[0;32m   1903\u001b[0m         \u001b[1;32mif\u001b[0m \u001b[1;32mnot\u001b[0m \u001b[0mline\u001b[0m\u001b[1;33m.\u001b[0m\u001b[0mget_label\u001b[0m\u001b[1;33m(\u001b[0m\u001b[1;33m)\u001b[0m\u001b[1;33m:\u001b[0m\u001b[1;33m\u001b[0m\u001b[1;33m\u001b[0m\u001b[0m\n\u001b[0;32m   1904\u001b[0m             \u001b[0mline\u001b[0m\u001b[1;33m.\u001b[0m\u001b[0mset_label\u001b[0m\u001b[1;33m(\u001b[0m\u001b[1;34m'_line%d'\u001b[0m \u001b[1;33m%\u001b[0m \u001b[0mlen\u001b[0m\u001b[1;33m(\u001b[0m\u001b[0mself\u001b[0m\u001b[1;33m.\u001b[0m\u001b[0mlines\u001b[0m\u001b[1;33m)\u001b[0m\u001b[1;33m)\u001b[0m\u001b[1;33m\u001b[0m\u001b[1;33m\u001b[0m\u001b[0m\n",
      "\u001b[1;32mC:\\Anaconda\\lib\\site-packages\\matplotlib\\axes\\_base.py\u001b[0m in \u001b[0;36m_update_line_limits\u001b[1;34m(self, line)\u001b[0m\n\u001b[0;32m   1922\u001b[0m         \u001b[0mFigures\u001b[0m \u001b[0mout\u001b[0m \u001b[0mthe\u001b[0m \u001b[0mdata\u001b[0m \u001b[0mlimit\u001b[0m \u001b[0mof\u001b[0m \u001b[0mthe\u001b[0m \u001b[0mgiven\u001b[0m \u001b[0mline\u001b[0m\u001b[1;33m,\u001b[0m \u001b[0mupdating\u001b[0m \u001b[0mself\u001b[0m\u001b[1;33m.\u001b[0m\u001b[0mdataLim\u001b[0m\u001b[1;33m.\u001b[0m\u001b[1;33m\u001b[0m\u001b[1;33m\u001b[0m\u001b[0m\n\u001b[0;32m   1923\u001b[0m         \"\"\"\n\u001b[1;32m-> 1924\u001b[1;33m         \u001b[0mpath\u001b[0m \u001b[1;33m=\u001b[0m \u001b[0mline\u001b[0m\u001b[1;33m.\u001b[0m\u001b[0mget_path\u001b[0m\u001b[1;33m(\u001b[0m\u001b[1;33m)\u001b[0m\u001b[1;33m\u001b[0m\u001b[1;33m\u001b[0m\u001b[0m\n\u001b[0m\u001b[0;32m   1925\u001b[0m         \u001b[1;32mif\u001b[0m \u001b[0mpath\u001b[0m\u001b[1;33m.\u001b[0m\u001b[0mvertices\u001b[0m\u001b[1;33m.\u001b[0m\u001b[0msize\u001b[0m \u001b[1;33m==\u001b[0m \u001b[1;36m0\u001b[0m\u001b[1;33m:\u001b[0m\u001b[1;33m\u001b[0m\u001b[1;33m\u001b[0m\u001b[0m\n\u001b[0;32m   1926\u001b[0m             \u001b[1;32mreturn\u001b[0m\u001b[1;33m\u001b[0m\u001b[1;33m\u001b[0m\u001b[0m\n",
      "\u001b[1;32mC:\\Anaconda\\lib\\site-packages\\matplotlib\\lines.py\u001b[0m in \u001b[0;36mget_path\u001b[1;34m(self)\u001b[0m\n\u001b[0;32m   1025\u001b[0m         \"\"\"\n\u001b[0;32m   1026\u001b[0m         \u001b[1;32mif\u001b[0m \u001b[0mself\u001b[0m\u001b[1;33m.\u001b[0m\u001b[0m_invalidy\u001b[0m \u001b[1;32mor\u001b[0m \u001b[0mself\u001b[0m\u001b[1;33m.\u001b[0m\u001b[0m_invalidx\u001b[0m\u001b[1;33m:\u001b[0m\u001b[1;33m\u001b[0m\u001b[1;33m\u001b[0m\u001b[0m\n\u001b[1;32m-> 1027\u001b[1;33m             \u001b[0mself\u001b[0m\u001b[1;33m.\u001b[0m\u001b[0mrecache\u001b[0m\u001b[1;33m(\u001b[0m\u001b[1;33m)\u001b[0m\u001b[1;33m\u001b[0m\u001b[1;33m\u001b[0m\u001b[0m\n\u001b[0m\u001b[0;32m   1028\u001b[0m         \u001b[1;32mreturn\u001b[0m \u001b[0mself\u001b[0m\u001b[1;33m.\u001b[0m\u001b[0m_path\u001b[0m\u001b[1;33m\u001b[0m\u001b[1;33m\u001b[0m\u001b[0m\n\u001b[0;32m   1029\u001b[0m \u001b[1;33m\u001b[0m\u001b[0m\n",
      "\u001b[1;32mC:\\Anaconda\\lib\\site-packages\\matplotlib\\lines.py\u001b[0m in \u001b[0;36mrecache\u001b[1;34m(self, always)\u001b[0m\n\u001b[0;32m    673\u001b[0m         \u001b[1;32mif\u001b[0m \u001b[0malways\u001b[0m \u001b[1;32mor\u001b[0m \u001b[0mself\u001b[0m\u001b[1;33m.\u001b[0m\u001b[0m_invalidy\u001b[0m\u001b[1;33m:\u001b[0m\u001b[1;33m\u001b[0m\u001b[1;33m\u001b[0m\u001b[0m\n\u001b[0;32m    674\u001b[0m             \u001b[0myconv\u001b[0m \u001b[1;33m=\u001b[0m \u001b[0mself\u001b[0m\u001b[1;33m.\u001b[0m\u001b[0mconvert_yunits\u001b[0m\u001b[1;33m(\u001b[0m\u001b[0mself\u001b[0m\u001b[1;33m.\u001b[0m\u001b[0m_yorig\u001b[0m\u001b[1;33m)\u001b[0m\u001b[1;33m\u001b[0m\u001b[1;33m\u001b[0m\u001b[0m\n\u001b[1;32m--> 675\u001b[1;33m             \u001b[0my\u001b[0m \u001b[1;33m=\u001b[0m \u001b[0m_to_unmasked_float_array\u001b[0m\u001b[1;33m(\u001b[0m\u001b[0myconv\u001b[0m\u001b[1;33m)\u001b[0m\u001b[1;33m.\u001b[0m\u001b[0mravel\u001b[0m\u001b[1;33m(\u001b[0m\u001b[1;33m)\u001b[0m\u001b[1;33m\u001b[0m\u001b[1;33m\u001b[0m\u001b[0m\n\u001b[0m\u001b[0;32m    676\u001b[0m         \u001b[1;32melse\u001b[0m\u001b[1;33m:\u001b[0m\u001b[1;33m\u001b[0m\u001b[1;33m\u001b[0m\u001b[0m\n\u001b[0;32m    677\u001b[0m             \u001b[0my\u001b[0m \u001b[1;33m=\u001b[0m \u001b[0mself\u001b[0m\u001b[1;33m.\u001b[0m\u001b[0m_y\u001b[0m\u001b[1;33m\u001b[0m\u001b[1;33m\u001b[0m\u001b[0m\n",
      "\u001b[1;32mC:\\Anaconda\\lib\\site-packages\\matplotlib\\cbook\\__init__.py\u001b[0m in \u001b[0;36m_to_unmasked_float_array\u001b[1;34m(x)\u001b[0m\n\u001b[0;32m   1388\u001b[0m         \u001b[1;32mreturn\u001b[0m \u001b[0mnp\u001b[0m\u001b[1;33m.\u001b[0m\u001b[0mma\u001b[0m\u001b[1;33m.\u001b[0m\u001b[0masarray\u001b[0m\u001b[1;33m(\u001b[0m\u001b[0mx\u001b[0m\u001b[1;33m,\u001b[0m \u001b[0mfloat\u001b[0m\u001b[1;33m)\u001b[0m\u001b[1;33m.\u001b[0m\u001b[0mfilled\u001b[0m\u001b[1;33m(\u001b[0m\u001b[0mnp\u001b[0m\u001b[1;33m.\u001b[0m\u001b[0mnan\u001b[0m\u001b[1;33m)\u001b[0m\u001b[1;33m\u001b[0m\u001b[1;33m\u001b[0m\u001b[0m\n\u001b[0;32m   1389\u001b[0m     \u001b[1;32melse\u001b[0m\u001b[1;33m:\u001b[0m\u001b[1;33m\u001b[0m\u001b[1;33m\u001b[0m\u001b[0m\n\u001b[1;32m-> 1390\u001b[1;33m         \u001b[1;32mreturn\u001b[0m \u001b[0mnp\u001b[0m\u001b[1;33m.\u001b[0m\u001b[0masarray\u001b[0m\u001b[1;33m(\u001b[0m\u001b[0mx\u001b[0m\u001b[1;33m,\u001b[0m \u001b[0mfloat\u001b[0m\u001b[1;33m)\u001b[0m\u001b[1;33m\u001b[0m\u001b[1;33m\u001b[0m\u001b[0m\n\u001b[0m\u001b[0;32m   1391\u001b[0m \u001b[1;33m\u001b[0m\u001b[0m\n\u001b[0;32m   1392\u001b[0m \u001b[1;33m\u001b[0m\u001b[0m\n",
      "\u001b[1;32mC:\\Anaconda\\lib\\site-packages\\numpy\\core\\_asarray.py\u001b[0m in \u001b[0;36masarray\u001b[1;34m(a, dtype, order)\u001b[0m\n\u001b[0;32m     83\u001b[0m \u001b[1;33m\u001b[0m\u001b[0m\n\u001b[0;32m     84\u001b[0m     \"\"\"\n\u001b[1;32m---> 85\u001b[1;33m     \u001b[1;32mreturn\u001b[0m \u001b[0marray\u001b[0m\u001b[1;33m(\u001b[0m\u001b[0ma\u001b[0m\u001b[1;33m,\u001b[0m \u001b[0mdtype\u001b[0m\u001b[1;33m,\u001b[0m \u001b[0mcopy\u001b[0m\u001b[1;33m=\u001b[0m\u001b[1;32mFalse\u001b[0m\u001b[1;33m,\u001b[0m \u001b[0morder\u001b[0m\u001b[1;33m=\u001b[0m\u001b[0morder\u001b[0m\u001b[1;33m)\u001b[0m\u001b[1;33m\u001b[0m\u001b[1;33m\u001b[0m\u001b[0m\n\u001b[0m\u001b[0;32m     86\u001b[0m \u001b[1;33m\u001b[0m\u001b[0m\n\u001b[0;32m     87\u001b[0m \u001b[1;33m\u001b[0m\u001b[0m\n",
      "\u001b[1;31mValueError\u001b[0m: setting an array element with a sequence."
     ]
    },
    {
     "data": {
      "image/png": "[encoded data removed]",
      "text/plain": [
       "<Figure size 432x288 with 1 Axes>"
      ]
     },
     "metadata": {},
     "output_type": "display_data"
    }
   ],
   "source": [
    "df3=df1.tolist()\n",
    "df3.extend(lst_output)\n",
    "plt.plot(df3[1200:])"
   ]
  },
  {
   "cell_type": "code",
   "execution_count": null,
   "metadata": {},
   "outputs": [],
   "source": []
  }
 ],
 "metadata": {
  "kernelspec": {
   "display_name": "Python 3",
   "language": "python",
   "name": "python3"
  },
  "language_info": {
   "codemirror_mode": {
    "name": "ipython",
    "version": 3
   },
   "file_extension": ".py",
   "mimetype": "text/x-python",
   "name": "python",
   "nbconvert_exporter": "python",
   "pygments_lexer": "ipython3",
   "version": "3.7.6"
  }
 },
 "nbformat": 4,
 "nbformat_minor": 4
}
